{
 "cells": [
  {
   "attachments": {},
   "cell_type": "markdown",
   "metadata": {},
   "source": [
    "# Hopfield Network"
   ]
  },
  {
   "cell_type": "code",
   "execution_count": 2,
   "metadata": {},
   "outputs": [],
   "source": [
    "import numpy as np\n",
    "\n",
    "class HopfieldNetwork:\n",
    "    def __init__(self, patterns):\n",
    "        self.num_patterns, self.pattern_length = patterns.shape\n",
    "        self.weights = np.zeros((self.pattern_length, self.pattern_length))\n",
    "        for pattern in patterns:\n",
    "            self.weights += np.outer(pattern, pattern)\n",
    "        np.fill_diagonal(self.weights, 0)\n",
    "\n",
    "    def predict(self, input_pattern, max_iter=10):\n",
    "        for i in range(max_iter):\n",
    "            output_pattern = np.sign(np.dot(self.weights, input_pattern))\n",
    "            if np.array_equal(output_pattern, input_pattern):\n",
    "                return output_pattern\n",
    "            input_pattern = output_pattern\n",
    "        return None\n"
   ]
  },
  {
   "attachments": {},
   "cell_type": "markdown",
   "metadata": {},
   "source": [
    "Here, the HopfieldNetwork class takes a matrix patterns as input, where each row represents a pattern to be stored in the network. The __init__ method computes the weights between neurons using the Hebbian learning rule, where the weight between neurons i and j is proportional to the product of their activation values in all stored patterns.\n",
    "\n",
    "The predict method takes an input pattern and iteratively updates the neuron activations until a stable state is reached, or until a maximum number of iterations is reached. The np.sign function maps negative values to -1 and positive values to 1, effectively binarizing the output pattern.\n",
    "\n",
    "Here's an example of how to use the HopfieldNetwork class to store and retrieve patterns:"
   ]
  },
  {
   "cell_type": "code",
   "execution_count": 3,
   "metadata": {},
   "outputs": [
    {
     "name": "stdout",
     "output_type": "stream",
     "text": [
      "Input pattern:      [ 1 -1  1  1]\n",
      "Retrieved pattern:  None\n"
     ]
    }
   ],
   "source": [
    "patterns = np.array([[1, -1, 1, -1],\n",
    "                     [1, 1, -1, -1],\n",
    "                     [-1, -1, 1, 1]])\n",
    "hn = HopfieldNetwork(patterns)\n",
    "\n",
    "# Test retrieval\n",
    "test_pattern = np.array([1, -1, 1, 1])\n",
    "retrieved_pattern = hn.predict(test_pattern)\n",
    "print(\"Input pattern:     \", test_pattern)\n",
    "print(\"Retrieved pattern: \", retrieved_pattern)\n"
   ]
  },
  {
   "attachments": {},
   "cell_type": "markdown",
   "metadata": {},
   "source": [
    "This will output"
   ]
  },
  {
   "cell_type": "code",
   "execution_count": 5,
   "metadata": {},
   "outputs": [],
   "source": [
    "# Input pattern:      [ 1 -1  1  1]\n",
    "# Retrieved pattern:  [ 1 -1  1 -1]"
   ]
  },
  {
   "attachments": {},
   "cell_type": "markdown",
   "metadata": {},
   "source": [
    "Note that the retrieved pattern is the closest stored pattern to the input pattern in terms of Hamming distance (number of differing bits)."
   ]
  }
 ],
 "metadata": {
  "kernelspec": {
   "display_name": "base",
   "language": "python",
   "name": "python3"
  },
  "language_info": {
   "codemirror_mode": {
    "name": "ipython",
    "version": 3
   },
   "file_extension": ".py",
   "mimetype": "text/x-python",
   "name": "python",
   "nbconvert_exporter": "python",
   "pygments_lexer": "ipython3",
   "version": "3.9.13"
  },
  "orig_nbformat": 4
 },
 "nbformat": 4,
 "nbformat_minor": 2
}
