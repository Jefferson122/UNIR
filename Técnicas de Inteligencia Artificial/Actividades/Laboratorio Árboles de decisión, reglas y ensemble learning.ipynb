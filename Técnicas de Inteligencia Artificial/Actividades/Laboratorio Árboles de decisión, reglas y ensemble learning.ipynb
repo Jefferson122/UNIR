{
 "cells": [
  {
   "cell_type": "code",
   "execution_count": 1,
   "id": "5aa3cc85",
   "metadata": {},
   "outputs": [],
   "source": [
    "import pandas as pd\n",
    "import numpy as np\n",
    "import matplotlib.pyplot as plt\n",
    "import seaborn as sbn\n",
    "from sklearn.model_selection import train_test_split\n",
    "from sklearn.preprocessing import OrdinalEncoder, StandardScaler\n",
    "from sklearn.tree import DecisionTreeClassifier, plot_tree\n",
    "from sklearn.metrics import ConfusionMatrixDisplay,confusion_matrix,classification_report\n",
    "from warnings import simplefilter\n",
    "from sklearn.pipeline import make_pipeline  #método para crear tuberías\n",
    "from sklearn.metrics import accuracy_score\n",
    "from sklearn.ensemble import RandomForestClassifier\n",
    "from sklearn.model_selection import cross_val_score, KFold"
   ]
  },
  {
   "cell_type": "code",
   "execution_count": 2,
   "id": "37c6e9b3",
   "metadata": {},
   "outputs": [
    {
     "data": {
      "text/html": [
       "<div>\n",
       "<style scoped>\n",
       "    .dataframe tbody tr th:only-of-type {\n",
       "        vertical-align: middle;\n",
       "    }\n",
       "\n",
       "    .dataframe tbody tr th {\n",
       "        vertical-align: top;\n",
       "    }\n",
       "\n",
       "    .dataframe thead th {\n",
       "        text-align: right;\n",
       "    }\n",
       "</style>\n",
       "<table border=\"1\" class=\"dataframe\">\n",
       "  <thead>\n",
       "    <tr style=\"text-align: right;\">\n",
       "      <th></th>\n",
       "      <th>Buying</th>\n",
       "      <th>Maintenance</th>\n",
       "      <th>Doors</th>\n",
       "      <th>Person</th>\n",
       "      <th>lug_boot</th>\n",
       "      <th>safety</th>\n",
       "      <th>class</th>\n",
       "    </tr>\n",
       "  </thead>\n",
       "  <tbody>\n",
       "    <tr>\n",
       "      <th>0</th>\n",
       "      <td>vhigh</td>\n",
       "      <td>vhigh</td>\n",
       "      <td>2</td>\n",
       "      <td>2</td>\n",
       "      <td>small</td>\n",
       "      <td>low</td>\n",
       "      <td>unacc</td>\n",
       "    </tr>\n",
       "    <tr>\n",
       "      <th>1</th>\n",
       "      <td>vhigh</td>\n",
       "      <td>vhigh</td>\n",
       "      <td>2</td>\n",
       "      <td>2</td>\n",
       "      <td>small</td>\n",
       "      <td>med</td>\n",
       "      <td>unacc</td>\n",
       "    </tr>\n",
       "    <tr>\n",
       "      <th>2</th>\n",
       "      <td>vhigh</td>\n",
       "      <td>vhigh</td>\n",
       "      <td>2</td>\n",
       "      <td>2</td>\n",
       "      <td>small</td>\n",
       "      <td>high</td>\n",
       "      <td>unacc</td>\n",
       "    </tr>\n",
       "    <tr>\n",
       "      <th>3</th>\n",
       "      <td>vhigh</td>\n",
       "      <td>vhigh</td>\n",
       "      <td>2</td>\n",
       "      <td>2</td>\n",
       "      <td>med</td>\n",
       "      <td>low</td>\n",
       "      <td>unacc</td>\n",
       "    </tr>\n",
       "    <tr>\n",
       "      <th>4</th>\n",
       "      <td>vhigh</td>\n",
       "      <td>vhigh</td>\n",
       "      <td>2</td>\n",
       "      <td>2</td>\n",
       "      <td>med</td>\n",
       "      <td>med</td>\n",
       "      <td>unacc</td>\n",
       "    </tr>\n",
       "  </tbody>\n",
       "</table>\n",
       "</div>"
      ],
      "text/plain": [
       "  Buying Maintenance Doors Person lug_boot safety  class\n",
       "0  vhigh       vhigh     2      2    small    low  unacc\n",
       "1  vhigh       vhigh     2      2    small    med  unacc\n",
       "2  vhigh       vhigh     2      2    small   high  unacc\n",
       "3  vhigh       vhigh     2      2      med    low  unacc\n",
       "4  vhigh       vhigh     2      2      med    med  unacc"
      ]
     },
     "execution_count": 2,
     "metadata": {},
     "output_type": "execute_result"
    }
   ],
   "source": [
    "datos= pd.read_csv(\"Laboratorio_dataset_car.csv\",sep=';', parse_dates=True)\n",
    "datos.head() #Muestra solo una parte del dataset"
   ]
  },
  {
   "cell_type": "code",
   "execution_count": 3,
   "id": "91650066",
   "metadata": {},
   "outputs": [
    {
     "data": {
      "text/plain": [
       "(1750, 7)"
      ]
     },
     "execution_count": 3,
     "metadata": {},
     "output_type": "execute_result"
    }
   ],
   "source": [
    "datos.shape #Dimension del dataset"
   ]
  },
  {
   "cell_type": "code",
   "execution_count": 4,
   "id": "b537ae59",
   "metadata": {},
   "outputs": [
    {
     "data": {
      "text/plain": [
       "Buying         0\n",
       "Maintenance    0\n",
       "Doors          0\n",
       "Person         0\n",
       "lug_boot       0\n",
       "safety         0\n",
       "class          0\n",
       "dtype: int64"
      ]
     },
     "execution_count": 4,
     "metadata": {},
     "output_type": "execute_result"
    }
   ],
   "source": [
    "datos.isna().sum() #revisa cuantos datos hay vacios"
   ]
  },
  {
   "cell_type": "code",
   "execution_count": 5,
   "id": "45ebdaf4",
   "metadata": {},
   "outputs": [
    {
     "data": {
      "text/plain": [
       "unacc    1215\n",
       "acc       390\n",
       "good       75\n",
       "vgood      70\n",
       "Name: class, dtype: int64"
      ]
     },
     "execution_count": 5,
     "metadata": {},
     "output_type": "execute_result"
    }
   ],
   "source": [
    "datos['class'].value_counts() #Distribucion de la variable class"
   ]
  },
  {
   "cell_type": "code",
   "execution_count": 30,
   "id": "b1ee5a50",
   "metadata": {},
   "outputs": [
    {
     "name": "stdout",
     "output_type": "stream",
     "text": [
      "class\n",
      "acc       390\n",
      "good       75\n",
      "unacc    1215\n",
      "vgood      70\n",
      "dtype: int64\n"
     ]
    }
   ],
   "source": [
    "#Distribucion por clases\n",
    "print(datos.groupby('class').size())"
   ]
  },
  {
   "cell_type": "code",
   "execution_count": 6,
   "id": "f9055fd0",
   "metadata": {},
   "outputs": [
    {
     "data": {
      "text/plain": [
       "vhigh    443\n",
       "med      438\n",
       "low      437\n",
       "high     432\n",
       "Name: Buying, dtype: int64"
      ]
     },
     "execution_count": 6,
     "metadata": {},
     "output_type": "execute_result"
    }
   ],
   "source": [
    "datos['Buying'].value_counts()"
   ]
  },
  {
   "cell_type": "code",
   "execution_count": 7,
   "id": "80472ca7",
   "metadata": {},
   "outputs": [
    {
     "data": {
      "text/plain": [
       "low      447\n",
       "vhigh    437\n",
       "med      434\n",
       "high     432\n",
       "Name: Maintenance, dtype: int64"
      ]
     },
     "execution_count": 7,
     "metadata": {},
     "output_type": "execute_result"
    }
   ],
   "source": [
    "datos['Maintenance'].value_counts()"
   ]
  },
  {
   "cell_type": "code",
   "execution_count": 8,
   "id": "a7c90a0f",
   "metadata": {},
   "outputs": [
    {
     "data": {
      "text/plain": [
       "2        444\n",
       "5more    437\n",
       "3        435\n",
       "4        434\n",
       "Name: Doors, dtype: int64"
      ]
     },
     "execution_count": 8,
     "metadata": {},
     "output_type": "execute_result"
    }
   ],
   "source": [
    "datos['Doors'].value_counts()"
   ]
  },
  {
   "cell_type": "code",
   "execution_count": 9,
   "id": "0819e0d8",
   "metadata": {},
   "outputs": [
    {
     "data": {
      "text/plain": [
       "4       587\n",
       "more    585\n",
       "2       578\n",
       "Name: Person, dtype: int64"
      ]
     },
     "execution_count": 9,
     "metadata": {},
     "output_type": "execute_result"
    }
   ],
   "source": [
    "datos['Person'].value_counts()"
   ]
  },
  {
   "cell_type": "code",
   "execution_count": 10,
   "id": "e3887d17",
   "metadata": {},
   "outputs": [
    {
     "data": {
      "text/plain": [
       "big      585\n",
       "med      583\n",
       "small    582\n",
       "Name: lug_boot, dtype: int64"
      ]
     },
     "execution_count": 10,
     "metadata": {},
     "output_type": "execute_result"
    }
   ],
   "source": [
    "datos['lug_boot'].value_counts()"
   ]
  },
  {
   "cell_type": "code",
   "execution_count": 11,
   "id": "1eb938f3",
   "metadata": {},
   "outputs": [
    {
     "data": {
      "text/plain": [
       "high    590\n",
       "med     582\n",
       "low     578\n",
       "Name: safety, dtype: int64"
      ]
     },
     "execution_count": 11,
     "metadata": {},
     "output_type": "execute_result"
    }
   ],
   "source": [
    "datos['safety'].value_counts()"
   ]
  },
  {
   "cell_type": "code",
   "execution_count": 12,
   "id": "7c160878",
   "metadata": {},
   "outputs": [
    {
     "data": {
      "text/html": [
       "<div>\n",
       "<style scoped>\n",
       "    .dataframe tbody tr th:only-of-type {\n",
       "        vertical-align: middle;\n",
       "    }\n",
       "\n",
       "    .dataframe tbody tr th {\n",
       "        vertical-align: top;\n",
       "    }\n",
       "\n",
       "    .dataframe thead th {\n",
       "        text-align: right;\n",
       "    }\n",
       "</style>\n",
       "<table border=\"1\" class=\"dataframe\">\n",
       "  <thead>\n",
       "    <tr style=\"text-align: right;\">\n",
       "      <th></th>\n",
       "      <th>Buying</th>\n",
       "      <th>Maintenance</th>\n",
       "      <th>Doors</th>\n",
       "      <th>Person</th>\n",
       "      <th>lug_boot</th>\n",
       "      <th>safety</th>\n",
       "      <th>class</th>\n",
       "    </tr>\n",
       "  </thead>\n",
       "  <tbody>\n",
       "    <tr>\n",
       "      <th>count</th>\n",
       "      <td>1750</td>\n",
       "      <td>1750</td>\n",
       "      <td>1750</td>\n",
       "      <td>1750</td>\n",
       "      <td>1750</td>\n",
       "      <td>1750</td>\n",
       "      <td>1750</td>\n",
       "    </tr>\n",
       "    <tr>\n",
       "      <th>unique</th>\n",
       "      <td>4</td>\n",
       "      <td>4</td>\n",
       "      <td>4</td>\n",
       "      <td>3</td>\n",
       "      <td>3</td>\n",
       "      <td>3</td>\n",
       "      <td>4</td>\n",
       "    </tr>\n",
       "    <tr>\n",
       "      <th>top</th>\n",
       "      <td>vhigh</td>\n",
       "      <td>low</td>\n",
       "      <td>2</td>\n",
       "      <td>4</td>\n",
       "      <td>big</td>\n",
       "      <td>high</td>\n",
       "      <td>unacc</td>\n",
       "    </tr>\n",
       "    <tr>\n",
       "      <th>freq</th>\n",
       "      <td>443</td>\n",
       "      <td>447</td>\n",
       "      <td>444</td>\n",
       "      <td>587</td>\n",
       "      <td>585</td>\n",
       "      <td>590</td>\n",
       "      <td>1215</td>\n",
       "    </tr>\n",
       "  </tbody>\n",
       "</table>\n",
       "</div>"
      ],
      "text/plain": [
       "       Buying Maintenance Doors Person lug_boot safety  class\n",
       "count    1750        1750  1750   1750     1750   1750   1750\n",
       "unique      4           4     4      3        3      3      4\n",
       "top     vhigh         low     2      4      big   high  unacc\n",
       "freq      443         447   444    587      585    590   1215"
      ]
     },
     "execution_count": 12,
     "metadata": {},
     "output_type": "execute_result"
    }
   ],
   "source": [
    "#describe()->Resumen la tendencia central, la dispersión y \n",
    "#la forma de la distribución de un conjunto de datos\n",
    "datos.describe()"
   ]
  },
  {
   "cell_type": "code",
   "execution_count": 13,
   "id": "f0a62254",
   "metadata": {},
   "outputs": [
    {
     "data": {
      "text/plain": [
       "<AxesSubplot:xlabel='class', ylabel='count'>"
      ]
     },
     "execution_count": 13,
     "metadata": {},
     "output_type": "execute_result"
    },
    {
     "data": {
      "image/png": "[encoded data removed]",
      "text/plain": [
       "<Figure size 640x480 with 1 Axes>"
      ]
     },
     "metadata": {},
     "output_type": "display_data"
    }
   ],
   "source": [
    "sbn.countplot(x='class',data=datos)"
   ]
  },
  {
   "cell_type": "code",
   "execution_count": 14,
   "id": "fd7c3b0a",
   "metadata": {},
   "outputs": [],
   "source": [
    "#Reasignacion de datos\n",
    "X=datos.drop('class',axis=1) #Todos los datos sin la columna class\n",
    "y=datos['class'] #Solo la columna class"
   ]
  },
  {
   "cell_type": "markdown",
   "id": "e89ff567",
   "metadata": {},
   "source": [
    "# Arboles de decision"
   ]
  },
  {
   "cell_type": "code",
   "execution_count": 15,
   "id": "f3137624",
   "metadata": {},
   "outputs": [
    {
     "name": "stdout",
     "output_type": "stream",
     "text": [
      "[array(['high', 'low', 'med', 'vhigh'], dtype=object), array(['high', 'low', 'med', 'vhigh'], dtype=object), array(['2', '3', '4', '5more'], dtype=object), array(['2', '4', 'more'], dtype=object), array(['big', 'med', 'small'], dtype=object), array(['high', 'low', 'med'], dtype=object)]\n"
     ]
    }
   ],
   "source": [
    "#Dividir la matriz en subconjuntos aleatorios de datos de prueba y entrenamiento.\n",
    "X_train, X_test , y_train, y_test = train_test_split(X,y,test_size=0.30,random_state=1, shuffle=True, stratify=y)\n",
    "\n",
    "#codificar características categóricas\n",
    "codificador=OrdinalEncoder()\n",
    "X_ntrain=codificador.fit_transform(X_train)\n",
    "X_ntest=codificador.transform(X_test)\n",
    "\n",
    "print(codificador.categories_)\n"
   ]
  },
  {
   "cell_type": "code",
   "execution_count": 16,
   "id": "804bbf4a",
   "metadata": {},
   "outputs": [
    {
     "data": {
      "text/plain": [
       "DecisionTreeClassifier(class_weight='balanced', max_depth=10, random_state=42)"
      ]
     },
     "execution_count": 16,
     "metadata": {},
     "output_type": "execute_result"
    }
   ],
   "source": [
    "#crear un clasificador de árbol de decisión\n",
    "clasificador=DecisionTreeClassifier(class_weight='balanced',max_depth=10,random_state=42)\n",
    "\n",
    "#A continuación lo entrenamos con el método fit():\n",
    "clasificador.fit(X_ntrain,y_train)"
   ]
  },
  {
   "cell_type": "markdown",
   "id": "710fbd7e",
   "metadata": {},
   "source": [
    "Esto nos deja un clasificador ya entrenado, que podremos probar con el método <code>predict()</code>:"
   ]
  },
  {
   "cell_type": "code",
   "execution_count": 17,
   "id": "d91231b0",
   "metadata": {},
   "outputs": [
    {
     "name": "stdout",
     "output_type": "stream",
     "text": [
      "['unacc' 'unacc' 'unacc' 'unacc' 'unacc' 'unacc' 'unacc']\n",
      "0    unacc\n",
      "1    unacc\n",
      "2    unacc\n",
      "3    unacc\n",
      "4    unacc\n",
      "5    unacc\n",
      "6    unacc\n",
      "Name: class, dtype: object\n"
     ]
    }
   ],
   "source": [
    "ypred=clasificador.predict(X_ntest)\n",
    "print(ypred[:7]) #los datos predecidos\n",
    "print(y[:7]) #los datos reales"
   ]
  },
  {
   "cell_type": "markdown",
   "id": "b55f7c50",
   "metadata": {},
   "source": [
    "Vemos que ha conseguido clasificar estos datos correctamente."
   ]
  },
  {
   "cell_type": "code",
   "execution_count": 18,
   "id": "8c18d83a",
   "metadata": {},
   "outputs": [
    {
     "data": {
      "text/plain": [
       "{'criterion': 'gini',\n",
       " 'splitter': 'best',\n",
       " 'max_depth': 10,\n",
       " 'min_samples_split': 2,\n",
       " 'min_samples_leaf': 1,\n",
       " 'min_weight_fraction_leaf': 0.0,\n",
       " 'max_features': None,\n",
       " 'max_leaf_nodes': None,\n",
       " 'random_state': 42,\n",
       " 'min_impurity_decrease': 0.0,\n",
       " 'class_weight': 'balanced',\n",
       " 'ccp_alpha': 0.0,\n",
       " 'n_features_in_': 6,\n",
       " 'n_outputs_': 1,\n",
       " 'classes_': array(['acc', 'good', 'unacc', 'vgood'], dtype=object),\n",
       " 'n_classes_': 4,\n",
       " 'max_features_': 6,\n",
       " 'tree_': <sklearn.tree._tree.Tree at 0x26895dced50>,\n",
       " '_sklearn_version': '1.0.2'}"
      ]
     },
     "execution_count": 18,
     "metadata": {},
     "output_type": "execute_result"
    }
   ],
   "source": [
    "clasificador.__getstate__()"
   ]
  },
  {
   "cell_type": "code",
   "execution_count": 19,
   "id": "ef37ad90",
   "metadata": {},
   "outputs": [
    {
     "name": "stdout",
     "output_type": "stream",
     "text": [
      "0.979047619047619\n"
     ]
    }
   ],
   "source": [
    "#Muestra la precisión del modelo.\n",
    "print (accuracy_score(y_test, ypred))"
   ]
  },
  {
   "cell_type": "code",
   "execution_count": 20,
   "id": "706adb0d",
   "metadata": {},
   "outputs": [
    {
     "data": {
      "image/png": "[encoded data removed]",
      "text/plain": [
       "<Figure size 640x480 with 2 Axes>"
      ]
     },
     "metadata": {},
     "output_type": "display_data"
    }
   ],
   "source": [
    "#Muestra la grafica de la matriz de confusion\n",
    "cm=confusion_matrix(y_test, ypred, labels=clasificador.classes_)\n",
    "disp = ConfusionMatrixDisplay(confusion_matrix=cm, display_labels=clasificador.classes_)\n",
    "disp.plot()\n",
    "plt.show()"
   ]
  },
  {
   "cell_type": "code",
   "execution_count": 21,
   "id": "c76e52b2",
   "metadata": {},
   "outputs": [
    {
     "name": "stdout",
     "output_type": "stream",
     "text": [
      "              precision    recall  f1-score   support\n",
      "\n",
      "         acc       0.97      0.95      0.96       117\n",
      "        good       0.85      1.00      0.92        22\n",
      "       unacc       1.00      0.99      0.99       365\n",
      "       vgood       0.90      0.90      0.90        21\n",
      "\n",
      "    accuracy                           0.98       525\n",
      "   macro avg       0.93      0.96      0.94       525\n",
      "weighted avg       0.98      0.98      0.98       525\n",
      "\n"
     ]
    }
   ],
   "source": [
    "print (classification_report (y_test, ypred))"
   ]
  },
  {
   "cell_type": "code",
   "execution_count": 22,
   "id": "ae00e72b",
   "metadata": {},
   "outputs": [
    {
     "data": {
      "image/png": "[encoded data removed]",
      "text/plain": [
       "<Figure size 640x480 with 1 Axes>"
      ]
     },
     "metadata": {},
     "output_type": "display_data"
    }
   ],
   "source": [
    "plot_tree(clasificador)\n",
    "plt.show()"
   ]
  },
  {
   "cell_type": "markdown",
   "id": "8d8268fe",
   "metadata": {},
   "source": [
    "# Random forest"
   ]
  },
  {
   "cell_type": "code",
   "execution_count": 23,
   "id": "37174394",
   "metadata": {},
   "outputs": [],
   "source": [
    "#Crear un clasificador forest\n",
    "forest=RandomForestClassifier(class_weight='balanced', max_depth=10, random_state=42)\n",
    "#entrenamos el modelo\n",
    "forest.fit(X_ntrain, y_train)\n",
    "ypred2=forest.predict(X_ntest)"
   ]
  },
  {
   "cell_type": "code",
   "execution_count": 24,
   "id": "f2a0328a",
   "metadata": {},
   "outputs": [
    {
     "data": {
      "image/png": "[encoded data removed]",
      "text/plain": [
       "<Figure size 640x480 with 2 Axes>"
      ]
     },
     "metadata": {},
     "output_type": "display_data"
    }
   ],
   "source": [
    "cm2=confusion_matrix(y_test, ypred2, labels=forest.classes_)\n",
    "disp = ConfusionMatrixDisplay(confusion_matrix=cm2, display_labels=forest.classes_)\n",
    "disp.plot()\n",
    "plt.show()"
   ]
  },
  {
   "cell_type": "code",
   "execution_count": 25,
   "id": "5ca5cbfc",
   "metadata": {},
   "outputs": [
    {
     "name": "stdout",
     "output_type": "stream",
     "text": [
      "              precision    recall  f1-score   support\n",
      "\n",
      "         acc       0.92      0.93      0.93       117\n",
      "        good       0.75      0.95      0.84        22\n",
      "       unacc       1.00      0.98      0.99       365\n",
      "       vgood       0.95      0.90      0.93        21\n",
      "\n",
      "    accuracy                           0.97       525\n",
      "   macro avg       0.91      0.94      0.92       525\n",
      "weighted avg       0.97      0.97      0.97       525\n",
      "\n"
     ]
    }
   ],
   "source": [
    "#Muestra la grafica de la matriz de confusion\n",
    "print (classification_report (y_test, ypred2))"
   ]
  },
  {
   "cell_type": "markdown",
   "id": "3b9a4ba3",
   "metadata": {},
   "source": [
    "# Pipelines de procesado"
   ]
  },
  {
   "cell_type": "markdown",
   "id": "ab573389",
   "metadata": {},
   "source": [
    "En ocasiones, cuando usamos técnicas de preprocesado y minería de datos de Scikit-learn, podemos construit pipelines o \"tuberías\". Consisten en concatenaciones de preprocesadores y estimadores, que pueden mejorar la legibilidad del código. Por ejemplo, para el procesado que hemos visto hasta ahora:"
   ]
  },
  {
   "cell_type": "code",
   "execution_count": 26,
   "id": "b4da2357",
   "metadata": {},
   "outputs": [],
   "source": [
    "pipeline = make_pipeline(StandardScaler(), DecisionTreeClassifier())"
   ]
  },
  {
   "cell_type": "code",
   "execution_count": 27,
   "id": "ee509950",
   "metadata": {},
   "outputs": [
    {
     "data": {
      "text/plain": [
       "Pipeline(steps=[('standardscaler', StandardScaler()),\n",
       "                ('decisiontreeclassifier', DecisionTreeClassifier())])"
      ]
     },
     "execution_count": 27,
     "metadata": {},
     "output_type": "execute_result"
    }
   ],
   "source": [
    "pipeline.fit(X_ntrain,y_train) #Lo entrenamos"
   ]
  },
  {
   "cell_type": "code",
   "execution_count": 28,
   "id": "29166833",
   "metadata": {},
   "outputs": [
    {
     "name": "stdout",
     "output_type": "stream",
     "text": [
      "              precision    recall  f1-score   support\n",
      "\n",
      "         acc       1.00      1.00      1.00       273\n",
      "        good       1.00      1.00      1.00        53\n",
      "       unacc       1.00      1.00      1.00       850\n",
      "       vgood       1.00      1.00      1.00        49\n",
      "\n",
      "    accuracy                           1.00      1225\n",
      "   macro avg       1.00      1.00      1.00      1225\n",
      "weighted avg       1.00      1.00      1.00      1225\n",
      "\n"
     ]
    }
   ],
   "source": [
    "ypred1=pipeline.predict(X_ntrain)\n",
    "print (classification_report (y_train, ypred1))"
   ]
  },
  {
   "cell_type": "markdown",
   "id": "1dcb1a0e",
   "metadata": {},
   "source": [
    "##### Nota: Realmente los pipelines en estas predicciones son lo mejor"
   ]
  }
 ],
 "metadata": {
  "kernelspec": {
   "display_name": "Python 3 (ipykernel)",
   "language": "python",
   "name": "python3"
  },
  "language_info": {
   "codemirror_mode": {
    "name": "ipython",
    "version": 3
   },
   "file_extension": ".py",
   "mimetype": "text/x-python",
   "name": "python",
   "nbconvert_exporter": "python",
   "pygments_lexer": "ipython3",
   "version": "3.9.13"
  }
 },
 "nbformat": 4,
 "nbformat_minor": 5
}
