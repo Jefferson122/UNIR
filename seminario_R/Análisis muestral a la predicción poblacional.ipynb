{
 "cells": [
  {
   "cell_type": "markdown",
   "id": "b2c7ad67",
   "metadata": {},
   "source": [
    "# Análisis muestral a la predicción poblacional"
   ]
  },
  {
   "cell_type": "markdown",
   "id": "d948716d",
   "metadata": {},
   "source": [
    "Primero, cargamos el conjunto de datos \"mtcars\" en R:"
   ]
  },
  {
   "cell_type": "code",
   "execution_count": 1,
   "id": "a11ad607",
   "metadata": {},
   "outputs": [],
   "source": [
    "data(mtcars)"
   ]
  },
  {
   "cell_type": "markdown",
   "id": "06032e2b",
   "metadata": {},
   "source": [
    "A continuación, creamos dos subconjuntos de datos: uno que incluye solo los automóviles con transmisión automática y otro que incluye solo los automóviles con transmisión manual:"
   ]
  },
  {
   "cell_type": "code",
   "execution_count": 2,
   "id": "edc9a547",
   "metadata": {},
   "outputs": [],
   "source": [
    "auto <- subset(mtcars, am == 1)\n",
    "manual <- subset(mtcars, am == 0)"
   ]
  },
  {
   "cell_type": "markdown",
   "id": "b33ec028",
   "metadata": {},
   "source": [
    "Ahora, calculamos el consumo de gasolina promedio para cada subconjunto:"
   ]
  },
  {
   "cell_type": "code",
   "execution_count": 3,
   "id": "aaf3e059",
   "metadata": {},
   "outputs": [
    {
     "data": {
      "text/html": [
       "24.3923076923077"
      ],
      "text/latex": [
       "24.3923076923077"
      ],
      "text/markdown": [
       "24.3923076923077"
      ],
      "text/plain": [
       "[1] 24.39231"
      ]
     },
     "metadata": {},
     "output_type": "display_data"
    },
    {
     "data": {
      "text/html": [
       "17.1473684210526"
      ],
      "text/latex": [
       "17.1473684210526"
      ],
      "text/markdown": [
       "17.1473684210526"
      ],
      "text/plain": [
       "[1] 17.14737"
      ]
     },
     "metadata": {},
     "output_type": "display_data"
    }
   ],
   "source": [
    "mean(auto$mpg)\n",
    "mean(manual$mpg)"
   ]
  },
  {
   "cell_type": "markdown",
   "id": "e751f00f",
   "metadata": {},
   "source": [
    "Cálculo de la diferencia de medias observada entre los dos grupos"
   ]
  },
  {
   "cell_type": "code",
   "execution_count": 4,
   "id": "b19f26ae",
   "metadata": {},
   "outputs": [
    {
     "data": {
      "text/html": [
       "7.24493927125506"
      ],
      "text/latex": [
       "7.24493927125506"
      ],
      "text/markdown": [
       "7.24493927125506"
      ],
      "text/plain": [
       "[1] 7.244939"
      ]
     },
     "metadata": {},
     "output_type": "display_data"
    }
   ],
   "source": [
    "diff_obs <- mean(auto$mpg) - mean(manual$mpg)\n",
    "diff_obs"
   ]
  },
  {
   "cell_type": "markdown",
   "id": "cd24ade4",
   "metadata": {},
   "source": [
    "Cálculo del error estándar de la diferencia de medias"
   ]
  },
  {
   "cell_type": "code",
   "execution_count": 5,
   "id": "f2fe1146",
   "metadata": {},
   "outputs": [
    {
     "data": {
      "text/html": [
       "1.92320213385972"
      ],
      "text/latex": [
       "1.92320213385972"
      ],
      "text/markdown": [
       "1.92320213385972"
      ],
      "text/plain": [
       "[1] 1.923202"
      ]
     },
     "metadata": {},
     "output_type": "display_data"
    }
   ],
   "source": [
    "se_diff <- sqrt(var(auto$mpg) / length(auto$mpg) + var(manual$mpg) / length(manual$mpg))\n",
    "se_diff"
   ]
  },
  {
   "cell_type": "markdown",
   "id": "1503b6b4",
   "metadata": {},
   "source": [
    "### Definir las hipótesis nula y alternativa"
   ]
  },
  {
   "cell_type": "code",
   "execution_count": 6,
   "id": "85792d18",
   "metadata": {},
   "outputs": [],
   "source": [
    "hipotesis_nula <- \"El consumo de gasolina promedio de los automóviles con transmisión automática es igual o menor que el consumo de gasolina promedio de los automóviles con transmisión manual.\"\n",
    "hipotesis_alternativa <- \"El consumo de gasolina promedio de los automóviles con transmisión automática es mayor que el consumo de gasolina promedio de los automóviles con transmisión manual\""
   ]
  },
  {
   "cell_type": "markdown",
   "id": "3a7f5e87",
   "metadata": {},
   "source": [
    "### Definir el nivel de significancia"
   ]
  },
  {
   "cell_type": "code",
   "execution_count": 7,
   "id": "5e5cf092",
   "metadata": {},
   "outputs": [],
   "source": [
    "nivel_significancia <- 0.05"
   ]
  },
  {
   "cell_type": "markdown",
   "id": "3a1d37b3",
   "metadata": {},
   "source": [
    "### Contraste de hipótesis"
   ]
  },
  {
   "cell_type": "code",
   "execution_count": 8,
   "id": "ba779239",
   "metadata": {},
   "outputs": [
    {
     "data": {
      "text/plain": [
       "\n",
       "\tWelch Two Sample t-test\n",
       "\n",
       "data:  auto$mpg and manual$mpg\n",
       "t = 3.7671, df = 18.332, p-value = 0.0006868\n",
       "alternative hypothesis: true difference in means is greater than 0\n",
       "95 percent confidence interval:\n",
       " 3.913256      Inf\n",
       "sample estimates:\n",
       "mean of x mean of y \n",
       " 24.39231  17.14737 \n"
      ]
     },
     "metadata": {},
     "output_type": "display_data"
    }
   ],
   "source": [
    "t.test(auto$mpg, manual$mpg, alternative = \"greater\", var.equal = FALSE)"
   ]
  },
  {
   "cell_type": "markdown",
   "id": "9a78e3d0",
   "metadata": {},
   "source": [
    "### Calcular el valor crítico"
   ]
  },
  {
   "cell_type": "code",
   "execution_count": 9,
   "id": "9b9c322b",
   "metadata": {},
   "outputs": [
    {
     "name": "stdout",
     "output_type": "stream",
     "text": [
      "Estadístico t: 3.767123 \n",
      "Grados de libertad: 30 \n",
      "Valor crítico: -2.042272 \n"
     ]
    }
   ],
   "source": [
    "# Calcular el estadístico t\n",
    "t_stat <- (mean(auto$mpg) - mean(manual$mpg)) / sqrt(var(auto$mpg)/length(auto$mpg) + var(manual$mpg)/length(manual$mpg))\n",
    "\n",
    "# Calcular los grados de libertad\n",
    "df <- length(auto$mpg) + length(manual$mpg) - 2\n",
    "\n",
    "# Calcular el valor crítico para un nivel de significancia del 5%\n",
    "t_crit <- qt(0.025, df)\n",
    "\n",
    "# Imprimir los resultados\n",
    "cat(\"Estadístico t:\", t_stat, \"\\n\")\n",
    "cat(\"Grados de libertad:\", df, \"\\n\")\n",
    "cat(\"Valor crítico:\", t_crit, \"\\n\")"
   ]
  },
  {
   "cell_type": "code",
   "execution_count": 10,
   "id": "5376a5cc",
   "metadata": {},
   "outputs": [],
   "source": [
    "promedio_auto <- mean(auto$mpg[1:7])\n",
    "promedio_manual <- mean(manual$mpg[1:7])"
   ]
  },
  {
   "cell_type": "code",
   "execution_count": 11,
   "id": "d50b52b1",
   "metadata": {},
   "outputs": [
    {
     "data": {
      "image/png": "[encoded data removed]",
      "text/plain": [
       "Plot with title \"Comparación de consumos de gasolina por tipo de auto\""
      ]
     },
     "metadata": {
      "image/png": {
       "height": 420,
       "width": 420
      }
     },
     "output_type": "display_data"
    }
   ],
   "source": [
    "barplot(c(promedio_auto, promedio_manual), \n",
    "        names.arg = c(\"Automóviles automaticos\", \"Automóviles manuales\"),\n",
    "        ylab = \"Consumo promedio de gasolina\", \n",
    "        ylim = c(0, 30),\n",
    "        col = c(\"blue\", \"red\"),\n",
    "        main = \"Comparación de consumos de gasolina por tipo de auto\")"
   ]
  },
  {
   "cell_type": "code",
   "execution_count": 12,
   "id": "66fa90d0",
   "metadata": {},
   "outputs": [
    {
     "data": {
      "image/png": "[encoded data removed]",
      "text/plain": [
       "Plot with title \"Comparación de consumo de gasolina por tipo de transmisión\""
      ]
     },
     "metadata": {
      "image/png": {
       "height": 420,
       "width": 420
      }
     },
     "output_type": "display_data"
    }
   ],
   "source": [
    "# Crear un vector combinado con los dos subconjuntos de datos\n",
    "mpg <- c(auto$mpg, manual$mpg)\n",
    "\n",
    "# Crear un vector de factores que indica el tipo de transmisión\n",
    "am <- factor(c(rep(\"auto\", length(auto$mpg)), rep(\"manual\", length(manual$mpg))))\n",
    "\n",
    "# Crear un diagrama de cajas con la función boxplot() de R base\n",
    "boxplot(mpg ~ am, xlab = \"Transmisión\", ylab = \"Millas por galón\",\n",
    "        main = \"Comparación de consumo de gasolina por tipo de transmisión\")\n"
   ]
  },
  {
   "cell_type": "markdown",
   "id": "9d8eff29",
   "metadata": {},
   "source": [
    "# Conclusión"
   ]
  },
  {
   "cell_type": "code",
   "execution_count": 13,
   "id": "c542dd04",
   "metadata": {},
   "outputs": [
    {
     "name": "stdout",
     "output_type": "stream",
     "text": [
      "Se rechaza la hipótesis nula; hay evidencia suficiente para afirmar que los consumos de gasolina promedio de los dos grupos son diferentes.\n"
     ]
    }
   ],
   "source": [
    "# Cálculo del estadístico t y el valor p del contraste de hipótesis\n",
    "t_stat <- diff_obs / se_diff\n",
    "p_val <- 2 * pt(abs(t_stat), df = length(auto$mpg) + length(manual$mpg) - 2, lower.tail = FALSE)\n",
    "\n",
    "# Evaluación de la hipótesis nula y decisión del contraste de hipótesis\n",
    "if (p_val < nivel_significancia) {\n",
    "  cat(\"Se rechaza la hipótesis nula; hay evidencia suficiente para afirmar que los consumos de gasolina promedio de los dos grupos son diferentes.\\n\")\n",
    "} else {\n",
    "  cat(\"No se rechaza la hipótesis nula; no hay suficiente evidencia para afirmar que los consumos de gasolina promedio de los dos grupos son diferentes.\\n\")\n",
    "}"
   ]
  }
 ],
 "metadata": {
  "kernelspec": {
   "display_name": "R",
   "language": "R",
   "name": "ir"
  },
  "language_info": {
   "codemirror_mode": "r",
   "file_extension": ".r",
   "mimetype": "text/x-r-source",
   "name": "R",
   "pygments_lexer": "r",
   "version": "3.6.1"
  }
 },
 "nbformat": 4,
 "nbformat_minor": 5
}
