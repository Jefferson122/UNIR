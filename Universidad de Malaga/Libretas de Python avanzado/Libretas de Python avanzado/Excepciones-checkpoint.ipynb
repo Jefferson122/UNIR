{
 "cells": [
  {
   "cell_type": "markdown",
   "id": "96292a9a-467f-45a6-aec2-b224caa34bae",
   "metadata": {},
   "source": [
    "# Excepciones"
   ]
  },
  {
   "cell_type": "markdown",
   "id": "35fe2693-8990-4217-9335-9bab5f6fbcfb",
   "metadata": {},
   "source": [
    "Los programas informáticos suelen ejecutarse en contextos complejos, donde pueden pasar muchas cosas que lleven a una condición de error, como intentar leer un fichero que no existe, o dividir por una variable cuyo valor resulta ser cero. En estos casos, un programa puede fallar y pararse. Existen dos métodos para evitar esto: \n",
    "- prever los posibles fallos y comprobar las condiciones antes\n",
    "- dejar que el fallo ocurra y recuperarnos después\n",
    "\n",
    "En Python podemos hacer ambas cosas. La primera solución puede parecer la mejor opción, pero dada la imposibilidad de predecir muchas situaciones, es mejor tener la posibilidad de usar la segunda estrategia. En esta breve libreta, veremos cómo usar las estructuras <code>try</code>/<code>except</code> para recuperarnos de fallos.\n"
   ]
  },
  {
   "cell_type": "markdown",
   "id": "890f86f8-4ee8-493b-8c55-7b69ddaf2a96",
   "metadata": {},
   "source": [
    "Supongamos que tenemos la siguiente función que resuelve una ecuación de segundo grado:"
   ]
  },
  {
   "cell_type": "code",
   "execution_count": 1,
   "id": "f9f867ba-0abd-429f-adc6-f6c104399221",
   "metadata": {},
   "outputs": [],
   "source": [
    "import cmath\n",
    "def resolver(a, b, c):\n",
    "    x1 = (-b + cmath.sqrt(b**2 - 4*a*c))/(2*a)\n",
    "    x2 = (-b - cmath.sqrt(b**2 - 4*a*c))/(2*a)\n",
    "    return x1, x2"
   ]
  },
  {
   "cell_type": "markdown",
   "id": "0cfbf0d5-13bb-45f6-8f5f-7ba124dadec7",
   "metadata": {},
   "source": [
    "Supongamos que esta función está en un programa en el que, en algunas ocasiones, se intenta resolver una ecuación de primer grado, en lugar de una de segundo; por lo que la variable <code>a</code> es 0. El error que se produciría sería el siguiente:"
   ]
  },
  {
   "cell_type": "code",
   "execution_count": 2,
   "id": "af61c8d3-368e-41ac-89f1-83a24c11b375",
   "metadata": {},
   "outputs": [
    {
     "ename": "ZeroDivisionError",
     "evalue": "complex division by zero",
     "output_type": "error",
     "traceback": [
      "\u001b[1;31m---------------------------------------------------------------------------\u001b[0m",
      "\u001b[1;31mZeroDivisionError\u001b[0m                         Traceback (most recent call last)",
      "\u001b[1;32m~\\AppData\\Local\\Temp/ipykernel_14000/2372411344.py\u001b[0m in \u001b[0;36m<module>\u001b[1;34m\u001b[0m\n\u001b[1;32m----> 1\u001b[1;33m \u001b[0mresolver\u001b[0m\u001b[1;33m(\u001b[0m\u001b[1;36m0\u001b[0m\u001b[1;33m,\u001b[0m \u001b[1;36m5\u001b[0m\u001b[1;33m,\u001b[0m \u001b[1;36m10\u001b[0m\u001b[1;33m)\u001b[0m\u001b[1;33m\u001b[0m\u001b[1;33m\u001b[0m\u001b[0m\n\u001b[0m",
      "\u001b[1;32m~\\AppData\\Local\\Temp/ipykernel_14000/1441642715.py\u001b[0m in \u001b[0;36mresolver\u001b[1;34m(a, b, c)\u001b[0m\n\u001b[0;32m      1\u001b[0m \u001b[1;32mimport\u001b[0m \u001b[0mcmath\u001b[0m\u001b[1;33m\u001b[0m\u001b[1;33m\u001b[0m\u001b[0m\n\u001b[0;32m      2\u001b[0m \u001b[1;32mdef\u001b[0m \u001b[0mresolver\u001b[0m\u001b[1;33m(\u001b[0m\u001b[0ma\u001b[0m\u001b[1;33m,\u001b[0m \u001b[0mb\u001b[0m\u001b[1;33m,\u001b[0m \u001b[0mc\u001b[0m\u001b[1;33m)\u001b[0m\u001b[1;33m:\u001b[0m\u001b[1;33m\u001b[0m\u001b[1;33m\u001b[0m\u001b[0m\n\u001b[1;32m----> 3\u001b[1;33m     \u001b[0mx1\u001b[0m \u001b[1;33m=\u001b[0m \u001b[1;33m(\u001b[0m\u001b[1;33m-\u001b[0m\u001b[0mb\u001b[0m \u001b[1;33m+\u001b[0m \u001b[0mcmath\u001b[0m\u001b[1;33m.\u001b[0m\u001b[0msqrt\u001b[0m\u001b[1;33m(\u001b[0m\u001b[0mb\u001b[0m\u001b[1;33m**\u001b[0m\u001b[1;36m2\u001b[0m \u001b[1;33m-\u001b[0m \u001b[1;36m4\u001b[0m\u001b[1;33m*\u001b[0m\u001b[0ma\u001b[0m\u001b[1;33m*\u001b[0m\u001b[0mc\u001b[0m\u001b[1;33m)\u001b[0m\u001b[1;33m)\u001b[0m\u001b[1;33m/\u001b[0m\u001b[1;33m(\u001b[0m\u001b[1;36m2\u001b[0m\u001b[1;33m*\u001b[0m\u001b[0ma\u001b[0m\u001b[1;33m)\u001b[0m\u001b[1;33m\u001b[0m\u001b[1;33m\u001b[0m\u001b[0m\n\u001b[0m\u001b[0;32m      4\u001b[0m     \u001b[0mx2\u001b[0m \u001b[1;33m=\u001b[0m \u001b[1;33m(\u001b[0m\u001b[1;33m-\u001b[0m\u001b[0mb\u001b[0m \u001b[1;33m-\u001b[0m \u001b[0mcmath\u001b[0m\u001b[1;33m.\u001b[0m\u001b[0msqrt\u001b[0m\u001b[1;33m(\u001b[0m\u001b[0mb\u001b[0m\u001b[1;33m**\u001b[0m\u001b[1;36m2\u001b[0m \u001b[1;33m-\u001b[0m \u001b[1;36m4\u001b[0m\u001b[1;33m*\u001b[0m\u001b[0ma\u001b[0m\u001b[1;33m*\u001b[0m\u001b[0mc\u001b[0m\u001b[1;33m)\u001b[0m\u001b[1;33m)\u001b[0m\u001b[1;33m/\u001b[0m\u001b[1;33m(\u001b[0m\u001b[1;36m2\u001b[0m\u001b[1;33m*\u001b[0m\u001b[0ma\u001b[0m\u001b[1;33m)\u001b[0m\u001b[1;33m\u001b[0m\u001b[1;33m\u001b[0m\u001b[0m\n\u001b[0;32m      5\u001b[0m     \u001b[1;32mreturn\u001b[0m \u001b[0mx1\u001b[0m\u001b[1;33m,\u001b[0m \u001b[0mx2\u001b[0m\u001b[1;33m\u001b[0m\u001b[1;33m\u001b[0m\u001b[0m\n",
      "\u001b[1;31mZeroDivisionError\u001b[0m: complex division by zero"
     ]
    }
   ],
   "source": [
    "resolver(0, 5, 10)"
   ]
  },
  {
   "cell_type": "markdown",
   "id": "3e3e78e3-9ee6-4e84-a18f-40ed84db706b",
   "metadata": {},
   "source": [
    "Para impedir esto, están las <a href=\"https://docs.python.org/3/tutorial/errors.html\">excepciones</a>. Consisten en ejecutar un bloque de código y, en caso de que dicho bloque falle, ejecutar uno de recuperación. La siguiente figura ilustra esta estructura:\n",
    "\n",
    "<img src=\"except.png\" style=\"width:20em; margin: 0 auto;\"/>\n",
    "<br/>\n",
    "\n",
    "Veamos cómo podemos reescribir la función anterior para que se recupere de estos fallos:"
   ]
  },
  {
   "cell_type": "code",
   "execution_count": 3,
   "id": "c540a4cf-f560-48f9-bd2f-a405d503cff1",
   "metadata": {},
   "outputs": [],
   "source": [
    "def resolver(a,b,c):\n",
    "    try:\n",
    "        x1 = (-b + cmath.sqrt(b**2 - 4*a*c))/(2*a)\n",
    "        x2 = (-b - cmath.sqrt(b**2 - 4*a*c))/(2*a)\n",
    "        solucion = (x1, x2)\n",
    "    except ZeroDivisionError:\n",
    "        print(\"Esta ecuación no es de segundo grado\")\n",
    "        solucion = -c/b\n",
    "        \n",
    "    return solucion"
   ]
  },
  {
   "cell_type": "markdown",
   "id": "ac70f49f-6f78-4c69-99d3-adc9c976a882",
   "metadata": {},
   "source": [
    "En este caso, hemos explicitado el tipo de error (<code>ZeroDivisionError</code>), de modo que fallará si hay algún error de otra naturaleza (no siempre es conveniente que un programa siga en caso de error). Podemos concatenar varios <code>except</code>, y podemos también no explicitar nada, de modo que se recojan todos los errores."
   ]
  },
  {
   "cell_type": "code",
   "execution_count": 4,
   "id": "834745cc-df86-42b7-9610-376be19d7a2c",
   "metadata": {},
   "outputs": [
    {
     "name": "stdout",
     "output_type": "stream",
     "text": [
      "Esta ecuación no es de segundo grado\n"
     ]
    },
    {
     "data": {
      "text/plain": [
       "-2.0"
      ]
     },
     "execution_count": 4,
     "metadata": {},
     "output_type": "execute_result"
    }
   ],
   "source": [
    "resolver(0, 5, 10)"
   ]
  },
  {
   "cell_type": "markdown",
   "id": "beb4a1fc-3a9c-4f34-8e00-ff9b9fb82f8c",
   "metadata": {},
   "source": [
    "No usaremos mucho las excepciones en este curso, pero está bien conocerlas por dos motivos: \n",
    "- Para entender mejor que los errores que suceden son de distintos tipos y se pueden recuperar y tratar de distinta forma.\n",
    "- Para usarlas en procesados largos (de muchas horas o incluso días) que puedan ser interrumpidos por un dato fallido."
   ]
  },
  {
   "cell_type": "code",
   "execution_count": null,
   "id": "73203761-3016-41fd-9ba6-2ea8cbae29fa",
   "metadata": {},
   "outputs": [],
   "source": []
  }
 ],
 "metadata": {
  "kernelspec": {
   "display_name": "Python 3 (ipykernel)",
   "language": "python",
   "name": "python3"
  },
  "language_info": {
   "codemirror_mode": {
    "name": "ipython",
    "version": 3
   },
   "file_extension": ".py",
   "mimetype": "text/x-python",
   "name": "python",
   "nbconvert_exporter": "python",
   "pygments_lexer": "ipython3",
   "version": "3.9.7"
  }
 },
 "nbformat": 4,
 "nbformat_minor": 5
}
