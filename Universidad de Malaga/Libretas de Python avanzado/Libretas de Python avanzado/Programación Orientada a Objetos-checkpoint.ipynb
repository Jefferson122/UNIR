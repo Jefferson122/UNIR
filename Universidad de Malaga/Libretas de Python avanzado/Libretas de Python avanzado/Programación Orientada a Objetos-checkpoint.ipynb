{
 "cells": [
  {
   "cell_type": "markdown",
   "id": "baf63958-3fbf-405b-b324-afeb5106e132",
   "metadata": {},
   "source": [
    "# Programación Orientada a Objetos"
   ]
  },
  {
   "cell_type": "markdown",
   "id": "9441a54d-226a-489a-8584-e60f0617d3a2",
   "metadata": {},
   "source": [
    "En la libreta anterior hicimos un repaso de las variables que provee Python por defecto. Con ellas podíamos representar datos numéricos y cadenas de texto. Con las estructuras de datos podíamos ir un poco más allá y representar colecciones de datos numéricos y textos. Con estos elementos, representar conceptos complejos, como por ejemplo, una lista de reproducción de música, o una tabla de datos con índices temporales, puede conllevar un código complejo. Manejar dichos datos también hará crecer en complejidad el programa. Como resultado final, tendremos un código complejo en el que la probabilidad de errores es alta. "
   ]
  },
  {
   "cell_type": "markdown",
   "id": "f61523b5-eb41-43c4-afc3-5bb534eef455",
   "metadata": {},
   "source": [
    "La programación orientada a objetos resuelve este problema mediante la introducción el concepto de las **clases** y los **objetos**. Una clase describe un nuevo tipo de dato, que contiene otras variables (atributos) y una serie de funciones (métodos) que se pueden invocar. Veamos, por ejemplo, una clase que representa a un gato:\n",
    "\n",
    "<img src=\"clasegato.png\" style=\"width:30em; margin: 0 auto;\"/>\n",
    "<br/>\n",
    "\n",
    "La clase es el equivalente a un tipo de dato; mientras que <code>int</code> representa números enteros, y <code>str</code> cadenas de texto, la clase <code>Gato</code> representará gatos. Este tipo de dato contiene a su vez una serie de **atributos** (<code>pelaje</code>, <code>caracter</code> y <code>alimentado</code>) y **métodos** (<code>acariciar</code> y <code>alimentar</code>). Cada instancia de la variable, es decir, cada valor, será un objeto. El valor de los atributos será diferente para cada objeto, y los métodos se aplicarán el objeto al que pertenecen, y no sobre otros objetos de la clase."
   ]
  },
  {
   "cell_type": "markdown",
   "id": "14d137e7-ba14-4f72-94af-f3b32860326f",
   "metadata": {},
   "source": [
    "Para este curso, no necesitaremos entrar en detalle en la Programación Orientada a Objetos; sólo conocer cómo se pueden usar las mismas para entender mejor el código que usaremos en el futuro. Veamos cómo podemos definir la clase <code>Gato</code>:"
   ]
  },
  {
   "cell_type": "code",
   "execution_count": 1,
   "id": "92609040-2d18-4fa8-a584-3ab9ffab91d2",
   "metadata": {},
   "outputs": [],
   "source": [
    "class Gato:\n",
    "    def __init__(self):\n",
    "        self.pelaje = None\n",
    "        self.caracter = None\n",
    "        self.alimentado = None\n",
    "        \n",
    "    def acariciar(self):\n",
    "        if self.caracter == \"amigable\":\n",
    "            print(\"Acariciando al gato\")\n",
    "        else:\n",
    "            print(\"Acariciando con cuidado al gato\")\n",
    "            \n",
    "    def alimentar(self):\n",
    "        if not self.alimentado:\n",
    "            print(\"Dando de comer al gato\")\n",
    "            self.alimentado = True\n",
    "        else:\n",
    "            print(\"El gato no tiene hambre\")"
   ]
  },
  {
   "cell_type": "markdown",
   "id": "5a3232c1-24ed-4987-a648-e1c0d8829125",
   "metadata": {},
   "source": [
    "Para crear un nuevo objeto de la clase <code>Gato</code>, lo hacemos de la siguiente manera:"
   ]
  },
  {
   "cell_type": "code",
   "execution_count": 2,
   "id": "c3df92d6-75f4-4628-b912-489686ad7afa",
   "metadata": {},
   "outputs": [],
   "source": [
    "missy = Gato()"
   ]
  },
  {
   "cell_type": "markdown",
   "id": "779b9b4e-9123-4332-84e3-6ae0bc20f27d",
   "metadata": {},
   "source": [
    "La variable <code>missy</code> apunta a un objeto de la clase <code>Gato</code>. Los paréntesis indican que, en realidad, estamos llamando a una función que nos devuelve el objeto. Dicha función recibe el nombre de <i>constructor</i> y la hemos definido como el método <code>\\_\\_init\\_\\_()</code> de la clase. A continuación podemos dar valores a los atributos de <code>missy</code>:"
   ]
  },
  {
   "cell_type": "code",
   "execution_count": 3,
   "id": "b1781767-5a9f-4861-a122-2586bb9bc463",
   "metadata": {},
   "outputs": [],
   "source": [
    "missy.pelaje = \"atigrado\"\n",
    "missy.caracter = \"amigable\"\n",
    "missy.alimentado = True"
   ]
  },
  {
   "cell_type": "markdown",
   "id": "7b11441b-f828-4d28-ad23-7c8df6979135",
   "metadata": {},
   "source": [
    "Y podemos invocar a los métodos, que, en función de los atributos, tendrán distintos comportamientos. Para invocar a un método, tenemos que poner el nombre del objeto, seguido de un punto, después, del nombre del método y finalmente paréntesis, en los que podemos poner argumentos si el método los admite. Nota: el argumento <code>self</code> que aparece en el código lo debemos ignorar a la hora de invocar un método; como si no existiera."
   ]
  },
  {
   "cell_type": "code",
   "execution_count": 4,
   "id": "578de90f-139c-47dc-9f97-d0b4686054c0",
   "metadata": {},
   "outputs": [
    {
     "name": "stdout",
     "output_type": "stream",
     "text": [
      "Acariciando al gato\n"
     ]
    }
   ],
   "source": [
    "missy.acariciar()"
   ]
  },
  {
   "cell_type": "markdown",
   "id": "d724a622-0d33-41dd-b1c3-eb88a3239300",
   "metadata": {},
   "source": [
    "Si creamos un <code>Gato</code> distinto, el resultado será distinto:"
   ]
  },
  {
   "cell_type": "code",
   "execution_count": 5,
   "id": "1239f321-ef96-479d-905c-6493ed079059",
   "metadata": {},
   "outputs": [
    {
     "name": "stdout",
     "output_type": "stream",
     "text": [
      "Acariciando con cuidado al gato\n"
     ]
    }
   ],
   "source": [
    "grunon = Gato()\n",
    "grunon.pelaje = \"negro\"\n",
    "grunon.caracter = \"agresivo\"\n",
    "grunon.alimentado = False\n",
    "\n",
    "grunon.acariciar()"
   ]
  },
  {
   "cell_type": "markdown",
   "id": "546df422-d3c7-438e-9b90-d898f291da37",
   "metadata": {},
   "source": [
    "Además de <code>self</code> (que es un argumento que todos los métodos deben tener), el constructor <code>\\_\\_init\\_\\_()</code> suele admitir otros parámetros, de modo que podamos dar valores a ciertos atributos desde el principio. Veamos un rediseño de la clase <code>Gato</code>:"
   ]
  },
  {
   "cell_type": "code",
   "execution_count": 6,
   "id": "8c41352f-ec26-48d8-a2b3-0a8899dba6b0",
   "metadata": {},
   "outputs": [],
   "source": [
    "class Gato:\n",
    "    def __init__(self, pelaje, caracter, alimentado):\n",
    "        self.pelaje = pelaje\n",
    "        self.caracter = caracter\n",
    "        self.alimentado = alimentado\n",
    "        \n",
    "    def acariciar(self):\n",
    "        if self.caracter == \"amigable\":\n",
    "            print(\"Acariciando al gato\")\n",
    "        else:\n",
    "            print(\"Acariciando con cuidado al gato\")\n",
    "    \n",
    "    def alimentar(self):\n",
    "        if not self.alimentado:\n",
    "            print(\"Dando de comer al gato\")\n",
    "            self.alimentado = True\n",
    "        else:\n",
    "            print(\"El gato no tiene hambre\")"
   ]
  },
  {
   "cell_type": "markdown",
   "id": "baa3a4e1-3eb0-4f08-b987-7262f3582b37",
   "metadata": {},
   "source": [
    "Lo único que cambia es que <code>\\_\\_init\\_\\_()</code> ahora es capaz de dar valores a los atributos desde el principio:"
   ]
  },
  {
   "cell_type": "code",
   "execution_count": 7,
   "id": "4221bb11-b93e-43ff-9921-86ca162680e6",
   "metadata": {},
   "outputs": [
    {
     "name": "stdout",
     "output_type": "stream",
     "text": [
      "Dando de comer al gato\n"
     ]
    }
   ],
   "source": [
    "zarpitas = Gato(\"negro\",\"agresivo\",False)\n",
    "zarpitas.alimentar()"
   ]
  },
  {
   "cell_type": "markdown",
   "id": "4cf395fb-0c57-4bc1-914b-35d537ecb635",
   "metadata": {},
   "source": [
    "Los métodos además pueden cambiar los atributos de un objeto, de modo que cuando creamos a <code>zarpitas</code>, pusimos el atributo <code>alimentado</code> a <code>False</code>. Cuando llamamos a <code>alimentar</code>, dicho parámetro cambió (véase el código de la función). Por tanto, al volver a ejecutarla:"
   ]
  },
  {
   "cell_type": "code",
   "execution_count": 8,
   "id": "0fbd3b3b-444d-4403-946f-657921754da6",
   "metadata": {},
   "outputs": [
    {
     "name": "stdout",
     "output_type": "stream",
     "text": [
      "El gato no tiene hambre\n"
     ]
    }
   ],
   "source": [
    "zarpitas.alimentar()"
   ]
  },
  {
   "cell_type": "markdown",
   "id": "d1ebe2ce-ffff-4d49-8a5c-6f0d2ce3ae95",
   "metadata": {},
   "source": [
    "el comportamiento es distinto."
   ]
  },
  {
   "cell_type": "markdown",
   "id": "2bedc550-fc94-4458-b2ea-37c1884669e7",
   "metadata": {},
   "source": [
    "## Conclusiones"
   ]
  },
  {
   "cell_type": "markdown",
   "id": "34e6ce65-9486-4cf2-96b5-ffe0963d596f",
   "metadata": {},
   "source": [
    "Para lo que nos interesa en este curso, no hace falta ver más conceptos de Programación Orientada a Objetos. Vale con entender los siguientes conceptos:\n",
    "- Cómo crear objetos basados en clases existentes\n",
    "- Cómo invocar métodos y cómo pueden cambiar al objeto\n",
    "- Cómo ver y cambiar los atributos\n",
    "\n",
    "Hay muchas más documentación acerca de objetos en <a href=\"https://docs.python.org/3/tutorial/classes.html\">la documentación</a> de Python."
   ]
  },
  {
   "cell_type": "code",
   "execution_count": null,
   "id": "d5eb346b-85ef-4493-92d7-91d08229c3d1",
   "metadata": {},
   "outputs": [],
   "source": []
  }
 ],
 "metadata": {
  "kernelspec": {
   "display_name": "Python 3 (ipykernel)",
   "language": "python",
   "name": "python3"
  },
  "language_info": {
   "codemirror_mode": {
    "name": "ipython",
    "version": 3
   },
   "file_extension": ".py",
   "mimetype": "text/x-python",
   "name": "python",
   "nbconvert_exporter": "python",
   "pygments_lexer": "ipython3",
   "version": "3.9.13"
  }
 },
 "nbformat": 4,
 "nbformat_minor": 5
}
