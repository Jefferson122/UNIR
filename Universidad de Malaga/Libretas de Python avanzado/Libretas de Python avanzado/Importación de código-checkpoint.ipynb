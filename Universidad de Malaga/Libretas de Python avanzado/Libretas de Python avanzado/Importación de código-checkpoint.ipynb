{
 "cells": [
  {
   "cell_type": "markdown",
   "id": "1a9a2569-1e70-40a4-8594-aa3691ec260e",
   "metadata": {},
   "source": [
    "# Importación de código"
   ]
  },
  {
   "cell_type": "markdown",
   "id": "67bcb5e8-de94-43f4-b9e4-c5e02d9aea8c",
   "metadata": {},
   "source": [
    "Hasta ahora hemos visto funciones que están disponibles por defecto en Python (excepto la raíz compleja). A pesar de que podemos hacer mucho con lo visto hasta ahora, la principal ventaja de usar Python no está en esa funcionalidad, sino en la inmensa cantidad de código que podemos reutilizar de paquetes de software muy variado. En esta libreta, veremos las distintas formas de utilizar dichos paquetes para obtener funcionalidad adicional."
   ]
  },
  {
   "cell_type": "markdown",
   "id": "d0aae75d-d7be-4df7-8190-1dd2375128ff",
   "metadata": {},
   "source": [
    "Toda la funcionalidad de reutilización de código externo en Python se centra en la instrucción <code>import</code>. Podemos invocarla de varias maneras. La primera es importar un módulo entero (en este caso, el módulo <code>impresiones</code>. Un módulo no es más que un fichero <code>.py</code> con definiciones de funciones, objetos, constantes, etc."
   ]
  },
  {
   "cell_type": "code",
   "execution_count": 1,
   "id": "b0a5639c-8a1c-43ee-8409-aec8208ef06a",
   "metadata": {},
   "outputs": [],
   "source": [
    "import impresiones"
   ]
  },
  {
   "cell_type": "markdown",
   "id": "4fc6dd95-64dd-4a68-b83b-409579e4770a",
   "metadata": {},
   "source": [
    "Todos los contenidos del módulo son accessibles mediante el uso de una notación que respeta los espacios de nombres:"
   ]
  },
  {
   "cell_type": "code",
   "execution_count": 2,
   "id": "e47dc1bb-3dd5-422b-bfa5-b83a9a3ef5c0",
   "metadata": {},
   "outputs": [
    {
     "name": "stdout",
     "output_type": "stream",
     "text": [
      "HOLA\n"
     ]
    }
   ],
   "source": [
    "impresiones.imprimir_mayus(\"hola\")"
   ]
  },
  {
   "cell_type": "markdown",
   "id": "7d80dcff-b07f-476b-9683-97cb6659796a",
   "metadata": {},
   "source": [
    "También podemos importar una entidad de manera explícita:"
   ]
  },
  {
   "cell_type": "code",
   "execution_count": 3,
   "id": "be2f4fb2-1811-4d94-baa8-52b30e2b1814",
   "metadata": {},
   "outputs": [],
   "source": [
    "from impresiones import imprimir_mayus"
   ]
  },
  {
   "cell_type": "markdown",
   "id": "7d1e178a-82f4-4a29-bcbe-11ed506c3e90",
   "metadata": {},
   "source": [
    "Y ya no necesitamos usar el espacio de nombres, sino directamente la función (o constante, etc.)"
   ]
  },
  {
   "cell_type": "code",
   "execution_count": 4,
   "id": "5a209c5f-017b-4849-a9b9-1f3e4c5b7470",
   "metadata": {},
   "outputs": [
    {
     "name": "stdout",
     "output_type": "stream",
     "text": [
      "MUNDO\n"
     ]
    }
   ],
   "source": [
    "imprimir_mayus(\"mundo\")"
   ]
  },
  {
   "cell_type": "markdown",
   "id": "1b7faed4-f62e-4098-80d3-5b629959d5e3",
   "metadata": {},
   "source": [
    "Podemos también importar todos los contenidos de un módulo, aunque esto no suele ser una buena idea, porque podemos provocar colisiones de entidades que en distintos paquetes tienen el mismo nombre:"
   ]
  },
  {
   "cell_type": "code",
   "execution_count": 5,
   "id": "90e6e9d1-6bd3-43a4-85a0-d1439d009387",
   "metadata": {},
   "outputs": [],
   "source": [
    "from impresiones import *"
   ]
  },
  {
   "cell_type": "code",
   "execution_count": 6,
   "id": "0de6de6d-c94c-46d9-8640-b72debb3e103",
   "metadata": {},
   "outputs": [
    {
     "name": "stdout",
     "output_type": "stream",
     "text": [
      "mejor no hacer esto\n"
     ]
    }
   ],
   "source": [
    "imprimir_minus(\"MEJOR NO HACER ESTO\")"
   ]
  },
  {
   "cell_type": "markdown",
   "id": "7044a10b-6bad-485f-b485-0cb19db67dfe",
   "metadata": {},
   "source": [
    "Finalmente, una forma muy común es importar un módulo con un alias que acorta el nombre, de modo que sea maś cómodo su uso y a la vez se respeten los espacios de nombres:"
   ]
  },
  {
   "cell_type": "code",
   "execution_count": 7,
   "id": "8a05d424-bc04-47b7-b473-070b33fada58",
   "metadata": {},
   "outputs": [],
   "source": [
    "import impresiones as im"
   ]
  },
  {
   "cell_type": "code",
   "execution_count": 8,
   "id": "bc90354b-fd91-4b98-9b38-7361cb352a96",
   "metadata": {},
   "outputs": [
    {
     "name": "stdout",
     "output_type": "stream",
     "text": [
      "mejor asi\n"
     ]
    }
   ],
   "source": [
    "im.imprimir_minus(\"MEJOR ASI\")"
   ]
  },
  {
   "cell_type": "markdown",
   "id": "0609e1c5-3ffd-4a98-9ef2-82d05f21f263",
   "metadata": {},
   "source": [
    "Esta última forma se usará mucho a lo largo del curso. A partir de ahora, el resto del curso será en gran medida explorar paquetes de software especializado para el análisis de datos. Python tiene muchos otros paquetes, resumidos en la <a href=\"https://docs.python.org/3/py-modindex.html\">siguiente página</a> y accesibles para su descarga e instalación con el comando <code>pip</code> o <code>conda</code>."
   ]
  },
  {
   "cell_type": "code",
   "execution_count": null,
   "id": "0566d1ec-4815-4e61-a52d-d0b69e949bae",
   "metadata": {},
   "outputs": [],
   "source": []
  }
 ],
 "metadata": {
  "kernelspec": {
   "display_name": "Python 3 (ipykernel)",
   "language": "python",
   "name": "python3"
  },
  "language_info": {
   "codemirror_mode": {
    "name": "ipython",
    "version": 3
   },
   "file_extension": ".py",
   "mimetype": "text/x-python",
   "name": "python",
   "nbconvert_exporter": "python",
   "pygments_lexer": "ipython3",
   "version": "3.9.7"
  }
 },
 "nbformat": 4,
 "nbformat_minor": 5
}
