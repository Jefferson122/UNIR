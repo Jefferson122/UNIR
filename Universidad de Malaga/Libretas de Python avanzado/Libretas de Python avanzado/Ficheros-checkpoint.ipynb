{
 "cells": [
  {
   "cell_type": "markdown",
   "id": "94d1fc99-56c2-41d1-827f-d0e10e9de920",
   "metadata": {
    "tags": []
   },
   "source": [
    "# Trabajo con ficheros"
   ]
  },
  {
   "cell_type": "markdown",
   "id": "0b09fb14-1330-48b4-a25b-1981d3e7b564",
   "metadata": {},
   "source": [
    "Hasta ahora, todos los ejemplos que hemos visto eran de datos introducidos de forma manual. Obviamente, esta forma de trabajo no es sostenible. En la inmensa mayoría de trabajos de analítica de datos, vamos a enfrentarnos a datos guardados en un fichero. "
   ]
  },
  {
   "cell_type": "markdown",
   "id": "f6b9fa80-8b7e-45ce-81af-6df314de1905",
   "metadata": {},
   "source": [
    "---"
   ]
  },
  {
   "cell_type": "markdown",
   "id": "e3f3d8c2-9f00-471b-8c5d-a6685eb49a9e",
   "metadata": {},
   "source": [
    "# Índice\n",
    "[Ficheros en Python](#Ficheros-en-Python) <br/>\n",
    "[Ficheros CSV](#Ficheros-CSV) <br/>\n",
    "[Ficheros PKL](#Ficheros-PKL) <br/>\n",
    "[Conclusiones](#Conclusiones) <br/>"
   ]
  },
  {
   "cell_type": "markdown",
   "id": "92016e76-a598-4f4b-9e07-a05f605a0ea1",
   "metadata": {},
   "source": [
    "---"
   ]
  },
  {
   "cell_type": "markdown",
   "id": "8b297312-211c-4f35-bafe-33d163ff1446",
   "metadata": {},
   "source": [
    "Un fichero no es más que un segmento de memoria secundaria (es decir, un disco duro, un pen-drive, etc.) con un nombre y un formato. Hay dos grandes familias de formatos:\n",
    "- Ficheros binarios: escritos en lenguaje máquina, necesitan un software especial para poder interpretarlos. Pueden ser programas, imágenes, vídeos, etc.\n",
    "- Ficheros de texto: escritos en caracteres inteligibles, aunque para entender su significado pueda hacer falta un software o un conocimiento profundo de la sintaxis. Algunos ejemplos son los ficheros HTML que conforman las páginas web, los ficheros Comma Separated Value (CSV), las propias libretas de Jupyter (ficheros ipynb) etc.\n",
    "\n",
    "Aquí veremos los ficheros CSV (que son de texto) y los XLSX de excel (que son binarios). Ambos se utilizan para guardar y transferir datos en organizaciones que hacen análisis de datos. Veremos también los ficheros PKL, que permiten guardar objetos Python y son binarios."
   ]
  },
  {
   "cell_type": "code",
   "execution_count": 1,
   "id": "4d5e11da-6c4c-45b4-84a2-ba59b90e6186",
   "metadata": {},
   "outputs": [],
   "source": [
    "import csv   # Librería para leer ficheros CSV\n",
    "import pickle as pkl   # Librería para leer ficheros Pickle"
   ]
  },
  {
   "cell_type": "markdown",
   "id": "0d8b6618-c57d-49ff-a1e6-268918f8510f",
   "metadata": {
    "tags": []
   },
   "source": [
    "## Ficheros en Python"
   ]
  },
  {
   "cell_type": "markdown",
   "id": "6bae2a25-6046-44a1-acfd-24bb6e882614",
   "metadata": {},
   "source": [
    "Antes de leer datos, veremos cómo funciona Python a la hora de leer y escribir ficheros de texto. Esto es sólo para entender con mayor profundidad los procesos involucrados, dado que normalmente leeremos datos con Pandas. En Python, antes de utilizar un fichero, hay que abrirlo, y hay que especificar para qué se abre un fichero. Podemos abrir un fichero para cuatro cosas:\n",
    "\n",
    "- Sólo lectura\n",
    "- Sólo escritura\n",
    "- Sólo concatenación\n",
    "- Lectura y escritura\n",
    "\n",
    "No vamos a entrar en detalles acerca de para qué se utiliza cada uno de estos casos. Simplemente veremos un ejemplo de lectura y uno de escritura. "
   ]
  },
  {
   "cell_type": "markdown",
   "id": "4a2836d9-6939-4071-8c85-18844708eea6",
   "metadata": {},
   "source": [
    "En Python, los ficheros siempre se usan de la siguiente manera:\n",
    "1) Abrir el fichero.\n",
    "2) Hacer las operaciones (lectura o escritura). Se puede mantener el fichero abierto a lo largo de todo el programa, pero no es recomendable.\n",
    "3) Cerrar el fichero.\n",
    "\n",
    "Veamos un ejemplo:"
   ]
  },
  {
   "cell_type": "code",
   "execution_count": 2,
   "id": "f8c96abd-b377-433b-a8c4-2500dedeada6",
   "metadata": {},
   "outputs": [
    {
     "name": "stdout",
     "output_type": "stream",
     "text": [
      "Ejemplo de texto\n",
      "Segunda lÃ­nea\n"
     ]
    }
   ],
   "source": [
    "fichero = open(\"leer.txt\")  # Paso 1\n",
    "print( fichero.read() )     # Paso 2\n",
    "fichero.close()             # Paso 3"
   ]
  },
  {
   "cell_type": "markdown",
   "id": "767a71a1-daee-4521-99f8-c8d1e3d857fb",
   "metadata": {},
   "source": [
    "Es usual que algunos programadores olviden cerrar un fichero. Por ello, en Python se suele usar la instrucción de control de flujo <code>with</code>, que básicamente cierra el recurso abierto una vez que se sale del bloque. Repitiendo el ejemplo anterior:"
   ]
  },
  {
   "cell_type": "code",
   "execution_count": 3,
   "id": "cdd8e4a5-8862-4af8-87d7-ed1af6d97886",
   "metadata": {},
   "outputs": [
    {
     "name": "stdout",
     "output_type": "stream",
     "text": [
      "Ejemplo de texto\n",
      "Segunda lÃ­nea\n"
     ]
    }
   ],
   "source": [
    "with open(\"leer.txt\") as fichero:   # Paso 1 y 3 cuando termine el bloque\n",
    "    print( fichero.read() )         # Paso 2"
   ]
  },
  {
   "cell_type": "markdown",
   "id": "84d339c9-31e3-40e3-aedb-d5fbb64f5f42",
   "metadata": {},
   "source": [
    "Veamos ahora un ejemplo de escritura de fichero. Nótese que al ejecutar esta línea, en el panel de la izquierda de Jupyter aparece un nuevo fichero:"
   ]
  },
  {
   "cell_type": "code",
   "execution_count": 4,
   "id": "b5ef8a65-52b5-46bb-b730-4c4ff8f72e74",
   "metadata": {},
   "outputs": [],
   "source": [
    "texto = \"Prueba de escritura\\nSegunda línea\"\n",
    "with open(\"escribir.txt\", \"w\") as fichero:\n",
    "    fichero.write(texto)"
   ]
  },
  {
   "cell_type": "markdown",
   "id": "979c903e-00de-4c82-a5fd-0d18a379521d",
   "metadata": {},
   "source": [
    "En este código, hemos pasado el parámetro <code>\"w\"</code> a la función <code>open</code> para especificar que queremos escribir un fichero (lo cual incluye crearlo). Si no se pasa este parámetro, <code>open</code> interpreta que el fichero es de sólo lectura, y por supuesto, no lo crea si no existe. "
   ]
  },
  {
   "cell_type": "markdown",
   "id": "9aa652a7-826d-4a66-8fc8-8d876cb08f3d",
   "metadata": {
    "tags": []
   },
   "source": [
    "## Ficheros CSV"
   ]
  },
  {
   "cell_type": "markdown",
   "id": "b7244c4c-c3d9-4656-9d3f-791f38bbf7d5",
   "metadata": {},
   "source": [
    "Los ficheros de texto pueden tener un <i>formato</i>. El formato proporciona un significado y una funcionalidad concretas, y consiste en una serie de reglas sintácticas que determinan qué caracteres hay que usar en cada momento y qué significado tienen. Por ejemplo, el código Python que estamos escribiendo, tiene una serie de reglas que determinan qué es una variable o una función, qué acción se tiene que realizar en cada línea, etc. Los ficheros CSV siguen un formato muy sencillo que codifica tablas de datos. Cada línea de un fichero CSV representa una fila de la tabla, y en cada fila, cada columna se separa del resto mediante un caracter especial llamado <i>separador</i>. Normalmente el separador es una coma (de ahí el nombre de <i>Comma Separated Values</i>, aunque también puede ser un espacio, un punto y coma, etc. Es importante saber esto para leer el fichero correctamente.\n",
    "\n",
    "En el panel de la derecha, puede observar que hay un fichero llamado <code>datos_alumnos.csv</code>. Representa la siguiente tabla de datos (que ya vimos en la introducción a Pandas):\n",
    "\n",
    "<table> \n",
    "    <tr><th>Índice</th><th>Nombre</th><th>Edad</th><th>Matriculado</th></tr>\n",
    "    <tr><td>0</td><td>Antonio</td><td>22</td><td>No</td></tr>\n",
    "    <tr><td>1</td><td>Berta</td><td>43</td><td>Sí</td></tr>\n",
    "    <tr><td>2</td><td>Carlos</td><td>24</td><td>Sí</td></tr>\n",
    "    <tr><td>3</td><td>Diana</td><td>21</td><td>No</td></tr>\n",
    "    <tr><td>4</td><td>Esteban</td><td>33</td><td>Sí</td></tr>\n",
    "</table>"
   ]
  },
  {
   "cell_type": "markdown",
   "id": "58eb9ad9-2f94-4429-a848-035b3e8fb32b",
   "metadata": {},
   "source": [
    "Al abrir este fichero en Jupyter, se representa como una tabla. No obstante, si leemos el texto que guarda, veremos lo siguiente:"
   ]
  },
  {
   "cell_type": "code",
   "execution_count": 5,
   "id": "a67245c2-1285-456a-b0b3-3c9892c0b6a0",
   "metadata": {},
   "outputs": [
    {
     "name": "stdout",
     "output_type": "stream",
     "text": [
      "Nombre,Edad,Matriculado\n",
      "Antonio,22,No\n",
      "Berta,43,SÃ­\n",
      "Carlos,24,SÃ­\n",
      "Diana,21,No\n",
      "Esteban,33,SÃ­\n"
     ]
    }
   ],
   "source": [
    "with open(\"datos_alumnos.csv\") as fichero:\n",
    "    print( fichero.read() )"
   ]
  },
  {
   "cell_type": "markdown",
   "id": "2775e1b8-d9fe-4348-a618-8e60cf4e357b",
   "metadata": {},
   "source": [
    "Este fichero es, como se puede observar, muy simple. No obstante, en el mundo real, los ficheros CSV pueden ser mucho más complejos. Puede comprobar esto en el fichero <code>casos_diagnostico_ccaa.csv</code>, que representa el historial de casos de COVID en las comunidades autónomas de España (<a href=\"https://datos.gob.es/es/catalogo/e05070101-evolucion-de-enfermedad-por-el-coronavirus-covid-19\">fuente oficial</a>). Hay ejemplos de datos mucho más complejos (de hecho, este sigue siendo simple, dado que tiene muy pocas columnas). Más adelante veremos cómo podemos extraer los datos que nos interesan y operar con ellos."
   ]
  },
  {
   "cell_type": "markdown",
   "id": "500a6952-ec66-4b03-a8fb-389c6ad91150",
   "metadata": {},
   "source": [
    "Existen otros tipos de ficheros de texto que contienen datos: <a href=\"https://es.wikipedia.org/wiki/Extensible_Markup_Language\">XML</a>, <a href=\"https://es.wikipedia.org/wiki/JSON\">JSON</a>, <a href=\"https://docs.fileformat.com/database/sql/\">SQL</a>, <a href=\"https://en.wikipedia.org/wiki/Common_Log_Format\">registros de eventos</a>, etc. Para leerlos, el procedimiento a seguir será siempre el mismo, abrirlo con <code>with open(\"fichero.tipo\") as fichero:</code>, y a continuación procesarlo con una librería de Python (o implementar el código para procesar los contenidos). Veamos el ejemplo con la librería <a href=\"https://docs.python.org/3/library/csv.html\">csv</a>:"
   ]
  },
  {
   "cell_type": "code",
   "execution_count": 6,
   "id": "23fe7ef2-321c-4999-be60-f5a3ecc663e6",
   "metadata": {},
   "outputs": [
    {
     "name": "stdout",
     "output_type": "stream",
     "text": [
      "['Nombre', 'Edad', 'Matriculado']\n",
      "['Antonio', '22', 'No']\n",
      "['Berta', '43', 'SÃ\\xad']\n",
      "['Carlos', '24', 'SÃ\\xad']\n",
      "['Diana', '21', 'No']\n",
      "['Esteban', '33', 'SÃ\\xad']\n"
     ]
    }
   ],
   "source": [
    "with open(\"datos_alumnos.csv\") as fichero:\n",
    "    datos = csv.reader( fichero )\n",
    "    for fila in datos:\n",
    "        print(fila)"
   ]
  },
  {
   "cell_type": "markdown",
   "id": "18a95351-692b-46db-a866-d01cfe8fec3b",
   "metadata": {},
   "source": [
    "El objeto <code>datos</code> se puede recorrer fila a fila con el <code>for</code>, y como vemos al mostrarlo por pantalla, cada fila es una lista de cadenas. Tendremos que procesar los tipos de dato a mano (por ejemplo, pasar los números a <code>int</code>."
   ]
  },
  {
   "cell_type": "markdown",
   "id": "8c6b9e8f-1ac1-4173-9901-912df17d6b49",
   "metadata": {},
   "source": [
    "Más adelante, veremos que las librerías de Python para análisis de datos simplifican aún más la lectura y escritura de este tipo de ficheros. Está bien conocer estos métodos, en cualquier caso, porque no siempre nos convendrá o podremos usar dichas librerías más avanzadas."
   ]
  },
  {
   "cell_type": "markdown",
   "id": "903657de-fc6b-43c2-8ced-c0a2d95960a2",
   "metadata": {
    "tags": []
   },
   "source": [
    "## Ficheros PKL"
   ]
  },
  {
   "cell_type": "markdown",
   "id": "281cabb4-405a-4b20-b518-e29422e5a761",
   "metadata": {},
   "source": [
    "En análisis de datos, trabajamos con muchos elementos. Los datos son los principales, y ya hemos visto cómo leer y escribir ficheros de datos. Otro elemento con el que trabajaremos más adelante son los <i>modelos</i>. Estos modelos, como veremos más adelante, pueden tener muchas formas, como por ejemplo, distribuciones estadísticas parametrizadas, redes neuronales entrenadas, etc. Si bien se pueden guardar los parámetros en un fichero de texto y recuperarlos más adelante, una forma mucho más eficiente que ofrece Python es mediante la librería Pickle. Esta librería permite <i>serializar</i> objetos, es decir, traducirlos a un código binario que se puede escribir en un fichero. La ventaja es que se guarda un objeto completo, es decir, con sus valores miembro ya configurados. Esto nos puede servir, por ejemplo, para entrenar un modelo, guardarlo y usarlo más adelante."
   ]
  },
  {
   "cell_type": "markdown",
   "id": "846521fa-9ce3-4787-be87-8bebc8c5ac0b",
   "metadata": {},
   "source": [
    "Veamos un ejemplo básico usando el objeto <code>Gato</code> del módulo <code>gatos.py</code>:"
   ]
  },
  {
   "cell_type": "code",
   "execution_count": 7,
   "id": "eb7d1dbb-aa68-4b7c-93b8-b416340fc6b3",
   "metadata": {},
   "outputs": [],
   "source": [
    "from gatos import Gato"
   ]
  },
  {
   "cell_type": "code",
   "execution_count": 8,
   "id": "6135af49-6376-416a-bf05-5987db59f949",
   "metadata": {},
   "outputs": [],
   "source": [
    "michi = Gato(\"negro\", \"agresivo\", True)"
   ]
  },
  {
   "cell_type": "markdown",
   "id": "1382c76a-d522-4bcc-a19d-2bc0f3d1adec",
   "metadata": {},
   "source": [
    "Este objeto tiene sus métodos, que podemos llamar:"
   ]
  },
  {
   "cell_type": "code",
   "execution_count": 9,
   "id": "d05aefe2-71c3-479e-957c-3f49b778e860",
   "metadata": {},
   "outputs": [
    {
     "name": "stdout",
     "output_type": "stream",
     "text": [
      "Acariciando con cuidado al gato\n"
     ]
    }
   ],
   "source": [
    "michi.acariciar()"
   ]
  },
  {
   "cell_type": "code",
   "execution_count": 10,
   "id": "c4eeb920-5469-4516-8f4a-2ae1caf4ff0b",
   "metadata": {},
   "outputs": [],
   "source": [
    "with open(\"michi.pkl\",\"wb\") as fichero:\n",
    "    pkl.dump(michi, fichero)"
   ]
  },
  {
   "cell_type": "markdown",
   "id": "78702948-d047-44c5-988f-4df2d08d46f1",
   "metadata": {},
   "source": [
    "La función <code>dump</code> de Pickle no admite un nombre de fichero, sino un objeto fichero devuelto por <code>open</code>, como vimos al principio de esta libreta. Además, el parámetro <code>\"wb\"</code> le indica a <code>open</code> que tiene que abrir un fichero para la escritura (<code>w</code>) y en modo binario (<code>b</code>)."
   ]
  },
  {
   "cell_type": "markdown",
   "id": "94833b9d-4ef7-48c0-88d9-36933d33e95f",
   "metadata": {},
   "source": [
    "Podemos ahora leer el fichero:"
   ]
  },
  {
   "cell_type": "code",
   "execution_count": 11,
   "id": "775d5d5f-2292-403c-b960-cad85c0f946b",
   "metadata": {},
   "outputs": [],
   "source": [
    "with open(\"michi.pkl\",\"rb\") as fichero:\n",
    "    michi_deserializado = pkl.load(fichero)"
   ]
  },
  {
   "cell_type": "code",
   "execution_count": 16,
   "id": "91facfbb-1720-45f1-856f-dd9b4f2e5463",
   "metadata": {},
   "outputs": [
    {
     "name": "stdout",
     "output_type": "stream",
     "text": [
      "<gatos.Gato object at 0x0000015D4BB69910>\n"
     ]
    }
   ],
   "source": [
    "print(michi_deserializado)"
   ]
  },
  {
   "cell_type": "markdown",
   "id": "92295cfd-2c19-49ad-9bd9-a2f769a8711f",
   "metadata": {},
   "source": [
    "Si llamamos a sus métodos, serán los mismos que los del objeto original:"
   ]
  },
  {
   "cell_type": "code",
   "execution_count": 13,
   "id": "3bb635ff-8430-4c31-a294-957037b06de6",
   "metadata": {},
   "outputs": [
    {
     "name": "stdout",
     "output_type": "stream",
     "text": [
      "Acariciando con cuidado al gato\n"
     ]
    }
   ],
   "source": [
    "michi_deserializado.acariciar()"
   ]
  },
  {
   "cell_type": "markdown",
   "id": "a828ef45-b3cc-4da8-a11b-274dcdc87818",
   "metadata": {},
   "source": [
    "Si lo cambiamos, el objeto original no variará:"
   ]
  },
  {
   "cell_type": "code",
   "execution_count": 14,
   "id": "fa8538c2-1421-4d80-89e6-f38557191ed6",
   "metadata": {},
   "outputs": [
    {
     "name": "stdout",
     "output_type": "stream",
     "text": [
      "Acariciando al gato\n"
     ]
    }
   ],
   "source": [
    "michi_deserializado.caracter = \"amigable\"\n",
    "michi_deserializado.acariciar()"
   ]
  },
  {
   "cell_type": "code",
   "execution_count": 15,
   "id": "c03bead0-ff33-4175-a634-5dc631c21e3a",
   "metadata": {},
   "outputs": [
    {
     "name": "stdout",
     "output_type": "stream",
     "text": [
      "Acariciando con cuidado al gato\n"
     ]
    }
   ],
   "source": [
    "michi.acariciar()"
   ]
  },
  {
   "cell_type": "markdown",
   "id": "5f380321-7000-4473-8779-1bca2bad1b8d",
   "metadata": {},
   "source": [
    "Como nota final, lo recomendable es usar siempre formatos estándar para los datos. La serialización/deserialización es más conveniente para guardar objetos que son difíciles de computar y que no se suelen poder guardar como un conjunto de parámetros. Un ejemplo claro de esto son los modelos derivados de aprendizaje automático (redes neuronales, árboles de decisión, etc.) que veremos más adelante. Otra nota muy importante es <b>NUNCA ABRIR FICHEROS CON PICKLE DE ORIGEN DESCONOCIDO</b>. Se puede llegar a ejecutar cualquier comando, instalar programas, viruses, etc. Sólo debemos usar ficheros cuyo contenido conozcamos porque lo hayamos guardado nosotros."
   ]
  },
  {
   "cell_type": "markdown",
   "id": "88fe6be5-e92b-4a22-9174-65dd463bf80e",
   "metadata": {},
   "source": [
    "## Conclusiones"
   ]
  },
  {
   "cell_type": "markdown",
   "id": "c412a53f-153c-4e0c-948a-09454004a813",
   "metadata": {},
   "source": [
    "Con esto concluye, de momento, la introducción a los ficheros con Python. Hay muchas cosas que se quedan en el tintero, como por ejemplo el uso de ficheros JSON o XML, que en ocasiones también se usan para transmitir datos. Una lectura muy informativa se puede encontrar <a href=\"https://morioh.com/p/96eb0b5d6908\">aquí</a>."
   ]
  },
  {
   "cell_type": "code",
   "execution_count": null,
   "id": "65a22405-1540-4a9a-90a5-e0792ba46331",
   "metadata": {},
   "outputs": [],
   "source": []
  }
 ],
 "metadata": {
  "kernelspec": {
   "display_name": "Python 3 (ipykernel)",
   "language": "python",
   "name": "python3"
  },
  "language_info": {
   "codemirror_mode": {
    "name": "ipython",
    "version": 3
   },
   "file_extension": ".py",
   "mimetype": "text/x-python",
   "name": "python",
   "nbconvert_exporter": "python",
   "pygments_lexer": "ipython3",
   "version": "3.9.13"
  }
 },
 "nbformat": 4,
 "nbformat_minor": 5
}
