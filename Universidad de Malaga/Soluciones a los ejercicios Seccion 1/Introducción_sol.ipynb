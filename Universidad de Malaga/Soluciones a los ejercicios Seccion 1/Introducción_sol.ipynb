{
 "cells": [
  {
   "cell_type": "markdown",
   "id": "e2e82e09-ad02-4384-b939-d6a205940e40",
   "metadata": {},
   "source": [
    "# Introducción a Python"
   ]
  },
  {
   "cell_type": "markdown",
   "id": "66ba25db-2f15-4c58-a4c1-01fa3ee22ce5",
   "metadata": {},
   "source": [
    "<div style=\"background-color:lightpink; padding:1em\">\n",
    "    <b>Ejercicio 1</b><br/>\n",
    "    Haga un hola mundo en una libreta nueva de Jupyter y guárdelo en un fichero. Vuelva a esta libreta una vez que lo haya completado.\n",
    "</div>"
   ]
  },
  {
   "cell_type": "code",
   "execution_count": 1,
   "id": "ecf1e4a6-864e-466e-a918-34ac9df4c6af",
   "metadata": {},
   "outputs": [
    {
     "name": "stdout",
     "output_type": "stream",
     "text": [
      "Hola mundo\n"
     ]
    }
   ],
   "source": [
    "print(\"Hola mundo\")"
   ]
  },
  {
   "cell_type": "markdown",
   "id": "bf063b43-c445-4d84-b23d-556991457857",
   "metadata": {},
   "source": [
    "<div style=\"background-color:lightpink; padding:1em\">\n",
    "    <b>Ejercicio 2</b><br/>\n",
    "    <p>Resuelva una ecuación de segundo grado con Jupyter. </p>\n",
    "    <p>Nota: la función raíz cuadrada compleja (<code>cmath.sqrt()</code>) está en la librería <code>cmath</code>. Para usarla, antes hay que indicar el uso de la librería con <code>import cmath</code></p>\n",
    "    <p>Recordatorio:</p>\n",
    "    \\begin{equation}\n",
    "    ax^2 + bx + c = 0 \\;\\;\\;\\;\\;\\;\\; \\Longrightarrow \\;\\;\\;\\;\\;\\;\\;  x=\\frac{-b \\pm \\sqrt{b^2-4ac}}{2a}\n",
    "    \\end{equation}\n",
    "</div>"
   ]
  },
  {
   "cell_type": "code",
   "execution_count": 2,
   "id": "22d5685f-115b-4bc0-b8d3-1df56573b799",
   "metadata": {},
   "outputs": [
    {
     "name": "stdout",
     "output_type": "stream",
     "text": [
      "(1+0j)\n",
      "(-1+0j)\n"
     ]
    }
   ],
   "source": [
    "import cmath\n",
    "\n",
    "a = 1\n",
    "b = 0\n",
    "c = -1\n",
    "\n",
    "x1 = (-b + cmath.sqrt(b**2 - 4*a*c))/(2*a)\n",
    "x2 = (-b - cmath.sqrt(b**2 - 4*a*c))/(2*a)\n",
    "\n",
    "print(x1)\n",
    "print(x2)"
   ]
  },
  {
   "cell_type": "markdown",
   "id": "3cebfcef-fe91-4702-ac89-32a6457ff49b",
   "metadata": {},
   "source": [
    "<div style=\"background-color:lightpink; padding:1em\">\n",
    "    <b>Ejercicio 3</b><br/>\n",
    "    <p>Hacer una unión de los dos siguientes conjuntos y mostrar los resultados. Explicar por qué el resultado tiene los elementos que aparecen.</p>\n",
    "    <code style=\"background-color:lightpink\">\n",
    "conjunto1 = {\"Ana\", \"Berta\", \"Carlos\", \"Daniel\"}\n",
    "conjunto2 = {\"Alberto\", \"Berta\", \"Carlos\", \"Daniel\"}\n",
    "    </code>\n",
    "</div>"
   ]
  },
  {
   "cell_type": "code",
   "execution_count": 3,
   "id": "421d55eb-ac13-4866-af44-97604683aac2",
   "metadata": {},
   "outputs": [
    {
     "data": {
      "text/plain": [
       "{'Alberto', 'Ana', 'Berta', 'Carlos', 'Daniel'}"
      ]
     },
     "execution_count": 3,
     "metadata": {},
     "output_type": "execute_result"
    }
   ],
   "source": [
    "conjunto1 = {\"Ana\", \"Berta\", \"Carlos\", \"Daniel\"}\n",
    "conjunto2 = {\"Alberto\", \"Berta\", \"Carlos\", \"Daniel\"}\n",
    "\n",
    "conjunto1.union(conjunto2)"
   ]
  },
  {
   "cell_type": "markdown",
   "id": "73643c0e-be34-4df8-a296-97b229f4535c",
   "metadata": {},
   "source": [
    "El conjunto resultante contiene los elementos de ambos conjuntos. Los elementos que están presentes en los dos conjuntos no aparecen repetidos porque en un conjunto sólo puede haber elementos únicos."
   ]
  },
  {
   "cell_type": "markdown",
   "id": "2867cac5-9fec-4fa2-b1f4-9c06c3e700cf",
   "metadata": {},
   "source": [
    "<div style=\"background-color:lightpink; padding:1em\">\n",
    "    <b>Ejercicio 4</b><br/>\n",
    "    <p>Convertir la siguiente lista a un conjunto. Explicar el resultado. Con dicha explicación, elaborar un método para quitar elementos repetidos de una lista.</p>\n",
    "    <code style=\"background-color:lightpink\">\n",
    "l = [1, 1, 3, 1]\n",
    "set(l)\n",
    "    </code>\n",
    "</div>"
   ]
  },
  {
   "cell_type": "code",
   "execution_count": 4,
   "id": "20a89eaf-b235-437e-b558-80253d4de4a3",
   "metadata": {},
   "outputs": [
    {
     "data": {
      "text/plain": [
       "{1, 3}"
      ]
     },
     "execution_count": 4,
     "metadata": {},
     "output_type": "execute_result"
    }
   ],
   "source": [
    "l = [1, 1, 3, 1]\n",
    "set(l)"
   ]
  },
  {
   "cell_type": "markdown",
   "id": "5455ed0a-48ac-4507-b15a-a6bd38c6c2d3",
   "metadata": {},
   "source": [
    "Las repeticiones de elementos desaparecen, por que en un conjunto sólo puede haber elementos únicos. Si volvemos a pasar el conjunto a una lista, tendremos una lista con elementos únicos:"
   ]
  },
  {
   "cell_type": "code",
   "execution_count": 5,
   "id": "3f351f80-47d4-4c36-9bc8-73a3809626c5",
   "metadata": {},
   "outputs": [
    {
     "data": {
      "text/plain": [
       "[1, 3]"
      ]
     },
     "execution_count": 5,
     "metadata": {},
     "output_type": "execute_result"
    }
   ],
   "source": [
    "list(set(l))"
   ]
  },
  {
   "cell_type": "markdown",
   "id": "e7d0cf4c-1bd3-46cd-9a70-add7d47295c2",
   "metadata": {},
   "source": [
    "<div style=\"background-color:lightpink; padding:1em\">\n",
    "    <b>Ejercicio 5</b><br/>\n",
    "    <p>Imprimir una cadena anunciando las soluciones de la ecuación de segundo grado, de forma que resulte en la siguiente cadena:</p>\n",
    "    <code style=\"background-color:lightpink\">\n",
    "Las soluciones para la ecuación con a=10, b=5 y c=-5 son (0.5+0j) y (-1+0j)\n",
    "    </code>\n",
    "</div>"
   ]
  },
  {
   "cell_type": "markdown",
   "id": "0695429f-4e96-4dab-a6d8-de0263fa2889",
   "metadata": {},
   "source": [
    "Solución 1:"
   ]
  },
  {
   "cell_type": "code",
   "execution_count": 6,
   "id": "c584cac3-1249-4e1d-8d88-2c01655921b8",
   "metadata": {},
   "outputs": [
    {
     "name": "stdout",
     "output_type": "stream",
     "text": [
      "Las soluciones para la ecuación con a=1, b=0 y c=-1 son (1+0j) y (-1+0j)\n"
     ]
    }
   ],
   "source": [
    "cad = \"Las soluciones para la ecuación con a={a}, b={b} y c={c} son {sol1} y {sol2}\"\n",
    "print( cad.format(a=a, b=b, c=c, sol1=x1, sol2=x2) )"
   ]
  },
  {
   "cell_type": "markdown",
   "id": "3f206fbd-80e8-4f78-8db5-03d43fb3d408",
   "metadata": {},
   "source": [
    "Solución 2 (menos elegante):"
   ]
  },
  {
   "cell_type": "code",
   "execution_count": 7,
   "id": "662765c9-2ecf-484c-8b5d-7ced237aee07",
   "metadata": {},
   "outputs": [
    {
     "name": "stdout",
     "output_type": "stream",
     "text": [
      "Las soluciones para la ecuación con a=1, b=0 y c=-1 son (1+0j) y (-1+0j)\n"
     ]
    }
   ],
   "source": [
    "print(\"Las soluciones para la ecuación con a=\" + str(a) + \", b=\" + str(b) + \" y c=\" + str(c) + \" son \" + str(x1) + \" y \" + str(x2))"
   ]
  },
  {
   "cell_type": "markdown",
   "id": "9e1fb331-ac09-45cc-95b8-20601e42985e",
   "metadata": {},
   "source": [
    "<div style=\"background-color:lightpink; padding:1em\">\n",
    "    <b>Ejercicio 6</b><br/>\n",
    "    <p>Desarrollo de un cuantificador: <br/>en un móvil LTE, el receptor mide la potencia en dBm. Una potencia menor que -100 dBm se considera muy baja (una raya); entre -100 y -90, baja (2 rayas), entre -90 y -75, media (3 rayas) y mayor de -75, alta (4 rayas). Si la potencia viene dada en la variable <code>potencia</code>, escriba una estructura con <code>if</code>, <code>elif</code> y <code>else</code> que asigne una cadena a la variable <code>recepcion</code> indicando la potencia en formato textual.</p>\n",
    "    <p>Ejemplo:</p>\n",
    "    <code style=\"background-color:lightpink\">\n",
    "    potencia = -93<br/>\n",
    "    if .....\n",
    "        recepcion = ....\n",
    "    elif ....\n",
    "        recpcion = ...\n",
    "    else:\n",
    "        recepcion = ...<br/>\n",
    "    print(recepcion)\n",
    "    </code><br/>\n",
    "    Resultado: <code>Baja</code>\n",
    "</div>"
   ]
  },
  {
   "cell_type": "markdown",
   "id": "35f94e47-d37e-4082-88be-1817bcd6bb6f",
   "metadata": {},
   "source": [
    "Solución 1:"
   ]
  },
  {
   "cell_type": "code",
   "execution_count": 8,
   "id": "737924b0-f07e-440b-beb0-0a7fdcc4cd39",
   "metadata": {},
   "outputs": [
    {
     "name": "stdout",
     "output_type": "stream",
     "text": [
      "Baja\n"
     ]
    }
   ],
   "source": [
    "potencia = -93\n",
    "\n",
    "if potencia < -100:\n",
    "    recepcion = \"Muy baja\"\n",
    "elif -100 <= potencia < -90:\n",
    "    recepcion = \"Baja\"\n",
    "elif -90 <= potencia < -75:\n",
    "    recepcion = \"Media\"\n",
    "else:\n",
    "    recepcion = \"Alta\"\n",
    "    \n",
    "print(recepcion)"
   ]
  },
  {
   "cell_type": "markdown",
   "id": "b6621c2f-7f15-4d68-a046-e7e2da9b8258",
   "metadata": {},
   "source": [
    "Solución 2 (más limpia, el orden de las comparaciones importa):"
   ]
  },
  {
   "cell_type": "code",
   "execution_count": 9,
   "id": "033a177c-8e7e-4780-a05d-3dc5025f5f53",
   "metadata": {},
   "outputs": [
    {
     "name": "stdout",
     "output_type": "stream",
     "text": [
      "Baja\n"
     ]
    }
   ],
   "source": [
    "potencia = -93\n",
    "\n",
    "if potencia < -100:\n",
    "    recepcion = \"Muy baja\"\n",
    "elif potencia < -90:\n",
    "    recepcion = \"Baja\"\n",
    "elif potencia < -75:\n",
    "    recepcion = \"Media\"\n",
    "else:\n",
    "    recepcion = \"Alta\"\n",
    "    \n",
    "print(recepcion)"
   ]
  },
  {
   "cell_type": "markdown",
   "id": "a4847104-4f61-4e21-80f4-c0db4d2d1366",
   "metadata": {},
   "source": [
    "<div style=\"background-color:lightpink; padding:1em\">\n",
    "    <b>Ejercicio 7</b><br/>\n",
    "    <p>Búsqueda de números primos:<br/> desarrollar un código que recorra todos los números hasta N e imprima por pantalla aquellos que son primos.</p>\n",
    "    <p>Notas:</p>\n",
    "    <ul>\n",
    "        <li>Para saber si un número es divisible por otro, usar el operador <code>%</code>.</li>\n",
    "        <li>Hace falta usar break en el bucle interno.</li>\n",
    "        <li>Usar una variable booleana para indicar que se ha encontrado un divisor</li>\n",
    "        <li>Planifique antes de escribir el código</li>\n",
    "    </ul>\n",
    "    </p>\n",
    "</div>"
   ]
  },
  {
   "cell_type": "code",
   "execution_count": 23,
   "id": "1c5cf25d-167e-41c0-9e43-9fa7ec85074b",
   "metadata": {},
   "outputs": [
    {
     "name": "stdout",
     "output_type": "stream",
     "text": [
      "1\n",
      "2\n",
      "3\n",
      "5\n",
      "7\n",
      "11\n",
      "13\n",
      "17\n",
      "19\n"
     ]
    }
   ],
   "source": [
    "N = 20\n",
    "for i in range(1,N):\n",
    "    divisible = False          # Empezamos asumiendo que el número es primo\n",
    "    for j in range(2,i):       # Comprobar si es divisible por todos los números entre 2 y su anterior\n",
    "        if i%j == 0:\n",
    "            divisible = True\n",
    "            break              # Si es divisible por ese número, ya sabemos que no es primo y dejamos de buscar\n",
    "    if not divisible:\n",
    "        print(i)\n",
    "        "
   ]
  },
  {
   "cell_type": "markdown",
   "id": "28fe6da5-0e79-43be-a970-eb712abf538c",
   "metadata": {},
   "source": [
    "<div style=\"background-color:lightpink; padding:1em\">\n",
    "    <b>Ejercicio 8</b><br/>\n",
    "    <p>Repetir el ejercicio de la búsqueda de los N primeros números primos usando en esta ocasión la función <code>es_primo</code>.</p>\n",
    "</div>"
   ]
  },
  {
   "cell_type": "markdown",
   "id": "0079a5d0-cdfc-4c5f-8295-3a575311ba0d",
   "metadata": {},
   "source": [
    "Repetimos la definición de la función:"
   ]
  },
  {
   "cell_type": "code",
   "execution_count": 11,
   "id": "49853db3-5902-46f6-96eb-83c92285339c",
   "metadata": {},
   "outputs": [],
   "source": [
    "def es_primo(numero):\n",
    "    divisible = False\n",
    "    for i in range(2, numero):\n",
    "        if numero % i == 0:\n",
    "            divisible = True\n",
    "            break\n",
    "    \n",
    "    return not divisible "
   ]
  },
  {
   "cell_type": "markdown",
   "id": "058fe224-8aa1-44c4-a333-e1f36b128a7e",
   "metadata": {},
   "source": [
    "Solución 1:"
   ]
  },
  {
   "cell_type": "code",
   "execution_count": 12,
   "id": "5a6bf9d0-28fc-4ab6-8297-3a852032bab1",
   "metadata": {},
   "outputs": [
    {
     "name": "stdout",
     "output_type": "stream",
     "text": [
      "1\n",
      "2\n",
      "3\n",
      "5\n",
      "7\n"
     ]
    }
   ],
   "source": [
    "N = 10\n",
    "for i in range(1,N):\n",
    "    if es_primo(i):\n",
    "        print(i)"
   ]
  },
  {
   "cell_type": "markdown",
   "id": "3348e6ed-1194-4b45-9838-43e99e8fc56b",
   "metadata": {},
   "source": [
    "Solución 2:"
   ]
  },
  {
   "cell_type": "code",
   "execution_count": 13,
   "id": "56da03d6-3836-4295-8904-a05e7e13bef1",
   "metadata": {},
   "outputs": [
    {
     "name": "stdout",
     "output_type": "stream",
     "text": [
      "[1, 2, 3, 5, 7]\n"
     ]
    }
   ],
   "source": [
    "N = 10\n",
    "primos = [i for i in range(1,N) if es_primo(i)]\n",
    "print(primos)"
   ]
  },
  {
   "cell_type": "markdown",
   "id": "e6444f47-f128-4ece-96ec-fecd0f730c78",
   "metadata": {},
   "source": [
    "<div style=\"background-color:lightpink; padding:1em\">\n",
    "    <b>Ejercicio 9</b><br/>\n",
    "    <p>Crear una función que, dados los factores a, b y c para la ecuación de segundo grado, devuelva las dos raíces.</p>\n",
    "</div>"
   ]
  },
  {
   "cell_type": "code",
   "execution_count": 14,
   "id": "52334d73-2982-49c2-a73f-ca4d3362a0fa",
   "metadata": {},
   "outputs": [],
   "source": [
    "def raices(a, b, c):\n",
    "    x1 = (-b + cmath.sqrt(b**2 - 4*a*c))/(2*a)\n",
    "    x2 = (-b - cmath.sqrt(b**2 - 4*a*c))/(2*a)\n",
    "    return x1, x2"
   ]
  },
  {
   "cell_type": "code",
   "execution_count": 15,
   "id": "117c67c2-5ae7-4c1c-ab5a-542b8a6b3320",
   "metadata": {},
   "outputs": [
    {
     "data": {
      "text/plain": [
       "((1+0j), (-1+0j))"
      ]
     },
     "execution_count": 15,
     "metadata": {},
     "output_type": "execute_result"
    }
   ],
   "source": [
    "raices(1,0,-1)"
   ]
  }
 ],
 "metadata": {
  "kernelspec": {
   "display_name": "Python 3 (ipykernel)",
   "language": "python",
   "name": "python3"
  },
  "language_info": {
   "codemirror_mode": {
    "name": "ipython",
    "version": 3
   },
   "file_extension": ".py",
   "mimetype": "text/x-python",
   "name": "python",
   "nbconvert_exporter": "python",
   "pygments_lexer": "ipython3",
   "version": "3.9.7"
  }
 },
 "nbformat": 4,
 "nbformat_minor": 5
}
