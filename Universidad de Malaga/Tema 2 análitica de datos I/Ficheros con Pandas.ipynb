{
 "cells": [
  {
   "cell_type": "markdown",
   "id": "94d1fc99-56c2-41d1-827f-d0e10e9de920",
   "metadata": {
    "tags": []
   },
   "source": [
    "# Trabajo con ficheros en Pandas"
   ]
  },
  {
   "cell_type": "markdown",
   "id": "33341bbf-83ba-4b74-ac03-f70f4a780b09",
   "metadata": {},
   "source": [
    "Ya hemos visto cómo abrir, leer y escribir ficheros en Python básico. En análisis de datos, normalmente, utilizamos una serie de ficheros con un formato especializado en el almacenamiento de datos. Hablamos de los ficheros CSV, XLS, etc. Al ser una tarea tan común, Pandas provee de funciones que nos ayudan a cargar directamente los datos de estos ficheros. Esto lleva a una representación mucho más compacta y que nos facilitará la vida. En esta libreta, veremos el funcionamiento de Pandas con los ficheros CSV y XLSX."
   ]
  },
  {
   "cell_type": "markdown",
   "id": "48cabb7d-f343-4073-a711-639f710211ac",
   "metadata": {},
   "source": [
    "---"
   ]
  },
  {
   "cell_type": "markdown",
   "id": "dea1de8f-d908-4e21-ba04-c8ca3dfb2fb3",
   "metadata": {},
   "source": [
    "# Índice\n",
    "[Ficheros CSV](#Ficheros-CSV) <br/>\n",
    "[Ficheros Excel](#Ficheros-Excel) <br/>\n",
    "[Conclusiones](#Conclusiones) <br/>"
   ]
  },
  {
   "cell_type": "markdown",
   "id": "2bd48c1a-ff90-480b-aa71-508ed94234ac",
   "metadata": {},
   "source": [
    "---"
   ]
  },
  {
   "cell_type": "code",
   "execution_count": 1,
   "id": "0b29f3da-4950-47c7-8282-4566fc22dd9b",
   "metadata": {},
   "outputs": [],
   "source": [
    "import pandas as pd"
   ]
  },
  {
   "cell_type": "markdown",
   "id": "6d940d3e-c6f4-4d7e-b091-bc5d547f215e",
   "metadata": {
    "tags": []
   },
   "source": [
    "## Ficheros CSV"
   ]
  },
  {
   "cell_type": "markdown",
   "id": "45a61884-3f14-43e4-bfc4-685ce425a68e",
   "metadata": {},
   "source": [
    "Como vimos en la introducción a Pandas, los <code>DataFrames</code> sirven para representar tablas de datos, al igual que los ficheros CSV. Dado que leer ficheros CSV y pasar los datos a un DataFrame es una tarea muy común, Pandas integra una función para ello. Veamos su uso básico:"
   ]
  },
  {
   "cell_type": "code",
   "execution_count": 2,
   "id": "9df78815-de65-444e-8dc5-b8850790a194",
   "metadata": {},
   "outputs": [],
   "source": [
    "alumnos = pd.read_csv(\"datos/datos_alumnos.csv\")"
   ]
  },
  {
   "cell_type": "code",
   "execution_count": 3,
   "id": "e5f82bb8-7331-440c-8adb-259f7a1b17d0",
   "metadata": {},
   "outputs": [
    {
     "data": {
      "text/html": [
       "<div>\n",
       "<style scoped>\n",
       "    .dataframe tbody tr th:only-of-type {\n",
       "        vertical-align: middle;\n",
       "    }\n",
       "\n",
       "    .dataframe tbody tr th {\n",
       "        vertical-align: top;\n",
       "    }\n",
       "\n",
       "    .dataframe thead th {\n",
       "        text-align: right;\n",
       "    }\n",
       "</style>\n",
       "<table border=\"1\" class=\"dataframe\">\n",
       "  <thead>\n",
       "    <tr style=\"text-align: right;\">\n",
       "      <th></th>\n",
       "      <th>Nombre</th>\n",
       "      <th>Edad</th>\n",
       "      <th>Matriculado</th>\n",
       "    </tr>\n",
       "  </thead>\n",
       "  <tbody>\n",
       "    <tr>\n",
       "      <th>0</th>\n",
       "      <td>Antonio</td>\n",
       "      <td>22</td>\n",
       "      <td>No</td>\n",
       "    </tr>\n",
       "    <tr>\n",
       "      <th>1</th>\n",
       "      <td>Berta</td>\n",
       "      <td>43</td>\n",
       "      <td>Sí</td>\n",
       "    </tr>\n",
       "    <tr>\n",
       "      <th>2</th>\n",
       "      <td>Carlos</td>\n",
       "      <td>24</td>\n",
       "      <td>Sí</td>\n",
       "    </tr>\n",
       "    <tr>\n",
       "      <th>3</th>\n",
       "      <td>Diana</td>\n",
       "      <td>21</td>\n",
       "      <td>No</td>\n",
       "    </tr>\n",
       "    <tr>\n",
       "      <th>4</th>\n",
       "      <td>Esteban</td>\n",
       "      <td>33</td>\n",
       "      <td>Sí</td>\n",
       "    </tr>\n",
       "  </tbody>\n",
       "</table>\n",
       "</div>"
      ],
      "text/plain": [
       "    Nombre  Edad Matriculado\n",
       "0  Antonio    22          No\n",
       "1    Berta    43          Sí\n",
       "2   Carlos    24          Sí\n",
       "3    Diana    21          No\n",
       "4  Esteban    33          Sí"
      ]
     },
     "execution_count": 3,
     "metadata": {},
     "output_type": "execute_result"
    }
   ],
   "source": [
    "alumnos"
   ]
  },
  {
   "cell_type": "markdown",
   "id": "d7796b1e-d417-4254-8f83-a11500afa371",
   "metadata": {},
   "source": [
    "Esta función realiza las tareas de apertura, lectura, cierre y generación del <code>DataFrame</code> de forma transparente. Podemos ver que ha añadido automáticamente un índice (que no está en el fichero) y ha interpretado la primera línea como el nombre de las columnas."
   ]
  },
  {
   "cell_type": "markdown",
   "id": "644e6bec-b03f-48b7-9bb3-bba7703a9281",
   "metadata": {},
   "source": [
    "No todos los ficheros CSV se escriben de la misma manera. Veamos ahora el fichero <code>datos_alumnos_v2.csv</code>, cuyos contenidos son los siguientes:\n",
    "\n",
    "<code>\n",
    ";Nombre;Edad;Matriculado\n",
    "0;Antonio;22;No\n",
    "1;Berta;43;Sí\n",
    "2;Carlos;24;Sí\n",
    "3;Diana;21;No\n",
    "4;Esteban;33;Sí\n",
    "</code>\n",
    "\n",
    "En este caso, el separador no es una coma, sino un punto y coma. Además, hay una primera columna que contiene el índice. Veamos qué pasa si lo abrimos en Pandas:"
   ]
  },
  {
   "cell_type": "code",
   "execution_count": 4,
   "id": "3d0244fb-99d6-42be-b43e-6c380d0efb95",
   "metadata": {},
   "outputs": [],
   "source": [
    "alumnos_v2 = pd.read_csv(\"datos/datos_alumnos_v2.csv\")"
   ]
  },
  {
   "cell_type": "code",
   "execution_count": 5,
   "id": "2676798a-4590-41bc-bb7d-0e9724e948d8",
   "metadata": {},
   "outputs": [
    {
     "data": {
      "text/html": [
       "<div>\n",
       "<style scoped>\n",
       "    .dataframe tbody tr th:only-of-type {\n",
       "        vertical-align: middle;\n",
       "    }\n",
       "\n",
       "    .dataframe tbody tr th {\n",
       "        vertical-align: top;\n",
       "    }\n",
       "\n",
       "    .dataframe thead th {\n",
       "        text-align: right;\n",
       "    }\n",
       "</style>\n",
       "<table border=\"1\" class=\"dataframe\">\n",
       "  <thead>\n",
       "    <tr style=\"text-align: right;\">\n",
       "      <th></th>\n",
       "      <th>;Nombre;Edad;Matriculado</th>\n",
       "    </tr>\n",
       "  </thead>\n",
       "  <tbody>\n",
       "    <tr>\n",
       "      <th>0</th>\n",
       "      <td>0;Antonio;22;No</td>\n",
       "    </tr>\n",
       "    <tr>\n",
       "      <th>1</th>\n",
       "      <td>1;Berta;43;Sí</td>\n",
       "    </tr>\n",
       "    <tr>\n",
       "      <th>2</th>\n",
       "      <td>2;Carlos;24;Sí</td>\n",
       "    </tr>\n",
       "    <tr>\n",
       "      <th>3</th>\n",
       "      <td>3;Diana;21;No</td>\n",
       "    </tr>\n",
       "    <tr>\n",
       "      <th>4</th>\n",
       "      <td>4;Esteban;33;Sí</td>\n",
       "    </tr>\n",
       "  </tbody>\n",
       "</table>\n",
       "</div>"
      ],
      "text/plain": [
       "  ;Nombre;Edad;Matriculado\n",
       "0          0;Antonio;22;No\n",
       "1            1;Berta;43;Sí\n",
       "2           2;Carlos;24;Sí\n",
       "3            3;Diana;21;No\n",
       "4          4;Esteban;33;Sí"
      ]
     },
     "execution_count": 5,
     "metadata": {},
     "output_type": "execute_result"
    }
   ],
   "source": [
    "alumnos_v2"
   ]
  },
  {
   "cell_type": "markdown",
   "id": "26b481dc-0521-4fdc-befb-91d75303514d",
   "metadata": {},
   "source": [
    "En este caso, Pandas no interpreta correctamente los datos. Tendremos que especificar el separador en un parámetro:"
   ]
  },
  {
   "cell_type": "code",
   "execution_count": 6,
   "id": "2d4a6fb8-4a70-4957-9ce4-3f0272871c91",
   "metadata": {},
   "outputs": [],
   "source": [
    "alumnos_v2 = pd.read_csv(\"datos/datos_alumnos_v2.csv\", sep=';')"
   ]
  },
  {
   "cell_type": "code",
   "execution_count": 7,
   "id": "524dc1bb-c8a3-4b85-a527-ab1e1e7ca086",
   "metadata": {},
   "outputs": [
    {
     "data": {
      "text/html": [
       "<div>\n",
       "<style scoped>\n",
       "    .dataframe tbody tr th:only-of-type {\n",
       "        vertical-align: middle;\n",
       "    }\n",
       "\n",
       "    .dataframe tbody tr th {\n",
       "        vertical-align: top;\n",
       "    }\n",
       "\n",
       "    .dataframe thead th {\n",
       "        text-align: right;\n",
       "    }\n",
       "</style>\n",
       "<table border=\"1\" class=\"dataframe\">\n",
       "  <thead>\n",
       "    <tr style=\"text-align: right;\">\n",
       "      <th></th>\n",
       "      <th>Unnamed: 0</th>\n",
       "      <th>Nombre</th>\n",
       "      <th>Edad</th>\n",
       "      <th>Matriculado</th>\n",
       "    </tr>\n",
       "  </thead>\n",
       "  <tbody>\n",
       "    <tr>\n",
       "      <th>0</th>\n",
       "      <td>0</td>\n",
       "      <td>Antonio</td>\n",
       "      <td>22</td>\n",
       "      <td>No</td>\n",
       "    </tr>\n",
       "    <tr>\n",
       "      <th>1</th>\n",
       "      <td>1</td>\n",
       "      <td>Berta</td>\n",
       "      <td>43</td>\n",
       "      <td>Sí</td>\n",
       "    </tr>\n",
       "    <tr>\n",
       "      <th>2</th>\n",
       "      <td>2</td>\n",
       "      <td>Carlos</td>\n",
       "      <td>24</td>\n",
       "      <td>Sí</td>\n",
       "    </tr>\n",
       "    <tr>\n",
       "      <th>3</th>\n",
       "      <td>3</td>\n",
       "      <td>Diana</td>\n",
       "      <td>21</td>\n",
       "      <td>No</td>\n",
       "    </tr>\n",
       "    <tr>\n",
       "      <th>4</th>\n",
       "      <td>4</td>\n",
       "      <td>Esteban</td>\n",
       "      <td>33</td>\n",
       "      <td>Sí</td>\n",
       "    </tr>\n",
       "  </tbody>\n",
       "</table>\n",
       "</div>"
      ],
      "text/plain": [
       "   Unnamed: 0   Nombre  Edad Matriculado\n",
       "0           0  Antonio    22          No\n",
       "1           1    Berta    43          Sí\n",
       "2           2   Carlos    24          Sí\n",
       "3           3    Diana    21          No\n",
       "4           4  Esteban    33          Sí"
      ]
     },
     "execution_count": 7,
     "metadata": {},
     "output_type": "execute_result"
    }
   ],
   "source": [
    "alumnos_v2"
   ]
  },
  {
   "cell_type": "markdown",
   "id": "c74e452f-908b-4274-98d0-e226b54d87e1",
   "metadata": {},
   "source": [
    "Ahora lo interpreta correctamente, gracias al parámetro <code>sep</code>, que indica que el separador es <code>';'</code>, pero falla a la hora de leer el índice. Lo interpreta como una primera columna anónima. Podemos especificarlo a la hora de la lectura de la siguiente forma:"
   ]
  },
  {
   "cell_type": "code",
   "execution_count": 8,
   "id": "2f4f0b62-5ceb-4c4d-8f8b-ce05b653b960",
   "metadata": {},
   "outputs": [],
   "source": [
    "alumnos_v2 = pd.read_csv(\"datos/datos_alumnos_v2.csv\", sep=';', index_col=0)"
   ]
  },
  {
   "cell_type": "code",
   "execution_count": 9,
   "id": "805fa591-bf8d-4e3e-9b1f-091c08d8cec2",
   "metadata": {},
   "outputs": [
    {
     "data": {
      "text/html": [
       "<div>\n",
       "<style scoped>\n",
       "    .dataframe tbody tr th:only-of-type {\n",
       "        vertical-align: middle;\n",
       "    }\n",
       "\n",
       "    .dataframe tbody tr th {\n",
       "        vertical-align: top;\n",
       "    }\n",
       "\n",
       "    .dataframe thead th {\n",
       "        text-align: right;\n",
       "    }\n",
       "</style>\n",
       "<table border=\"1\" class=\"dataframe\">\n",
       "  <thead>\n",
       "    <tr style=\"text-align: right;\">\n",
       "      <th></th>\n",
       "      <th>Nombre</th>\n",
       "      <th>Edad</th>\n",
       "      <th>Matriculado</th>\n",
       "    </tr>\n",
       "  </thead>\n",
       "  <tbody>\n",
       "    <tr>\n",
       "      <th>0</th>\n",
       "      <td>Antonio</td>\n",
       "      <td>22</td>\n",
       "      <td>No</td>\n",
       "    </tr>\n",
       "    <tr>\n",
       "      <th>1</th>\n",
       "      <td>Berta</td>\n",
       "      <td>43</td>\n",
       "      <td>Sí</td>\n",
       "    </tr>\n",
       "    <tr>\n",
       "      <th>2</th>\n",
       "      <td>Carlos</td>\n",
       "      <td>24</td>\n",
       "      <td>Sí</td>\n",
       "    </tr>\n",
       "    <tr>\n",
       "      <th>3</th>\n",
       "      <td>Diana</td>\n",
       "      <td>21</td>\n",
       "      <td>No</td>\n",
       "    </tr>\n",
       "    <tr>\n",
       "      <th>4</th>\n",
       "      <td>Esteban</td>\n",
       "      <td>33</td>\n",
       "      <td>Sí</td>\n",
       "    </tr>\n",
       "  </tbody>\n",
       "</table>\n",
       "</div>"
      ],
      "text/plain": [
       "    Nombre  Edad Matriculado\n",
       "0  Antonio    22          No\n",
       "1    Berta    43          Sí\n",
       "2   Carlos    24          Sí\n",
       "3    Diana    21          No\n",
       "4  Esteban    33          Sí"
      ]
     },
     "execution_count": 9,
     "metadata": {},
     "output_type": "execute_result"
    }
   ],
   "source": [
    "alumnos_v2"
   ]
  },
  {
   "cell_type": "markdown",
   "id": "cd7728a0-51e3-49fa-a277-fc12249165a7",
   "metadata": {},
   "source": [
    "El parámetro <code>index_col</code> indica que la primera columna (<code>0</code>) es la que contiene el índice. Si queremos usar otra columna, podemos usar su orden o incluso su nombre."
   ]
  },
  {
   "cell_type": "markdown",
   "id": "fef3f95d-c926-4ebd-8b33-91d34ba30c1e",
   "metadata": {},
   "source": [
    "<div style=\"background-color:lightpink; padding:1em\">\n",
    "    <b>Ejercicio 1</b><br/>\n",
    "    Lea los contenidos del fichero <code>datos/lista_reproduccion.csv</code> en la variable <code>lista</code>.\n",
    "</div>"
   ]
  },
  {
   "cell_type": "code",
   "execution_count": null,
   "id": "99c6eb0d-868f-4edf-bd4d-07021b21e212",
   "metadata": {},
   "outputs": [],
   "source": []
  },
  {
   "cell_type": "markdown",
   "id": "1217e1bb-32fe-4468-b5be-cfc8eeb1d3c0",
   "metadata": {},
   "source": [
    "Hay muchos más parámetros que permiten leer correctamente ficheros CSV con distintos formatos; cada caso es un mundo. Por tanto, es importante tener a mano la <a href=\"https://pandas.pydata.org/pandas-docs/dev/reference/api/pandas.read_csv.html\">documentación de la función <code>read_csv</code></a>."
   ]
  },
  {
   "cell_type": "markdown",
   "id": "a0789b3b-5526-4308-b557-cab2622c8a58",
   "metadata": {},
   "source": [
    "Escribir ficheros CSV es igual de sencillo. Una vez que tenemos los datos de un <code>DataFrame</code>, simplemente usamos la función <code>to_csv</code>:"
   ]
  },
  {
   "cell_type": "code",
   "execution_count": 10,
   "id": "21d0bf18-d8c6-46cc-87db-1447a0975e6c",
   "metadata": {},
   "outputs": [],
   "source": [
    "alumnos.to_csv(\"datos/alumnos_salida.csv\")"
   ]
  },
  {
   "cell_type": "markdown",
   "id": "401864b4-5ec7-44de-982f-156d42cf999d",
   "metadata": {},
   "source": [
    "Esta función escribe un CSV con índice. Si queremos evitarlo, podemos usar el parámetro <code>index=False</code>"
   ]
  },
  {
   "cell_type": "markdown",
   "id": "04f813ea-93e0-4d9d-aae7-0b8767264832",
   "metadata": {},
   "source": [
    "<div style=\"background-color:lightpink; padding:1em\">\n",
    "    <b>Ejercicio 2</b><br/>\n",
    "    Añada la información de la una canción nueva a la tabla <code>lista</code> y a continuación guárdela en un fichero llamado <code>lista_nueva.csv</code>. Si no tiene ideas, puede usar los siguientes datos:\n",
    "    <ul style=\"background-color:lightpink; padding-left:3em\">\n",
    "        <li>Nombre: Astronomia</li>\n",
    "        <li>Artista: Vicetone & Tony Igy</li>\n",
    "        <li>Año: 2010</li>\n",
    "    </ul>\n",
    "</div>"
   ]
  },
  {
   "cell_type": "code",
   "execution_count": null,
   "id": "497bcdc1-1352-44dc-a8fb-6df2a7b3a28c",
   "metadata": {},
   "outputs": [],
   "source": []
  },
  {
   "cell_type": "markdown",
   "id": "c375561b-9b8a-4ec3-9033-2f1133520835",
   "metadata": {
    "tags": []
   },
   "source": [
    "## Ficheros Excel"
   ]
  },
  {
   "cell_type": "markdown",
   "id": "246c5279-4d39-4d78-82fd-40ac01ae6038",
   "metadata": {},
   "source": [
    "Los ficheros Excel son también un formato muy usado para intercambiar datos, dada la gran adopción de Microsoft Office. Por tanto, Pandas ofrece una función muy similar a <code>read_csv</code> para leer datos:"
   ]
  },
  {
   "cell_type": "code",
   "execution_count": 11,
   "id": "618ffdee-833c-41fe-a73c-a24d9071549a",
   "metadata": {},
   "outputs": [],
   "source": [
    "vuelos = pd.read_excel(\"datos/vuelos_AGP_NY.xlsx\")"
   ]
  },
  {
   "cell_type": "code",
   "execution_count": 12,
   "id": "90c0ffb1-5d4b-4ec5-af32-761d2800dec4",
   "metadata": {},
   "outputs": [
    {
     "data": {
      "text/html": [
       "<div>\n",
       "<style scoped>\n",
       "    .dataframe tbody tr th:only-of-type {\n",
       "        vertical-align: middle;\n",
       "    }\n",
       "\n",
       "    .dataframe tbody tr th {\n",
       "        vertical-align: top;\n",
       "    }\n",
       "\n",
       "    .dataframe thead th {\n",
       "        text-align: right;\n",
       "    }\n",
       "</style>\n",
       "<table border=\"1\" class=\"dataframe\">\n",
       "  <thead>\n",
       "    <tr style=\"text-align: right;\">\n",
       "      <th></th>\n",
       "      <th>Salida</th>\n",
       "      <th>Llegada</th>\n",
       "      <th>Precio</th>\n",
       "    </tr>\n",
       "  </thead>\n",
       "  <tbody>\n",
       "    <tr>\n",
       "      <th>0</th>\n",
       "      <td>20:35:00</td>\n",
       "      <td>12:15:00</td>\n",
       "      <td>160</td>\n",
       "    </tr>\n",
       "    <tr>\n",
       "      <th>1</th>\n",
       "      <td>20:35:00</td>\n",
       "      <td>12:15:00</td>\n",
       "      <td>165</td>\n",
       "    </tr>\n",
       "    <tr>\n",
       "      <th>2</th>\n",
       "      <td>09:20:00</td>\n",
       "      <td>19:25:00</td>\n",
       "      <td>206</td>\n",
       "    </tr>\n",
       "    <tr>\n",
       "      <th>3</th>\n",
       "      <td>20:35:00</td>\n",
       "      <td>13:00:00</td>\n",
       "      <td>163</td>\n",
       "    </tr>\n",
       "    <tr>\n",
       "      <th>4</th>\n",
       "      <td>20:35:00</td>\n",
       "      <td>13:00:00</td>\n",
       "      <td>165</td>\n",
       "    </tr>\n",
       "  </tbody>\n",
       "</table>\n",
       "</div>"
      ],
      "text/plain": [
       "     Salida   Llegada  Precio\n",
       "0  20:35:00  12:15:00     160\n",
       "1  20:35:00  12:15:00     165\n",
       "2  09:20:00  19:25:00     206\n",
       "3  20:35:00  13:00:00     163\n",
       "4  20:35:00  13:00:00     165"
      ]
     },
     "execution_count": 12,
     "metadata": {},
     "output_type": "execute_result"
    }
   ],
   "source": [
    "vuelos"
   ]
  },
  {
   "cell_type": "markdown",
   "id": "dcdc40f6-e494-4aab-8ab6-3d521801a390",
   "metadata": {},
   "source": [
    "Por defecto, esta función sólo lee la primera hoja. Podemos especificar qué hoja queremos leer con el parámetro <code>sheet_name</code>:"
   ]
  },
  {
   "cell_type": "code",
   "execution_count": 13,
   "id": "2ce2f5fd-6bd5-4f0f-bee8-24da476959e0",
   "metadata": {},
   "outputs": [],
   "source": [
    "vuelos_7_sept = pd.read_excel(\"datos/vuelos_AGP_NY.xlsx\", sheet_name=\"7 Sept\")\n",
    "vuelos_8_sept = pd.read_excel(\"datos/vuelos_AGP_NY.xlsx\", sheet_name=\"8 Sept\")"
   ]
  },
  {
   "cell_type": "code",
   "execution_count": 14,
   "id": "114ea62e-b93e-4a26-aafd-8952c431c4b4",
   "metadata": {},
   "outputs": [
    {
     "data": {
      "text/html": [
       "<div>\n",
       "<style scoped>\n",
       "    .dataframe tbody tr th:only-of-type {\n",
       "        vertical-align: middle;\n",
       "    }\n",
       "\n",
       "    .dataframe tbody tr th {\n",
       "        vertical-align: top;\n",
       "    }\n",
       "\n",
       "    .dataframe thead th {\n",
       "        text-align: right;\n",
       "    }\n",
       "</style>\n",
       "<table border=\"1\" class=\"dataframe\">\n",
       "  <thead>\n",
       "    <tr style=\"text-align: right;\">\n",
       "      <th></th>\n",
       "      <th>Salida</th>\n",
       "      <th>Llegada</th>\n",
       "      <th>Precio</th>\n",
       "    </tr>\n",
       "  </thead>\n",
       "  <tbody>\n",
       "    <tr>\n",
       "      <th>0</th>\n",
       "      <td>20:35:00</td>\n",
       "      <td>12:15:00</td>\n",
       "      <td>160</td>\n",
       "    </tr>\n",
       "    <tr>\n",
       "      <th>1</th>\n",
       "      <td>20:35:00</td>\n",
       "      <td>12:15:00</td>\n",
       "      <td>165</td>\n",
       "    </tr>\n",
       "    <tr>\n",
       "      <th>2</th>\n",
       "      <td>09:20:00</td>\n",
       "      <td>19:25:00</td>\n",
       "      <td>206</td>\n",
       "    </tr>\n",
       "    <tr>\n",
       "      <th>3</th>\n",
       "      <td>20:35:00</td>\n",
       "      <td>13:00:00</td>\n",
       "      <td>163</td>\n",
       "    </tr>\n",
       "    <tr>\n",
       "      <th>4</th>\n",
       "      <td>20:35:00</td>\n",
       "      <td>13:00:00</td>\n",
       "      <td>165</td>\n",
       "    </tr>\n",
       "  </tbody>\n",
       "</table>\n",
       "</div>"
      ],
      "text/plain": [
       "     Salida   Llegada  Precio\n",
       "0  20:35:00  12:15:00     160\n",
       "1  20:35:00  12:15:00     165\n",
       "2  09:20:00  19:25:00     206\n",
       "3  20:35:00  13:00:00     163\n",
       "4  20:35:00  13:00:00     165"
      ]
     },
     "execution_count": 14,
     "metadata": {},
     "output_type": "execute_result"
    }
   ],
   "source": [
    "vuelos_7_sept"
   ]
  },
  {
   "cell_type": "code",
   "execution_count": 15,
   "id": "737d2804-df11-47d0-b781-4a7387bc7cad",
   "metadata": {},
   "outputs": [
    {
     "data": {
      "text/html": [
       "<div>\n",
       "<style scoped>\n",
       "    .dataframe tbody tr th:only-of-type {\n",
       "        vertical-align: middle;\n",
       "    }\n",
       "\n",
       "    .dataframe tbody tr th {\n",
       "        vertical-align: top;\n",
       "    }\n",
       "\n",
       "    .dataframe thead th {\n",
       "        text-align: right;\n",
       "    }\n",
       "</style>\n",
       "<table border=\"1\" class=\"dataframe\">\n",
       "  <thead>\n",
       "    <tr style=\"text-align: right;\">\n",
       "      <th></th>\n",
       "      <th>Salida</th>\n",
       "      <th>Llegada</th>\n",
       "      <th>Precio</th>\n",
       "    </tr>\n",
       "  </thead>\n",
       "  <tbody>\n",
       "    <tr>\n",
       "      <th>0</th>\n",
       "      <td>11:35:00</td>\n",
       "      <td>17:30:00</td>\n",
       "      <td>190</td>\n",
       "    </tr>\n",
       "    <tr>\n",
       "      <th>1</th>\n",
       "      <td>13:25:00</td>\n",
       "      <td>19:25:00</td>\n",
       "      <td>217</td>\n",
       "    </tr>\n",
       "    <tr>\n",
       "      <th>2</th>\n",
       "      <td>21:30:00</td>\n",
       "      <td>14:40:00</td>\n",
       "      <td>127</td>\n",
       "    </tr>\n",
       "    <tr>\n",
       "      <th>3</th>\n",
       "      <td>21:30:00</td>\n",
       "      <td>14:40:00</td>\n",
       "      <td>138</td>\n",
       "    </tr>\n",
       "    <tr>\n",
       "      <th>4</th>\n",
       "      <td>06:45:00</td>\n",
       "      <td>14:10:00</td>\n",
       "      <td>232</td>\n",
       "    </tr>\n",
       "  </tbody>\n",
       "</table>\n",
       "</div>"
      ],
      "text/plain": [
       "     Salida   Llegada  Precio\n",
       "0  11:35:00  17:30:00     190\n",
       "1  13:25:00  19:25:00     217\n",
       "2  21:30:00  14:40:00     127\n",
       "3  21:30:00  14:40:00     138\n",
       "4  06:45:00  14:10:00     232"
      ]
     },
     "execution_count": 15,
     "metadata": {},
     "output_type": "execute_result"
    }
   ],
   "source": [
    "vuelos_8_sept"
   ]
  },
  {
   "cell_type": "markdown",
   "id": "7e944e9c-935a-4737-901f-e72c70345d68",
   "metadata": {},
   "source": [
    "Por supuesto, siempre que queramos analizar los datos de un fichero, hay que previsualizarlos. Para ello, en el caso de los ficheros XLSX, hay que abrirlos en Excel y ver cómo están estructurados."
   ]
  },
  {
   "cell_type": "markdown",
   "id": "a955899c-4d44-4e41-b675-1c1ad20ee405",
   "metadata": {},
   "source": [
    "Para escribir un <code>DataFrame</code> en una hoja de cálculo, usamos <code>to_excel</code>:"
   ]
  },
  {
   "cell_type": "code",
   "execution_count": 16,
   "id": "5f4d16d8-18c7-4d09-b144-f0cce7ca74d2",
   "metadata": {},
   "outputs": [],
   "source": [
    "alumnos.to_excel(\"datos/alumnos.xlsx\")"
   ]
  },
  {
   "cell_type": "markdown",
   "id": "49169794-0c6b-47bc-8440-b090e114599e",
   "metadata": {},
   "source": [
    "## Conclusiones"
   ]
  },
  {
   "cell_type": "markdown",
   "id": "c412a53f-153c-4e0c-948a-09454004a813",
   "metadata": {},
   "source": [
    "Pandas tiene funciones para los principales formatos de almacenamiento de datos. En este caso, hemos visto los CSV y los XLSX. Para cada uno, las funciones ofrecen argumentos que ayudan a personalizar la lectura. También es importante remarcar que los datos, sobre todo en producción (es decir, en sistemas terminados y desplegados para dar un servicio), se guardan preferentemente en bases de datos. Para ello, Pandas también provee funciones. No obstante, en nuestro trabajo de análisis de datos, normalmente nos proveerán de un fichero volcado de la base de datos. Todo esto está documentado en <a href=\"https://pandas.pydata.org/pandas-docs/stable/user_guide/io.html\">la guia de entrada/salida de datos</a> de Pandas. "
   ]
  },
  {
   "cell_type": "code",
   "execution_count": null,
   "id": "2d0327e1-c7f8-4fd3-980b-7d905d3cf409",
   "metadata": {},
   "outputs": [],
   "source": []
  }
 ],
 "metadata": {
  "kernelspec": {
   "display_name": "Python 3 (ipykernel)",
   "language": "python",
   "name": "python3"
  },
  "language_info": {
   "codemirror_mode": {
    "name": "ipython",
    "version": 3
   },
   "file_extension": ".py",
   "mimetype": "text/x-python",
   "name": "python",
   "nbconvert_exporter": "python",
   "pygments_lexer": "ipython3",
   "version": "3.9.7"
  }
 },
 "nbformat": 4,
 "nbformat_minor": 5
}
