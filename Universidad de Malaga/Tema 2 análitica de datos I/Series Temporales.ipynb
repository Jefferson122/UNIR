{
 "cells": [
  {
   "cell_type": "markdown",
   "id": "eec64dc5-98a4-4b54-b48c-c94995443fd5",
   "metadata": {},
   "source": [
    "# Series temporales"
   ]
  },
  {
   "cell_type": "markdown",
   "id": "70d5cc7a-90c9-4447-9944-fbb42c7a63a4",
   "metadata": {},
   "source": [
    "Cuando hablamos de datos, podemos referirnos a numerosos tipos de valores que reflejan un proceso en el mundo real. Podemos referirnos, por ejemplo, a un grupo de identificadores de vehículos, al texto contenido en un libro, o al número de días de lluvia al mes en un lugar. Estos datos vendrán en un formato concreto, que será consecuencia de su naturaleza. Los identificadores de vehículos, por ejemplo, serán matrículas que, en España, siguien el formato de cuatro números y tres letras consonantes, ordenadas según el momento de matriculación. En un libro, los datos serán caracteres que formarán palabras y que seguirán las reglas de sintaxis y semántica del idioma en el que estén escritos. Y los días de lluvia al mes, vendrán dados en forma de un entero referido a un índice temporal.\n",
    "\n",
    "<img src=\"imagenes/lluvia.png\" style=\"width:30em; margin: 0 auto;\">\n",
    "\n",
    "Este tipo de dato, es decir, una lista de valores de cualquier tipo (enteros, fraccionales, complejos, textuales, etc.) referidos a un índice temporal, recibe el nombre de <b>serie temporal</b>. Las series temporales se generan en procesos que evolucionan con el tiempo, y nos sirven para entender mejor dicha evolución, encontrar comportamientos periódicos, tendencias, e incluso, predecir el futuro."
   ]
  },
  {
   "cell_type": "markdown",
   "id": "1eb4ce35-55ee-4c23-ac0c-2671aa657da0",
   "metadata": {},
   "source": [
    "---"
   ]
  },
  {
   "cell_type": "markdown",
   "id": "1e18bd55-e306-4ba3-9d8b-7feac8041db2",
   "metadata": {},
   "source": [
    "# Índice\n",
    "[El tiempo en Python](#El-tiempo-en-Python) <br/>\n",
    "[El índice temporal](#El-índice-temporal) <br/>\n",
    "[Representación de series temporales](#Representación-de-series-temporales) <br/>\n",
    "[Conclusiones](#Conclusiones) <br/>"
   ]
  },
  {
   "cell_type": "markdown",
   "id": "0ea1f948-da02-4fe2-bdcc-292bdbeeae5b",
   "metadata": {},
   "source": [
    "---"
   ]
  },
  {
   "cell_type": "markdown",
   "id": "affa8b3b-7bb5-4547-a8fe-bacaf4c17712",
   "metadata": {},
   "source": [
    "Las series temporales comparten algunas características con otro tipo de series; por ejemplo, podemos comprobar si existe una relación lineal entre dos variables si su correlación es alta. Las series temporales tienen, además otras propiedades específicas. En esta libreta, veremos cómo se realizan algunas operaciones típicas con series temporales con Pandas. Antes de eso, veremos cómo se representa un instante de tiempo en Python."
   ]
  },
  {
   "cell_type": "code",
   "execution_count": 1,
   "id": "d3ebbe4e-541c-4496-aae4-e3e8cc835901",
   "metadata": {},
   "outputs": [],
   "source": [
    "from datetime import datetime         # Nuevo: librería estándar para usar variables que reflejan el tiempo\n",
    "import pandas as pd\n",
    "import matplotlib.pyplot as plt     \n",
    "import numpy as np"
   ]
  },
  {
   "cell_type": "markdown",
   "id": "3246a064-0ada-41b5-9714-3db7dac274af",
   "metadata": {
    "tags": []
   },
   "source": [
    "## El tiempo en Python"
   ]
  },
  {
   "cell_type": "markdown",
   "id": "259679a2-c5b7-4ae9-9910-fd3daca02694",
   "metadata": {},
   "source": [
    "Antes de ver las series temporales, veamos cómo se representa el tiempo en Python. Para ello, Python provee la <a href=\"https://docs.python.org/3/library/datetime.html\">librería Datetime</a> que forma parte de las librerías estándar. Como su nombre indica, con Datetime, trabajamos con objetos que incluyen la fecha y la hora:"
   ]
  },
  {
   "cell_type": "code",
   "execution_count": 2,
   "id": "a86d7771-a9c3-4173-87e7-bd905c160ba7",
   "metadata": {},
   "outputs": [
    {
     "name": "stdout",
     "output_type": "stream",
     "text": [
      "2021-09-06 17:46:12\n"
     ]
    }
   ],
   "source": [
    "instante = datetime(day=6, month=9, year=2021, hour=17, minute=46, second=12)\n",
    "print(instante)"
   ]
  },
  {
   "cell_type": "markdown",
   "id": "85503d3e-c251-44f4-a149-e4e05f425ac2",
   "metadata": {},
   "source": [
    "Podemos también obtener el instante actual:"
   ]
  },
  {
   "cell_type": "code",
   "execution_count": 3,
   "id": "ab6d0a3f-838c-4771-885a-1ff1ef603cf9",
   "metadata": {},
   "outputs": [
    {
     "name": "stdout",
     "output_type": "stream",
     "text": [
      "2022-06-10 16:20:57.907968\n"
     ]
    }
   ],
   "source": [
    "ahora = datetime.now()\n",
    "print(ahora)"
   ]
  },
  {
   "cell_type": "markdown",
   "id": "4d0b98f5-30c6-43da-bb9d-fee69f480928",
   "metadata": {},
   "source": [
    "Y realizar operaciones con estos objetos <code>datetime</code>:"
   ]
  },
  {
   "cell_type": "code",
   "execution_count": 4,
   "id": "1b46f9e7-f706-496c-9764-af662e49b59d",
   "metadata": {},
   "outputs": [
    {
     "data": {
      "text/plain": [
       "datetime.timedelta(days=276, seconds=81285, microseconds=907968)"
      ]
     },
     "execution_count": 4,
     "metadata": {},
     "output_type": "execute_result"
    }
   ],
   "source": [
    "ahora - instante"
   ]
  },
  {
   "cell_type": "markdown",
   "id": "223bdb5c-6957-436a-82d7-5c4b840d5027",
   "metadata": {},
   "source": [
    "El resultado es un objeto <code>timedelta</code> que representa un intervalo temporal relativo en lugar de un instante absoluto."
   ]
  },
  {
   "cell_type": "markdown",
   "id": "89a98b55-814a-45aa-9459-f6926269aa86",
   "metadata": {},
   "source": [
    "A menudo, tendremos que pasar de texto a objetos temporales (por ejemplo, al leer un fichero). Para ello la función <code>strptime</code> toma a su entrada una cadena y devuelve un objeto <code>datetime</code>. Si bien hay formatos estándar para escribir la fecha, a veces tendremos que indicarle explícitamente a Datetime dónde encontrar el día, mes, año, etc. Veamos un ejemplo:"
   ]
  },
  {
   "cell_type": "code",
   "execution_count": 5,
   "id": "1e0f1857-2913-4c55-a101-2503545a39de",
   "metadata": {},
   "outputs": [],
   "source": [
    "fecha_texto = \"06/09/2021 17:46:12\"\n",
    "formato = \"%d/%m/%Y %H:%M:%S\"\n",
    "fecha_dt = datetime.strptime(fecha_texto, formato)"
   ]
  },
  {
   "cell_type": "code",
   "execution_count": 6,
   "id": "4b0d5b7e-443c-4db0-8f34-b181ff904306",
   "metadata": {},
   "outputs": [
    {
     "data": {
      "text/plain": [
       "datetime.datetime(2021, 9, 6, 17, 46, 12)"
      ]
     },
     "execution_count": 6,
     "metadata": {},
     "output_type": "execute_result"
    }
   ],
   "source": [
    "fecha_dt"
   ]
  },
  {
   "cell_type": "markdown",
   "id": "faeb5e92-12c1-417f-80ae-5d5901b9e1c2",
   "metadata": {},
   "source": [
    "En este código, <code>fecha_texto</code> contiene la fecha en el formato <code>\"<i>día / mes / año  horas : minutos : segundos</i>\"</code>. Eso es precisamente lo que indica la cadena <code>formato</code>. Cada caracter precedido por <code>%</code> indica qué elemento de la fecha corresponde a esa posición. En <a href=\"https://docs.python.org/3/library/datetime.html#strftime-and-strptime-format-codes\">la documentación</a> del módulo Datetime, se puede encontrar un resumen de todos los caracteres que podemos usar indicando distintos formatos."
   ]
  },
  {
   "cell_type": "markdown",
   "id": "cecdafa7-27cd-40fb-9f79-a5b1452c6121",
   "metadata": {},
   "source": [
    "<p style=\"background-color:lightpink; padding:1em\"><b>Ejercicio 1</b><br/>\n",
    "    Cree dos variables temporales con el instante actual (<code>datetime.now()</code>), separados por varios segundos. A continuación, calcule el objeto <code>timedelta</code> que muestre la diferencia temporal entre ambos.\n",
    "</p>"
   ]
  },
  {
   "cell_type": "code",
   "execution_count": null,
   "id": "7ee7355f-717a-4d70-98b6-5bbe5187b9c0",
   "metadata": {},
   "outputs": [],
   "source": []
  },
  {
   "cell_type": "markdown",
   "id": "68a5abe8-c0ac-4194-9df4-00dd40f1b821",
   "metadata": {
    "tags": []
   },
   "source": [
    "## El índice temporal"
   ]
  },
  {
   "cell_type": "markdown",
   "id": "0184eb0c-587b-4b42-885b-0ceca32d06b6",
   "metadata": {},
   "source": [
    "Como vimos al introducir Pandas, un objeto <code>Series</code> se compone de un índice y un array de datos. La única diferencia entre una serie genérica y una serie temporal (desde el punto de vista de la programación) es el formato del índice. Pandas proporciona una serie de funciones que facilitan la generación y uso de índices temporales. El centro de esta funcionalidad es el objeto <code>DatetimeIndex</code>, que a su vez se usa para indexar objetos <code>Series</code> y <code>DataFrame</code>."
   ]
  },
  {
   "cell_type": "markdown",
   "id": "f6cb0bc4-3732-4e65-be62-e27c2be6be03",
   "metadata": {},
   "source": [
    "Veamos el ejemplo más sencillo, que es el de la creación de un índice temporal entre dos fechas. Para ello, Pandas ofrece la función <code>date_range</code>, que devuelve un objeto <code>DatetimeIndex</code>:"
   ]
  },
  {
   "cell_type": "code",
   "execution_count": 7,
   "id": "7c9b35da-31e9-4500-8024-b88dbbe87dae",
   "metadata": {},
   "outputs": [],
   "source": [
    "index = pd.date_range(start=instante, end=ahora, freq='H')"
   ]
  },
  {
   "cell_type": "code",
   "execution_count": 8,
   "id": "2ee241f8-e915-406d-a216-17075eb5e402",
   "metadata": {},
   "outputs": [
    {
     "data": {
      "text/plain": [
       "DatetimeIndex(['2021-09-06 17:46:12', '2021-09-06 18:46:12',\n",
       "               '2021-09-06 19:46:12', '2021-09-06 20:46:12',\n",
       "               '2021-09-06 21:46:12', '2021-09-06 22:46:12',\n",
       "               '2021-09-06 23:46:12', '2021-09-07 00:46:12',\n",
       "               '2021-09-07 01:46:12', '2021-09-07 02:46:12',\n",
       "               ...\n",
       "               '2022-06-10 06:46:12', '2022-06-10 07:46:12',\n",
       "               '2022-06-10 08:46:12', '2022-06-10 09:46:12',\n",
       "               '2022-06-10 10:46:12', '2022-06-10 11:46:12',\n",
       "               '2022-06-10 12:46:12', '2022-06-10 13:46:12',\n",
       "               '2022-06-10 14:46:12', '2022-06-10 15:46:12'],\n",
       "              dtype='datetime64[ns]', length=6647, freq='H')"
      ]
     },
     "execution_count": 8,
     "metadata": {},
     "output_type": "execute_result"
    }
   ],
   "source": [
    "index"
   ]
  },
  {
   "cell_type": "markdown",
   "id": "1f802d4f-bb12-4716-b035-a7766115e483",
   "metadata": {},
   "source": [
    "Los parámetros <code>start</code> y <code>end</code>hacen lo que su nombre indica, es decir, establecen los límites inferior y superior del intervalo. El parámetro <code>freq</code> indica la frecuencia, es decir, la separación entre las entradas del índice. En este caso, hemos usado <code>'H'</code>, que indica que será de una frecuencia horaria. En <a href=\"https://pandas.pydata.org/docs/user_guide/timeseries.html#timeseries-offset-aliases\">la documentación</a>, podemos ver muchos otros posibles valores para este parámetro. Una vez que tenemos el índice, podemos usarlo para generar una Serie vacía o con datos:"
   ]
  },
  {
   "cell_type": "code",
   "execution_count": 9,
   "id": "9c3e6e85-dc5d-4686-b000-14aec066f8d9",
   "metadata": {},
   "outputs": [
    {
     "data": {
      "text/plain": [
       "2021-09-06 17:46:12   -1.423629\n",
       "2021-09-06 18:46:12    0.502531\n",
       "2021-09-06 19:46:12   -1.174759\n",
       "2021-09-06 20:46:12   -0.771725\n",
       "2021-09-06 21:46:12   -0.580306\n",
       "                         ...   \n",
       "2022-06-10 11:46:12   -1.108858\n",
       "2022-06-10 12:46:12    0.192184\n",
       "2022-06-10 13:46:12    0.458053\n",
       "2022-06-10 14:46:12   -0.748476\n",
       "2022-06-10 15:46:12   -1.016483\n",
       "Freq: H, Length: 6647, dtype: float64"
      ]
     },
     "execution_count": 9,
     "metadata": {},
     "output_type": "execute_result"
    }
   ],
   "source": [
    "serie_temporal = pd.Series(index=index, data=np.random.randn( len(index) ) )\n",
    "serie_temporal"
   ]
  },
  {
   "cell_type": "markdown",
   "id": "f77da2dd-770b-4b14-b867-05eabdc9821e",
   "metadata": {},
   "source": [
    "En este ejemplo, hemos rellenado la serie con datos aleatorios, usando un array nuevo con tantos valores aleatorios como elementos tiene el índice (<code>len(index)</code>)."
   ]
  },
  {
   "cell_type": "markdown",
   "id": "e5b1dbc8-bffc-4880-a295-65a05e020677",
   "metadata": {},
   "source": [
    "Otra forma de generar un <code>DatetimeIndex</code>, si conocemos de antemano la longitud de los datos que queremos indexar es usando el parámetro <code>periods</code>, en lugar de <code>end</code>:"
   ]
  },
  {
   "cell_type": "code",
   "execution_count": 10,
   "id": "4a5f3a64-3e1f-4be8-9bbd-40e4f0ec88cd",
   "metadata": {},
   "outputs": [],
   "source": [
    "index = pd.date_range(start=instante, periods=24, freq='H')"
   ]
  },
  {
   "cell_type": "code",
   "execution_count": 11,
   "id": "3fd6b08b-43d1-4a07-94d4-ff3797d61439",
   "metadata": {},
   "outputs": [],
   "source": [
    "serie_temporal = pd.Series(index=index, data=np.random.randn(24))"
   ]
  },
  {
   "cell_type": "code",
   "execution_count": 12,
   "id": "90700505-fffd-4624-9367-198c3fb017f4",
   "metadata": {},
   "outputs": [
    {
     "data": {
      "text/plain": [
       "2021-09-06 17:46:12   -0.290324\n",
       "2021-09-06 18:46:12   -0.266994\n",
       "2021-09-06 19:46:12    2.117452\n",
       "2021-09-06 20:46:12    0.395809\n",
       "2021-09-06 21:46:12    0.130095\n",
       "2021-09-06 22:46:12   -0.699598\n",
       "2021-09-06 23:46:12    1.084235\n",
       "2021-09-07 00:46:12    0.685500\n",
       "2021-09-07 01:46:12   -0.754498\n",
       "2021-09-07 02:46:12    2.258867\n",
       "2021-09-07 03:46:12    1.677078\n",
       "2021-09-07 04:46:12   -1.159437\n",
       "2021-09-07 05:46:12    0.514265\n",
       "2021-09-07 06:46:12   -0.509223\n",
       "2021-09-07 07:46:12   -0.839751\n",
       "2021-09-07 08:46:12    0.370604\n",
       "2021-09-07 09:46:12   -1.043131\n",
       "2021-09-07 10:46:12    0.459761\n",
       "2021-09-07 11:46:12   -2.092575\n",
       "2021-09-07 12:46:12    0.214209\n",
       "2021-09-07 13:46:12   -0.074305\n",
       "2021-09-07 14:46:12   -0.069763\n",
       "2021-09-07 15:46:12    0.270548\n",
       "2021-09-07 16:46:12    0.203658\n",
       "Freq: H, dtype: float64"
      ]
     },
     "execution_count": 12,
     "metadata": {},
     "output_type": "execute_result"
    }
   ],
   "source": [
    "serie_temporal"
   ]
  },
  {
   "cell_type": "markdown",
   "id": "b08f1474-49a9-4364-9ce5-e434a8000b8c",
   "metadata": {},
   "source": [
    "Dado que los <code>DataFrame</code> son colecciones de <code>Series</code> que comparten índices, éstos también pueden usar índices temporales. Veamos un ejemplo de código que genera un <code>DataFrame</code> vacío."
   ]
  },
  {
   "cell_type": "code",
   "execution_count": 13,
   "id": "86eb256e-8d21-4749-b653-07a8a4491afb",
   "metadata": {},
   "outputs": [],
   "source": [
    "df = pd.DataFrame(index=index, columns=['valor aleatorio', 'valor aleatorio x10'])\n",
    "df['valor aleatorio'] = np.random.randn(24)\n",
    "df['valor aleatorio x10'] = df['valor aleatorio'] * 10"
   ]
  },
  {
   "cell_type": "code",
   "execution_count": 14,
   "id": "e69c5dd9-a197-40d1-a0e6-6cdda196e14a",
   "metadata": {},
   "outputs": [
    {
     "data": {
      "text/html": [
       "<div>\n",
       "<style scoped>\n",
       "    .dataframe tbody tr th:only-of-type {\n",
       "        vertical-align: middle;\n",
       "    }\n",
       "\n",
       "    .dataframe tbody tr th {\n",
       "        vertical-align: top;\n",
       "    }\n",
       "\n",
       "    .dataframe thead th {\n",
       "        text-align: right;\n",
       "    }\n",
       "</style>\n",
       "<table border=\"1\" class=\"dataframe\">\n",
       "  <thead>\n",
       "    <tr style=\"text-align: right;\">\n",
       "      <th></th>\n",
       "      <th>valor aleatorio</th>\n",
       "      <th>valor aleatorio x10</th>\n",
       "    </tr>\n",
       "  </thead>\n",
       "  <tbody>\n",
       "    <tr>\n",
       "      <th>2021-09-06 17:46:12</th>\n",
       "      <td>1.975338</td>\n",
       "      <td>19.753382</td>\n",
       "    </tr>\n",
       "    <tr>\n",
       "      <th>2021-09-06 18:46:12</th>\n",
       "      <td>-1.626029</td>\n",
       "      <td>-16.260291</td>\n",
       "    </tr>\n",
       "    <tr>\n",
       "      <th>2021-09-06 19:46:12</th>\n",
       "      <td>0.005038</td>\n",
       "      <td>0.050382</td>\n",
       "    </tr>\n",
       "    <tr>\n",
       "      <th>2021-09-06 20:46:12</th>\n",
       "      <td>-0.243775</td>\n",
       "      <td>-2.437752</td>\n",
       "    </tr>\n",
       "    <tr>\n",
       "      <th>2021-09-06 21:46:12</th>\n",
       "      <td>0.113013</td>\n",
       "      <td>1.130130</td>\n",
       "    </tr>\n",
       "    <tr>\n",
       "      <th>2021-09-06 22:46:12</th>\n",
       "      <td>0.617905</td>\n",
       "      <td>6.179051</td>\n",
       "    </tr>\n",
       "    <tr>\n",
       "      <th>2021-09-06 23:46:12</th>\n",
       "      <td>-0.224015</td>\n",
       "      <td>-2.240154</td>\n",
       "    </tr>\n",
       "    <tr>\n",
       "      <th>2021-09-07 00:46:12</th>\n",
       "      <td>-1.414713</td>\n",
       "      <td>-14.147128</td>\n",
       "    </tr>\n",
       "    <tr>\n",
       "      <th>2021-09-07 01:46:12</th>\n",
       "      <td>-1.236320</td>\n",
       "      <td>-12.363202</td>\n",
       "    </tr>\n",
       "    <tr>\n",
       "      <th>2021-09-07 02:46:12</th>\n",
       "      <td>0.141199</td>\n",
       "      <td>1.411993</td>\n",
       "    </tr>\n",
       "    <tr>\n",
       "      <th>2021-09-07 03:46:12</th>\n",
       "      <td>-0.285198</td>\n",
       "      <td>-2.851979</td>\n",
       "    </tr>\n",
       "    <tr>\n",
       "      <th>2021-09-07 04:46:12</th>\n",
       "      <td>0.380989</td>\n",
       "      <td>3.809889</td>\n",
       "    </tr>\n",
       "    <tr>\n",
       "      <th>2021-09-07 05:46:12</th>\n",
       "      <td>-2.321707</td>\n",
       "      <td>-23.217069</td>\n",
       "    </tr>\n",
       "    <tr>\n",
       "      <th>2021-09-07 06:46:12</th>\n",
       "      <td>0.415604</td>\n",
       "      <td>4.156044</td>\n",
       "    </tr>\n",
       "    <tr>\n",
       "      <th>2021-09-07 07:46:12</th>\n",
       "      <td>1.430803</td>\n",
       "      <td>14.308032</td>\n",
       "    </tr>\n",
       "    <tr>\n",
       "      <th>2021-09-07 08:46:12</th>\n",
       "      <td>1.577545</td>\n",
       "      <td>15.775448</td>\n",
       "    </tr>\n",
       "    <tr>\n",
       "      <th>2021-09-07 09:46:12</th>\n",
       "      <td>-0.153244</td>\n",
       "      <td>-1.532443</td>\n",
       "    </tr>\n",
       "    <tr>\n",
       "      <th>2021-09-07 10:46:12</th>\n",
       "      <td>0.335132</td>\n",
       "      <td>3.351323</td>\n",
       "    </tr>\n",
       "    <tr>\n",
       "      <th>2021-09-07 11:46:12</th>\n",
       "      <td>0.244917</td>\n",
       "      <td>2.449166</td>\n",
       "    </tr>\n",
       "    <tr>\n",
       "      <th>2021-09-07 12:46:12</th>\n",
       "      <td>-0.759788</td>\n",
       "      <td>-7.597877</td>\n",
       "    </tr>\n",
       "    <tr>\n",
       "      <th>2021-09-07 13:46:12</th>\n",
       "      <td>2.431119</td>\n",
       "      <td>24.311188</td>\n",
       "    </tr>\n",
       "    <tr>\n",
       "      <th>2021-09-07 14:46:12</th>\n",
       "      <td>0.282084</td>\n",
       "      <td>2.820835</td>\n",
       "    </tr>\n",
       "    <tr>\n",
       "      <th>2021-09-07 15:46:12</th>\n",
       "      <td>1.208131</td>\n",
       "      <td>12.081309</td>\n",
       "    </tr>\n",
       "    <tr>\n",
       "      <th>2021-09-07 16:46:12</th>\n",
       "      <td>0.524982</td>\n",
       "      <td>5.249817</td>\n",
       "    </tr>\n",
       "  </tbody>\n",
       "</table>\n",
       "</div>"
      ],
      "text/plain": [
       "                     valor aleatorio  valor aleatorio x10\n",
       "2021-09-06 17:46:12         1.975338            19.753382\n",
       "2021-09-06 18:46:12        -1.626029           -16.260291\n",
       "2021-09-06 19:46:12         0.005038             0.050382\n",
       "2021-09-06 20:46:12        -0.243775            -2.437752\n",
       "2021-09-06 21:46:12         0.113013             1.130130\n",
       "2021-09-06 22:46:12         0.617905             6.179051\n",
       "2021-09-06 23:46:12        -0.224015            -2.240154\n",
       "2021-09-07 00:46:12        -1.414713           -14.147128\n",
       "2021-09-07 01:46:12        -1.236320           -12.363202\n",
       "2021-09-07 02:46:12         0.141199             1.411993\n",
       "2021-09-07 03:46:12        -0.285198            -2.851979\n",
       "2021-09-07 04:46:12         0.380989             3.809889\n",
       "2021-09-07 05:46:12        -2.321707           -23.217069\n",
       "2021-09-07 06:46:12         0.415604             4.156044\n",
       "2021-09-07 07:46:12         1.430803            14.308032\n",
       "2021-09-07 08:46:12         1.577545            15.775448\n",
       "2021-09-07 09:46:12        -0.153244            -1.532443\n",
       "2021-09-07 10:46:12         0.335132             3.351323\n",
       "2021-09-07 11:46:12         0.244917             2.449166\n",
       "2021-09-07 12:46:12        -0.759788            -7.597877\n",
       "2021-09-07 13:46:12         2.431119            24.311188\n",
       "2021-09-07 14:46:12         0.282084             2.820835\n",
       "2021-09-07 15:46:12         1.208131            12.081309\n",
       "2021-09-07 16:46:12         0.524982             5.249817"
      ]
     },
     "execution_count": 14,
     "metadata": {},
     "output_type": "execute_result"
    }
   ],
   "source": [
    "df"
   ]
  },
  {
   "cell_type": "markdown",
   "id": "a84fe3ad-395d-4189-9aed-533a807145f4",
   "metadata": {},
   "source": [
    "El objeto <code>DatetimeIndex</code> permite muchas más operaciones. En <a href=\"https://pandas.pydata.org/pandas-docs/stable/user_guide/timeseries.html\">este enlace</a> se puede leer mucho más sobre este objeto. Veremos algunas funcionalidades más adelante."
   ]
  },
  {
   "cell_type": "markdown",
   "id": "7851b57a-9ef1-4a72-90fe-1b8f320749ca",
   "metadata": {},
   "source": [
    "<div style=\"background-color:lightpink; padding:1em\">\n",
    "    <p><b>Ejercicio 2</b><br/>\n",
    "        Cree una variable temporal con el instante actual. A continuación, cree un índice horario con cinco intervalos, siendo el primero el actual, y con una separación de una hora. Use dicho índice para crear un objeto <code>Series</code> que tenga como datos un array con los valores del 0 al 4, siendo 0 el valor correspondiente al inicio del índice.\n",
    "    </p>\n",
    "    <table>\n",
    "        <tr><th>Índice</th><th>Valor</th></tr>\n",
    "        <tr><td>2021-09-06 17:46:12</td><td>0</td></tr>\n",
    "        <tr><td>2021-09-06 18:46:12</td><td>1</td></tr>\n",
    "        <tr><td>2021-09-06 19:46:12</td><td>2</td></tr>\n",
    "        <tr><td>2021-09-06 20:46:12</td><td>3</td></tr>\n",
    "        <tr><td>2021-09-06 21:46:12</td><td>4</td></tr>\n",
    "    </table>\n",
    "</div>"
   ]
  },
  {
   "cell_type": "code",
   "execution_count": null,
   "id": "c752e5ef-6c37-46f1-8d16-d8dd2f52365a",
   "metadata": {},
   "outputs": [],
   "source": []
  },
  {
   "cell_type": "markdown",
   "id": "6dbcad2a-e0dc-4900-8161-b12114885eda",
   "metadata": {
    "tags": []
   },
   "source": [
    "## Representación de series temporales"
   ]
  },
  {
   "cell_type": "markdown",
   "id": "54c08c50-4350-4504-bf11-2f8aee8c5595",
   "metadata": {},
   "source": [
    "Las series, en general, se pueden representar de muchas maneras: gráficos de barras, de línea, de sectores, etc. Python tiene la librería Matplotlib para representaciones gráficas los datos. Pandas integra las funciones más útiles para series y tablas. En esta sección, nos centraremos en las gráficas de líneas y de barras, que son la representación natural de las series temporales. Por supuesto, esta representación se puede aplicar también a series no temporales. Hay muchas formas de usar Matplotlib; pero nosotros empezaremos por la más fácil, que es usando las funciones de Pandas. Más adelante, veremos representaciones más complejas que necesitan el uso de Matplotlib puro."
   ]
  },
  {
   "cell_type": "markdown",
   "id": "6594f81f-495e-4f2c-8547-5deec40da95e",
   "metadata": {},
   "source": [
    "El uso más sencillo es la representación de una serie:"
   ]
  },
  {
   "cell_type": "code",
   "execution_count": 15,
   "id": "72a32517-0e47-44f9-a077-2cab22c3450d",
   "metadata": {},
   "outputs": [
    {
     "data": {
      "image/png": "[encoded data removed]",
      "text/plain": [
       "<Figure size 432x288 with 1 Axes>"
      ]
     },
     "metadata": {
      "needs_background": "light"
     },
     "output_type": "display_data"
    }
   ],
   "source": [
    "serie_temporal.plot()\n",
    "plt.show()"
   ]
  },
  {
   "cell_type": "markdown",
   "id": "67cbbfd6-3dc2-49f4-90cf-769995aef216",
   "metadata": {},
   "source": [
    "Este código es muy fácil de entender. En la primera línea se invoca al método <code>plot</code>, que toma la serie y representa sus valores en función del índice. Esta función automatiza muchísimos ajustes, tales como la escala, los valores representados en las etiquetas de eje, etc. Con las funciones de Matplotlib podemos personalizarlo <i>todo</i>; pero de momento, veremos algunos parámetros que podemos ajustar con Pandas. La segunda línea, si bien no es del todo necesaria en Jupyter, es conveniente. Sirve para dibujar la gráfica que previamente hemos configurado. Veremos más detalles más adelante; de momento, sólo es importante saber que, siempre que hagamos una representación gráfica, hay que incluirla justo en el punto en el que queremos que se muestre la gráfica."
   ]
  },
  {
   "cell_type": "markdown",
   "id": "5217687c-1498-4b5f-90fa-638bcef2ca8b",
   "metadata": {},
   "source": [
    "Pandas permite personalizar algunos parámetros, como el color o los marcadores:"
   ]
  },
  {
   "cell_type": "code",
   "execution_count": 16,
   "id": "d595cf35-f14e-4af3-8ece-f8119136116c",
   "metadata": {},
   "outputs": [
    {
     "data": {
      "image/png": "[encoded data removed]",
      "text/plain": [
       "<Figure size 432x288 with 1 Axes>"
      ]
     },
     "metadata": {
      "needs_background": "light"
     },
     "output_type": "display_data"
    }
   ],
   "source": [
    "serie_temporal.plot(color='red', marker='.')\n",
    "plt.show()"
   ]
  },
  {
   "cell_type": "markdown",
   "id": "446ff73a-7581-4688-b246-35b9c9bb45f7",
   "metadata": {},
   "source": [
    "Por defecto, Pandas pinta una gráfica de líneas. Para conseguir una de barras, tenemos que usar el parámetro <code>kind</code>:"
   ]
  },
  {
   "cell_type": "code",
   "execution_count": 17,
   "id": "4939df95-60a3-469f-b570-40a6a4bb7ec3",
   "metadata": {},
   "outputs": [
    {
     "data": {
      "image/png": "[encoded data removed]",
      "text/plain": [
       "<Figure size 432x288 with 1 Axes>"
      ]
     },
     "metadata": {
      "needs_background": "light"
     },
     "output_type": "display_data"
    }
   ],
   "source": [
    "serie_temporal.plot(kind='bar')\n",
    "plt.show()"
   ]
  },
  {
   "cell_type": "markdown",
   "id": "44be6b6d-7661-4600-a14b-9932cdcfc9c7",
   "metadata": {},
   "source": [
    "Las opciones de representación gráfica están documentadas <a href=\"https://pandas.pydata.org/docs/reference/api/pandas.Series.plot.html\">aquí</a>."
   ]
  },
  {
   "cell_type": "markdown",
   "id": "918c5d9e-02ee-4fac-9caa-a7a6fac6429d",
   "metadata": {},
   "source": [
    "Veamos qué sucede cuando queremos representar gráficamente un <code>DataFrame</code>:"
   ]
  },
  {
   "cell_type": "code",
   "execution_count": 18,
   "id": "4fc81333-9d05-4a2d-89cd-d50c5276643c",
   "metadata": {},
   "outputs": [
    {
     "data": {
      "image/png": "[encoded data removed]",
      "text/plain": [
       "<Figure size 432x288 with 1 Axes>"
      ]
     },
     "metadata": {
      "needs_background": "light"
     },
     "output_type": "display_data"
    }
   ],
   "source": [
    "df.plot()\n",
    "plt.show()"
   ]
  },
  {
   "cell_type": "markdown",
   "id": "2b6eb64c-8221-4f05-8b86-b778a869b98c",
   "metadata": {},
   "source": [
    "Como se puede observar, Pandas representa cada serie con un color distinto y además añade un índice. No obstante, raramente querremos representar un <code>DataFrame</code> completo, sino más bien sus columnas de forma individual o en subgrupos."
   ]
  },
  {
   "cell_type": "code",
   "execution_count": 19,
   "id": "253fe7fd-e725-40f0-9da1-44257d25c75d",
   "metadata": {},
   "outputs": [
    {
     "data": {
      "image/png": "[encoded data removed]",
      "text/plain": [
       "<Figure size 432x288 with 1 Axes>"
      ]
     },
     "metadata": {
      "needs_background": "light"
     },
     "output_type": "display_data"
    }
   ],
   "source": [
    "df.loc[:,'valor aleatorio'].plot()\n",
    "plt.show()"
   ]
  },
  {
   "cell_type": "markdown",
   "id": "2b7c518f-9fd9-4873-924c-11451863aefb",
   "metadata": {},
   "source": [
    "<p style=\"background-color:lightpink; padding:1em\"><b>Ejercicio 3</b><br/>\n",
    "    Represente en forma de gráfico de barras la serie que generó en el Ejercicio 2.\n",
    "</p>"
   ]
  },
  {
   "cell_type": "code",
   "execution_count": null,
   "id": "14ea4d98-0d5e-44cb-b843-9f751f7fbbf6",
   "metadata": {},
   "outputs": [],
   "source": []
  },
  {
   "cell_type": "markdown",
   "id": "2e6d8363-e955-4c98-9089-9d174bc72b90",
   "metadata": {},
   "source": [
    "## Conclusiones"
   ]
  },
  {
   "cell_type": "markdown",
   "id": "7179f6ef-2483-4683-9131-3127735f61be",
   "metadata": {},
   "source": [
    "En esta libreta hemos visto las series temporales, a través de los siguientes puntos:\n",
    "- El objeto <code>datetime</code>, que representa instantes temporales.\n",
    "- El índice temporal en Pandas, que permite generar <code>Series</code> y <code>DataFrame</code> de datos temporales.\n",
    "- La representación de series temporales con Pandas\n",
    "\n",
    "Hay algunas cosas que por extensión, no incluiremos en este curso, como por ejemplo, <a href=\"https://www.geeksforgeeks.org/basic-datetime-operations-in-python/\">las operaciones con objetos <code>datetime</code></a>, o las <a href=\"https://saralgyaan.com/posts/plot-time-series-in-python-matplotlib-tutorial-chapter-8/\">optimizaciones de Matplotlib</a> para ejes temporales. Además, en <a href=\"https://pandas.pydata.org/pandas-docs/stable/user_guide/timeseries.html\">la documentación de Pandas</a> podremos encontrar detalles para trabajar con series temporales más allá de las funciones básicas."
   ]
  },
  {
   "cell_type": "code",
   "execution_count": null,
   "id": "f5c1088c-c911-4f07-8570-01709a910969",
   "metadata": {},
   "outputs": [],
   "source": []
  }
 ],
 "metadata": {
  "kernelspec": {
   "display_name": "Python 3 (ipykernel)",
   "language": "python",
   "name": "python3"
  },
  "language_info": {
   "codemirror_mode": {
    "name": "ipython",
    "version": 3
   },
   "file_extension": ".py",
   "mimetype": "text/x-python",
   "name": "python",
   "nbconvert_exporter": "python",
   "pygments_lexer": "ipython3",
   "version": "3.9.13"
  }
 },
 "nbformat": 4,
 "nbformat_minor": 5
}
