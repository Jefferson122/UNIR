{
 "cells": [
  {
   "cell_type": "markdown",
   "id": "602feb0c-bc26-43fc-93bf-e420888a82e2",
   "metadata": {
    "tags": []
   },
   "source": [
    "# Selección y filtrado de datos"
   ]
  },
  {
   "cell_type": "markdown",
   "id": "66bd8832-156f-4d2b-8392-bafd8042596e",
   "metadata": {},
   "source": [
    "<img src=\"imagenes/proceso.png\" style=\"width:60em; margin: 0 auto;\"/>\n",
    "\n",
    "Una vez que se han cargado los datos de una fuente, se inicia el proceso de la selección de datos. Normalmente, un conjunto de datos se recoge con más de un fin, por lo que no todas las variables recogidas o las entradas individuales son de interés para un análisis concreto. Adicionalmente, un determinado análisis puede necesitar datos que cumplan una serie de características, por lo que hay que centrarse en ellos. "
   ]
  },
  {
   "cell_type": "markdown",
   "id": "d7dd8d94-220a-4641-8927-223b0fb1d6cb",
   "metadata": {},
   "source": [
    "---"
   ]
  },
  {
   "cell_type": "markdown",
   "id": "a4bf8773-29c9-4283-be01-2bf879440dcf",
   "metadata": {},
   "source": [
    "# Índice\n",
    "[Selección por nombre de columna y valores del índice](#Selección-por-nombre-de-columna-y-valores-del-índice) <br/>\n",
    "[Selección por filtrado de columna](#Selección-por-filtrado-de-columna) <br/>\n",
    "[Conclusiones](#Conclusiones) <br/>"
   ]
  },
  {
   "cell_type": "markdown",
   "id": "27983a6d-aa16-456f-9945-cb660ce57453",
   "metadata": {},
   "source": [
    "---"
   ]
  },
  {
   "cell_type": "markdown",
   "id": "45b48eea-fa25-4444-9e9a-c2ab94f903ed",
   "metadata": {},
   "source": [
    "Supongamos, por ejemplo, que tenemos la siguiente tabla de datos de suministro eléctrico a un hogar:\n",
    "<table>\n",
    "    <tr><th>Hora</th><th>Consumo máximo (kW)</th><th>Consumo acumulado (kWh)</th><th>Precio (€/kWh)</th><th>Tarifa</th></tr>\n",
    "    <tr><td>14:00</td><td>3.2</td><td>1.5</td><td>0.179</td><td>LLANO</td></tr>\n",
    "    <tr><td>15:00</td><td>2.5</td><td>0.9</td><td>0.172</td><td>LLANO</td></tr>\n",
    "    <tr><td>16:00</td><td>2.1</td><td>0.1</td><td>0.181</td><td>LLANO</td></tr>\n",
    "    <tr><td>17:00</td><td>2.6</td><td>0.1</td><td>0.202</td><td>LLANO</td></tr>\n",
    "    <tr><td>18:00</td><td>5.6</td><td>1.2</td><td>0.302</td><td>PUNTA</td></tr>\n",
    "    <tr><td>19:00</td><td>1.4</td><td>0.2</td><td>0.314</td><td>PUNTA</td></tr>\n",
    "</table>\n",
    "Si queremos monitorizar los picos de consumo, sólo necesitaremos la columna <code>Consumo máximo (kW)</code>, pudiendo descartar el resto para ahorrar memoria. Por otro lado, si queremos calcular la tarifa total acumulada, sólo tendremos que usar las columnas <code>Consumo acumulado (kWh)</code> y <code>Precio (€/kWh)</code>. Y si sólo la queremos calcular en horario llano, necesitaremos tomar sólo las primeras cuatro filas. En esta libreta veremos todas las operaciones necesarias para filtrar los datos que nos interesen. Y para ello, vamos a volver sobre la librería Pandas y la potente herramienta <code>.loc[]</code>."
   ]
  },
  {
   "cell_type": "code",
   "execution_count": 2,
   "id": "3a09da9f-e79e-4d9d-91f6-e7d77f4b537e",
   "metadata": {},
   "outputs": [],
   "source": [
    "import pandas as pd\n",
    "from datetime import datetime \n",
    "import matplotlib.pyplot as plt"
   ]
  },
  {
   "cell_type": "markdown",
   "id": "4dd8cc4d-dbdc-4427-8c54-d1b89e03fd71",
   "metadata": {
    "tags": []
   },
   "source": [
    "## Selección por nombre de columna y valores del índice"
   ]
  },
  {
   "cell_type": "markdown",
   "id": "3f97c63f-1562-4836-8818-be6a2c918fcc",
   "metadata": {},
   "source": [
    "En primer lugar, leemos un fichero CSV con los datos de consumo."
   ]
  },
  {
   "cell_type": "code",
   "execution_count": 3,
   "id": "5282bbd3-7af3-4c94-abfe-1277ee6af420",
   "metadata": {},
   "outputs": [],
   "source": [
    "consumo = pd.read_csv(\"datos/consumo.csv\", index_col=0, parse_dates=True)"
   ]
  },
  {
   "cell_type": "markdown",
   "id": "0d89a7db-23ac-4ec4-8ba5-741f5f15d9de",
   "metadata": {},
   "source": [
    "Nótese que se ha incluido un nuevo parámetro <code>parse_dates</code>. Esto es necesario para indicarle a Pandas que busque datos de marca temporal y los traduzca a objetos temporales. De otro modo, Pandas los puede interpretar como cadenas de texto."
   ]
  },
  {
   "cell_type": "markdown",
   "id": "a213ef35-03d4-41b9-8e8d-6165092559ea",
   "metadata": {},
   "source": [
    "Si sabemos de antemano que sólo nos interesan algunas columnas o filas determinadas, la selección es muy fácil. Ya hemos visto algunos ejemplos al introducir Pandas. Para seleccionar columnas, no tenemos más que pasar una lista de los índices que nos interesan:"
   ]
  },
  {
   "cell_type": "code",
   "execution_count": 4,
   "id": "eebe05df-8515-4e56-8c90-3786f4a57441",
   "metadata": {},
   "outputs": [
    {
     "data": {
      "text/html": [
       "<div>\n",
       "<style scoped>\n",
       "    .dataframe tbody tr th:only-of-type {\n",
       "        vertical-align: middle;\n",
       "    }\n",
       "\n",
       "    .dataframe tbody tr th {\n",
       "        vertical-align: top;\n",
       "    }\n",
       "\n",
       "    .dataframe thead th {\n",
       "        text-align: right;\n",
       "    }\n",
       "</style>\n",
       "<table border=\"1\" class=\"dataframe\">\n",
       "  <thead>\n",
       "    <tr style=\"text-align: right;\">\n",
       "      <th></th>\n",
       "      <th>Consumo acumulado (kWh)</th>\n",
       "      <th>Precio (€/kWh)</th>\n",
       "    </tr>\n",
       "  </thead>\n",
       "  <tbody>\n",
       "    <tr>\n",
       "      <th>2021-09-08 14:00:00</th>\n",
       "      <td>1.5</td>\n",
       "      <td>0.179</td>\n",
       "    </tr>\n",
       "    <tr>\n",
       "      <th>2021-09-08 15:00:00</th>\n",
       "      <td>0.9</td>\n",
       "      <td>0.172</td>\n",
       "    </tr>\n",
       "    <tr>\n",
       "      <th>2021-09-08 16:00:00</th>\n",
       "      <td>0.1</td>\n",
       "      <td>0.181</td>\n",
       "    </tr>\n",
       "    <tr>\n",
       "      <th>2021-09-08 17:00:00</th>\n",
       "      <td>0.1</td>\n",
       "      <td>0.202</td>\n",
       "    </tr>\n",
       "    <tr>\n",
       "      <th>2021-09-08 18:00:00</th>\n",
       "      <td>1.2</td>\n",
       "      <td>0.302</td>\n",
       "    </tr>\n",
       "    <tr>\n",
       "      <th>2021-09-08 19:00:00</th>\n",
       "      <td>0.2</td>\n",
       "      <td>0.314</td>\n",
       "    </tr>\n",
       "  </tbody>\n",
       "</table>\n",
       "</div>"
      ],
      "text/plain": [
       "                     Consumo acumulado (kWh)  Precio (€/kWh)\n",
       "2021-09-08 14:00:00                      1.5           0.179\n",
       "2021-09-08 15:00:00                      0.9           0.172\n",
       "2021-09-08 16:00:00                      0.1           0.181\n",
       "2021-09-08 17:00:00                      0.1           0.202\n",
       "2021-09-08 18:00:00                      1.2           0.302\n",
       "2021-09-08 19:00:00                      0.2           0.314"
      ]
     },
     "execution_count": 4,
     "metadata": {},
     "output_type": "execute_result"
    }
   ],
   "source": [
    "columnas = ['Consumo acumulado (kWh)', 'Precio (€/kWh)']\n",
    "datos_interes = consumo.loc[:,columnas]\n",
    "datos_interes"
   ]
  },
  {
   "cell_type": "markdown",
   "id": "92dd0311-2c55-481d-8716-951f320c50b5",
   "metadata": {},
   "source": [
    "Alternativamente, podemos usar <code>iloc</code> para seleccionar las columnas por su orden (empezando por 0):"
   ]
  },
  {
   "cell_type": "code",
   "execution_count": 5,
   "id": "281a4289-248d-41c8-a926-d927c213562b",
   "metadata": {},
   "outputs": [
    {
     "data": {
      "text/html": [
       "<div>\n",
       "<style scoped>\n",
       "    .dataframe tbody tr th:only-of-type {\n",
       "        vertical-align: middle;\n",
       "    }\n",
       "\n",
       "    .dataframe tbody tr th {\n",
       "        vertical-align: top;\n",
       "    }\n",
       "\n",
       "    .dataframe thead th {\n",
       "        text-align: right;\n",
       "    }\n",
       "</style>\n",
       "<table border=\"1\" class=\"dataframe\">\n",
       "  <thead>\n",
       "    <tr style=\"text-align: right;\">\n",
       "      <th></th>\n",
       "      <th>Consumo acumulado (kWh)</th>\n",
       "      <th>Precio (€/kWh)</th>\n",
       "    </tr>\n",
       "  </thead>\n",
       "  <tbody>\n",
       "    <tr>\n",
       "      <th>2021-09-08 14:00:00</th>\n",
       "      <td>1.5</td>\n",
       "      <td>0.179</td>\n",
       "    </tr>\n",
       "    <tr>\n",
       "      <th>2021-09-08 15:00:00</th>\n",
       "      <td>0.9</td>\n",
       "      <td>0.172</td>\n",
       "    </tr>\n",
       "    <tr>\n",
       "      <th>2021-09-08 16:00:00</th>\n",
       "      <td>0.1</td>\n",
       "      <td>0.181</td>\n",
       "    </tr>\n",
       "    <tr>\n",
       "      <th>2021-09-08 17:00:00</th>\n",
       "      <td>0.1</td>\n",
       "      <td>0.202</td>\n",
       "    </tr>\n",
       "    <tr>\n",
       "      <th>2021-09-08 18:00:00</th>\n",
       "      <td>1.2</td>\n",
       "      <td>0.302</td>\n",
       "    </tr>\n",
       "    <tr>\n",
       "      <th>2021-09-08 19:00:00</th>\n",
       "      <td>0.2</td>\n",
       "      <td>0.314</td>\n",
       "    </tr>\n",
       "  </tbody>\n",
       "</table>\n",
       "</div>"
      ],
      "text/plain": [
       "                     Consumo acumulado (kWh)  Precio (€/kWh)\n",
       "2021-09-08 14:00:00                      1.5           0.179\n",
       "2021-09-08 15:00:00                      0.9           0.172\n",
       "2021-09-08 16:00:00                      0.1           0.181\n",
       "2021-09-08 17:00:00                      0.1           0.202\n",
       "2021-09-08 18:00:00                      1.2           0.302\n",
       "2021-09-08 19:00:00                      0.2           0.314"
      ]
     },
     "execution_count": 5,
     "metadata": {},
     "output_type": "execute_result"
    }
   ],
   "source": [
    "consumo.iloc[:,[1,2]]"
   ]
  },
  {
   "cell_type": "markdown",
   "id": "ad9b2dd8-d0c8-4fc2-88e8-b4a39cbe5ca7",
   "metadata": {},
   "source": [
    "Ambas formas son válidas, y cada una será de mayor utilidad en cada escenario particular. Para seleccionar las filas, podemos proceder de una forma similar, teniendo en cuenta el formato del índice, que en este caso es temporal:"
   ]
  },
  {
   "cell_type": "code",
   "execution_count": 6,
   "id": "9f43e91b-9a5c-4ba9-93eb-3ec42bfa94fa",
   "metadata": {},
   "outputs": [
    {
     "data": {
      "text/html": [
       "<div>\n",
       "<style scoped>\n",
       "    .dataframe tbody tr th:only-of-type {\n",
       "        vertical-align: middle;\n",
       "    }\n",
       "\n",
       "    .dataframe tbody tr th {\n",
       "        vertical-align: top;\n",
       "    }\n",
       "\n",
       "    .dataframe thead th {\n",
       "        text-align: right;\n",
       "    }\n",
       "</style>\n",
       "<table border=\"1\" class=\"dataframe\">\n",
       "  <thead>\n",
       "    <tr style=\"text-align: right;\">\n",
       "      <th></th>\n",
       "      <th>Consumo máximo (kW)</th>\n",
       "      <th>Consumo acumulado (kWh)</th>\n",
       "      <th>Precio (€/kWh)</th>\n",
       "      <th>Tarifa</th>\n",
       "    </tr>\n",
       "  </thead>\n",
       "  <tbody>\n",
       "    <tr>\n",
       "      <th>2021-09-08 16:00:00</th>\n",
       "      <td>2.1</td>\n",
       "      <td>0.1</td>\n",
       "      <td>0.181</td>\n",
       "      <td>LLANO</td>\n",
       "    </tr>\n",
       "    <tr>\n",
       "      <th>2021-09-08 17:00:00</th>\n",
       "      <td>2.6</td>\n",
       "      <td>0.1</td>\n",
       "      <td>0.202</td>\n",
       "      <td>LLANO</td>\n",
       "    </tr>\n",
       "    <tr>\n",
       "      <th>2021-09-08 18:00:00</th>\n",
       "      <td>5.6</td>\n",
       "      <td>1.2</td>\n",
       "      <td>0.302</td>\n",
       "      <td>PUNTA</td>\n",
       "    </tr>\n",
       "  </tbody>\n",
       "</table>\n",
       "</div>"
      ],
      "text/plain": [
       "                     Consumo máximo (kW)  Consumo acumulado (kWh)  \\\n",
       "2021-09-08 16:00:00                  2.1                      0.1   \n",
       "2021-09-08 17:00:00                  2.6                      0.1   \n",
       "2021-09-08 18:00:00                  5.6                      1.2   \n",
       "\n",
       "                     Precio (€/kWh) Tarifa  \n",
       "2021-09-08 16:00:00           0.181  LLANO  \n",
       "2021-09-08 17:00:00           0.202  LLANO  \n",
       "2021-09-08 18:00:00           0.302  PUNTA  "
      ]
     },
     "execution_count": 6,
     "metadata": {},
     "output_type": "execute_result"
    }
   ],
   "source": [
    "desde = datetime.strptime(\"2021-09-08 16:00:00\", \"%Y-%m-%d %H:%M:%S\")\n",
    "hasta = datetime.strptime(\"2021-09-08 18:00:00\", \"%Y-%m-%d %H:%M:%S\")\n",
    "consumo.loc[desde:hasta,:]"
   ]
  },
  {
   "cell_type": "code",
   "execution_count": 7,
   "id": "7790d9b1-4378-4691-bad0-49ac68662ce9",
   "metadata": {},
   "outputs": [
    {
     "data": {
      "text/html": [
       "<div>\n",
       "<style scoped>\n",
       "    .dataframe tbody tr th:only-of-type {\n",
       "        vertical-align: middle;\n",
       "    }\n",
       "\n",
       "    .dataframe tbody tr th {\n",
       "        vertical-align: top;\n",
       "    }\n",
       "\n",
       "    .dataframe thead th {\n",
       "        text-align: right;\n",
       "    }\n",
       "</style>\n",
       "<table border=\"1\" class=\"dataframe\">\n",
       "  <thead>\n",
       "    <tr style=\"text-align: right;\">\n",
       "      <th></th>\n",
       "      <th>Consumo máximo (kW)</th>\n",
       "      <th>Consumo acumulado (kWh)</th>\n",
       "      <th>Precio (€/kWh)</th>\n",
       "      <th>Tarifa</th>\n",
       "    </tr>\n",
       "  </thead>\n",
       "  <tbody>\n",
       "    <tr>\n",
       "      <th>2021-09-08 16:00:00</th>\n",
       "      <td>2.1</td>\n",
       "      <td>0.1</td>\n",
       "      <td>0.181</td>\n",
       "      <td>LLANO</td>\n",
       "    </tr>\n",
       "    <tr>\n",
       "      <th>2021-09-08 17:00:00</th>\n",
       "      <td>2.6</td>\n",
       "      <td>0.1</td>\n",
       "      <td>0.202</td>\n",
       "      <td>LLANO</td>\n",
       "    </tr>\n",
       "    <tr>\n",
       "      <th>2021-09-08 18:00:00</th>\n",
       "      <td>5.6</td>\n",
       "      <td>1.2</td>\n",
       "      <td>0.302</td>\n",
       "      <td>PUNTA</td>\n",
       "    </tr>\n",
       "  </tbody>\n",
       "</table>\n",
       "</div>"
      ],
      "text/plain": [
       "                     Consumo máximo (kW)  Consumo acumulado (kWh)  \\\n",
       "2021-09-08 16:00:00                  2.1                      0.1   \n",
       "2021-09-08 17:00:00                  2.6                      0.1   \n",
       "2021-09-08 18:00:00                  5.6                      1.2   \n",
       "\n",
       "                     Precio (€/kWh) Tarifa  \n",
       "2021-09-08 16:00:00           0.181  LLANO  \n",
       "2021-09-08 17:00:00           0.202  LLANO  \n",
       "2021-09-08 18:00:00           0.302  PUNTA  "
      ]
     },
     "execution_count": 7,
     "metadata": {},
     "output_type": "execute_result"
    }
   ],
   "source": [
    "consumo.iloc[2:5,:]"
   ]
  },
  {
   "cell_type": "markdown",
   "id": "3c359eb3-3d82-407b-a44a-b37c02ada162",
   "metadata": {},
   "source": [
    "Es importante recordar que cuando pasamos un intervalo a <code>iloc</code>, excluye el valor más alto, mientras que <code>loc</code> no hace esto."
   ]
  },
  {
   "cell_type": "markdown",
   "id": "1fc94e1c-76b2-4968-a152-69c9be2a5106",
   "metadata": {},
   "source": [
    "Además, podemos combinar ambos tipos de selección:"
   ]
  },
  {
   "cell_type": "code",
   "execution_count": 8,
   "id": "08e3dda6-d1fd-47f0-b0a5-48be500b57cb",
   "metadata": {},
   "outputs": [
    {
     "data": {
      "text/html": [
       "<div>\n",
       "<style scoped>\n",
       "    .dataframe tbody tr th:only-of-type {\n",
       "        vertical-align: middle;\n",
       "    }\n",
       "\n",
       "    .dataframe tbody tr th {\n",
       "        vertical-align: top;\n",
       "    }\n",
       "\n",
       "    .dataframe thead th {\n",
       "        text-align: right;\n",
       "    }\n",
       "</style>\n",
       "<table border=\"1\" class=\"dataframe\">\n",
       "  <thead>\n",
       "    <tr style=\"text-align: right;\">\n",
       "      <th></th>\n",
       "      <th>Consumo acumulado (kWh)</th>\n",
       "      <th>Precio (€/kWh)</th>\n",
       "    </tr>\n",
       "  </thead>\n",
       "  <tbody>\n",
       "    <tr>\n",
       "      <th>2021-09-08 16:00:00</th>\n",
       "      <td>0.1</td>\n",
       "      <td>0.181</td>\n",
       "    </tr>\n",
       "    <tr>\n",
       "      <th>2021-09-08 17:00:00</th>\n",
       "      <td>0.1</td>\n",
       "      <td>0.202</td>\n",
       "    </tr>\n",
       "    <tr>\n",
       "      <th>2021-09-08 18:00:00</th>\n",
       "      <td>1.2</td>\n",
       "      <td>0.302</td>\n",
       "    </tr>\n",
       "  </tbody>\n",
       "</table>\n",
       "</div>"
      ],
      "text/plain": [
       "                     Consumo acumulado (kWh)  Precio (€/kWh)\n",
       "2021-09-08 16:00:00                      0.1           0.181\n",
       "2021-09-08 17:00:00                      0.1           0.202\n",
       "2021-09-08 18:00:00                      1.2           0.302"
      ]
     },
     "execution_count": 8,
     "metadata": {},
     "output_type": "execute_result"
    }
   ],
   "source": [
    "consumo.loc[desde:hasta,columnas]"
   ]
  },
  {
   "cell_type": "markdown",
   "id": "ea9ad33f-d587-489f-8ee1-522188ab8189",
   "metadata": {
    "tags": []
   },
   "source": [
    "## Selección por filtrado de columna"
   ]
  },
  {
   "cell_type": "markdown",
   "id": "5b96d6a3-1275-47a6-9746-260921ce823f",
   "metadata": {},
   "source": [
    "Todo lo que hemos visto hasta ahora es tan sólo un repaso de lo que vimos en su momento al introducir Pandas. La verdadera potencia de la propiedad <code>.loc[]</code> está en la posibilidad de filtrar filas que cumplan una determinada condición en una de sus columnas. Por ejemplo, si queremos filtrar aquellas filas que correspondan a la tarifa punta, lo podemos hacer con <code>.loc[condicion,columnas]</code> de la siguiente manera:"
   ]
  },
  {
   "cell_type": "code",
   "execution_count": 9,
   "id": "22e64dae-41b3-4bdd-b960-49fecd98d16b",
   "metadata": {},
   "outputs": [
    {
     "data": {
      "text/html": [
       "<div>\n",
       "<style scoped>\n",
       "    .dataframe tbody tr th:only-of-type {\n",
       "        vertical-align: middle;\n",
       "    }\n",
       "\n",
       "    .dataframe tbody tr th {\n",
       "        vertical-align: top;\n",
       "    }\n",
       "\n",
       "    .dataframe thead th {\n",
       "        text-align: right;\n",
       "    }\n",
       "</style>\n",
       "<table border=\"1\" class=\"dataframe\">\n",
       "  <thead>\n",
       "    <tr style=\"text-align: right;\">\n",
       "      <th></th>\n",
       "      <th>Consumo máximo (kW)</th>\n",
       "      <th>Consumo acumulado (kWh)</th>\n",
       "      <th>Precio (€/kWh)</th>\n",
       "      <th>Tarifa</th>\n",
       "    </tr>\n",
       "  </thead>\n",
       "  <tbody>\n",
       "    <tr>\n",
       "      <th>2021-09-08 18:00:00</th>\n",
       "      <td>5.6</td>\n",
       "      <td>1.2</td>\n",
       "      <td>0.302</td>\n",
       "      <td>PUNTA</td>\n",
       "    </tr>\n",
       "    <tr>\n",
       "      <th>2021-09-08 19:00:00</th>\n",
       "      <td>1.4</td>\n",
       "      <td>0.2</td>\n",
       "      <td>0.314</td>\n",
       "      <td>PUNTA</td>\n",
       "    </tr>\n",
       "  </tbody>\n",
       "</table>\n",
       "</div>"
      ],
      "text/plain": [
       "                     Consumo máximo (kW)  Consumo acumulado (kWh)  \\\n",
       "2021-09-08 18:00:00                  5.6                      1.2   \n",
       "2021-09-08 19:00:00                  1.4                      0.2   \n",
       "\n",
       "                     Precio (€/kWh) Tarifa  \n",
       "2021-09-08 18:00:00           0.302  PUNTA  \n",
       "2021-09-08 19:00:00           0.314  PUNTA  "
      ]
     },
     "execution_count": 9,
     "metadata": {},
     "output_type": "execute_result"
    }
   ],
   "source": [
    "consumo.loc[ consumo[\"Tarifa\"] == \"PUNTA\", : ] "
   ]
  },
  {
   "cell_type": "markdown",
   "id": "dd54c07d-84db-4b3d-8454-952fd23a660b",
   "metadata": {},
   "source": [
    "O quizás queremos ver aquellos intervalos en los que el consumo punta supera un determinado valor:"
   ]
  },
  {
   "cell_type": "code",
   "execution_count": 10,
   "id": "f2307358-88fe-4e6a-87fa-296a68cb8f44",
   "metadata": {},
   "outputs": [
    {
     "data": {
      "text/html": [
       "<div>\n",
       "<style scoped>\n",
       "    .dataframe tbody tr th:only-of-type {\n",
       "        vertical-align: middle;\n",
       "    }\n",
       "\n",
       "    .dataframe tbody tr th {\n",
       "        vertical-align: top;\n",
       "    }\n",
       "\n",
       "    .dataframe thead th {\n",
       "        text-align: right;\n",
       "    }\n",
       "</style>\n",
       "<table border=\"1\" class=\"dataframe\">\n",
       "  <thead>\n",
       "    <tr style=\"text-align: right;\">\n",
       "      <th></th>\n",
       "      <th>Consumo máximo (kW)</th>\n",
       "      <th>Consumo acumulado (kWh)</th>\n",
       "      <th>Precio (€/kWh)</th>\n",
       "      <th>Tarifa</th>\n",
       "    </tr>\n",
       "  </thead>\n",
       "  <tbody>\n",
       "    <tr>\n",
       "      <th>2021-09-08 14:00:00</th>\n",
       "      <td>3.2</td>\n",
       "      <td>1.5</td>\n",
       "      <td>0.179</td>\n",
       "      <td>LLANO</td>\n",
       "    </tr>\n",
       "    <tr>\n",
       "      <th>2021-09-08 18:00:00</th>\n",
       "      <td>5.6</td>\n",
       "      <td>1.2</td>\n",
       "      <td>0.302</td>\n",
       "      <td>PUNTA</td>\n",
       "    </tr>\n",
       "  </tbody>\n",
       "</table>\n",
       "</div>"
      ],
      "text/plain": [
       "                     Consumo máximo (kW)  Consumo acumulado (kWh)  \\\n",
       "2021-09-08 14:00:00                  3.2                      1.5   \n",
       "2021-09-08 18:00:00                  5.6                      1.2   \n",
       "\n",
       "                     Precio (€/kWh) Tarifa  \n",
       "2021-09-08 14:00:00           0.179  LLANO  \n",
       "2021-09-08 18:00:00           0.302  PUNTA  "
      ]
     },
     "execution_count": 10,
     "metadata": {},
     "output_type": "execute_result"
    }
   ],
   "source": [
    "consumo.loc[ consumo[\"Consumo máximo (kW)\"] > 3, : ] "
   ]
  },
  {
   "cell_type": "markdown",
   "id": "b53bd403-b3de-48a9-8ba1-119341b2745a",
   "metadata": {},
   "source": [
    "Las posibilidades son infinitas. Podemos incluso combinar condiciones con los operadores <code>&</code> (Y) y <code>|</code> (O). Para ver aquellos intervalos en hora punta <b>y</b> con un consumo máximo mayor que 3 kW haremos:"
   ]
  },
  {
   "cell_type": "code",
   "execution_count": 11,
   "id": "1b765add-49db-4fa2-9af2-454b236feddc",
   "metadata": {},
   "outputs": [
    {
     "data": {
      "text/html": [
       "<div>\n",
       "<style scoped>\n",
       "    .dataframe tbody tr th:only-of-type {\n",
       "        vertical-align: middle;\n",
       "    }\n",
       "\n",
       "    .dataframe tbody tr th {\n",
       "        vertical-align: top;\n",
       "    }\n",
       "\n",
       "    .dataframe thead th {\n",
       "        text-align: right;\n",
       "    }\n",
       "</style>\n",
       "<table border=\"1\" class=\"dataframe\">\n",
       "  <thead>\n",
       "    <tr style=\"text-align: right;\">\n",
       "      <th></th>\n",
       "      <th>Consumo máximo (kW)</th>\n",
       "      <th>Consumo acumulado (kWh)</th>\n",
       "      <th>Precio (€/kWh)</th>\n",
       "      <th>Tarifa</th>\n",
       "    </tr>\n",
       "  </thead>\n",
       "  <tbody>\n",
       "    <tr>\n",
       "      <th>2021-09-08 18:00:00</th>\n",
       "      <td>5.6</td>\n",
       "      <td>1.2</td>\n",
       "      <td>0.302</td>\n",
       "      <td>PUNTA</td>\n",
       "    </tr>\n",
       "  </tbody>\n",
       "</table>\n",
       "</div>"
      ],
      "text/plain": [
       "                     Consumo máximo (kW)  Consumo acumulado (kWh)  \\\n",
       "2021-09-08 18:00:00                  5.6                      1.2   \n",
       "\n",
       "                     Precio (€/kWh) Tarifa  \n",
       "2021-09-08 18:00:00           0.302  PUNTA  "
      ]
     },
     "execution_count": 11,
     "metadata": {},
     "output_type": "execute_result"
    }
   ],
   "source": [
    "consumo.loc[ (consumo[\"Consumo máximo (kW)\"] > 3) & ( consumo[\"Tarifa\"] == \"PUNTA\"), : ] "
   ]
  },
  {
   "cell_type": "markdown",
   "id": "504721d6-c902-4363-a3f2-89ba8e6236c5",
   "metadata": {},
   "source": [
    "Para ver aquellos intervalos en hora punta <b>o</b> con un consumo máximo mayor que 3 kW haremos:"
   ]
  },
  {
   "cell_type": "code",
   "execution_count": 12,
   "id": "e0fcd058-dadb-4297-8b1b-a1e290ca2501",
   "metadata": {},
   "outputs": [
    {
     "data": {
      "text/html": [
       "<div>\n",
       "<style scoped>\n",
       "    .dataframe tbody tr th:only-of-type {\n",
       "        vertical-align: middle;\n",
       "    }\n",
       "\n",
       "    .dataframe tbody tr th {\n",
       "        vertical-align: top;\n",
       "    }\n",
       "\n",
       "    .dataframe thead th {\n",
       "        text-align: right;\n",
       "    }\n",
       "</style>\n",
       "<table border=\"1\" class=\"dataframe\">\n",
       "  <thead>\n",
       "    <tr style=\"text-align: right;\">\n",
       "      <th></th>\n",
       "      <th>Consumo máximo (kW)</th>\n",
       "      <th>Consumo acumulado (kWh)</th>\n",
       "      <th>Precio (€/kWh)</th>\n",
       "      <th>Tarifa</th>\n",
       "    </tr>\n",
       "  </thead>\n",
       "  <tbody>\n",
       "    <tr>\n",
       "      <th>2021-09-08 14:00:00</th>\n",
       "      <td>3.2</td>\n",
       "      <td>1.5</td>\n",
       "      <td>0.179</td>\n",
       "      <td>LLANO</td>\n",
       "    </tr>\n",
       "    <tr>\n",
       "      <th>2021-09-08 18:00:00</th>\n",
       "      <td>5.6</td>\n",
       "      <td>1.2</td>\n",
       "      <td>0.302</td>\n",
       "      <td>PUNTA</td>\n",
       "    </tr>\n",
       "    <tr>\n",
       "      <th>2021-09-08 19:00:00</th>\n",
       "      <td>1.4</td>\n",
       "      <td>0.2</td>\n",
       "      <td>0.314</td>\n",
       "      <td>PUNTA</td>\n",
       "    </tr>\n",
       "  </tbody>\n",
       "</table>\n",
       "</div>"
      ],
      "text/plain": [
       "                     Consumo máximo (kW)  Consumo acumulado (kWh)  \\\n",
       "2021-09-08 14:00:00                  3.2                      1.5   \n",
       "2021-09-08 18:00:00                  5.6                      1.2   \n",
       "2021-09-08 19:00:00                  1.4                      0.2   \n",
       "\n",
       "                     Precio (€/kWh) Tarifa  \n",
       "2021-09-08 14:00:00           0.179  LLANO  \n",
       "2021-09-08 18:00:00           0.302  PUNTA  \n",
       "2021-09-08 19:00:00           0.314  PUNTA  "
      ]
     },
     "execution_count": 12,
     "metadata": {},
     "output_type": "execute_result"
    }
   ],
   "source": [
    "consumo.loc[ (consumo[\"Consumo máximo (kW)\"] > 3) | ( consumo[\"Tarifa\"] == \"PUNTA\"), : ] "
   ]
  },
  {
   "cell_type": "markdown",
   "id": "b95fdf05-35e3-4479-9efb-960dec6ccd0a",
   "metadata": {},
   "source": [
    "Aquí podríamos estar tentados de usar los operadores <code>and</code> y <code>or</code> de Python, pero por la forma en la que está implementado Pandas, no se puede hacer esto."
   ]
  },
  {
   "cell_type": "markdown",
   "id": "1255f4ae-c039-4e1b-a47f-06823bc032b9",
   "metadata": {},
   "source": [
    "<div style=\"background-color:lightpink; padding:1em\"><b>Ejercicio 1</b><br/>\n",
    "    <p>Represente una gráfica en la que se observe el consumo máximo y el consumo acumulado como una gráfica de lineas, sólo en horas de tarifa llana.</p>\n",
    "    <ul>\n",
    "    </ul>\n",
    "</div>"
   ]
  },
  {
   "cell_type": "code",
   "execution_count": null,
   "id": "0c2aec7f-7aa8-4d6e-a7c2-3acb4437e0ea",
   "metadata": {},
   "outputs": [],
   "source": []
  },
  {
   "cell_type": "markdown",
   "id": "5174ee3a-1c3b-4453-8cd1-d6a6ac9e958e",
   "metadata": {
    "tags": []
   },
   "source": [
    "## Conclusiones"
   ]
  },
  {
   "cell_type": "markdown",
   "id": "cf93ddd2-5bdf-41f7-b835-e4cff9e98615",
   "metadata": {},
   "source": [
    "En esta libreta hemos visto las operaciones básicas de filtrado. Si bien es un número muy pequeño de operaciones, éstas ofrecen una gran potencia a la hora de manipular datos. Son una parte esencial del análisis de datos, y están presentes en otras tecnologías también. La operación <code>SELECT</code> es, por ejemplo, la principal funcionalidad del lenguaje SQL, utilizado en bases de datos. Pandas simplifica y hace intuitiva esta operación. De hecho, estas operaciones (junto a la posibilidad de aplicar funciones sobre las filas, como veremos más adelante) son la clave del triunfo de Pandas en analítica de datos."
   ]
  }
 ],
 "metadata": {
  "kernelspec": {
   "display_name": "Python 3 (ipykernel)",
   "language": "python",
   "name": "python3"
  },
  "language_info": {
   "codemirror_mode": {
    "name": "ipython",
    "version": 3
   },
   "file_extension": ".py",
   "mimetype": "text/x-python",
   "name": "python",
   "nbconvert_exporter": "python",
   "pygments_lexer": "ipython3",
   "version": "3.9.13"
  }
 },
 "nbformat": 4,
 "nbformat_minor": 5
}
