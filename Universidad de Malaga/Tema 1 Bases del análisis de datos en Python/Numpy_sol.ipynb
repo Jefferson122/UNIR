{
 "cells": [
  {
   "cell_type": "code",
   "execution_count": 2,
   "id": "0d471413-b3d3-483a-b8f7-c863033be76c",
   "metadata": {},
   "outputs": [],
   "source": [
    "import numpy as np"
   ]
  },
  {
   "cell_type": "markdown",
   "id": "fcbea0a3-6a38-4b47-86bf-baf61dc30774",
   "metadata": {
    "tags": []
   },
   "source": [
    "# Librería Numpy"
   ]
  },
  {
   "cell_type": "markdown",
   "id": "831986ca-7c24-488a-a587-0e764602c1cf",
   "metadata": {
    "jp-MarkdownHeadingCollapsed": true,
    "tags": []
   },
   "source": [
    "<p style=\"background-color:lightpink; padding:1em\"><b>Ejercicio 1</b><br/>\n",
    "    Defina las siguientes matrices: <br/>\n",
    "    $A=\\begin{bmatrix}\n",
    "    3 & 2 & 1\\\\\n",
    "    2 & 1 & 3\n",
    "    \\end{bmatrix}\n",
    "    B=\\begin{bmatrix}\n",
    "    3 & 0 & 0\\\\\n",
    "    0 & 3 & 0\\\\\n",
    "    0 & 0 & 3\n",
    "    \\end{bmatrix}\n",
    "    C=\\begin{bmatrix}\n",
    "    1 & 0 & 4 & 6 & 3 & 4\n",
    "    \\end{bmatrix}$ \n",
    "</p>"
   ]
  },
  {
   "cell_type": "code",
   "execution_count": 3,
   "id": "888931ba-33fe-4dc6-826f-170fbe4a8161",
   "metadata": {},
   "outputs": [
    {
     "name": "stdout",
     "output_type": "stream",
     "text": [
      "[[3 2 1]\n",
      " [2 1 3]]\n",
      "[[3 0 0]\n",
      " [0 3 0]\n",
      " [0 0 3]]\n",
      "[1 0 4 6 3 4]\n"
     ]
    }
   ],
   "source": [
    "A = np.array([[3, 2, 1],\n",
    "              [2, 1, 3]])\n",
    "\n",
    "B = np.array([[3, 0, 0],\n",
    "              [0, 3, 0],\n",
    "              [0, 0, 3]])\n",
    "\n",
    "C = np.array([1, 0, 4, 6, 3, 4])\n",
    "\n",
    "print(A)\n",
    "print(B)\n",
    "print(C)"
   ]
  },
  {
   "cell_type": "markdown",
   "id": "0c1d0fcb-34f1-480f-8944-80911ada7811",
   "metadata": {},
   "source": [
    "<p style=\"background-color:lightpink; padding:1em\"><b>Ejercicio 2</b><br/>\n",
    "    Asigne las variables a los valores contenidos en las matrices de la siguiente manera: <br/>\n",
    "    <code>a02</code>=$A(0,2)$<br/>\n",
    "    <code>b11</code>=$B(1,1)$<br/>\n",
    "    <code>c3</code>=$C(3)$<br/>\n",
    "    <code>b0</code>=primera columna de $B$<br/>\n",
    "    <code>cpar</code>=todos los elementos en posiciones pares de $C$\n",
    "</p>"
   ]
  },
  {
   "cell_type": "code",
   "execution_count": 4,
   "id": "e8605312-2f92-458d-99a1-1289bd412cd7",
   "metadata": {},
   "outputs": [
    {
     "name": "stdout",
     "output_type": "stream",
     "text": [
      "1\n",
      "3\n",
      "6\n",
      "[3 0 0]\n",
      "[1 4 3]\n"
     ]
    }
   ],
   "source": [
    "a02 = A[0,2]\n",
    "b11 = B[1,1]\n",
    "c3 = C[3]\n",
    "b0 = B[:,0]\n",
    "cpar = C[::2]\n",
    "\n",
    "print(a02)\n",
    "print(b11)\n",
    "print(c3)\n",
    "print(b0)\n",
    "print(cpar)"
   ]
  },
  {
   "cell_type": "markdown",
   "id": "d86e9b24-88ba-46c9-9b72-560baef8b554",
   "metadata": {},
   "source": [
    "<p style=\"background-color:lightpink; padding:1em\"><b>Ejercicio 3</b><br/>\n",
    "    Defina el siguiente vector y multiplique sus valores por 10: <br/>\n",
    "    $\n",
    "    L=\\begin{bmatrix}\n",
    "    0.3 & -0.1 & 0.2 & 0.7 & -0.3 & 0.1\n",
    "    \\end{bmatrix}$ <br/>\n",
    "    $L_{10} = 10\\cdot L$\n",
    "</p>"
   ]
  },
  {
   "cell_type": "code",
   "execution_count": 5,
   "id": "6a4a95ca-3f84-429f-98f0-1345306bb790",
   "metadata": {},
   "outputs": [
    {
     "name": "stdout",
     "output_type": "stream",
     "text": [
      "[ 0.3 -0.1  0.2  0.7 -0.3  0.1]\n",
      "[ 3. -1.  2.  7. -3.  1.]\n"
     ]
    }
   ],
   "source": [
    "L = np.array([0.3, -0.1, 0.2, 0.7, -0.3, 0.1])\n",
    "L10 = 10*L\n",
    "\n",
    "print(L)\n",
    "print(L10)"
   ]
  },
  {
   "cell_type": "markdown",
   "id": "6a45520f-a04a-4b58-aba0-5debe12cd727",
   "metadata": {},
   "source": [
    "<p style=\"background-color:lightpink; padding:1em\"><b>Ejercicio 4</b><br/>\n",
    "    Defina la siguiente matriz y realice la operación indicada: <br/>\n",
    "    $\n",
    "    M=\\begin{bmatrix}\n",
    "    2 & 1 \\\\\n",
    "    3 & 2 \n",
    "    \\end{bmatrix}$ <br/>\n",
    "    $M_p = M \\cdot M^T$\n",
    "</p>"
   ]
  },
  {
   "cell_type": "code",
   "execution_count": 6,
   "id": "b661e4cc-b6ac-4c64-8300-ec34851a1703",
   "metadata": {},
   "outputs": [
    {
     "name": "stdout",
     "output_type": "stream",
     "text": [
      "[[2 1]\n",
      " [3 2]]\n",
      "[[ 5  8]\n",
      " [ 8 13]]\n"
     ]
    }
   ],
   "source": [
    "M = np.array([[2, 1],\n",
    "              [3, 2]])\n",
    "\n",
    "Mp = M @ M.T\n",
    "\n",
    "print(M)\n",
    "print(Mp)"
   ]
  },
  {
   "cell_type": "markdown",
   "id": "ca0254bc-fe39-4f45-8ba8-94d348524c17",
   "metadata": {},
   "source": [
    "<p style=\"background-color:lightpink; padding:1em\"><b>Ejercicio 5</b><br/>\n",
    "    Genere una matriz de 4x2 con valores aleatorios\n",
    "</p>"
   ]
  },
  {
   "cell_type": "code",
   "execution_count": 7,
   "id": "a86db068-1cfd-4d54-8811-3824144f294f",
   "metadata": {},
   "outputs": [
    {
     "data": {
      "text/plain": [
       "array([[ 0.19352372,  0.37136295],\n",
       "       [ 0.97150147, -2.08271216],\n",
       "       [-2.90234174, -0.06999893],\n",
       "       [-0.73299989, -0.16796516]])"
      ]
     },
     "execution_count": 7,
     "metadata": {},
     "output_type": "execute_result"
    }
   ],
   "source": [
    "np.random.randn(4,2)"
   ]
  },
  {
   "cell_type": "markdown",
   "id": "243cc9b5-3fd5-4bcd-8710-b9f1834d3c09",
   "metadata": {},
   "source": [
    "<p style=\"background-color:lightpink; padding:1em\"><b>Ejercicio 6</b><br/>\n",
    "    Defina una secuencia de números entre -10 y 10 con separación de 2\n",
    "</p>"
   ]
  },
  {
   "cell_type": "code",
   "execution_count": 8,
   "id": "9773a1bb-a782-41a3-a056-6ac6c7df7398",
   "metadata": {},
   "outputs": [
    {
     "data": {
      "text/plain": [
       "array([-10,  -8,  -6,  -4,  -2,   0,   2,   4,   6,   8])"
      ]
     },
     "execution_count": 8,
     "metadata": {},
     "output_type": "execute_result"
    }
   ],
   "source": [
    "np.arange(-10, 10, 2)"
   ]
  },
  {
   "cell_type": "markdown",
   "id": "f34c377b-558b-4f81-ada9-66a0de91c9c5",
   "metadata": {},
   "source": [
    "<p style=\"background-color:lightpink; padding:1em\"><b>Ejercicio 7</b><br/>\n",
    "    Defina una función de Python que tome a su entrada un array y devuelva un array sólo con los elementos en posiciones impares, elevados al cuadrado.<br/>\n",
    "    La cabecera de la función es la siguiente:<br/>\n",
    "    <code>def funcion_ejercicio(array_entrada):</code><br/>\n",
    "</p>"
   ]
  },
  {
   "cell_type": "code",
   "execution_count": 11,
   "id": "9f2f8eff-cf61-4118-aace-8f680e0656ae",
   "metadata": {},
   "outputs": [
    {
     "data": {
      "text/plain": [
       "array([ 0,  1,  4,  9, 16, 25, 36], dtype=int32)"
      ]
     },
     "execution_count": 11,
     "metadata": {},
     "output_type": "execute_result"
    }
   ],
   "source": [
    "def funcion_ejercicio(array_entrada):\n",
    "    elementos_pares = array_entrada[::1]\n",
    "    return np.power(elementos_pares, 2)\n",
    "\n",
    "funcion_ejercicio(np.array([0, 1, 2, 3, 4, 5, 6]))"
   ]
  },
  {
   "cell_type": "code",
   "execution_count": null,
   "id": "6f892ab9",
   "metadata": {},
   "outputs": [],
   "source": []
  }
 ],
 "metadata": {
  "kernelspec": {
   "display_name": "Python 3 (ipykernel)",
   "language": "python",
   "name": "python3"
  },
  "language_info": {
   "codemirror_mode": {
    "name": "ipython",
    "version": 3
   },
   "file_extension": ".py",
   "mimetype": "text/x-python",
   "name": "python",
   "nbconvert_exporter": "python",
   "pygments_lexer": "ipython3",
   "version": "3.9.7"
  }
 },
 "nbformat": 4,
 "nbformat_minor": 5
}
