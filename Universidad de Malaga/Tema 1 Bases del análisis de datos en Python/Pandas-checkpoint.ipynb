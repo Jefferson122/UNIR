{
 "cells": [
  {
   "cell_type": "markdown",
   "id": "5ec26afc-0057-4448-9f57-5bbe457a08da",
   "metadata": {},
   "source": [
    "# Librería Pandas (tipos de dato)"
   ]
  },
  {
   "cell_type": "markdown",
   "id": "301aba52-2542-46a5-9a82-539ff4a00c94",
   "metadata": {},
   "source": [
    "En esta libreta se presenta una introducción a la librería Pandas. Al igual que Numpy, Pandas provee nuevos tipo de dato (principalmente, el objeto <code>Series</code> y el <code>DataFrame</code>, y todo un ecosistema de funciones alrededor de éstos. A pesar de que pueda parecer una contribución menor, Pandas cambia completamente el flujo de trabajo con datos en Python, haciéndolo mucho más intuitivo y fácil. Internamente, Pandas utiliza los mecanismos de Numpy, heredando por tanto su eficiencia.\n",
    "\n",
    "Mientras Numpy es la base de muchas librerías que usaremos en este curso, Pandas es la base de todo nuestro flujo de trabajo. Mayoritariamente, cargaremos nuestros datos en un objeto de Pandas sobre el que realizaremos las distintas tareas de análisis de datos."
   ]
  },
  {
   "cell_type": "markdown",
   "id": "efba325b-82c8-4386-83ad-48aec8196898",
   "metadata": {},
   "source": [
    "---"
   ]
  },
  {
   "cell_type": "markdown",
   "id": "339c5d62-50f6-4985-a833-11893bff1f58",
   "metadata": {},
   "source": [
    "# Índice\n",
    "[El objeto Series](#El-objeto-Series) <br/>\n",
    "&nbsp;&nbsp;&nbsp;&nbsp; [Operaciones sobre Series](#Operaciones-sobre-Series) <br/>\n",
    "[El objeto DataFrame](#El-objeto-DataFrame) <br/>\n",
    "&nbsp;&nbsp;&nbsp;&nbsp; [Añadir y quitar columnas/filas](#Añadir-y-quitar-columnas/filas) <br/>\n",
    "&nbsp;&nbsp;&nbsp;&nbsp; [Operaciones sobre DataFrames](#Operaciones-sobre-DataFrames) <br/>\n",
    "[Conclusiones](#Conclusiones) <br/>"
   ]
  },
  {
   "cell_type": "markdown",
   "id": "6d204b5f-d045-48a5-a6f9-1534fc87aa15",
   "metadata": {},
   "source": [
    "---"
   ]
  },
  {
   "cell_type": "code",
   "execution_count": 1,
   "id": "79920064-9f5d-4255-a097-90daf010c004",
   "metadata": {},
   "outputs": [],
   "source": [
    "import pandas as pd   #Nuevo: librería Pandas"
   ]
  },
  {
   "cell_type": "markdown",
   "id": "b38b9e48-2ab8-4118-af8b-fb0f7a303889",
   "metadata": {
    "tags": []
   },
   "source": [
    "## El objeto <code>Series</code>"
   ]
  },
  {
   "cell_type": "markdown",
   "id": "f18a21df-4e32-42ed-9dd8-c7ab0804cf6f",
   "metadata": {},
   "source": [
    "El objeto <code>Series</code> representa un array de datos ordenados. Posee dos elementos: el array de datos, y el array de índice. Ambos pueden contener casi cualquier tipo de datos (enteros, decimales, cadenas, etc.), con la salvedad de que en el índice no puede haber elementos repetidos. Podemos declarar un objeto <code>Series</code> de varias maneras. La más sencilla es con una lista de valores predeterminados:"
   ]
  },
  {
   "cell_type": "code",
   "execution_count": 2,
   "id": "e8c38650-c240-48e8-9651-b60042ba4d31",
   "metadata": {},
   "outputs": [
    {
     "name": "stdout",
     "output_type": "stream",
     "text": [
      "0    0.1\n",
      "1    1.2\n",
      "2    7.1\n",
      "3    3.3\n",
      "4    6.3\n",
      "5    2.3\n",
      "6    9.2\n",
      "dtype: float64\n"
     ]
    }
   ],
   "source": [
    "s = pd.Series([0.1, 1.2, 7.1, 3.3, 6.3, 2.3, 9.2])\n",
    "print(s)"
   ]
  },
  {
   "cell_type": "markdown",
   "id": "f1e87da6-39e8-47d3-befa-e93a1be1cfc7",
   "metadata": {},
   "source": [
    "En este caso, se genera un índice de enteros de forma automática. Podemos acceder a los elementos de la serie de diversas formas. La primera es el indexado ya utilizado en listas:"
   ]
  },
  {
   "cell_type": "code",
   "execution_count": 3,
   "id": "65c2f8ec-40d6-41a1-8ae8-d35733e527fd",
   "metadata": {},
   "outputs": [
    {
     "name": "stdout",
     "output_type": "stream",
     "text": [
      "Tercer valor\n",
      "7.1\n",
      "Primeros dos valores de la serie:\n",
      "0    0.1\n",
      "1    1.2\n",
      "dtype: float64\n",
      "Últimos valores de la serie a partir del quinto (posición 4):\n",
      "4    6.3\n",
      "5    2.3\n",
      "6    9.2\n",
      "dtype: float64\n",
      "Valores entre el cuarto (posición 3) y el quinto:\n",
      "3    3.3\n",
      "4    6.3\n",
      "dtype: float64\n"
     ]
    }
   ],
   "source": [
    "print(\"Tercer valor\")\n",
    "print(s[2])\n",
    "\n",
    "print(\"Primeros dos valores de la serie:\")\n",
    "print(s[:2])\n",
    "\n",
    "print(\"Últimos valores de la serie a partir del quinto (posición 4):\")\n",
    "print(s[4:])\n",
    "\n",
    "print(\"Valores entre el cuarto (posición 3) y el quinto:\")\n",
    "print(s[3:5])"
   ]
  },
  {
   "cell_type": "markdown",
   "id": "6839f084-2e86-4dff-82ab-05854d9695da",
   "metadata": {},
   "source": [
    "Esta forma no es muy recomendable con los objetos de Pandas, dado que en algunos casos (cuando el índice no son números enteros iniciados en 0) puede ser un poco ambigua. La forma recomendable es usando las siguientes propiedades del objeto <code>Series</code>:\n",
    "- <code>.loc[k]</code>: devuelve el elemento situado en el índice <code>k</code>, donde <code>k</code> es del tipo usado en el índice.\n",
    "- <code>.iloc[i]</code>: devuelve el elemento situado en la posición <code>i</code>, donde <code>i</code> es un entero, empezando en 0 para la primera posición.\n",
    "\n",
    "En este caso, dado que el índice es de enteros inciados en cero, ambas funciones son equivalentes. \n",
    "\n",
    "La propiedad <code>.iloc</code>, se usa exactamente de la misma manera que el indexado de listas:"
   ]
  },
  {
   "cell_type": "code",
   "execution_count": 4,
   "id": "df3c6178-245b-49fd-b4d5-1827227926b3",
   "metadata": {},
   "outputs": [
    {
     "name": "stdout",
     "output_type": "stream",
     "text": [
      "Tercer valor\n",
      "7.1\n",
      "Primeros dos valores de la serie:\n",
      "0    0.1\n",
      "1    1.2\n",
      "dtype: float64\n",
      "Últimos valores de la serie a partir del quinto (posición 4):\n",
      "4    6.3\n",
      "5    2.3\n",
      "6    9.2\n",
      "dtype: float64\n",
      "Valores entre el cuarto (posición 3) y el quinto:\n",
      "3    3.3\n",
      "4    6.3\n",
      "dtype: float64\n"
     ]
    }
   ],
   "source": [
    "print(\"Tercer valor\")\n",
    "print(s.iloc[2])\n",
    "\n",
    "print(\"Primeros dos valores de la serie:\")\n",
    "print(s.iloc[:2])\n",
    "\n",
    "print(\"Últimos valores de la serie a partir del quinto (posición 4):\")\n",
    "print(s.iloc[4:])\n",
    "\n",
    "print(\"Valores entre el cuarto (posición 3) y el quinto:\")\n",
    "print(s.iloc[3:5])\n",
    "\n"
   ]
  },
  {
   "cell_type": "markdown",
   "id": "a42c7ce0-394c-4a61-a864-9b8775f802e2",
   "metadata": {},
   "source": [
    "Para ver la propiedad <code>.loc</code>, generaremos antes una serie con un índice formado por caracteres:"
   ]
  },
  {
   "cell_type": "code",
   "execution_count": 5,
   "id": "21d0aca6-2523-4f13-b899-a9f26d11a518",
   "metadata": {},
   "outputs": [
    {
     "name": "stdout",
     "output_type": "stream",
     "text": [
      "a          Ana\n",
      "b        Borja\n",
      "c     Cristina\n",
      "d       Daniel\n",
      "e    Estefanía\n",
      "f    Francisco\n",
      "dtype: object\n"
     ]
    }
   ],
   "source": [
    "nombres = pd.Series(['Ana', 'Borja', 'Cristina', 'Daniel', 'Estefanía', 'Francisco'], \n",
    "                    index=['a','b','c','d','e','f'])\n",
    "print(nombres)"
   ]
  },
  {
   "cell_type": "code",
   "execution_count": 6,
   "id": "3db203ed-5ac2-4a22-b4c9-49582844bbae",
   "metadata": {},
   "outputs": [],
   "source": [
    "# print(\"Valor en la posición c\")\n",
    "# print(nombres.loc['c'])\n",
    "\n",
    "# print(\"Primeros dos valores de la serie:\")\n",
    "# print(nombres.loc[:'b'])\n",
    "\n",
    "# print(\"Últimos valores de la serie:\")\n",
    "# print(nombres.loc['d':])\n",
    "\n",
    "# print(\"Valores entre c y e\")\n",
    "# print(nombres.loc['c':'e'])\n"
   ]
  },
  {
   "cell_type": "markdown",
   "id": "13686b56-a7ba-4b0e-b05a-b818ae2f09a7",
   "metadata": {},
   "source": [
    "A diferencia del indexado en listas y con <code>.iloc</code>, con <code>.loc</code> los límites superiores de los intervalos están incluidos en los resultados."
   ]
  },
  {
   "cell_type": "markdown",
   "id": "6bfa4da0-6588-4e03-8feb-4792b60bd40c",
   "metadata": {},
   "source": [
    "Del mismo modo, podemos modificar valores concretos de una serie:"
   ]
  },
  {
   "cell_type": "code",
   "execution_count": 7,
   "id": "8c9a6502-3839-40d9-8828-00198d62c263",
   "metadata": {},
   "outputs": [
    {
     "name": "stdout",
     "output_type": "stream",
     "text": [
      "a       Ainhoa\n",
      "b        Borja\n",
      "c     Cristina\n",
      "d        David\n",
      "e    Esperanza\n",
      "f       Felipe\n",
      "dtype: object\n"
     ]
    }
   ],
   "source": [
    "nombres.loc['a'] = \"Ainhoa\"\n",
    "nombres.loc['d':'f'] = [\"David\", \"Esperanza\", \"Felipe\"]\n",
    "print(nombres)"
   ]
  },
  {
   "cell_type": "markdown",
   "id": "154eccca-cc01-43c9-b81f-72fb69f9c0d7",
   "metadata": {},
   "source": [
    "También podemos acceder a los elementos del índice con la propiedad <code>.index</code>, que se comporta como una lista:"
   ]
  },
  {
   "cell_type": "code",
   "execution_count": 8,
   "id": "7bb30c67-2789-44d8-8833-73771ee1a091",
   "metadata": {},
   "outputs": [
    {
     "data": {
      "text/plain": [
       "Index(['a', 'b', 'c', 'd', 'e', 'f'], dtype='object')"
      ]
     },
     "execution_count": 8,
     "metadata": {},
     "output_type": "execute_result"
    }
   ],
   "source": [
    "nombres.index"
   ]
  },
  {
   "cell_type": "code",
   "execution_count": 9,
   "id": "cb29aa54-9773-429d-9622-ed12f14205de",
   "metadata": {},
   "outputs": [
    {
     "data": {
      "text/plain": [
       "Index(['d', 'e', 'f'], dtype='object')"
      ]
     },
     "execution_count": 9,
     "metadata": {},
     "output_type": "execute_result"
    }
   ],
   "source": [
    "nombres.index[3:]"
   ]
  },
  {
   "cell_type": "markdown",
   "id": "7f102de4-c7e5-433e-ad67-6650857484f9",
   "metadata": {},
   "source": [
    "<div style=\"background-color:lightpink; padding:1em\"><p><b>Ejercicio 1</b><br/>\n",
    "    Defina la siguiente serie de datos con un índice de enteros y cadenas de caracteres como valores: <br/>\n",
    "</p>\n",
    "    <table> \n",
    "        <tr><th>Índice</th><th>Valores</th></tr>\n",
    "        <tr><td>10</td><td>X</td></tr>\n",
    "        <tr><td>20</td><td>XX</td></tr>\n",
    "        <tr><td>30</td><td>XXX</td></tr>\n",
    "        <tr><td>40</td><td>XL</td></tr>\n",
    "        <tr><td>50</td><td>L</td></tr>\n",
    "    </table>\n",
    "    \n",
    "</div>"
   ]
  },
  {
   "cell_type": "code",
   "execution_count": null,
   "id": "dd705b77-df72-4c2b-b50e-a4d723d4e841",
   "metadata": {},
   "outputs": [],
   "source": []
  },
  {
   "cell_type": "markdown",
   "id": "efc41bfd-cb3e-4d33-a51f-7d3977095f91",
   "metadata": {},
   "source": [
    "Aquí hemos visto lo básico para generar series. Volveremos a verlas de forma recurrente."
   ]
  },
  {
   "cell_type": "markdown",
   "id": "3609f273-f602-4b8a-b5a2-041e2c70d33f",
   "metadata": {
    "tags": []
   },
   "source": [
    "### Operaciones sobre <code>Series</code>"
   ]
  },
  {
   "cell_type": "markdown",
   "id": "93325a27-94b2-4bf4-bee4-5cc6d149a777",
   "metadata": {},
   "source": [
    "Con Pandas, almacenamos datos en <code>Series</code> para facilitarnos la vida a la hora de hacer cálculos con los datos. De este modo, operaciones como la <a href=\"https://pandas.pydata.org/docs/reference/api/pandas.Series.sum.html\">suma<a>:"
   ]
  },
  {
   "cell_type": "code",
   "execution_count": 10,
   "id": "aae4d1ea-9662-4de0-bf8b-9703c4620a8a",
   "metadata": {},
   "outputs": [
    {
     "data": {
      "text/plain": [
       "29.5"
      ]
     },
     "execution_count": 10,
     "metadata": {},
     "output_type": "execute_result"
    }
   ],
   "source": [
    "s.sum()"
   ]
  },
  {
   "cell_type": "markdown",
   "id": "cc3e8ad5-9795-4867-b7c7-f745e6aa98b8",
   "metadata": {},
   "source": [
    "la <a href=\"https://pandas.pydata.org/docs/reference/api/pandas.Series.mean.html\">media</a>:"
   ]
  },
  {
   "cell_type": "code",
   "execution_count": 11,
   "id": "124d87ca-224d-413e-bf2a-cd722df45348",
   "metadata": {},
   "outputs": [
    {
     "data": {
      "text/plain": [
       "4.214285714285714"
      ]
     },
     "execution_count": 11,
     "metadata": {},
     "output_type": "execute_result"
    }
   ],
   "source": [
    "s.mean()"
   ]
  },
  {
   "cell_type": "markdown",
   "id": "fd90b883-245c-43b1-8931-0649f647a8e0",
   "metadata": {},
   "source": [
    "o el cálculo de los <a href=\"https://pandas.pydata.org/docs/reference/api/pandas.Series.quantile.html\">percentiles</a>:"
   ]
  },
  {
   "cell_type": "code",
   "execution_count": 12,
   "id": "b0aa2ad6-6586-4185-b60f-e25726d1afd6",
   "metadata": {},
   "outputs": [
    {
     "data": {
      "text/plain": [
       "7.94"
      ]
     },
     "execution_count": 12,
     "metadata": {},
     "output_type": "execute_result"
    }
   ],
   "source": [
    "s.quantile(0.9)"
   ]
  },
  {
   "cell_type": "markdown",
   "id": "af85e7c5-780e-402b-88b7-5297b99061ea",
   "metadata": {},
   "source": [
    "es muy sencillo. En <a href=\"https://pandas.pydata.org/docs/reference/api/pandas.Series.html\">la documentación de <code>Series</code></a> tenemos una lista eshaustiva de todos los métodos que nos permiten hacer cálculos.\n",
    "\n",
    "También podemos hacer operaciones con varias series:"
   ]
  },
  {
   "cell_type": "code",
   "execution_count": 13,
   "id": "b43d4efa-279e-4e94-862e-0afc9e2fcc03",
   "metadata": {},
   "outputs": [
    {
     "name": "stdout",
     "output_type": "stream",
     "text": [
      "0    0.1\n",
      "1    1.2\n",
      "2    7.1\n",
      "3    3.3\n",
      "4    6.3\n",
      "5    2.3\n",
      "6    9.2\n",
      "dtype: float64\n",
      "0     1.1\n",
      "1     2.2\n",
      "2    10.1\n",
      "3     5.3\n",
      "4     8.3\n",
      "5     3.3\n",
      "6    12.2\n",
      "dtype: float64\n"
     ]
    }
   ],
   "source": [
    "s2 = pd.Series([1, 1, 3, 2, 2, 1, 3])\n",
    "print(s)\n",
    "print(s+s2)"
   ]
  },
  {
   "cell_type": "code",
   "execution_count": 14,
   "id": "b0cee129-75c6-4eba-b86d-7ec923545610",
   "metadata": {},
   "outputs": [
    {
     "data": {
      "text/plain": [
       "0     0.1\n",
       "1     1.2\n",
       "2    21.3\n",
       "3     6.6\n",
       "4    12.6\n",
       "5     2.3\n",
       "6    27.6\n",
       "dtype: float64"
      ]
     },
     "execution_count": 14,
     "metadata": {},
     "output_type": "execute_result"
    }
   ],
   "source": [
    "s * s2"
   ]
  },
  {
   "cell_type": "code",
   "execution_count": 15,
   "id": "64413ff9-2794-4410-be5b-92a2055fe1c4",
   "metadata": {},
   "outputs": [
    {
     "data": {
      "text/plain": [
       "0   -0.9\n",
       "1    0.2\n",
       "2    4.1\n",
       "3    1.3\n",
       "4    4.3\n",
       "5    1.3\n",
       "6    6.2\n",
       "dtype: float64"
      ]
     },
     "execution_count": 15,
     "metadata": {},
     "output_type": "execute_result"
    }
   ],
   "source": [
    "s - s2"
   ]
  },
  {
   "cell_type": "markdown",
   "id": "ce144e8a-0cbc-453b-8039-95584a2d9102",
   "metadata": {},
   "source": [
    "Estas operaciones deben hacerse con series del mismo tamaño, ya que la operación se hace con los elementos uno a uno. Si uno de los dos es más corto, se rellenará con valores nulos. Si sabemos bien lo que hacemos, no hay problemas; pero hay que tener cuidado dado que no salta ningún error. Podemos aplicar también un escalado:"
   ]
  },
  {
   "cell_type": "code",
   "execution_count": 16,
   "id": "e218edf3-5919-453b-970e-e55337abdf86",
   "metadata": {},
   "outputs": [
    {
     "data": {
      "text/plain": [
       "0     0.3\n",
       "1     3.6\n",
       "2    21.3\n",
       "3     9.9\n",
       "4    18.9\n",
       "5     6.9\n",
       "6    27.6\n",
       "dtype: float64"
      ]
     },
     "execution_count": 16,
     "metadata": {},
     "output_type": "execute_result"
    }
   ],
   "source": [
    "3 * s"
   ]
  },
  {
   "cell_type": "markdown",
   "id": "c8df9c8e-6193-4d6d-994a-5fd01ef961e2",
   "metadata": {},
   "source": [
    "Veamos algunos métodos más de <code>Series</code> que nos pueden venir bien en el futuro. Podemos obtener los valores distintos que hay en una serie:"
   ]
  },
  {
   "cell_type": "code",
   "execution_count": 17,
   "id": "e2dc2dbc-d971-4745-a975-f52962918810",
   "metadata": {},
   "outputs": [
    {
     "name": "stdout",
     "output_type": "stream",
     "text": [
      "0    1\n",
      "1    1\n",
      "2    3\n",
      "3    2\n",
      "4    2\n",
      "5    1\n",
      "6    3\n",
      "dtype: int64\n"
     ]
    },
    {
     "data": {
      "text/plain": [
       "array([1, 3, 2], dtype=int64)"
      ]
     },
     "execution_count": 17,
     "metadata": {},
     "output_type": "execute_result"
    }
   ],
   "source": [
    "print(s2)\n",
    "s2.unique()"
   ]
  },
  {
   "cell_type": "markdown",
   "id": "615c1215-625b-401a-9b81-c42e934519ec",
   "metadata": {},
   "source": [
    "y realizar un conteo de las ocurrencias de cada valor:"
   ]
  },
  {
   "cell_type": "code",
   "execution_count": 18,
   "id": "0519c92d-e365-477a-b5ea-58ef85264e71",
   "metadata": {},
   "outputs": [
    {
     "data": {
      "text/plain": [
       "1    3\n",
       "3    2\n",
       "2    2\n",
       "dtype: int64"
      ]
     },
     "execution_count": 18,
     "metadata": {},
     "output_type": "execute_result"
    }
   ],
   "source": [
    "s2.value_counts()"
   ]
  },
  {
   "cell_type": "markdown",
   "id": "4a8554e9-e1f4-42dd-b8bb-0ca7800f1ff4",
   "metadata": {},
   "source": [
    "Veamos ahora operaciones que utilizaremos de forma recurrente en análisis de datos. La siguiente nos servirá para infinidad de problemas, entre ellos para preprocesar los datos. Se trata del método <code>apply()</code>, que aplica una función para cada uno de los valores de una serie.\n",
    "\n",
    "<img src=\"apply.png\" style=\"width:30em; margin: 0 auto;\"/>\n",
    "\n",
    "Esta función la aplicaremos siempre que queramos realizar una operación sobre los valores de una serie una a una, sin necesidad de usar valores de otras entradas de la serie. Esta situación se dará muy a menudo, y sustituye a un bucle que recorra la serie. A este método, le tendremos que pasar la función a aplicar, que deberá tener un parámetro. Devolverá un objeto <code>Series</code> con el mismo índice y los valores calculados para cada entrada. Veamos un ejemplo con números:"
   ]
  },
  {
   "cell_type": "code",
   "execution_count": 19,
   "id": "d83b8e5a-487c-43af-ac46-e33aa2430d6c",
   "metadata": {},
   "outputs": [
    {
     "data": {
      "text/plain": [
       "0    1\n",
       "1    1\n",
       "2    9\n",
       "3    4\n",
       "4    4\n",
       "5    1\n",
       "6    9\n",
       "dtype: int64"
      ]
     },
     "execution_count": 19,
     "metadata": {},
     "output_type": "execute_result"
    }
   ],
   "source": [
    "def elevar_cuadrado(x):\n",
    "    return x**2\n",
    "\n",
    "s2.apply( elevar_cuadrado )"
   ]
  },
  {
   "cell_type": "markdown",
   "id": "2175f580-358b-40a9-ba1f-65880419cd7a",
   "metadata": {},
   "source": [
    "Esta función que hemos aplicado ilustra bien el funcionamiento numérico. No obstante, en Pandas, la mayoría de las operaciones matemáticas se pueden hacer directamente con el <code>Series</code> y se aplicarán elemento a elemento. En otras palabras, podríamos haber elevado los valores de <code>s2</code> al cuadrado de la siguiente manera:"
   ]
  },
  {
   "cell_type": "code",
   "execution_count": 20,
   "id": "602bd805-e7ee-4288-b959-b6ef32ac02f0",
   "metadata": {},
   "outputs": [
    {
     "data": {
      "text/plain": [
       "0    1\n",
       "1    1\n",
       "2    9\n",
       "3    4\n",
       "4    4\n",
       "5    1\n",
       "6    9\n",
       "dtype: int64"
      ]
     },
     "execution_count": 20,
     "metadata": {},
     "output_type": "execute_result"
    }
   ],
   "source": [
    "s2**2"
   ]
  },
  {
   "cell_type": "markdown",
   "id": "79efa78f-0da4-46ac-9a83-5e2b0b295ac6",
   "metadata": {},
   "source": [
    "Otro ejemplo de <code>apply()</code> es para una serie de cadenas:"
   ]
  },
  {
   "cell_type": "code",
   "execution_count": 21,
   "id": "93df7722-d776-42e4-98af-ddd69e9be5f3",
   "metadata": {},
   "outputs": [
    {
     "name": "stdout",
     "output_type": "stream",
     "text": [
      "a       Ainhoa\n",
      "b        Borja\n",
      "c     Cristina\n",
      "d        David\n",
      "e    Esperanza\n",
      "f       Felipe\n",
      "dtype: object\n"
     ]
    },
    {
     "data": {
      "text/plain": [
       "a       ainhoa\n",
       "b        borja\n",
       "c     cristina\n",
       "d        david\n",
       "e    esperanza\n",
       "f       felipe\n",
       "dtype: object"
      ]
     },
     "execution_count": 21,
     "metadata": {},
     "output_type": "execute_result"
    }
   ],
   "source": [
    "print(nombres)\n",
    "def minusculas(cadena):\n",
    "    return cadena.lower()\n",
    "\n",
    "nombres.apply( minusculas )"
   ]
  },
  {
   "cell_type": "markdown",
   "id": "95a8cbdd-df8a-4479-9fa1-fb696221e8de",
   "metadata": {},
   "source": [
    "<p style=\"background-color:lightpink; padding:1em\"><b>Ejercicio 2</b><br/>\n",
    "    Defina una función que, dado un número entero entre 1 y 5, devuelva una cadena con su valor en números romanos. Aplique dicha función a la serie <code>s2</code>.\n",
    "</p>"
   ]
  },
  {
   "cell_type": "code",
   "execution_count": null,
   "id": "30742ece-adb5-4ab4-851e-cb118ef19e7d",
   "metadata": {},
   "outputs": [],
   "source": []
  },
  {
   "cell_type": "markdown",
   "id": "bf6844b1-f4fe-4206-8e65-3d4ec2c5ca6b",
   "metadata": {},
   "source": [
    "<code>apply</code> sirve para aplicar funciones a valores independientes unos de otros, pero ¿qué pasa si queremos aplicar una función que depende de los valores de entradas anteriores o posteriores? Para ello, tenemos el método <code>rolling()</code>, que crea una ventana deslizante (<a href=\"https://pandas.pydata.org/docs/reference/api/pandas.Series.rolling.html\">detalles</a>). El método <code>rolling()</code> devuelve a su vez una especie de <code>Series</code> donde cada entrada, en lugar de ser un único valor, es, a su vez, un <code>Series</code>, que contiene el valor actual (última posición en la ventana), el anterior (antepenúltima), y así sucesivamente hasta completar el tamaño de la ventana. \n",
    "\n",
    "<img src=\"rolling.png\" style=\"width:30em; margin: 0 auto;\"/>\n",
    "\n",
    "Si la ventana es de tamaño $N$, se devuelve valores vacíos para las $N-1$ primeras entradas de la serie. Con el enventanado, podemos calcular, por ejemplo, las sumas dos a dos de las variables:"
   ]
  },
  {
   "cell_type": "code",
   "execution_count": 22,
   "id": "dc7a2fcc-6ad9-41ec-b4ee-bca81f86323c",
   "metadata": {},
   "outputs": [
    {
     "name": "stdout",
     "output_type": "stream",
     "text": [
      "0    0.1\n",
      "1    1.2\n",
      "2    7.1\n",
      "3    3.3\n",
      "4    6.3\n",
      "5    2.3\n",
      "6    9.2\n",
      "dtype: float64\n"
     ]
    },
    {
     "data": {
      "text/plain": [
       "0     NaN\n",
       "1     1.3\n",
       "2     8.3\n",
       "3    10.4\n",
       "4     9.6\n",
       "5     8.6\n",
       "6    11.5\n",
       "dtype: float64"
      ]
     },
     "execution_count": 22,
     "metadata": {},
     "output_type": "execute_result"
    }
   ],
   "source": [
    "print(s)\n",
    "s.rolling(2).sum() #suma los dos primeros valores"
   ]
  },
  {
   "cell_type": "markdown",
   "id": "6521afc5-af69-4e8c-a35a-a56770981b77",
   "metadata": {},
   "source": [
    "Como podemos ver, nos devuelve para la segunda posición, la suma de la primera y la segunda; para la tercera, la suma de la tercera y la segunda, y así sucesivamente. También podemos crear nuestra propia función. Por ejemplo, para un <a href=\"https://es.wikipedia.org/wiki/FIR_(Finite_Impulse_Response)\">filtro FIR</a>, que usa una combinación lineal de la entrada actual con las anteriores, muy usado en procesado de señales, la función podría ser, por ejemplo, la siguiente:"
   ]
  },
  {
   "cell_type": "code",
   "execution_count": 23,
   "id": "ab6d4bb0-aa38-4672-9744-50fd25e86586",
   "metadata": {},
   "outputs": [],
   "source": [
    "def fir(x):\n",
    "    return x.iloc[-1] + 0.5*x.iloc[-2] + 0.25*x.iloc[-3]"
   ]
  },
  {
   "cell_type": "markdown",
   "id": "c6075a34-534e-4b76-8036-5c2dcae5e19b",
   "metadata": {},
   "source": [
    "Nótese el uso de <code>iloc</code> en lugar de <code>loc</code>, ya que en el <code>Series</code> generado como ventana, cada valor tendrá su índice original."
   ]
  },
  {
   "cell_type": "code",
   "execution_count": 24,
   "id": "e5d70b03-9210-4596-9c33-58ebef4583f4",
   "metadata": {},
   "outputs": [
    {
     "data": {
      "text/plain": [
       "0       NaN\n",
       "1       NaN\n",
       "2     7.725\n",
       "3     7.150\n",
       "4     9.725\n",
       "5     6.275\n",
       "6    11.925\n",
       "dtype: float64"
      ]
     },
     "execution_count": 24,
     "metadata": {},
     "output_type": "execute_result"
    }
   ],
   "source": [
    "s.rolling(3).apply( fir )"
   ]
  },
  {
   "cell_type": "markdown",
   "id": "2f45c73e-f978-4fe0-883d-3a73a4a27add",
   "metadata": {},
   "source": [
    "<p style=\"background-color:lightpink; padding:1em\"><b>Ejercicio 3</b><br/>\n",
    "    Sobre <code>s2</code> aplique una ventana deslizante de tamaño 2 y calcule, para cada posición, la diferencia entre el elemento actual y el anterior (diferenciación).\n",
    "</p>"
   ]
  },
  {
   "cell_type": "code",
   "execution_count": null,
   "id": "4b3e2934-c586-4486-8a1a-1576b620b121",
   "metadata": {},
   "outputs": [],
   "source": []
  },
  {
   "cell_type": "markdown",
   "id": "47e164d3-9daf-4614-ab99-888917a62618",
   "metadata": {},
   "source": [
    "En el caso de la diferenciación, al ser una operación muy común, Pandas provee el método <code>diff()</code>:"
   ]
  },
  {
   "cell_type": "code",
   "execution_count": 25,
   "id": "5993b49d-ac23-490c-9320-661891cf167a",
   "metadata": {},
   "outputs": [
    {
     "data": {
      "text/plain": [
       "0    NaN\n",
       "1    0.0\n",
       "2    2.0\n",
       "3   -1.0\n",
       "4    0.0\n",
       "5   -1.0\n",
       "6    2.0\n",
       "dtype: float64"
      ]
     },
     "execution_count": 25,
     "metadata": {},
     "output_type": "execute_result"
    }
   ],
   "source": [
    "s2.diff()"
   ]
  },
  {
   "cell_type": "markdown",
   "id": "81a39427-9b5e-4b04-9ac5-113b496a0ceb",
   "metadata": {},
   "source": [
    "Con esto, completamos la introducción al objeto <code>Series</code> y todo lo que permite hacer. Como se puede ver, es un contenedor ideal para aplicar procesados de distinto tipo sobre una serie de datos. Pero raramente tendremos que hacer análisis de datos con valores de una única variable."
   ]
  },
  {
   "cell_type": "markdown",
   "id": "d267cd05-7739-4515-aa6a-6b338573fb59",
   "metadata": {
    "tags": []
   },
   "source": [
    "## El objeto <code>DataFrame</code>"
   ]
  },
  {
   "cell_type": "markdown",
   "id": "085a138d-b6e1-4db4-b944-7c662f4b7916",
   "metadata": {},
   "source": [
    "Ahora que conocemos el objeto <code>Series</code>, es muy fácil explicar el objeto <code>DataFrame</code>: es un grupo de <code>Series</code> que comparten un único índice. Cada <code>Series</code> de un <code>DataFrame</code> conforma una columna, y el conjunto de los valores que comparten el mismo valor de índice, es una fila. Cada columna puede tener datos de distinto tipo. Otra forma muy útil de ver un <code>DataFrame</code> es imaginarlo como una hoja de cálculo, con sus filas y sus columnas. Hay más de una forma de trabajar con objetos <code>DataFrame</code>, e iremos viéndolas a lo largo del curso. Alrededor del objeto <code>DataFrame</code>, Pandas construye toda una constelación de funcionalidades, como son la lectura y escritura de ficheros en disco y bases de datos, aplicación de operaciones matemáticas de forma eficiente, cálculo de estadísticas, representación visual, etc. Por eso, es una herramienta muy útil como soporte de los datos a lo largo de toda la cadena de operaciones "
   ]
  },
  {
   "cell_type": "markdown",
   "id": "26769329-164c-4f7a-bef4-a91014f32700",
   "metadata": {},
   "source": [
    "Supongamos que tenemos la siguiente tabla con datos de alumnos:\n",
    "\n",
    "<table>\n",
    "    <tr><th>Índice</th><th>Nombre</th><th>Edad</th><th>Matriculado</th></tr>\n",
    "    <tr><td>0</td><td>Antonio</td><td>22</td><td>No</td></tr>\n",
    "    <tr><td>1</td><td>Berta</td><td>43</td><td>Sí</td></tr>\n",
    "    <tr><td>2</td><td>Carlos</td><td>24</td><td>Sí</td></tr>\n",
    "    <tr><td>3</td><td>Diana</td><td>34</td><td>No</td></tr>\n",
    "    <tr><td>4</td><td>Esteban</td><td>33</td><td>Sí</td></tr>\n",
    "</table>\n",
    "\n",
    "Veamos cómo podemos generar un <code>DataFrame</code> con estos datos. La primera forma, es generar primero el <code>DataFrame</code> y rellenar los datos fila a fila:"
   ]
  },
  {
   "cell_type": "code",
   "execution_count": 26,
   "id": "606aa8de-8ff0-4f13-8dd4-ea77aba1b0e2",
   "metadata": {},
   "outputs": [
    {
     "name": "stdout",
     "output_type": "stream",
     "text": [
      "  Nombre Edad Matriculado\n",
      "0    NaN  NaN         NaN\n",
      "1    NaN  NaN         NaN\n",
      "2    NaN  NaN         NaN\n",
      "3    NaN  NaN         NaN\n",
      "4    NaN  NaN         NaN\n"
     ]
    }
   ],
   "source": [
    "alumnos = pd.DataFrame(index=[0,1,2,3,4], \n",
    "                       columns=[\"Nombre\", \"Edad\", \"Matriculado\"])\n",
    "print(alumnos)"
   ]
  },
  {
   "cell_type": "markdown",
   "id": "86069b8d-7ed1-4501-b88e-e80a0c98c0de",
   "metadata": {},
   "source": [
    "En este momento, la tabla está vacía (NaN=Not a Number). Para poder rellenarlo, tenemos que saber que las propiedades <code>.loc</code> e <code>.iloc</code> introducidas antes, también se usan en los <code>DataFrame</code>. En este caso, el indexado es bidimensional, siendo la primera dimensión el índice (o fila), y la segunda, la columna. Por tanto, para rellenar la primera fila, haremos lo siguiente:"
   ]
  },
  {
   "cell_type": "code",
   "execution_count": 27,
   "id": "ae28d32b-eaeb-4d10-8bfa-c12bdb3e50b3",
   "metadata": {},
   "outputs": [
    {
     "name": "stdout",
     "output_type": "stream",
     "text": [
      "    Nombre Edad Matriculado\n",
      "0  Antonio   22       False\n",
      "1      NaN  NaN         NaN\n",
      "2      NaN  NaN         NaN\n",
      "3      NaN  NaN         NaN\n",
      "4      NaN  NaN         NaN\n"
     ]
    }
   ],
   "source": [
    "alumnos.loc[0,\"Nombre\"] = \"Antonio\"\n",
    "alumnos.loc[0,\"Edad\"] = 22\n",
    "alumnos.loc[0,\"Matriculado\"] = False\n",
    "\n",
    "print(alumnos)"
   ]
  },
  {
   "cell_type": "markdown",
   "id": "4387df55-460e-40c6-b910-c6888e49079a",
   "metadata": {},
   "source": [
    "Pandas provee una gran flexibilidad a la hora de asignar y recuperar valores de un <code>DataFrame</code>. Podemos sustituir cualquiera de los índices dimensionales de <code>.loc</code> por <code>:</code> y obtendremos todos los valores de esa dimensión, del mismo modo que pasaba en Numpy. De este modo, podemos escribir toda una fila en una sóla instrucción:"
   ]
  },
  {
   "cell_type": "code",
   "execution_count": 28,
   "id": "70366860-ed44-4329-9d6a-7b40de867be6",
   "metadata": {},
   "outputs": [
    {
     "name": "stdout",
     "output_type": "stream",
     "text": [
      "    Nombre Edad Matriculado\n",
      "0  Antonio   22       False\n",
      "1    Berta   43        True\n",
      "2      NaN  NaN         NaN\n",
      "3      NaN  NaN         NaN\n",
      "4      NaN  NaN         NaN\n"
     ]
    }
   ],
   "source": [
    "alumnos.loc[1,:] = (\"Berta\", 43, True)\n",
    "\n",
    "print(alumnos)"
   ]
  },
  {
   "cell_type": "markdown",
   "id": "147c81c4-ae45-47fa-a0a3-655319b4e03a",
   "metadata": {},
   "source": [
    "También podemos usar un diccionario para asignar una fila. En ocasiones, esto puede evitar errores, cuando exista el riesgo de que el orden de las columnas cambie (por ejemplo, porque estemos leyendo ficheros de un programa externo):"
   ]
  },
  {
   "cell_type": "code",
   "execution_count": 29,
   "id": "82e8b18e-281e-4ff2-9bfe-f0aa6dfc2ed8",
   "metadata": {},
   "outputs": [
    {
     "name": "stdout",
     "output_type": "stream",
     "text": [
      "    Nombre Edad Matriculado\n",
      "0  Antonio   22       False\n",
      "1    Berta   43        True\n",
      "2   Carlos   24        True\n",
      "3      NaN  NaN         NaN\n",
      "4      NaN  NaN         NaN\n"
     ]
    }
   ],
   "source": [
    "datos_Carlos = {\"Nombre\":\"Carlos\", \"Edad\":24, \"Matriculado\":True}\n",
    "alumnos.loc[2,:] = datos_Carlos\n",
    "\n",
    "print(alumnos)"
   ]
  },
  {
   "cell_type": "markdown",
   "id": "65780fbb-11f3-473d-b915-464aaab4812b",
   "metadata": {},
   "source": [
    "Jupyter y Pandas se llevan especialmente bien. Si bien hasta ahora hemos estado pidiendo a Python que muestre por pantalla los datos con <code>print</code>, podemos también mostrarlo a la manera de Jupyter, que es simplemente tecleando el nombre de la variable como si fuera un comando. De este modo, la representación será visualmente más agradable:"
   ]
  },
  {
   "cell_type": "code",
   "execution_count": 30,
   "id": "50a7e168-efee-42a3-86f2-c771569fa64d",
   "metadata": {},
   "outputs": [
    {
     "data": {
      "text/html": [
       "<div>\n",
       "<style scoped>\n",
       "    .dataframe tbody tr th:only-of-type {\n",
       "        vertical-align: middle;\n",
       "    }\n",
       "\n",
       "    .dataframe tbody tr th {\n",
       "        vertical-align: top;\n",
       "    }\n",
       "\n",
       "    .dataframe thead th {\n",
       "        text-align: right;\n",
       "    }\n",
       "</style>\n",
       "<table border=\"1\" class=\"dataframe\">\n",
       "  <thead>\n",
       "    <tr style=\"text-align: right;\">\n",
       "      <th></th>\n",
       "      <th>Nombre</th>\n",
       "      <th>Edad</th>\n",
       "      <th>Matriculado</th>\n",
       "    </tr>\n",
       "  </thead>\n",
       "  <tbody>\n",
       "  </tbody>\n",
       "</table>\n",
       "</div>"
      ],
      "text/plain": [
       "Empty DataFrame\n",
       "Columns: [Nombre, Edad, Matriculado]\n",
       "Index: []"
      ]
     },
     "execution_count": 30,
     "metadata": {},
     "output_type": "execute_result"
    }
   ],
   "source": [
    "alumnos.loc[alumnos['Edad']=='22',:]"
   ]
  },
  {
   "cell_type": "markdown",
   "id": "b5ea34a0-7a37-4799-b95b-a029f9a6b028",
   "metadata": {},
   "source": [
    "Jupyter mostrará sólo las primeras filas de los <code>DataFrame</code> especialmente largos. En Python puro, la línea anterior no tendría efecto en un script, pero sí en un intérprete interactivo. Lo primero que querremos hacer cuando estemos trabajando con datos reales, será visualizar una muestra, y para ello, hacer una celda de Jupyter sólo con la variable es especialmente útil."
   ]
  },
  {
   "cell_type": "markdown",
   "id": "72f4f4cf-02af-4b0c-9816-c6cb869377b5",
   "metadata": {},
   "source": [
    "<p style=\"background-color:lightpink; padding:1em\"><b>Ejercicio 4</b><br/>\n",
    "    Complete la tabla con los datos de los alumnos que faltan <br/>\n",
    "</p>"
   ]
  },
  {
   "cell_type": "code",
   "execution_count": null,
   "id": "e2fa0964-a9bb-49cd-bd0a-692d509b595b",
   "metadata": {},
   "outputs": [],
   "source": []
  },
  {
   "cell_type": "markdown",
   "id": "e5bda1cc-2c7b-4b45-a83c-64b27cfb685a",
   "metadata": {
    "tags": []
   },
   "source": [
    "### Añadir y quitar columnas/filas"
   ]
  },
  {
   "cell_type": "markdown",
   "id": "b6692062-cdc4-483d-8d5a-4171db37d88b",
   "metadata": {},
   "source": [
    "En un <code>DataFrame</code> cada columna es un objeto <code>Series</code> de un tipo determinado. Podemos ver el tipo de cada columna con el atributo <code>dtypes</code>:"
   ]
  },
  {
   "cell_type": "code",
   "execution_count": 31,
   "id": "44f65537-aec9-4918-87ed-5340270e9e6e",
   "metadata": {},
   "outputs": [
    {
     "data": {
      "text/plain": [
       "Nombre         object\n",
       "Edad           object\n",
       "Matriculado    object\n",
       "dtype: object"
      ]
     },
     "execution_count": 31,
     "metadata": {},
     "output_type": "execute_result"
    }
   ],
   "source": [
    "alumnos.dtypes"
   ]
  },
  {
   "cell_type": "markdown",
   "id": "c5dc00ff-714a-4da9-9640-7764b9e4bdc7",
   "metadata": {},
   "source": [
    "y podemos ver el índice del <code>DataFrame</code> con <code>index</code>:"
   ]
  },
  {
   "cell_type": "code",
   "execution_count": 32,
   "id": "b0482f34-0275-41b3-80fb-431953f8b1a1",
   "metadata": {},
   "outputs": [
    {
     "data": {
      "text/plain": [
       "Int64Index([0, 1, 2, 3, 4], dtype='int64')"
      ]
     },
     "execution_count": 32,
     "metadata": {},
     "output_type": "execute_result"
    }
   ],
   "source": [
    "alumnos.index"
   ]
  },
  {
   "cell_type": "markdown",
   "id": "213eead9-ae41-4e32-b55f-bb003a4b8412",
   "metadata": {},
   "source": [
    "Cada columna, a la cual accedemos con <code>.loc[:,columna]</code>, es un objeto <code>Series</code>:"
   ]
  },
  {
   "cell_type": "code",
   "execution_count": 33,
   "id": "abe17cbe-7f9b-4207-a211-5e5c20b3754c",
   "metadata": {},
   "outputs": [
    {
     "data": {
      "text/plain": [
       "0    Antonio\n",
       "1      Berta\n",
       "2     Carlos\n",
       "3        NaN\n",
       "4        NaN\n",
       "Name: Nombre, dtype: object"
      ]
     },
     "execution_count": 33,
     "metadata": {},
     "output_type": "execute_result"
    }
   ],
   "source": [
    "alumnos.loc[:,\"Nombre\"]"
   ]
  },
  {
   "cell_type": "markdown",
   "id": "8068c45c-cb22-4137-9267-25f83ea0dcb7",
   "metadata": {},
   "source": [
    "Alternativamente, podemos acceder a una columna con la siguiente sintaxis:"
   ]
  },
  {
   "cell_type": "code",
   "execution_count": 34,
   "id": "e54e2eca-1844-4171-9ef5-32f78873a994",
   "metadata": {},
   "outputs": [
    {
     "data": {
      "text/plain": [
       "0    Antonio\n",
       "1      Berta\n",
       "2     Carlos\n",
       "3        NaN\n",
       "4        NaN\n",
       "Name: Nombre, dtype: object"
      ]
     },
     "execution_count": 34,
     "metadata": {},
     "output_type": "execute_result"
    }
   ],
   "source": [
    "alumnos[\"Nombre\"]"
   ]
  },
  {
   "cell_type": "markdown",
   "id": "3cedd0e8-372c-40a8-b388-075d84e82aac",
   "metadata": {},
   "source": [
    "Pero de momento, usaremos la notación completa para evitar confusión con diccionarios o series, que usan la misma notación. Añadir una columna nueva es muy sencillo. Necesitamos tener para ello un objeto <code>Series</code> con un índice que contenga valores en común con el índice del <code>DataFrame</code>. Veamos un ejemplo:"
   ]
  },
  {
   "cell_type": "code",
   "execution_count": 35,
   "id": "2d3ff529-ee44-4259-918e-8b72af1c95d7",
   "metadata": {},
   "outputs": [
    {
     "data": {
      "text/plain": [
       "0    7.5\n",
       "1    4.5\n",
       "2    6.6\n",
       "3    9.4\n",
       "4    7.8\n",
       "dtype: float64"
      ]
     },
     "execution_count": 35,
     "metadata": {},
     "output_type": "execute_result"
    }
   ],
   "source": [
    "notas = pd.Series( index=alumnos.index, data=[7.5, 4.5, 6.6, 9.4, 7.8])\n",
    "notas"
   ]
  },
  {
   "cell_type": "markdown",
   "id": "7fa56074-71e7-44e0-84f2-dfe42a6d4a61",
   "metadata": {},
   "source": [
    "La asignación de la nueva columna se hace de la siguiente manera:"
   ]
  },
  {
   "cell_type": "code",
   "execution_count": 36,
   "id": "e2eb7799-3dab-4255-8041-396011328a55",
   "metadata": {},
   "outputs": [
    {
     "data": {
      "text/html": [
       "<div>\n",
       "<style scoped>\n",
       "    .dataframe tbody tr th:only-of-type {\n",
       "        vertical-align: middle;\n",
       "    }\n",
       "\n",
       "    .dataframe tbody tr th {\n",
       "        vertical-align: top;\n",
       "    }\n",
       "\n",
       "    .dataframe thead th {\n",
       "        text-align: right;\n",
       "    }\n",
       "</style>\n",
       "<table border=\"1\" class=\"dataframe\">\n",
       "  <thead>\n",
       "    <tr style=\"text-align: right;\">\n",
       "      <th></th>\n",
       "      <th>Nombre</th>\n",
       "      <th>Edad</th>\n",
       "      <th>Matriculado</th>\n",
       "      <th>Nota</th>\n",
       "    </tr>\n",
       "  </thead>\n",
       "  <tbody>\n",
       "    <tr>\n",
       "      <th>0</th>\n",
       "      <td>Antonio</td>\n",
       "      <td>22</td>\n",
       "      <td>False</td>\n",
       "      <td>7.5</td>\n",
       "    </tr>\n",
       "    <tr>\n",
       "      <th>1</th>\n",
       "      <td>Berta</td>\n",
       "      <td>43</td>\n",
       "      <td>True</td>\n",
       "      <td>4.5</td>\n",
       "    </tr>\n",
       "    <tr>\n",
       "      <th>2</th>\n",
       "      <td>Carlos</td>\n",
       "      <td>24</td>\n",
       "      <td>True</td>\n",
       "      <td>6.6</td>\n",
       "    </tr>\n",
       "    <tr>\n",
       "      <th>3</th>\n",
       "      <td>NaN</td>\n",
       "      <td>NaN</td>\n",
       "      <td>NaN</td>\n",
       "      <td>9.4</td>\n",
       "    </tr>\n",
       "    <tr>\n",
       "      <th>4</th>\n",
       "      <td>NaN</td>\n",
       "      <td>NaN</td>\n",
       "      <td>NaN</td>\n",
       "      <td>7.8</td>\n",
       "    </tr>\n",
       "  </tbody>\n",
       "</table>\n",
       "</div>"
      ],
      "text/plain": [
       "    Nombre Edad Matriculado  Nota\n",
       "0  Antonio   22       False   7.5\n",
       "1    Berta   43        True   4.5\n",
       "2   Carlos   24        True   6.6\n",
       "3      NaN  NaN         NaN   9.4\n",
       "4      NaN  NaN         NaN   7.8"
      ]
     },
     "execution_count": 36,
     "metadata": {},
     "output_type": "execute_result"
    }
   ],
   "source": [
    "alumnos.loc[:,\"Nota\"] = notas\n",
    "alumnos"
   ]
  },
  {
   "cell_type": "code",
   "execution_count": null,
   "id": "ea883780",
   "metadata": {},
   "outputs": [],
   "source": []
  },
  {
   "cell_type": "code",
   "execution_count": 37,
   "id": "2166caf1",
   "metadata": {},
   "outputs": [
    {
     "name": "stdout",
     "output_type": "stream",
     "text": [
      "0    NaN\n",
      "1   -3.0\n",
      "2    2.1\n",
      "3    2.8\n",
      "4   -1.6\n",
      "Name: Nota, dtype: float64\n"
     ]
    }
   ],
   "source": [
    "print(alumnos.loc[:,'Nota'].diff())"
   ]
  },
  {
   "cell_type": "markdown",
   "id": "c83bafb1-86ce-4b96-a097-683bde62ab14",
   "metadata": {},
   "source": [
    "Si el objeto <code>Series</code> tiene un índice distinto al del <code>DataFrame</code>, pasan dos cosas:\n",
    "- Las posiciones no presentes en el <code>Series</code> se rellenan con un dato nulo.\n",
    "- Los valores de índice que sólo están en el <code>Series</code> se ignoran."
   ]
  },
  {
   "cell_type": "code",
   "execution_count": 38,
   "id": "f6b22c1f-72e1-420a-89fa-aca793d7fbc9",
   "metadata": {},
   "outputs": [
    {
     "data": {
      "text/plain": [
       "0       Alhaurin\n",
       "1    Benalmádena\n",
       "4       Estepona\n",
       "5     Fuengirola\n",
       "dtype: object"
      ]
     },
     "execution_count": 38,
     "metadata": {},
     "output_type": "execute_result"
    }
   ],
   "source": [
    "residencia = pd.Series(index=[0,1,4,5], data=[\"Alhaurin\", \"Benalmádena\", \"Estepona\", \"Fuengirola\"])\n",
    "residencia"
   ]
  },
  {
   "cell_type": "code",
   "execution_count": 39,
   "id": "4d96657b-4fa1-452b-8f80-d89b89b1d882",
   "metadata": {},
   "outputs": [
    {
     "data": {
      "text/html": [
       "<div>\n",
       "<style scoped>\n",
       "    .dataframe tbody tr th:only-of-type {\n",
       "        vertical-align: middle;\n",
       "    }\n",
       "\n",
       "    .dataframe tbody tr th {\n",
       "        vertical-align: top;\n",
       "    }\n",
       "\n",
       "    .dataframe thead th {\n",
       "        text-align: right;\n",
       "    }\n",
       "</style>\n",
       "<table border=\"1\" class=\"dataframe\">\n",
       "  <thead>\n",
       "    <tr style=\"text-align: right;\">\n",
       "      <th></th>\n",
       "      <th>Nombre</th>\n",
       "      <th>Edad</th>\n",
       "      <th>Matriculado</th>\n",
       "      <th>Nota</th>\n",
       "      <th>Residencia</th>\n",
       "    </tr>\n",
       "  </thead>\n",
       "  <tbody>\n",
       "    <tr>\n",
       "      <th>0</th>\n",
       "      <td>Antonio</td>\n",
       "      <td>22</td>\n",
       "      <td>False</td>\n",
       "      <td>7.5</td>\n",
       "      <td>Alhaurin</td>\n",
       "    </tr>\n",
       "    <tr>\n",
       "      <th>1</th>\n",
       "      <td>Berta</td>\n",
       "      <td>43</td>\n",
       "      <td>True</td>\n",
       "      <td>4.5</td>\n",
       "      <td>Benalmádena</td>\n",
       "    </tr>\n",
       "    <tr>\n",
       "      <th>2</th>\n",
       "      <td>Carlos</td>\n",
       "      <td>24</td>\n",
       "      <td>True</td>\n",
       "      <td>6.6</td>\n",
       "      <td>NaN</td>\n",
       "    </tr>\n",
       "    <tr>\n",
       "      <th>3</th>\n",
       "      <td>NaN</td>\n",
       "      <td>NaN</td>\n",
       "      <td>NaN</td>\n",
       "      <td>9.4</td>\n",
       "      <td>NaN</td>\n",
       "    </tr>\n",
       "    <tr>\n",
       "      <th>4</th>\n",
       "      <td>NaN</td>\n",
       "      <td>NaN</td>\n",
       "      <td>NaN</td>\n",
       "      <td>7.8</td>\n",
       "      <td>Estepona</td>\n",
       "    </tr>\n",
       "  </tbody>\n",
       "</table>\n",
       "</div>"
      ],
      "text/plain": [
       "    Nombre Edad Matriculado  Nota   Residencia\n",
       "0  Antonio   22       False   7.5     Alhaurin\n",
       "1    Berta   43        True   4.5  Benalmádena\n",
       "2   Carlos   24        True   6.6          NaN\n",
       "3      NaN  NaN         NaN   9.4          NaN\n",
       "4      NaN  NaN         NaN   7.8     Estepona"
      ]
     },
     "execution_count": 39,
     "metadata": {},
     "output_type": "execute_result"
    }
   ],
   "source": [
    "alumnos.loc[:,\"Residencia\"] = residencia\n",
    "alumnos"
   ]
  },
  {
   "cell_type": "markdown",
   "id": "f98b24a3-58ce-4a71-81af-3d467ae87490",
   "metadata": {},
   "source": [
    "Si intentamos acceder a una fila concreta, lo cual haremos igual que con las columnas, pero intercambiando las dimensiones:"
   ]
  },
  {
   "cell_type": "code",
   "execution_count": 40,
   "id": "d7facb18-fdf3-40d0-8d5a-5bfb6af7e17a",
   "metadata": {},
   "outputs": [
    {
     "data": {
      "text/plain": [
       "Nombre          Antonio\n",
       "Edad                 22\n",
       "Matriculado       False\n",
       "Nota                7.5\n",
       "Residencia     Alhaurin\n",
       "Name: 0, dtype: object"
      ]
     },
     "execution_count": 40,
     "metadata": {},
     "output_type": "execute_result"
    }
   ],
   "source": [
    "alumnos.loc[0, :]"
   ]
  },
  {
   "cell_type": "markdown",
   "id": "c209eb16-c0c6-435a-aa8c-c309ad2224c6",
   "metadata": {},
   "source": [
    "Veremos que también nos da un objeto <code>Series</code>."
   ]
  },
  {
   "cell_type": "markdown",
   "id": "f1e99bb6-41b8-4d8e-9967-8b3cc6337d1d",
   "metadata": {},
   "source": [
    "Para añadir una fila podemos asignarla igual que hicimos para las filas existentes, usando un nuevo valor de índice. Como en el caso de la asignación, podemos usar un diccionario o una tupla; o también un objeto <code>Series</code> cuyo índice son las columnas del <code>DataFrame</code>:"
   ]
  },
  {
   "cell_type": "code",
   "execution_count": 41,
   "id": "81c7760c-1352-4d0a-a527-3fce5e873afa",
   "metadata": {},
   "outputs": [],
   "source": [
    "nuevo = pd.Series( index=alumnos.columns, data=[\"Fátima\", 23, True, 8.7, \"Frigiliana\"])"
   ]
  },
  {
   "cell_type": "code",
   "execution_count": 42,
   "id": "c26590bc-1069-4169-b438-0433e6208741",
   "metadata": {},
   "outputs": [
    {
     "data": {
      "text/html": [
       "<div>\n",
       "<style scoped>\n",
       "    .dataframe tbody tr th:only-of-type {\n",
       "        vertical-align: middle;\n",
       "    }\n",
       "\n",
       "    .dataframe tbody tr th {\n",
       "        vertical-align: top;\n",
       "    }\n",
       "\n",
       "    .dataframe thead th {\n",
       "        text-align: right;\n",
       "    }\n",
       "</style>\n",
       "<table border=\"1\" class=\"dataframe\">\n",
       "  <thead>\n",
       "    <tr style=\"text-align: right;\">\n",
       "      <th></th>\n",
       "      <th>Nombre</th>\n",
       "      <th>Edad</th>\n",
       "      <th>Matriculado</th>\n",
       "      <th>Nota</th>\n",
       "      <th>Residencia</th>\n",
       "    </tr>\n",
       "  </thead>\n",
       "  <tbody>\n",
       "    <tr>\n",
       "      <th>0</th>\n",
       "      <td>Antonio</td>\n",
       "      <td>22</td>\n",
       "      <td>False</td>\n",
       "      <td>7.5</td>\n",
       "      <td>Alhaurin</td>\n",
       "    </tr>\n",
       "    <tr>\n",
       "      <th>1</th>\n",
       "      <td>Berta</td>\n",
       "      <td>43</td>\n",
       "      <td>True</td>\n",
       "      <td>4.5</td>\n",
       "      <td>Benalmádena</td>\n",
       "    </tr>\n",
       "    <tr>\n",
       "      <th>2</th>\n",
       "      <td>Carlos</td>\n",
       "      <td>24</td>\n",
       "      <td>True</td>\n",
       "      <td>6.6</td>\n",
       "      <td>NaN</td>\n",
       "    </tr>\n",
       "    <tr>\n",
       "      <th>3</th>\n",
       "      <td>NaN</td>\n",
       "      <td>NaN</td>\n",
       "      <td>NaN</td>\n",
       "      <td>9.4</td>\n",
       "      <td>NaN</td>\n",
       "    </tr>\n",
       "    <tr>\n",
       "      <th>4</th>\n",
       "      <td>NaN</td>\n",
       "      <td>NaN</td>\n",
       "      <td>NaN</td>\n",
       "      <td>7.8</td>\n",
       "      <td>Estepona</td>\n",
       "    </tr>\n",
       "    <tr>\n",
       "      <th>5</th>\n",
       "      <td>Fátima</td>\n",
       "      <td>23</td>\n",
       "      <td>True</td>\n",
       "      <td>8.7</td>\n",
       "      <td>Frigiliana</td>\n",
       "    </tr>\n",
       "  </tbody>\n",
       "</table>\n",
       "</div>"
      ],
      "text/plain": [
       "    Nombre Edad Matriculado  Nota   Residencia\n",
       "0  Antonio   22       False   7.5     Alhaurin\n",
       "1    Berta   43        True   4.5  Benalmádena\n",
       "2   Carlos   24        True   6.6          NaN\n",
       "3      NaN  NaN         NaN   9.4          NaN\n",
       "4      NaN  NaN         NaN   7.8     Estepona\n",
       "5   Fátima   23        True   8.7   Frigiliana"
      ]
     },
     "execution_count": 42,
     "metadata": {},
     "output_type": "execute_result"
    }
   ],
   "source": [
    "alumnos.loc[5,:] = nuevo\n",
    "alumnos"
   ]
  },
  {
   "cell_type": "markdown",
   "id": "d7dc86d4-987b-4e9c-9526-9ab8ec3db5c3",
   "metadata": {},
   "source": [
    "En tablas con índice numérico, de hecho, podemos añadir nuevas entradas al final de la misma usando la longitud de la tabla. ¿Cómo podemos obtenerla? Con el atributo <code>shape</code> (forma), que nos da una tupla con la longitud (número de filas) y la anchura (número de columnas):"
   ]
  },
  {
   "cell_type": "code",
   "execution_count": 43,
   "id": "fd9bc007-0f2f-44ba-bd23-9f211430c796",
   "metadata": {},
   "outputs": [
    {
     "data": {
      "text/plain": [
       "(6, 5)"
      ]
     },
     "execution_count": 43,
     "metadata": {},
     "output_type": "execute_result"
    }
   ],
   "source": [
    "alumnos.shape"
   ]
  },
  {
   "cell_type": "markdown",
   "id": "43ea214b-1a1e-440d-942f-92d62d813ab2",
   "metadata": {},
   "source": [
    "Con esto, añadir una fila nueva al final es trivial:"
   ]
  },
  {
   "cell_type": "code",
   "execution_count": 44,
   "id": "cca8e460-4c15-41f1-89d2-c85cd08cb23d",
   "metadata": {},
   "outputs": [
    {
     "data": {
      "text/html": [
       "<div>\n",
       "<style scoped>\n",
       "    .dataframe tbody tr th:only-of-type {\n",
       "        vertical-align: middle;\n",
       "    }\n",
       "\n",
       "    .dataframe tbody tr th {\n",
       "        vertical-align: top;\n",
       "    }\n",
       "\n",
       "    .dataframe thead th {\n",
       "        text-align: right;\n",
       "    }\n",
       "</style>\n",
       "<table border=\"1\" class=\"dataframe\">\n",
       "  <thead>\n",
       "    <tr style=\"text-align: right;\">\n",
       "      <th></th>\n",
       "      <th>Nombre</th>\n",
       "      <th>Edad</th>\n",
       "      <th>Matriculado</th>\n",
       "      <th>Nota</th>\n",
       "      <th>Residencia</th>\n",
       "    </tr>\n",
       "  </thead>\n",
       "  <tbody>\n",
       "    <tr>\n",
       "      <th>0</th>\n",
       "      <td>Antonio</td>\n",
       "      <td>22</td>\n",
       "      <td>False</td>\n",
       "      <td>7.5</td>\n",
       "      <td>Alhaurin</td>\n",
       "    </tr>\n",
       "    <tr>\n",
       "      <th>1</th>\n",
       "      <td>Berta</td>\n",
       "      <td>43</td>\n",
       "      <td>True</td>\n",
       "      <td>4.5</td>\n",
       "      <td>Benalmádena</td>\n",
       "    </tr>\n",
       "    <tr>\n",
       "      <th>2</th>\n",
       "      <td>Carlos</td>\n",
       "      <td>24</td>\n",
       "      <td>True</td>\n",
       "      <td>6.6</td>\n",
       "      <td>NaN</td>\n",
       "    </tr>\n",
       "    <tr>\n",
       "      <th>3</th>\n",
       "      <td>NaN</td>\n",
       "      <td>NaN</td>\n",
       "      <td>NaN</td>\n",
       "      <td>9.4</td>\n",
       "      <td>NaN</td>\n",
       "    </tr>\n",
       "    <tr>\n",
       "      <th>4</th>\n",
       "      <td>NaN</td>\n",
       "      <td>NaN</td>\n",
       "      <td>NaN</td>\n",
       "      <td>7.8</td>\n",
       "      <td>Estepona</td>\n",
       "    </tr>\n",
       "    <tr>\n",
       "      <th>5</th>\n",
       "      <td>Gonzalo</td>\n",
       "      <td>30</td>\n",
       "      <td>True</td>\n",
       "      <td>7.7</td>\n",
       "      <td>Guaro</td>\n",
       "    </tr>\n",
       "  </tbody>\n",
       "</table>\n",
       "</div>"
      ],
      "text/plain": [
       "    Nombre Edad Matriculado  Nota   Residencia\n",
       "0  Antonio   22       False   7.5     Alhaurin\n",
       "1    Berta   43        True   4.5  Benalmádena\n",
       "2   Carlos   24        True   6.6          NaN\n",
       "3      NaN  NaN         NaN   9.4          NaN\n",
       "4      NaN  NaN         NaN   7.8     Estepona\n",
       "5  Gonzalo   30        True   7.7        Guaro"
      ]
     },
     "execution_count": 44,
     "metadata": {},
     "output_type": "execute_result"
    }
   ],
   "source": [
    "nuevo = pd.Series( index=alumnos.columns, data=[\"Gonzalo\", 30, True, 7.7, \"Guaro\"])\n",
    "\n",
    "alumnos.loc[ alumnos.shape[-1] , :] = nuevo\n",
    "alumnos"
   ]
  },
  {
   "cell_type": "markdown",
   "id": "d2aedfad-8810-418d-945a-4740582fc5e3",
   "metadata": {},
   "source": [
    "A continuación, vamos a ver cómo eliminar filas y columnas. Existen dos formas, la primera es seleccionar las filas y columnas que queramos (que veremos en la parte de selección de datos y que usaremos cuando queramos quitar datos según una condición) excluyendo las que no queremos, y la segunda, usar el método <code>drop()</code>. Por defecto, <code>drop()</code> elimina la fila que le pasemos, y devuelve un <code>DataFrame</code> nuevo:"
   ]
  },
  {
   "cell_type": "code",
   "execution_count": 45,
   "id": "9af6227b-c215-4ae5-a395-d86e66a8c234",
   "metadata": {},
   "outputs": [
    {
     "name": "stdout",
     "output_type": "stream",
     "text": [
      "    Nombre Edad Matriculado  Nota   Residencia\n",
      "0  Antonio   22       False   7.5     Alhaurin\n",
      "1    Berta   43        True   4.5  Benalmádena\n",
      "2   Carlos   24        True   6.6          NaN\n",
      "3      NaN  NaN         NaN   9.4          NaN\n",
      "4      NaN  NaN         NaN   7.8     Estepona\n",
      "5  Gonzalo   30        True   7.7        Guaro\n",
      "    Nombre Edad Matriculado  Nota   Residencia\n",
      "0  Antonio   22       False   7.5     Alhaurin\n",
      "1    Berta   43        True   4.5  Benalmádena\n",
      "3      NaN  NaN         NaN   9.4          NaN\n",
      "4      NaN  NaN         NaN   7.8     Estepona\n",
      "5  Gonzalo   30        True   7.7        Guaro\n"
     ]
    }
   ],
   "source": [
    "print(alumnos)\n",
    "print(alumnos.drop(2))"
   ]
  },
  {
   "cell_type": "markdown",
   "id": "7bb5c4b2-dd73-4eda-a3bf-cbbe5c45411b",
   "metadata": {},
   "source": [
    "El <code>DataFrame</code> queda intacto:"
   ]
  },
  {
   "cell_type": "code",
   "execution_count": 46,
   "id": "0924de63-6932-44eb-a929-514ba3f4952f",
   "metadata": {},
   "outputs": [
    {
     "data": {
      "text/html": [
       "<div>\n",
       "<style scoped>\n",
       "    .dataframe tbody tr th:only-of-type {\n",
       "        vertical-align: middle;\n",
       "    }\n",
       "\n",
       "    .dataframe tbody tr th {\n",
       "        vertical-align: top;\n",
       "    }\n",
       "\n",
       "    .dataframe thead th {\n",
       "        text-align: right;\n",
       "    }\n",
       "</style>\n",
       "<table border=\"1\" class=\"dataframe\">\n",
       "  <thead>\n",
       "    <tr style=\"text-align: right;\">\n",
       "      <th></th>\n",
       "      <th>Nombre</th>\n",
       "      <th>Edad</th>\n",
       "      <th>Matriculado</th>\n",
       "      <th>Nota</th>\n",
       "      <th>Residencia</th>\n",
       "    </tr>\n",
       "  </thead>\n",
       "  <tbody>\n",
       "    <tr>\n",
       "      <th>0</th>\n",
       "      <td>Antonio</td>\n",
       "      <td>22</td>\n",
       "      <td>False</td>\n",
       "      <td>7.5</td>\n",
       "      <td>Alhaurin</td>\n",
       "    </tr>\n",
       "    <tr>\n",
       "      <th>1</th>\n",
       "      <td>Berta</td>\n",
       "      <td>43</td>\n",
       "      <td>True</td>\n",
       "      <td>4.5</td>\n",
       "      <td>Benalmádena</td>\n",
       "    </tr>\n",
       "    <tr>\n",
       "      <th>2</th>\n",
       "      <td>Carlos</td>\n",
       "      <td>24</td>\n",
       "      <td>True</td>\n",
       "      <td>6.6</td>\n",
       "      <td>NaN</td>\n",
       "    </tr>\n",
       "    <tr>\n",
       "      <th>3</th>\n",
       "      <td>NaN</td>\n",
       "      <td>NaN</td>\n",
       "      <td>NaN</td>\n",
       "      <td>9.4</td>\n",
       "      <td>NaN</td>\n",
       "    </tr>\n",
       "    <tr>\n",
       "      <th>4</th>\n",
       "      <td>NaN</td>\n",
       "      <td>NaN</td>\n",
       "      <td>NaN</td>\n",
       "      <td>7.8</td>\n",
       "      <td>Estepona</td>\n",
       "    </tr>\n",
       "    <tr>\n",
       "      <th>5</th>\n",
       "      <td>Gonzalo</td>\n",
       "      <td>30</td>\n",
       "      <td>True</td>\n",
       "      <td>7.7</td>\n",
       "      <td>Guaro</td>\n",
       "    </tr>\n",
       "  </tbody>\n",
       "</table>\n",
       "</div>"
      ],
      "text/plain": [
       "    Nombre Edad Matriculado  Nota   Residencia\n",
       "0  Antonio   22       False   7.5     Alhaurin\n",
       "1    Berta   43        True   4.5  Benalmádena\n",
       "2   Carlos   24        True   6.6          NaN\n",
       "3      NaN  NaN         NaN   9.4          NaN\n",
       "4      NaN  NaN         NaN   7.8     Estepona\n",
       "5  Gonzalo   30        True   7.7        Guaro"
      ]
     },
     "execution_count": 46,
     "metadata": {},
     "output_type": "execute_result"
    }
   ],
   "source": [
    "alumnos"
   ]
  },
  {
   "cell_type": "markdown",
   "id": "c9fa389f-100b-4fd3-8bce-6888e46af2a7",
   "metadata": {},
   "source": [
    "Por lo que si queremos quedarnos con la versión modificada, tenemos dos opciones, asignar una nueva variable, que puede ser la misma que guarda el <code>DataFrame</code>:"
   ]
  },
  {
   "cell_type": "code",
   "execution_count": 47,
   "id": "0ae58e28-c59f-4844-bf0e-2590132e3efd",
   "metadata": {},
   "outputs": [
    {
     "data": {
      "text/html": [
       "<div>\n",
       "<style scoped>\n",
       "    .dataframe tbody tr th:only-of-type {\n",
       "        vertical-align: middle;\n",
       "    }\n",
       "\n",
       "    .dataframe tbody tr th {\n",
       "        vertical-align: top;\n",
       "    }\n",
       "\n",
       "    .dataframe thead th {\n",
       "        text-align: right;\n",
       "    }\n",
       "</style>\n",
       "<table border=\"1\" class=\"dataframe\">\n",
       "  <thead>\n",
       "    <tr style=\"text-align: right;\">\n",
       "      <th></th>\n",
       "      <th>Nombre</th>\n",
       "      <th>Edad</th>\n",
       "      <th>Matriculado</th>\n",
       "      <th>Nota</th>\n",
       "      <th>Residencia</th>\n",
       "    </tr>\n",
       "  </thead>\n",
       "  <tbody>\n",
       "    <tr>\n",
       "      <th>0</th>\n",
       "      <td>Antonio</td>\n",
       "      <td>22</td>\n",
       "      <td>False</td>\n",
       "      <td>7.5</td>\n",
       "      <td>Alhaurin</td>\n",
       "    </tr>\n",
       "    <tr>\n",
       "      <th>1</th>\n",
       "      <td>Berta</td>\n",
       "      <td>43</td>\n",
       "      <td>True</td>\n",
       "      <td>4.5</td>\n",
       "      <td>Benalmádena</td>\n",
       "    </tr>\n",
       "    <tr>\n",
       "      <th>3</th>\n",
       "      <td>NaN</td>\n",
       "      <td>NaN</td>\n",
       "      <td>NaN</td>\n",
       "      <td>9.4</td>\n",
       "      <td>NaN</td>\n",
       "    </tr>\n",
       "    <tr>\n",
       "      <th>4</th>\n",
       "      <td>NaN</td>\n",
       "      <td>NaN</td>\n",
       "      <td>NaN</td>\n",
       "      <td>7.8</td>\n",
       "      <td>Estepona</td>\n",
       "    </tr>\n",
       "    <tr>\n",
       "      <th>5</th>\n",
       "      <td>Gonzalo</td>\n",
       "      <td>30</td>\n",
       "      <td>True</td>\n",
       "      <td>7.7</td>\n",
       "      <td>Guaro</td>\n",
       "    </tr>\n",
       "  </tbody>\n",
       "</table>\n",
       "</div>"
      ],
      "text/plain": [
       "    Nombre Edad Matriculado  Nota   Residencia\n",
       "0  Antonio   22       False   7.5     Alhaurin\n",
       "1    Berta   43        True   4.5  Benalmádena\n",
       "3      NaN  NaN         NaN   9.4          NaN\n",
       "4      NaN  NaN         NaN   7.8     Estepona\n",
       "5  Gonzalo   30        True   7.7        Guaro"
      ]
     },
     "execution_count": 47,
     "metadata": {},
     "output_type": "execute_result"
    }
   ],
   "source": [
    "alumnos = alumnos.drop(2)\n",
    "alumnos"
   ]
  },
  {
   "cell_type": "markdown",
   "id": "ce8f4308-3aa8-473c-bbff-1cce3c023325",
   "metadata": {},
   "source": [
    "o usar el argumento <code>inplace</code>, que, en general podremos usar en muchos otros métodos de Pandas:"
   ]
  },
  {
   "cell_type": "code",
   "execution_count": 48,
   "id": "f109d8c6-1e8c-4ee2-898c-1dca94624f25",
   "metadata": {},
   "outputs": [
    {
     "data": {
      "text/html": [
       "<div>\n",
       "<style scoped>\n",
       "    .dataframe tbody tr th:only-of-type {\n",
       "        vertical-align: middle;\n",
       "    }\n",
       "\n",
       "    .dataframe tbody tr th {\n",
       "        vertical-align: top;\n",
       "    }\n",
       "\n",
       "    .dataframe thead th {\n",
       "        text-align: right;\n",
       "    }\n",
       "</style>\n",
       "<table border=\"1\" class=\"dataframe\">\n",
       "  <thead>\n",
       "    <tr style=\"text-align: right;\">\n",
       "      <th></th>\n",
       "      <th>Nombre</th>\n",
       "      <th>Edad</th>\n",
       "      <th>Matriculado</th>\n",
       "      <th>Nota</th>\n",
       "      <th>Residencia</th>\n",
       "    </tr>\n",
       "  </thead>\n",
       "  <tbody>\n",
       "    <tr>\n",
       "      <th>0</th>\n",
       "      <td>Antonio</td>\n",
       "      <td>22</td>\n",
       "      <td>False</td>\n",
       "      <td>7.5</td>\n",
       "      <td>Alhaurin</td>\n",
       "    </tr>\n",
       "    <tr>\n",
       "      <th>1</th>\n",
       "      <td>Berta</td>\n",
       "      <td>43</td>\n",
       "      <td>True</td>\n",
       "      <td>4.5</td>\n",
       "      <td>Benalmádena</td>\n",
       "    </tr>\n",
       "    <tr>\n",
       "      <th>3</th>\n",
       "      <td>NaN</td>\n",
       "      <td>NaN</td>\n",
       "      <td>NaN</td>\n",
       "      <td>9.4</td>\n",
       "      <td>NaN</td>\n",
       "    </tr>\n",
       "    <tr>\n",
       "      <th>5</th>\n",
       "      <td>Gonzalo</td>\n",
       "      <td>30</td>\n",
       "      <td>True</td>\n",
       "      <td>7.7</td>\n",
       "      <td>Guaro</td>\n",
       "    </tr>\n",
       "  </tbody>\n",
       "</table>\n",
       "</div>"
      ],
      "text/plain": [
       "    Nombre Edad Matriculado  Nota   Residencia\n",
       "0  Antonio   22       False   7.5     Alhaurin\n",
       "1    Berta   43        True   4.5  Benalmádena\n",
       "3      NaN  NaN         NaN   9.4          NaN\n",
       "5  Gonzalo   30        True   7.7        Guaro"
      ]
     },
     "execution_count": 48,
     "metadata": {},
     "output_type": "execute_result"
    }
   ],
   "source": [
    "alumnos.drop(4, inplace=True)\n",
    "alumnos"
   ]
  },
  {
   "cell_type": "markdown",
   "id": "a67366cb-fcfc-4390-92e6-7f665c12965e",
   "metadata": {},
   "source": [
    "Para eliminar una columna entera, usaremos la misma función, especificando el eje del que queremos elimnar (<code>0</code> para filas, valor por defecto, o <code>1</code> para las columnas:"
   ]
  },
  {
   "cell_type": "code",
   "execution_count": 49,
   "id": "ee3f1d79-0a3a-4518-b160-bc77b803055d",
   "metadata": {},
   "outputs": [
    {
     "data": {
      "text/html": [
       "<div>\n",
       "<style scoped>\n",
       "    .dataframe tbody tr th:only-of-type {\n",
       "        vertical-align: middle;\n",
       "    }\n",
       "\n",
       "    .dataframe tbody tr th {\n",
       "        vertical-align: top;\n",
       "    }\n",
       "\n",
       "    .dataframe thead th {\n",
       "        text-align: right;\n",
       "    }\n",
       "</style>\n",
       "<table border=\"1\" class=\"dataframe\">\n",
       "  <thead>\n",
       "    <tr style=\"text-align: right;\">\n",
       "      <th></th>\n",
       "      <th>Nombre</th>\n",
       "      <th>Edad</th>\n",
       "      <th>Matriculado</th>\n",
       "      <th>Nota</th>\n",
       "    </tr>\n",
       "  </thead>\n",
       "  <tbody>\n",
       "    <tr>\n",
       "      <th>0</th>\n",
       "      <td>Antonio</td>\n",
       "      <td>22</td>\n",
       "      <td>False</td>\n",
       "      <td>7.5</td>\n",
       "    </tr>\n",
       "    <tr>\n",
       "      <th>1</th>\n",
       "      <td>Berta</td>\n",
       "      <td>43</td>\n",
       "      <td>True</td>\n",
       "      <td>4.5</td>\n",
       "    </tr>\n",
       "    <tr>\n",
       "      <th>3</th>\n",
       "      <td>NaN</td>\n",
       "      <td>NaN</td>\n",
       "      <td>NaN</td>\n",
       "      <td>9.4</td>\n",
       "    </tr>\n",
       "    <tr>\n",
       "      <th>5</th>\n",
       "      <td>Gonzalo</td>\n",
       "      <td>30</td>\n",
       "      <td>True</td>\n",
       "      <td>7.7</td>\n",
       "    </tr>\n",
       "  </tbody>\n",
       "</table>\n",
       "</div>"
      ],
      "text/plain": [
       "    Nombre Edad Matriculado  Nota\n",
       "0  Antonio   22       False   7.5\n",
       "1    Berta   43        True   4.5\n",
       "3      NaN  NaN         NaN   9.4\n",
       "5  Gonzalo   30        True   7.7"
      ]
     },
     "execution_count": 49,
     "metadata": {},
     "output_type": "execute_result"
    }
   ],
   "source": [
    "alumnos.drop(\"Residencia\", axis=1)"
   ]
  },
  {
   "cell_type": "markdown",
   "id": "8ec3e6a2-5838-40f2-88a9-089ec6737496",
   "metadata": {},
   "source": [
    "Como en el caso anterior, el <code>DataFrame</code> quedará intacto a menos que guardemos la variable."
   ]
  },
  {
   "cell_type": "markdown",
   "id": "839fa6ce-58f5-4bca-8881-00112656632a",
   "metadata": {},
   "source": [
    "<p style=\"background-color:lightpink; padding:1em\"><b>Ejercicio 5</b><br/>\n",
    "    Elimine la fila <code>3</code> de la tabla <code>alumnos</code>.\n",
    "</p>"
   ]
  },
  {
   "cell_type": "markdown",
   "id": "5dde9f84-471f-4f4b-b3c0-59e1b8921c1b",
   "metadata": {
    "tags": []
   },
   "source": [
    "### Operaciones sobre <code>DataFrames</code>"
   ]
  },
  {
   "cell_type": "markdown",
   "id": "a423b037-b030-4675-8ec7-da8844c04d3e",
   "metadata": {},
   "source": [
    "Al igual que con los <code>Series</code>, podemos hacer operaciones con los <code>DataFrames</code>. Las operaciones son prácticamente las mismas, aplicándose a cada una de las columnas y resultando en un <code>Series</code>. Por ejemplo, podemos calcular el promedio con <code>mean()</code>:"
   ]
  },
  {
   "cell_type": "code",
   "execution_count": 50,
   "id": "7699cb8a-e239-4db2-ba33-ff81602dd0c1",
   "metadata": {},
   "outputs": [
    {
     "name": "stderr",
     "output_type": "stream",
     "text": [
      "C:\\Users\\PC\\AppData\\Local\\Temp\\ipykernel_10232\\4132399025.py:1: FutureWarning: Dropping of nuisance columns in DataFrame reductions (with 'numeric_only=None') is deprecated; in a future version this will raise TypeError.  Select only valid columns before calling the reduction.\n",
      "  alumnos.mean()\n"
     ]
    },
    {
     "data": {
      "text/plain": [
       "Edad           31.666667\n",
       "Matriculado     0.666667\n",
       "Nota            7.275000\n",
       "dtype: float64"
      ]
     },
     "execution_count": 50,
     "metadata": {},
     "output_type": "execute_result"
    }
   ],
   "source": [
    "alumnos.mean()"
   ]
  },
  {
   "cell_type": "markdown",
   "id": "5ba7ea3b-ba91-4fb0-bd16-fa3804855df7",
   "metadata": {},
   "source": [
    "Lógicamente, al tratarse de una operación numérica, sólo afectará a las columnas numéricas. La columna <code>Matriculado</code> se considera también numérica, con los valores 0 y 1. De igual manera, podemos hacer la suma:"
   ]
  },
  {
   "cell_type": "code",
   "execution_count": 51,
   "id": "148169d1-8ca3-4f19-ab70-286a4e233254",
   "metadata": {},
   "outputs": [
    {
     "name": "stderr",
     "output_type": "stream",
     "text": [
      "C:\\Users\\PC\\AppData\\Local\\Temp\\ipykernel_10232\\3177629171.py:1: FutureWarning: Dropping of nuisance columns in DataFrame reductions (with 'numeric_only=None') is deprecated; in a future version this will raise TypeError.  Select only valid columns before calling the reduction.\n",
      "  alumnos.sum()\n"
     ]
    },
    {
     "data": {
      "text/plain": [
       "Edad             95\n",
       "Matriculado       2\n",
       "Nota           29.1\n",
       "dtype: object"
      ]
     },
     "execution_count": 51,
     "metadata": {},
     "output_type": "execute_result"
    }
   ],
   "source": [
    "alumnos.sum()"
   ]
  },
  {
   "cell_type": "markdown",
   "id": "db322b6c-8c35-4835-a79d-4585aceb0a58",
   "metadata": {},
   "source": [
    "Los resultados de estas operaciones son objetos <code>Series</code>:"
   ]
  },
  {
   "cell_type": "markdown",
   "id": "8eae5cf7-616e-4511-94b4-2ce6418812f7",
   "metadata": {},
   "source": [
    "Las operaciones <code>apply()</code> que vimos antes, también se pueden usar aquí. A diferencia de los objetos <code>Series</code>, en este caso, la función a aplicar recibirá un objeto <code>Series</code> por cada fila o columna (dependiendo del eje en el que se aplique). Veamos un ejemplo con la tabla <code>alumnos</code>. Supongamos que queremos hacer una frase diciendo \"&lt;nombre de alumno&gt; &lt;está | no está&gt; matriculado\", según el valor de la fila:"
   ]
  },
  {
   "cell_type": "code",
   "execution_count": 52,
   "id": "959b3c8d-f7eb-4a5e-9790-cdb5256894f6",
   "metadata": {},
   "outputs": [],
   "source": [
    "def frase(fila):\n",
    "    if fila.loc[\"Matriculado\"]:\n",
    "        return \"{} está matriculado\".format(fila.loc[\"Nombre\"])\n",
    "    else:\n",
    "        return \"{} no está matriculado\".format(fila.loc[\"Nombre\"])"
   ]
  },
  {
   "cell_type": "markdown",
   "id": "27424afe-013d-4d86-9bb7-1fbfb78e87b4",
   "metadata": {},
   "source": [
    "Si queremos aplicar la función fila a fila, tenemos que especificar el argumento <code>axis=1</code>:"
   ]
  },
  {
   "cell_type": "code",
   "execution_count": 53,
   "id": "0f8c24d3-8e3f-4c65-9cd2-69834c548d92",
   "metadata": {},
   "outputs": [
    {
     "name": "stdout",
     "output_type": "stream",
     "text": [
      "    Nombre Edad Matriculado  Nota   Residencia\n",
      "0  Antonio   22       False   7.5     Alhaurin\n",
      "1    Berta   43        True   4.5  Benalmádena\n",
      "3      NaN  NaN         NaN   9.4          NaN\n",
      "5  Gonzalo   30        True   7.7        Guaro\n"
     ]
    },
    {
     "data": {
      "text/plain": [
       "0    Antonio no está matriculado\n",
       "1         Berta está matriculado\n",
       "3           nan está matriculado\n",
       "5       Gonzalo está matriculado\n",
       "dtype: object"
      ]
     },
     "execution_count": 53,
     "metadata": {},
     "output_type": "execute_result"
    }
   ],
   "source": [
    "print(alumnos)\n",
    "alumnos.apply( frase, axis=1)"
   ]
  },
  {
   "cell_type": "markdown",
   "id": "040c8a33-17d0-429a-8b23-d9e9943c008e",
   "metadata": {},
   "source": [
    "El resultado es una serie que comparte el índice con el <code>DataFrame</code> original. Una operación que haremos con bastante frecuencia, es generar nuevas columnas basadas en las existentes, usando <code>apply()</code> y asignando su salida a una nueva columna:"
   ]
  },
  {
   "cell_type": "code",
   "execution_count": 54,
   "id": "056804a6-99d3-4f79-aff2-f2fe587edc18",
   "metadata": {},
   "outputs": [
    {
     "data": {
      "text/html": [
       "<div>\n",
       "<style scoped>\n",
       "    .dataframe tbody tr th:only-of-type {\n",
       "        vertical-align: middle;\n",
       "    }\n",
       "\n",
       "    .dataframe tbody tr th {\n",
       "        vertical-align: top;\n",
       "    }\n",
       "\n",
       "    .dataframe thead th {\n",
       "        text-align: right;\n",
       "    }\n",
       "</style>\n",
       "<table border=\"1\" class=\"dataframe\">\n",
       "  <thead>\n",
       "    <tr style=\"text-align: right;\">\n",
       "      <th></th>\n",
       "      <th>Nombre</th>\n",
       "      <th>Edad</th>\n",
       "      <th>Matriculado</th>\n",
       "      <th>Nota</th>\n",
       "      <th>Residencia</th>\n",
       "      <th>Frase</th>\n",
       "    </tr>\n",
       "  </thead>\n",
       "  <tbody>\n",
       "    <tr>\n",
       "      <th>0</th>\n",
       "      <td>Antonio</td>\n",
       "      <td>22</td>\n",
       "      <td>False</td>\n",
       "      <td>7.5</td>\n",
       "      <td>Alhaurin</td>\n",
       "      <td>Antonio no está matriculado</td>\n",
       "    </tr>\n",
       "    <tr>\n",
       "      <th>1</th>\n",
       "      <td>Berta</td>\n",
       "      <td>43</td>\n",
       "      <td>True</td>\n",
       "      <td>4.5</td>\n",
       "      <td>Benalmádena</td>\n",
       "      <td>Berta está matriculado</td>\n",
       "    </tr>\n",
       "    <tr>\n",
       "      <th>3</th>\n",
       "      <td>NaN</td>\n",
       "      <td>NaN</td>\n",
       "      <td>NaN</td>\n",
       "      <td>9.4</td>\n",
       "      <td>NaN</td>\n",
       "      <td>nan está matriculado</td>\n",
       "    </tr>\n",
       "    <tr>\n",
       "      <th>5</th>\n",
       "      <td>Gonzalo</td>\n",
       "      <td>30</td>\n",
       "      <td>True</td>\n",
       "      <td>7.7</td>\n",
       "      <td>Guaro</td>\n",
       "      <td>Gonzalo está matriculado</td>\n",
       "    </tr>\n",
       "  </tbody>\n",
       "</table>\n",
       "</div>"
      ],
      "text/plain": [
       "    Nombre Edad Matriculado  Nota   Residencia                        Frase\n",
       "0  Antonio   22       False   7.5     Alhaurin  Antonio no está matriculado\n",
       "1    Berta   43        True   4.5  Benalmádena       Berta está matriculado\n",
       "3      NaN  NaN         NaN   9.4          NaN         nan está matriculado\n",
       "5  Gonzalo   30        True   7.7        Guaro     Gonzalo está matriculado"
      ]
     },
     "execution_count": 54,
     "metadata": {},
     "output_type": "execute_result"
    }
   ],
   "source": [
    "alumnos.loc[:,\"Frase\"] = alumnos.apply( frase, axis=1)\n",
    "alumnos"
   ]
  },
  {
   "cell_type": "markdown",
   "id": "6bfe3342-6e70-400c-96c8-bb1e94c03580",
   "metadata": {},
   "source": [
    "<div style=\"background-color:lightpink; padding:1em\">\n",
    "<p ><b>Ejercicio 6</b><br/>\n",
    "    Defina una función que reciba una fila, y haga lo siguiente:\n",
    "    <ul>\n",
    "        <li>Si el alumno está matriculado, devolver su nota</li>\n",
    "        <li>Si el alumno no está matriculado, devolver 0</li>\n",
    "    </ul>\n",
    "    Aplíquela sobre la tabla <code>alumnos</code> y añada el resultado como una nueva columna.\n",
    "</p>\n",
    "</div>"
   ]
  },
  {
   "cell_type": "code",
   "execution_count": null,
   "id": "ddda6e9d-41d4-48a5-a3d7-59c58dde6626",
   "metadata": {},
   "outputs": [],
   "source": []
  },
  {
   "cell_type": "markdown",
   "id": "6ee1c443-606f-4175-9e95-06d512e1a48e",
   "metadata": {},
   "source": [
    "Existen muchos más aspectos sobre los <code>DataFrame</code>, que se resumen <a href=\"https://pandas.pydata.org/pandas-docs/stable/user_guide/dsintro.html\">aquí</a>, entre ellas la selección de datos, que veremos en otra libreta."
   ]
  },
  {
   "cell_type": "markdown",
   "id": "a93a786c-772f-4b4c-82d5-27358a70e865",
   "metadata": {},
   "source": [
    "En versiones antiguas de Pandas, existía un tercer tipo de dato en llamado <code>Panel</code> que representaba datos en 3 dimensiones. En la actualidad, ese comportamiento se sustituye por <code>DataFrames</code> con índice multidimensional <code>MultiIndex</code>. No veremos los <code>MultiIndex</code> en este curso, pero en caso de necesidad, se puede consultar la <a href=\"https://pandas.pydata.org/pandas-docs/stable/user_guide/advanced.html\">documentación</a> de Pandas. Existe un tutorial en <a href=\"https://towardsdatascience.com/how-to-use-multiindex-in-pandas-to-level-up-your-analysis-aeac7f451fce\">TowardsDataScience</a> que lo explica de forma muy clara. "
   ]
  },
  {
   "cell_type": "markdown",
   "id": "6638c633-cc72-4488-b1fb-3766d85beae8",
   "metadata": {},
   "source": [
    "## Conclusiones"
   ]
  },
  {
   "cell_type": "markdown",
   "id": "1542cb95-ea73-4e7d-bdf1-f96f5890adeb",
   "metadata": {},
   "source": [
    "En esta libreta, hemos visto una nueva librería, Pandas, muy importante en nuestro proceso de análisis de datos. Serán el contenedor de los datos donde se les aplicarán distintas funciones. Los dos contenedores que hemos visto son:\n",
    "- <code>Series</code>: contienen datos indexados que representan a una única variable. Permiten la aplicación de funciones y operaciones enventanadas.\n",
    "- <code>DataFrame</code>: contienen tablas de datos, donde cada columna es una serie que comparte índice con las otras.\n",
    "\n",
    "Esta no será, ni mucho menos, la última vez que veamos Pandas en este curso. Hay mucho más por ver, y lo iremos viendo poco a poco en las siguientes lecciones. Como referencia, en la guía <a href=\"https://pandas.pydata.org/docs/user_guide/10min.html\">10 minutes to Pandas</a> hay una gran introducción a lo que se puede hacer con Pandas, pero en el curso veremos estas funciones distribuidas a lo largo de las lecciones.\n",
    "  "
   ]
  }
 ],
 "metadata": {
  "kernelspec": {
   "display_name": "Python 3 (ipykernel)",
   "language": "python",
   "name": "python3"
  },
  "language_info": {
   "codemirror_mode": {
    "name": "ipython",
    "version": 3
   },
   "file_extension": ".py",
   "mimetype": "text/x-python",
   "name": "python",
   "nbconvert_exporter": "python",
   "pygments_lexer": "ipython3",
   "version": "3.9.13"
  }
 },
 "nbformat": 4,
 "nbformat_minor": 5
}
