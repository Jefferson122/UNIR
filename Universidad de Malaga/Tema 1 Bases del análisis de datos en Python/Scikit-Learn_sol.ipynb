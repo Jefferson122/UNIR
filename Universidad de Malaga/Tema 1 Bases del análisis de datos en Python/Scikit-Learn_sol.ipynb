{
 "cells": [
  {
   "cell_type": "markdown",
   "id": "5603f26c-d985-4f89-abaa-75a3a82fc915",
   "metadata": {},
   "source": [
    "# Scikit-Learn"
   ]
  },
  {
   "cell_type": "code",
   "execution_count": 1,
   "id": "abddafdf-7801-49b5-b92c-fd702a48cae5",
   "metadata": {},
   "outputs": [],
   "source": [
    "import numpy as np\n",
    "import matplotlib.pyplot as plt\n",
    "from sklearn.preprocessing import StandardScaler"
   ]
  },
  {
   "cell_type": "markdown",
   "id": "540e895d-4989-4f75-bd78-27fd7ad333c9",
   "metadata": {},
   "source": [
    "<div style=\"background-color:lightpink; padding:1em\"><p><b>Ejercicio 1</b><br/>\n",
    "    Represente la nube de puntos de las variables escaladas, distinguiendo entre clases.<br/>\n",
    "</p>\n",
    "</div>"
   ]
  },
  {
   "cell_type": "markdown",
   "id": "3c63deff-a636-452e-ab66-31c0185463ae",
   "metadata": {},
   "source": [
    "Código anterior al ejercicio:"
   ]
  },
  {
   "cell_type": "code",
   "execution_count": 4,
   "id": "d2d88d7c-e074-4981-ace1-ae65d462c440",
   "metadata": {},
   "outputs": [
    {
     "name": "stdout",
     "output_type": "stream",
     "text": [
      "[[-1.17434236 -1.15725559]\n",
      " [-0.732237   -1.15725559]\n",
      " [-0.95328968 -0.55347007]\n",
      " [-1.17434236 -0.75473191]\n",
      " [-1.17434236 -1.35851743]\n",
      " [-0.95328968 -1.15725559]\n",
      " [-0.95328968 -0.75473191]\n",
      " [-0.732237   -0.75473191]\n",
      " [ 0.59407908  1.05662467]\n",
      " [ 0.81513176  1.25788651]\n",
      " [ 1.25723711  0.65410099]\n",
      " [ 1.03618443  1.45914836]\n",
      " [ 1.03618443  1.05662467]\n",
      " [ 0.81513176  0.65410099]\n",
      " [ 1.25723711  0.45283914]\n",
      " [ 1.03618443  1.05662467]]\n"
     ]
    }
   ],
   "source": [
    "Xt = np.array( [[1, 1], [3, 1], [2, 4], [1, 3], \n",
    "                [1, 0], [2, 1], [2, 3], [3, 3], \n",
    "                [9, 12], [10, 13], [12, 10], [11, 14], \n",
    "                [11, 12], [10, 10], [12, 9], [11, 12] ] )\n",
    "yt = np.array( [ 0, 0, 0, 0, 0, 0, 0, 0, 1, 1, 1, 1, 1, 1, 1, 1 ] ) \n",
    "\n",
    "escala = StandardScaler()\n",
    "escala.fit(Xt)\n",
    "Xtt = escala.transform(Xt)\n",
    "print(Xtt)"
   ]
  },
  {
   "cell_type": "markdown",
   "id": "65a7934c-144b-4b6d-a15e-6399302fae84",
   "metadata": {},
   "source": [
    "Solución:"
   ]
  },
  {
   "cell_type": "code",
   "execution_count": 3,
   "id": "48d61f87-335c-47c2-b54a-7fd0c0454ae8",
   "metadata": {},
   "outputs": [
    {
     "data": {
      "image/png": "[encoded data removed]",
      "text/plain": [
       "<Figure size 432x288 with 1 Axes>"
      ]
     },
     "metadata": {
      "needs_background": "light"
     },
     "output_type": "display_data"
    }
   ],
   "source": [
    "Xtt0x = [ Xtt[i][0] for i in range( len(Xtt) ) if yt[i] == 0 ]   # Coge el primer elemento de todos los puntos para los que yt == 0\n",
    "Xtt0y = [ Xtt[i][1] for i in range( len(Xtt) ) if yt[i] == 0 ]   # Coge el segundo elemento de todos los puntos para los que yt == 0\n",
    "\n",
    "Xtt1x = [ Xtt[i][0] for i in range( len(Xtt) ) if yt[i] == 1 ]   # Coge el primer elemento de todos los puntos para los que yt == 1\n",
    "Xtt1y = [ Xtt[i][1] for i in range( len(Xtt) ) if yt[i] == 1 ]   # Coge el segundo elemento de todos los puntos para los que yt == 1\n",
    "\n",
    "plt.scatter(Xtt0x, Xtt0y, label=\"Clase 0\")\n",
    "plt.scatter(Xtt1x, Xtt1y, label=\"Clase 1\")\n",
    "plt.legend()\n",
    "plt.show()"
   ]
  }
 ],
 "metadata": {
  "kernelspec": {
   "display_name": "Python 3 (ipykernel)",
   "language": "python",
   "name": "python3"
  },
  "language_info": {
   "codemirror_mode": {
    "name": "ipython",
    "version": 3
   },
   "file_extension": ".py",
   "mimetype": "text/x-python",
   "name": "python",
   "nbconvert_exporter": "python",
   "pygments_lexer": "ipython3",
   "version": "3.9.7"
  }
 },
 "nbformat": 4,
 "nbformat_minor": 5
}
