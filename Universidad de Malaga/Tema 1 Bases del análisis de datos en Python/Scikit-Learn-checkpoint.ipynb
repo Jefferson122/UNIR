{
 "cells": [
  {
   "cell_type": "markdown",
   "id": "5603f26c-d985-4f89-abaa-75a3a82fc915",
   "metadata": {},
   "source": [
    "# Scikit-Learn"
   ]
  },
  {
   "cell_type": "markdown",
   "id": "85d02400-c17b-41e8-b16a-e4b8c654f2c5",
   "metadata": {},
   "source": [
    "En esta libreta, vamos a ver una introducción a <a href=\"https://scikit-learn.org/stable/index.html\">Scikit-Learn</a>, la librería de Python para el aprendizaje automático. Esta libreta se aplica sobre la parte de minería de datos del proceso KDD:\n",
    "\n",
    "<img src=\"proceso.png\" style=\"width:60em; margin: 0 auto;\"/>\n",
    "\n"
   ]
  },
  {
   "cell_type": "markdown",
   "id": "37b5509f-e7ab-48ff-b69c-104ceca27ef9",
   "metadata": {},
   "source": [
    "---"
   ]
  },
  {
   "cell_type": "markdown",
   "id": "ccf1625b-a959-4c26-988b-5308ddc2bee1",
   "metadata": {},
   "source": [
    "# Índice\n",
    "[Estimadores](#Estimadores) <br/>\n",
    "[Preprocesadores](#Preprocesadores) <br/>\n",
    "[Pipelines de procesado](#Pipelines-de-procesado) <br/>\n",
    "[Validación](#Validación) <br/>\n",
    "[Conclusiones](#Conclusiones) <br/>"
   ]
  },
  {
   "cell_type": "markdown",
   "id": "3e78e805-dda7-4483-9696-1bb711b31aed",
   "metadata": {},
   "source": [
    "---"
   ]
  },
  {
   "cell_type": "markdown",
   "id": "4dda9469-6fc1-4196-9802-6feaaf802468",
   "metadata": {},
   "source": [
    "La primera pregunta que querremos responder es qué es exactamente el aprendizaje automático o <i>Machine Learning</i>. Este término, tan en boga en los últimos años, describe una forma de analítica de datos consistente en obtener un modelo de un sistema basándonos en un conjunto de datos de <i>entrenamiento</i>: \n",
    "\n",
    "<img src=\"ML.png\" style=\"width:30em; margin: 0 auto;\"/>\n",
    "\n",
    "En función de los datos de los que dispongamos, podremos hablar de:\n",
    "- Aprendizaje supervisado: tenemos ejemplares de las entradas y la salida correspondiente.\n",
    "- Aprendizaje no supervisado: sólo tenemos ejemplares de las entradas.\n",
    "- Aprendizaje por refuerzo: tenemos ejemplares de las entradas y disponemos de una función que nos dice la calidad de la estimación en cada momento (aunque no conozcamos el valor exacto de la salida).\n",
    "\n",
    "El conjunto de entrenamiento del que dispongamos tiene que cumplir una serie de propiedades:\n",
    "- Debe ser completa, es decir, cubrir todos los valores a la entrada que queramos que el modelo sea capaz de \"entender\".\n",
    "- Debe ser variada, es decir, debe tener muchos ejemplares de cada posible contexto a la entrada, para ser capaz de generalizar correctamente.\n",
    "\n",
    "Los sistemas de aprendizaje automático entrenan <i>estimadores</i>, que son algoritmos de Inteligencia Artificial capaces de imitar a los sistemas aprendidos. Existe una gran variedad de este tipo de sistemas, y se pueden clasificar en dos grupos:\n",
    "- Regresores: dados unos valores continuos o discretos a la entrada, devuelven un valor continuo a la salida.\n",
    "- Clasificadores: dados unos valores continuos o discretos a la entrada, devuelven un valor discreto y finito a la salida, llamado etiqueta de clase.\n",
    "\n",
    "Los algoritmos de aprendizaje automático ajustan los parámetros de dichos estimadores para obtener un error mínimo en el modelo. Estos parámetros pueden ser, por ejemplo, pesos en una red neuronal, ramas en un árbol de decisión, etc. A su vez, existen unos parámetros que ajustan el proceso de aprendizaje automático, a los que se suele llamar hiperparámetros.\n",
    "\n",
    "Scikit-learn nos provee de herramientas para todos estos tipos de aprendizaje automático y estimadores, así como algunas herramientas para el preprocesado. Una vez que disponemos del modelo, podemos usarlo para diversos fines: ser capaz de imitar el sistema original (predicción), entender las relaciones entre las entradas y las salidas, entender qué comportamiento estadístico tiene la salida condicionada a los valores de la entrada (modelado), etc.\n",
    "\n",
    "En aprendizaje automático, una vez que disponemos de las observaciones del sistema que usaremos para el modelado, debemos seguir siempre un protocolo que comprende los siguientes pasos:\n",
    "- Generar un conjunto de entrenamiento y uno de validación, para evitar el sobreajuste (es decir, que el sistema aprendido sea incapaz de generalizar bien).\n",
    "- Usar el conjunto de entrenamiento para ajustar un modelo.\n",
    "- Usar el conjunto de validación para evaluar el modelo aprendido.\n",
    "- Reajustar los hiperparámetros del estimador (parámetros que se ajustan manualmente)\n",
    "\n",
    "Como se puede ver en <a href=\"https://scikit-learn.org/stable/index.html\">la página</a> de Scikit-Learn, la librería se compone de varias partes principales:\n",
    "- Algoritmos de regresión\n",
    "- Algoritmos de clasificación supervisada\n",
    "- Algoritmos de clasificación no supervisada (clustering)\n",
    "- Métodos de reducción de dimensionalidad (para el preprocesado)\n",
    "- Otras herramientas de preprocesado\n",
    "- Herramientas para la selección de modelo\n",
    "\n",
    "En esta libreta veremos una introducción a la librería, de forma que entendamos el funcionamiento a alto nivel, y veremos en más detalle algunos puntos en libretas futuras."
   ]
  },
  {
   "cell_type": "code",
   "execution_count": 1,
   "id": "799342b0-569e-4541-bb09-d363b5345a44",
   "metadata": {},
   "outputs": [],
   "source": [
    "from sklearn.tree import DecisionTreeClassifier, plot_tree    # Nuevo: funciones de aprendizaje con árboles de decisión\n",
    "from sklearn.preprocessing import StandardScaler              # Nuevo: objeto de escalado\n",
    "from sklearn.pipeline import make_pipeline                    # Nuevo: método para crear tuberías\n",
    "from sklearn.model_selection import cross_validate            # Nuevo: función de correlación cruzada\n",
    "import numpy as np\n",
    "import matplotlib.pyplot as plt"
   ]
  },
  {
   "cell_type": "markdown",
   "id": "8598550a-6f46-4669-914c-0f481baab0f2",
   "metadata": {
    "tags": []
   },
   "source": [
    "## Estimadores"
   ]
  },
  {
   "cell_type": "markdown",
   "id": "e250a6b4-fa02-46bd-9138-7e397449ee28",
   "metadata": {},
   "source": [
    "Como hemos visto en la introducción, un estimador es un sistema que, dada una entrada, devuelve un valor estimado, intentando imitar a otro sistema. El estimador tiene unos parámetros que han sido ajustados mediante un algoritmo de aprendizaje automático en base a unos datos de entrenamiento. Veamos cómo se traduce esto a la práctica. \n",
    "\n",
    "En este ejemplo, vamos a usar un modelo <code>DecisionTreeClassifier</code>, que entrena un árbol de decisión que, en función del valor de entrada, decide una clase de salida. El primer paso será tener un conjunto de datos de entrenamiento, compuesto por <code>Xt</code>, muestras de entrada e <code>yt</code>, muestras de salida:"
   ]
  },
  {
   "cell_type": "code",
   "execution_count": 2,
   "id": "df3cce71-ae01-453b-9c40-ef8ed582cc2f",
   "metadata": {},
   "outputs": [
    {
     "name": "stdout",
     "output_type": "stream",
     "text": [
      "16\n"
     ]
    }
   ],
   "source": [
    "Xt = np.array( [[1, 1], [3, 1], [2, 4], [1, 3], \n",
    "                [1, 0], [2, 1], [2, 3], [3, 3], \n",
    "                [9, 12], [10, 13], [12, 10], [11, 14], \n",
    "                [11, 12], [10, 10], [12, 9], [11, 12] ] )\n",
    "yt = np.array( [ 0, 0, 0, 0, 0, 0, 0, 0, 1, 1, 1, 1, 1, 1, 1, 1 ] ) \n",
    "\n",
    "print(len(Xt))"
   ]
  },
  {
   "cell_type": "markdown",
   "id": "7ad469ae-54b6-4eb4-90b3-5704b4ad8fbc",
   "metadata": {},
   "source": [
    "La variable de entrada, <code>Xt</code> es bidimensional, es decir, tiene dos variables y podemos representarla como puntos en un plano. Debemos hacer siempre una representación para entender mejor los datos, así que antes de seguir, representemos estos datos sobre una nube de puntos, pintando de distinto color las muestras con la etiqueta <code>0</code> y la <code>1</code>. Primero separamos en cuatro listas los valores de <code>Xt</code> en función de los valores de <code>yt</code> y de la coordenada:"
   ]
  },
  {
   "cell_type": "code",
   "execution_count": 3,
   "id": "1dd5b179-9741-4409-84b6-c43d2d038a85",
   "metadata": {},
   "outputs": [
    {
     "name": "stdout",
     "output_type": "stream",
     "text": [
      "Datos \n",
      "\n",
      "[[ 1  1]\n",
      " [ 3  1]\n",
      " [ 2  4]\n",
      " [ 1  3]\n",
      " [ 1  0]\n",
      " [ 2  1]\n",
      " [ 2  3]\n",
      " [ 3  3]\n",
      " [ 9 12]\n",
      " [10 13]\n",
      " [12 10]\n",
      " [11 14]\n",
      " [11 12]\n",
      " [10 10]\n",
      " [12  9]\n",
      " [11 12]]\n",
      "Resultados \n",
      "\n",
      "[1, 3, 2, 1, 1, 2, 2, 3]\n",
      "[1, 1, 4, 3, 0, 1, 3, 3]\n",
      "[9, 10, 12, 11, 11, 10, 12, 11]\n",
      "[12, 13, 10, 14, 12, 10, 9, 12]\n"
     ]
    }
   ],
   "source": [
    "Xt0x = [ Xt[i][0] for i in range( len(Xt) ) if yt[i] == 0 ]\n",
    "Xt0y = [ Xt[i][1] for i in range( len(Xt) ) if yt[i] == 0 ]\n",
    "\n",
    "Xt1x = [ Xt[i][0] for i in range( len(Xt) ) if yt[i] == 1 ]\n",
    "Xt1y = [ Xt[i][1] for i in range( len(Xt) ) if yt[i] == 1 ]\n",
    "\n",
    "print('Datos \\n')\n",
    "print(Xt)\n",
    "print('Resultados \\n')\n",
    "print(Xt0x)\n",
    "print(Xt0y)\n",
    "print(Xt1x)\n",
    "print(Xt1y)"
   ]
  },
  {
   "cell_type": "markdown",
   "id": "99464854-9afb-46e6-a2e5-7cfcdd3d7b70",
   "metadata": {},
   "source": [
    "Y ahora los representamos:"
   ]
  },
  {
   "cell_type": "code",
   "execution_count": 4,
   "id": "a6757807-5076-401c-bfc2-5a37879e5df9",
   "metadata": {},
   "outputs": [
    {
     "data": {
      "image/png": "[encoded data removed]",
      "text/plain": [
       "<Figure size 432x288 with 1 Axes>"
      ]
     },
     "metadata": {
      "needs_background": "light"
     },
     "output_type": "display_data"
    }
   ],
   "source": [
    "plt.scatter(Xt0x, Xt0y, label=\"Clase 0\")\n",
    "plt.scatter(Xt1x, Xt1y, label=\"Clase 1\")\n",
    "plt.legend()\n",
    "plt.show()"
   ]
  },
  {
   "cell_type": "markdown",
   "id": "56ec5130-e6b9-4504-ae75-e3dd4d80dd90",
   "metadata": {},
   "source": [
    "A simple vista podemos ver que si dividimos el espacio en cuatro cuadrantes, la clase <code>0</code> queda abajo a la izquierda y la clase <code>1</code> arriba a la derecha. Esto, que para nosotros es intuitivo, lo tendrá que entender y codificar el algoritmo de aprendizaje automático. En Scikit-learn, el proceso suele ser siempre el mismo. Primero creamos el objeto:"
   ]
  },
  {
   "cell_type": "code",
   "execution_count": 5,
   "id": "f17999e4-60f7-48c6-9f4a-f04cbe370dad",
   "metadata": {},
   "outputs": [],
   "source": [
    "clasificador = DecisionTreeClassifier()"
   ]
  },
  {
   "cell_type": "markdown",
   "id": "6b224f7d-62e3-44cb-ac53-5d52df44ab8e",
   "metadata": {},
   "source": [
    "A continuación lo entrenamos con el método <code>fit()</code>:"
   ]
  },
  {
   "cell_type": "code",
   "execution_count": 6,
   "id": "b796deaa-1aa7-4950-a0d3-d2e27d057e1b",
   "metadata": {},
   "outputs": [
    {
     "data": {
      "text/plain": [
       "DecisionTreeClassifier()"
      ]
     },
     "execution_count": 6,
     "metadata": {},
     "output_type": "execute_result"
    }
   ],
   "source": [
    "clasificador.fit(Xt, yt)"
   ]
  },
  {
   "cell_type": "markdown",
   "id": "805fb25e-5f74-4ecd-9aa9-c270df928415",
   "metadata": {},
   "source": [
    "Esto nos deja un clasificador ya entrenado, que podremos probar con el método <code>predict()</code>:"
   ]
  },
  {
   "cell_type": "code",
   "execution_count": 7,
   "id": "6592c3ab-b5e3-46b1-a208-c18e5404ffdd",
   "metadata": {},
   "outputs": [
    {
     "data": {
      "text/plain": [
       "array([0, 0, 0, 0, 0, 0, 0, 0, 1, 1, 1, 1, 1, 1, 1, 1])"
      ]
     },
     "execution_count": 7,
     "metadata": {},
     "output_type": "execute_result"
    }
   ],
   "source": [
    "clasificador.predict(Xt)"
   ]
  },
  {
   "cell_type": "markdown",
   "id": "ae9157a0-a2aa-469d-aace-6d60937013b7",
   "metadata": {},
   "source": [
    "Vemos que ha conseguido clasificar estos datos correctamente. En el mundo real, siempre tendremos que probar con un conjunto de datos de validación distinto a los de entrenamiento. Veremos esto más adelante.\n",
    "\n",
    "Como curiosidad, en el caso de los árboles, podemos representarlos de la siguiente manera:"
   ]
  },
  {
   "cell_type": "code",
   "execution_count": 8,
   "id": "afe4f608-c444-4dad-a943-4ece3c4bc279",
   "metadata": {},
   "outputs": [
    {
     "data": {
      "image/png": "[encoded data removed]",
      "text/plain": [
       "<Figure size 432x288 with 1 Axes>"
      ]
     },
     "metadata": {
      "needs_background": "light"
     },
     "output_type": "display_data"
    }
   ],
   "source": [
    "plot_tree(clasificador)\n",
    "plt.show()"
   ]
  },
  {
   "cell_type": "markdown",
   "id": "53dc3df4-c3de-4ff7-ab6c-7bd72df5b60f",
   "metadata": {},
   "source": [
    "En este caso, nos dice que sólo hay una única decisión, que es la comparación de <code>X[1]</code> (es decir, la segunda variable) con el umbral 6.5. En cada nodo (el de decisión y los dos de salida) nos indica cuántas muestras hay (<code>samples</code>), cuántas hay de cada clase (<code>value</code>) y un coeficiente que <a href=\"https://en.wikipedia.org/wiki/Gini_coefficient\">indica la desigualdad</a> de los puntos (<code>gini</code>)."
   ]
  },
  {
   "cell_type": "markdown",
   "id": "f5ace7c8-4943-49a3-8f98-638020c4da57",
   "metadata": {
    "tags": []
   },
   "source": [
    "## Preprocesadores"
   ]
  },
  {
   "cell_type": "markdown",
   "id": "684af85c-c458-491e-808d-691e21f29e0a",
   "metadata": {},
   "source": [
    "Scikit-learn no solo provee de herramientas para la fase de minería de datos, sino también para el preprocesado. Veremos en profundidad un ejemplo en la libreta de PCA. Aquí vamos a ver cómo podemos usar un preprocesador más simple, uno que normaliza los valores de un conjunto de datos sustrayendo la media y dividiendolo de forma que la desviación típica sea 1. Este es un requisito común en algunos algoritmos de minería de datos, que funcionan mejor con datos normalizados.\n",
    "\n",
    "Usaremos los mismos datos que en el apartado anterior. El proceso es, además, similar. Primero generamos el objeto preprocesador:"
   ]
  },
  {
   "cell_type": "code",
   "execution_count": 9,
   "id": "8cf0d716-d9be-4c45-885d-fd20a92f1f9c",
   "metadata": {},
   "outputs": [],
   "source": [
    "escala = StandardScaler()"
   ]
  },
  {
   "cell_type": "markdown",
   "id": "a46f7285-d455-4764-af43-01596360a889",
   "metadata": {},
   "source": [
    "A continuación ajustamos sus parámetros a los datos (sólo a los de entrada):"
   ]
  },
  {
   "cell_type": "code",
   "execution_count": 10,
   "id": "955c48e4-a8c9-46aa-99a5-8ef3e50be411",
   "metadata": {},
   "outputs": [
    {
     "data": {
      "text/plain": [
       "StandardScaler()"
      ]
     },
     "execution_count": 10,
     "metadata": {},
     "output_type": "execute_result"
    }
   ],
   "source": [
    "escala.fit(Xt)"
   ]
  },
  {
   "cell_type": "markdown",
   "id": "d44ea5db-39e9-4cf4-a6f4-903e373a33b0",
   "metadata": {},
   "source": [
    "Y dado que estamos ante un preprocesador y no un estimador, querremos transformar los datos en lugar de hacer una predicción:"
   ]
  },
  {
   "cell_type": "code",
   "execution_count": 11,
   "id": "320c600a-d774-4a52-a19f-7d9fa6663ab7",
   "metadata": {},
   "outputs": [
    {
     "name": "stdout",
     "output_type": "stream",
     "text": [
      "[[-1.17434236 -1.15725559]\n",
      " [-0.732237   -1.15725559]\n",
      " [-0.95328968 -0.55347007]\n",
      " [-1.17434236 -0.75473191]\n",
      " [-1.17434236 -1.35851743]\n",
      " [-0.95328968 -1.15725559]\n",
      " [-0.95328968 -0.75473191]\n",
      " [-0.732237   -0.75473191]\n",
      " [ 0.59407908  1.05662467]\n",
      " [ 0.81513176  1.25788651]\n",
      " [ 1.25723711  0.65410099]\n",
      " [ 1.03618443  1.45914836]\n",
      " [ 1.03618443  1.05662467]\n",
      " [ 0.81513176  0.65410099]\n",
      " [ 1.25723711  0.45283914]\n",
      " [ 1.03618443  1.05662467]]\n",
      "[[ 1  1]\n",
      " [ 3  1]\n",
      " [ 2  4]\n",
      " [ 1  3]\n",
      " [ 1  0]\n",
      " [ 2  1]\n",
      " [ 2  3]\n",
      " [ 3  3]\n",
      " [ 9 12]\n",
      " [10 13]\n",
      " [12 10]\n",
      " [11 14]\n",
      " [11 12]\n",
      " [10 10]\n",
      " [12  9]\n",
      " [11 12]]\n"
     ]
    }
   ],
   "source": [
    "Xtt = escala.transform(Xt)\n",
    "print(Xtt)\n",
    "print(Xt)"
   ]
  },
  {
   "cell_type": "markdown",
   "id": "b21f4fb7-0728-4f1e-b3c1-1a0f9f3abed1",
   "metadata": {},
   "source": [
    "Si repetimos el proceso de antes para representar <code>Xtt</code>, veremos que la geometría del problema no cambia, aunque las muestras se han desplazado hacia el centro del plano."
   ]
  },
  {
   "cell_type": "markdown",
   "id": "540e895d-4989-4f75-bd78-27fd7ad333c9",
   "metadata": {},
   "source": [
    "<div style=\"background-color:lightpink; padding:1em\"><p><b>Ejercicio 1</b><br/>\n",
    "    Represente la nube de puntos de las variables escaladas, distinguiendo entre clases.<br/>\n",
    "</p>\n",
    "</div>"
   ]
  },
  {
   "cell_type": "code",
   "execution_count": 12,
   "id": "03dc5ba8-0130-4b90-ac15-dc724ff74dbd",
   "metadata": {},
   "outputs": [
    {
     "data": {
      "image/png": "[encoded data removed]",
      "text/plain": [
       "<Figure size 432x288 with 1 Axes>"
      ]
     },
     "metadata": {
      "needs_background": "light"
     },
     "output_type": "display_data"
    }
   ],
   "source": [
    "Xtt0x = [ Xtt[i][0] for i in range( len(Xtt) ) if yt[i] == 0 ]   # Coge el primer elemento de todos los puntos para los que yt == 0\n",
    "Xtt0y = [ Xtt[i][1] for i in range( len(Xtt) ) if yt[i] == 0 ]   # Coge el segundo elemento de todos los puntos para los que yt == 0\n",
    "\n",
    "Xtt1x = [ Xtt[i][0] for i in range( len(Xtt) ) if yt[i] == 1 ]   # Coge el primer elemento de todos los puntos para los que yt == 1\n",
    "Xtt1y = [ Xtt[i][1] for i in range( len(Xtt) ) if yt[i] == 1 ]   # Coge el segundo elemento de todos los puntos para los que yt == 1\n",
    "\n",
    "plt.scatter(Xtt0x, Xtt0y, label=\"Clase 0\")\n",
    "plt.scatter(Xtt1x, Xtt1y, label=\"Clase 1\")\n",
    "plt.legend()\n",
    "plt.show()"
   ]
  },
  {
   "cell_type": "markdown",
   "id": "c988471c-ff97-4a6b-be13-6a34e685e0ed",
   "metadata": {},
   "source": [
    "Cuando tengamos los datos transformados, tendremos que hacer el entrenamiento, que dará lugar a un estimador que siempre necesitará ir precedido de la transformación. Por tanto, cuando hagamos la predicción, tendremos que transformar también las nuevas muestras."
   ]
  },
  {
   "cell_type": "markdown",
   "id": "fe131189-d613-4be0-87d4-1b3738c41df1",
   "metadata": {
    "tags": []
   },
   "source": [
    "## Pipelines de procesado"
   ]
  },
  {
   "cell_type": "markdown",
   "id": "e6199c83-a678-4967-8563-75d19e8498f2",
   "metadata": {},
   "source": [
    "En ocasiones, cuando usamos técnicas de preprocesado y minería de datos de Scikit-learn, podemos construit <a href=\"https://scikit-learn.org/stable/modules/compose.html\">pipelines</a> o \"tuberías\". Consisten en concatenaciones de preprocesadores y estimadores, que pueden mejorar la legibilidad del código. Por ejmeplo, para el procesado que hemos visto hasta ahora:"
   ]
  },
  {
   "cell_type": "code",
   "execution_count": 13,
   "id": "481eb8ec-9093-4a45-b6d5-6d5c4f87a622",
   "metadata": {},
   "outputs": [],
   "source": [
    "pipeline = make_pipeline(StandardScaler(), DecisionTreeClassifier())"
   ]
  },
  {
   "cell_type": "markdown",
   "id": "bc616479-fb29-487b-bc25-911a82815959",
   "metadata": {},
   "source": [
    "El entrenamiento se hará primero sobre el preprocesador, y luego, con los datos ya transformados, sobre el árbol de decisión:"
   ]
  },
  {
   "cell_type": "code",
   "execution_count": 14,
   "id": "51629640-72b7-4f36-ab5d-9fb3f1c2f7ab",
   "metadata": {},
   "outputs": [
    {
     "data": {
      "text/plain": [
       "Pipeline(steps=[('standardscaler', StandardScaler()),\n",
       "                ('decisiontreeclassifier', DecisionTreeClassifier())])"
      ]
     },
     "execution_count": 14,
     "metadata": {},
     "output_type": "execute_result"
    }
   ],
   "source": [
    "pipeline.fit(Xt, yt)"
   ]
  },
  {
   "cell_type": "markdown",
   "id": "e4a10d35-1c21-4177-b7ec-5621ef90c191",
   "metadata": {},
   "source": [
    "Y cuando intentemos predecir algo, hará primero la transformación y después la clasificación, sin que tengamos que hacer nada nosotros:"
   ]
  },
  {
   "cell_type": "code",
   "execution_count": 15,
   "id": "4d6285e1-f8e5-43d8-8264-5d020b0c1e4a",
   "metadata": {},
   "outputs": [
    {
     "data": {
      "text/plain": [
       "array([0, 0, 0, 0, 0, 0, 0, 0, 1, 1, 1, 1, 1, 1, 1, 1])"
      ]
     },
     "execution_count": 15,
     "metadata": {},
     "output_type": "execute_result"
    }
   ],
   "source": [
    "pipeline.predict(Xt)"
   ]
  },
  {
   "cell_type": "markdown",
   "id": "099b8c1b-a19d-4a0d-bd18-ba48b0913257",
   "metadata": {
    "tags": []
   },
   "source": [
    "## Validación"
   ]
  },
  {
   "cell_type": "markdown",
   "id": "564fd231-a796-425d-809f-0cdafd898a54",
   "metadata": {},
   "source": [
    "Una técnica común que se usa en validación de sistemas de aprendizaje automático es la de la <a href=\"https://es.wikipedia.org/wiki/Validaci%C3%B3n_cruzada\">validación cruzada</a>, que consiste en dividir el conjunto de observaciones en conjuntos de entrenamiento y validación varias veces, y usarlas para entrenar y evaluar el sistema en diversas condiciones. Normalmente, haremos esto con cantidades de datos grandes, pero aquí usaremos el pequeño conjunto de datos que tenemos para probar su funcionamiento. Generamos un objeto estimador:"
   ]
  },
  {
   "cell_type": "code",
   "execution_count": 16,
   "id": "e4c14c01-f235-4327-8f88-372249f8e168",
   "metadata": {},
   "outputs": [],
   "source": [
    "estimador = DecisionTreeClassifier()"
   ]
  },
  {
   "cell_type": "markdown",
   "id": "76402948-86ae-41f8-b0d1-50a44be6667d",
   "metadata": {},
   "source": [
    "Y llamamos a la técnica de validación cruzada <code>cross_validate</code> con los datos de entrenamiento:"
   ]
  },
  {
   "cell_type": "code",
   "execution_count": 17,
   "id": "d48c2614-0af4-4efb-95bc-a62325a22bae",
   "metadata": {},
   "outputs": [
    {
     "data": {
      "text/plain": [
       "{'fit_time': array([0.00399923, 0.        , 0.        , 0.00176716, 0.        ]),\n",
       " 'score_time': array([0.       , 0.       , 0.0039947, 0.       , 0.       ]),\n",
       " 'test_score': array([1., 1., 1., 1., 1.])}"
      ]
     },
     "execution_count": 17,
     "metadata": {},
     "output_type": "execute_result"
    }
   ],
   "source": [
    "cross_validate(estimador, Xt, yt)"
   ]
  },
  {
   "cell_type": "markdown",
   "id": "9a0c0950-2fdb-476e-ad2a-3213ad925b04",
   "metadata": {},
   "source": [
    "Con los parámetros por defecto, <code>cross_validate</code> hace cinco pases y obtiene la puntuación y medidas de tiempo para cada uno. En este caso, el estimador acierta siempre, por lo que tenemos un estimador muy bueno (en realidad, unos datos muy fáciles). En la <a href=\"https://scikit-learn.org/stable/modules/cross_validation.html\">documentación</a> podemos encontrar más detalles acerca de esto. Tendremos que usar esta función para validar nuestro sistema de cara a su distribución, despliegue, uso en el mundo real o a publicaciones científicas. En este curso, usaremos a menudo otra función, que veremos más adelante, que divide un conjunto de datos en conjunto de entrenamiento y validación, y que es equivalente a una única pasada de la validación cruzada. Será más práctico para el desarrollo, pero no servirá para concluir un estudio de análisis de datos."
   ]
  },
  {
   "cell_type": "markdown",
   "id": "c7aefbfa-4019-4f73-bdc0-24fa9d7ab16b",
   "metadata": {},
   "source": [
    "## Conclusiones"
   ]
  },
  {
   "cell_type": "markdown",
   "id": "5b6da270-e304-4955-bd08-dd0f7abce2cd",
   "metadata": {},
   "source": [
    "En esta libreta hemos visto los siguientes puntos:\n",
    "- Una aproximación teórica al aprendizaje automático\n",
    "- Una breve introducción a las funciones básicas de Scikit-Learn: estimadores y preprocesadores\n",
    "- Técnicas de validación con Scikit-Learn\n",
    "\n",
    "Queda mucho por ver, por supuesto. Veremos mucho más de Scikit-Learn en libretas sucesivas, y siempre tendremos <a href=\"https://scikit-learn.org/stable/user_guide.html\">la guía</a> de Scikit-Learn."
   ]
  },
  {
   "cell_type": "code",
   "execution_count": null,
   "id": "306f8343-1b1d-4099-aeca-36eb4e2c0184",
   "metadata": {},
   "outputs": [],
   "source": []
  }
 ],
 "metadata": {
  "kernelspec": {
   "display_name": "Python 3 (ipykernel)",
   "language": "python",
   "name": "python3"
  },
  "language_info": {
   "codemirror_mode": {
    "name": "ipython",
    "version": 3
   },
   "file_extension": ".py",
   "mimetype": "text/x-python",
   "name": "python",
   "nbconvert_exporter": "python",
   "pygments_lexer": "ipython3",
   "version": "3.9.13"
  }
 },
 "nbformat": 4,
 "nbformat_minor": 5
}
