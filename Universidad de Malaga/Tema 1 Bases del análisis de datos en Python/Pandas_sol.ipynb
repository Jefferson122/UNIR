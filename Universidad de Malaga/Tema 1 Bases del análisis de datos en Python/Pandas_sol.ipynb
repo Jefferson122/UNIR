{
 "cells": [
  {
   "cell_type": "markdown",
   "id": "5ec26afc-0057-4448-9f57-5bbe457a08da",
   "metadata": {},
   "source": [
    "# Librería Pandas (tipos de dato)"
   ]
  },
  {
   "cell_type": "code",
   "execution_count": 1,
   "id": "a6de52fe-c53c-4f44-a229-7aa153d44a52",
   "metadata": {},
   "outputs": [],
   "source": [
    "import pandas as pd"
   ]
  },
  {
   "cell_type": "markdown",
   "id": "7f102de4-c7e5-433e-ad67-6650857484f9",
   "metadata": {},
   "source": [
    "<div style=\"background-color:lightpink; padding:1em\"><p><b>Ejercicio 1</b><br/>\n",
    "    Defina la siguiente serie de datos con un índice de enteros y cadenas de caracteres como valores: <br/>\n",
    "</p>\n",
    "    <table> \n",
    "        <tr><th>Índice</th><th>Valores</th></tr>\n",
    "        <tr><td>10</td><td>X</td></tr>\n",
    "        <tr><td>20</td><td>XX</td></tr>\n",
    "        <tr><td>30</td><td>XXX</td></tr>\n",
    "        <tr><td>40</td><td>XL</td></tr>\n",
    "        <tr><td>50</td><td>L</td></tr>\n",
    "    </table>\n",
    "    \n",
    "</div>"
   ]
  },
  {
   "cell_type": "code",
   "execution_count": 2,
   "id": "dd705b77-df72-4c2b-b50e-a4d723d4e841",
   "metadata": {},
   "outputs": [
    {
     "data": {
      "text/plain": [
       "10      X\n",
       "20     XX\n",
       "30    XXX\n",
       "40     XL\n",
       "50      L\n",
       "dtype: object"
      ]
     },
     "execution_count": 2,
     "metadata": {},
     "output_type": "execute_result"
    }
   ],
   "source": [
    "pd.Series( [\"X\", \"XX\", \"XXX\", \"XL\", \"L\"], index=[10, 20, 30, 40, 50])"
   ]
  },
  {
   "cell_type": "markdown",
   "id": "95a8cbdd-df8a-4479-9fa1-fb696221e8de",
   "metadata": {},
   "source": [
    "<p style=\"background-color:lightpink; padding:1em\"><b>Ejercicio 2</b><br/>\n",
    "    Defina una función que, dado un número entero entre 1 y 5, devuelva una cadena con su valor en números romanos. Aplique dicha función a la serie <code>s2</code>.\n",
    "</p>"
   ]
  },
  {
   "cell_type": "markdown",
   "id": "afd8d14c-d444-4636-9d86-9935b17fb226",
   "metadata": {},
   "source": [
    "Solución 1:"
   ]
  },
  {
   "cell_type": "code",
   "execution_count": 12,
   "id": "30742ece-adb5-4ab4-851e-cb118ef19e7d",
   "metadata": {},
   "outputs": [
    {
     "data": {
      "text/plain": [
       "0      I\n",
       "1      I\n",
       "2    III\n",
       "3     II\n",
       "4     II\n",
       "5      I\n",
       "6    III\n",
       "dtype: object"
      ]
     },
     "execution_count": 12,
     "metadata": {},
     "output_type": "execute_result"
    }
   ],
   "source": [
    "s2 = pd.Series([1, 1, 3, 2, 2, 1, 3])\n",
    "\n",
    "def romano(valor):\n",
    "    valores_romanos = [None, \"I\", \"II\", \"III\", \"IV\", \"V\"]\n",
    "    return valores_romanos[valor]\n",
    "\n",
    "s2.apply(romano)"
   ]
  },
  {
   "cell_type": "markdown",
   "id": "ce8aa934-36e3-486f-8ae1-54475a9380fd",
   "metadata": {},
   "source": [
    "Solución 2:"
   ]
  },
  {
   "cell_type": "code",
   "execution_count": 4,
   "id": "9d4b9134-7750-47a0-8490-4292ec91e394",
   "metadata": {},
   "outputs": [
    {
     "data": {
      "text/plain": [
       "0      I\n",
       "1      I\n",
       "2    III\n",
       "3     II\n",
       "4     II\n",
       "5      I\n",
       "6    III\n",
       "dtype: object"
      ]
     },
     "execution_count": 4,
     "metadata": {},
     "output_type": "execute_result"
    }
   ],
   "source": [
    "s2 = pd.Series([1, 1, 3, 2, 2, 1, 3])\n",
    "\n",
    "def romano(valor):\n",
    "    valores_romanos = pd.Series([\"I\", \"II\", \"III\", \"IV\", \"V\"], index=[1, 2, 3, 4, 5])\n",
    "    return valores_romanos.loc[valor]\n",
    "\n",
    "s2.apply(romano)"
   ]
  },
  {
   "cell_type": "markdown",
   "id": "2f45c73e-f978-4fe0-883d-3a73a4a27add",
   "metadata": {},
   "source": [
    "<p style=\"background-color:lightpink; padding:1em\"><b>Ejercicio 3</b><br/>\n",
    "    Sobre <code>s2</code> aplique una ventana deslizante de tamaño 2 y calcule, para cada posición, la diferencia entre el elemento actual y el anterior (diferenciación).\n",
    "</p>"
   ]
  },
  {
   "cell_type": "code",
   "execution_count": 25,
   "id": "4b3e2934-c586-4486-8a1a-1576b620b121",
   "metadata": {},
   "outputs": [
    {
     "data": {
      "text/plain": [
       "0    NaN\n",
       "1    0.0\n",
       "2    2.0\n",
       "3   -1.0\n",
       "4    0.0\n",
       "5   -1.0\n",
       "6    2.0\n",
       "dtype: float64"
      ]
     },
     "execution_count": 25,
     "metadata": {},
     "output_type": "execute_result"
    }
   ],
   "source": [
    "def diferenciar(x):\n",
    "    return x.iloc[1] - x.iloc[0]\n",
    "\n",
    "s2.rolling(2).apply( diferenciar )"
   ]
  },
  {
   "cell_type": "markdown",
   "id": "72f4f4cf-02af-4b0c-9816-c6cb869377b5",
   "metadata": {},
   "source": [
    "<p style=\"background-color:lightpink; padding:1em\"><b>Ejercicio 4</b><br/>\n",
    "    Complete la tabla con los datos de los alumnos que faltan <br/>\n",
    "</p>"
   ]
  },
  {
   "cell_type": "code",
   "execution_count": 6,
   "id": "e2fa0964-a9bb-49cd-bd0a-692d509b595b",
   "metadata": {},
   "outputs": [
    {
     "data": {
      "text/html": [
       "<div>\n",
       "<style scoped>\n",
       "    .dataframe tbody tr th:only-of-type {\n",
       "        vertical-align: middle;\n",
       "    }\n",
       "\n",
       "    .dataframe tbody tr th {\n",
       "        vertical-align: top;\n",
       "    }\n",
       "\n",
       "    .dataframe thead th {\n",
       "        text-align: right;\n",
       "    }\n",
       "</style>\n",
       "<table border=\"1\" class=\"dataframe\">\n",
       "  <thead>\n",
       "    <tr style=\"text-align: right;\">\n",
       "      <th></th>\n",
       "      <th>Nombre</th>\n",
       "      <th>Edad</th>\n",
       "      <th>Matriculado</th>\n",
       "    </tr>\n",
       "  </thead>\n",
       "  <tbody>\n",
       "    <tr>\n",
       "      <th>0</th>\n",
       "      <td>Antonio</td>\n",
       "      <td>22</td>\n",
       "      <td>False</td>\n",
       "    </tr>\n",
       "    <tr>\n",
       "      <th>1</th>\n",
       "      <td>Berta</td>\n",
       "      <td>43</td>\n",
       "      <td>True</td>\n",
       "    </tr>\n",
       "    <tr>\n",
       "      <th>2</th>\n",
       "      <td>Carlos</td>\n",
       "      <td>24</td>\n",
       "      <td>True</td>\n",
       "    </tr>\n",
       "    <tr>\n",
       "      <th>3</th>\n",
       "      <td>Diana</td>\n",
       "      <td>34</td>\n",
       "      <td>False</td>\n",
       "    </tr>\n",
       "    <tr>\n",
       "      <th>4</th>\n",
       "      <td>Esteban</td>\n",
       "      <td>33</td>\n",
       "      <td>True</td>\n",
       "    </tr>\n",
       "  </tbody>\n",
       "</table>\n",
       "</div>"
      ],
      "text/plain": [
       "    Nombre Edad Matriculado\n",
       "0  Antonio   22       False\n",
       "1    Berta   43        True\n",
       "2   Carlos   24        True\n",
       "3    Diana   34       False\n",
       "4  Esteban   33        True"
      ]
     },
     "execution_count": 6,
     "metadata": {},
     "output_type": "execute_result"
    }
   ],
   "source": [
    "alumnos = pd.DataFrame(index=[0,1,2,3,4], \n",
    "                       columns=[\"Nombre\", \"Edad\", \"Matriculado\"])\n",
    "\n",
    "alumnos.loc[0,:] = (\"Antonio\", 22, False)\n",
    "alumnos.loc[1,:] = (\"Berta\", 43, True)\n",
    "alumnos.loc[2,:] = (\"Carlos\", 24, True)\n",
    "alumnos.loc[3,:] = (\"Diana\", 34, False)\n",
    "alumnos.loc[4,:] = (\"Esteban\", 33, True)\n",
    "\n",
    "alumnos"
   ]
  },
  {
   "cell_type": "markdown",
   "id": "839fa6ce-58f5-4bca-8881-00112656632a",
   "metadata": {},
   "source": [
    "<p style=\"background-color:lightpink; padding:1em\"><b>Ejercicio 5</b><br/>\n",
    "    Elimine la fila <code>3</code> de la tabla <code>alumnos</code>.\n",
    "</p>"
   ]
  },
  {
   "cell_type": "markdown",
   "id": "8426beed-d6c7-484b-8015-75f938a7cce8",
   "metadata": {},
   "source": [
    "Valor que tiene <code>alumnos</code> en este punto de la libreta:"
   ]
  },
  {
   "cell_type": "code",
   "execution_count": 7,
   "id": "ea77beaf-f8d4-4f17-b680-b36c6f82289c",
   "metadata": {},
   "outputs": [
    {
     "data": {
      "text/html": [
       "<div>\n",
       "<style scoped>\n",
       "    .dataframe tbody tr th:only-of-type {\n",
       "        vertical-align: middle;\n",
       "    }\n",
       "\n",
       "    .dataframe tbody tr th {\n",
       "        vertical-align: top;\n",
       "    }\n",
       "\n",
       "    .dataframe thead th {\n",
       "        text-align: right;\n",
       "    }\n",
       "</style>\n",
       "<table border=\"1\" class=\"dataframe\">\n",
       "  <thead>\n",
       "    <tr style=\"text-align: right;\">\n",
       "      <th></th>\n",
       "      <th>Nombre</th>\n",
       "      <th>Edad</th>\n",
       "      <th>Matriculado</th>\n",
       "      <th>Nota</th>\n",
       "      <th>Residencia</th>\n",
       "    </tr>\n",
       "  </thead>\n",
       "  <tbody>\n",
       "    <tr>\n",
       "      <th>0</th>\n",
       "      <td>Antonio</td>\n",
       "      <td>22</td>\n",
       "      <td>False</td>\n",
       "      <td>7.5</td>\n",
       "      <td>Alhaurin</td>\n",
       "    </tr>\n",
       "    <tr>\n",
       "      <th>1</th>\n",
       "      <td>Berta</td>\n",
       "      <td>43</td>\n",
       "      <td>True</td>\n",
       "      <td>4.5</td>\n",
       "      <td>Benalmádena</td>\n",
       "    </tr>\n",
       "    <tr>\n",
       "      <th>3</th>\n",
       "      <td>Diana</td>\n",
       "      <td>34</td>\n",
       "      <td>False</td>\n",
       "      <td>9.4</td>\n",
       "      <td>None</td>\n",
       "    </tr>\n",
       "    <tr>\n",
       "      <th>5</th>\n",
       "      <td>Fátima</td>\n",
       "      <td>23</td>\n",
       "      <td>True</td>\n",
       "      <td>8.7</td>\n",
       "      <td>Frigiliana</td>\n",
       "    </tr>\n",
       "    <tr>\n",
       "      <th>6</th>\n",
       "      <td>Gonzalo</td>\n",
       "      <td>30</td>\n",
       "      <td>True</td>\n",
       "      <td>7.7</td>\n",
       "      <td>Guaro</td>\n",
       "    </tr>\n",
       "  </tbody>\n",
       "</table>\n",
       "</div>"
      ],
      "text/plain": [
       "    Nombre  Edad  Matriculado  Nota   Residencia\n",
       "0  Antonio    22        False   7.5     Alhaurin\n",
       "1    Berta    43         True   4.5  Benalmádena\n",
       "3    Diana    34        False   9.4         None\n",
       "5   Fátima    23         True   8.7   Frigiliana\n",
       "6  Gonzalo    30         True   7.7        Guaro"
      ]
     },
     "execution_count": 7,
     "metadata": {},
     "output_type": "execute_result"
    }
   ],
   "source": [
    "alumnos = pd.DataFrame(columns=[\"Nombre\", \"Edad\", \"Matriculado\", \"Nota\", \"Residencia\"],\n",
    "                       index=[0, 1, 3, 5, 6],\n",
    "                       data = [[\"Antonio\", 22, False, 7.5, \"Alhaurin\"],\n",
    "                               [\"Berta\", 43, True, 4.5, \"Benalmádena\"],\n",
    "                               [\"Diana\", 34, False, 9.4, None],\n",
    "                               [\"Fátima\", 23, True, 8.7, \"Frigiliana\"],\n",
    "                               [\"Gonzalo\", 30, True, 7.7, \"Guaro\"]\n",
    "                              ]\n",
    "                      )\n",
    "alumnos"
   ]
  },
  {
   "cell_type": "markdown",
   "id": "5244dc98-863e-4911-98a1-3b1f2c0a1ef5",
   "metadata": {},
   "source": [
    "Solución del ejercicio:"
   ]
  },
  {
   "cell_type": "code",
   "execution_count": 8,
   "id": "56c467c6-70e5-46b1-b732-dfd695ad18d1",
   "metadata": {},
   "outputs": [
    {
     "data": {
      "text/html": [
       "<div>\n",
       "<style scoped>\n",
       "    .dataframe tbody tr th:only-of-type {\n",
       "        vertical-align: middle;\n",
       "    }\n",
       "\n",
       "    .dataframe tbody tr th {\n",
       "        vertical-align: top;\n",
       "    }\n",
       "\n",
       "    .dataframe thead th {\n",
       "        text-align: right;\n",
       "    }\n",
       "</style>\n",
       "<table border=\"1\" class=\"dataframe\">\n",
       "  <thead>\n",
       "    <tr style=\"text-align: right;\">\n",
       "      <th></th>\n",
       "      <th>Nombre</th>\n",
       "      <th>Edad</th>\n",
       "      <th>Matriculado</th>\n",
       "      <th>Nota</th>\n",
       "      <th>Residencia</th>\n",
       "    </tr>\n",
       "  </thead>\n",
       "  <tbody>\n",
       "    <tr>\n",
       "      <th>0</th>\n",
       "      <td>Antonio</td>\n",
       "      <td>22</td>\n",
       "      <td>False</td>\n",
       "      <td>7.5</td>\n",
       "      <td>Alhaurin</td>\n",
       "    </tr>\n",
       "    <tr>\n",
       "      <th>1</th>\n",
       "      <td>Berta</td>\n",
       "      <td>43</td>\n",
       "      <td>True</td>\n",
       "      <td>4.5</td>\n",
       "      <td>Benalmádena</td>\n",
       "    </tr>\n",
       "    <tr>\n",
       "      <th>5</th>\n",
       "      <td>Fátima</td>\n",
       "      <td>23</td>\n",
       "      <td>True</td>\n",
       "      <td>8.7</td>\n",
       "      <td>Frigiliana</td>\n",
       "    </tr>\n",
       "    <tr>\n",
       "      <th>6</th>\n",
       "      <td>Gonzalo</td>\n",
       "      <td>30</td>\n",
       "      <td>True</td>\n",
       "      <td>7.7</td>\n",
       "      <td>Guaro</td>\n",
       "    </tr>\n",
       "  </tbody>\n",
       "</table>\n",
       "</div>"
      ],
      "text/plain": [
       "    Nombre  Edad  Matriculado  Nota   Residencia\n",
       "0  Antonio    22        False   7.5     Alhaurin\n",
       "1    Berta    43         True   4.5  Benalmádena\n",
       "5   Fátima    23         True   8.7   Frigiliana\n",
       "6  Gonzalo    30         True   7.7        Guaro"
      ]
     },
     "execution_count": 8,
     "metadata": {},
     "output_type": "execute_result"
    }
   ],
   "source": [
    "alumnos = alumnos.drop(3)\n",
    "alumnos"
   ]
  },
  {
   "cell_type": "markdown",
   "id": "6bfe3342-6e70-400c-96c8-bb1e94c03580",
   "metadata": {},
   "source": [
    "<div style=\"background-color:lightpink; padding:1em\">\n",
    "<p ><b>Ejercicio 6</b><br/>\n",
    "    Defina una función que reciba una fila, y haga lo siguiente:\n",
    "    <ul>\n",
    "        <li>Si el alumno está matriculado, devolver su nota</li>\n",
    "        <li>Si el alumno no está matriculado, devolver 0</li>\n",
    "    </ul>\n",
    "    Aplíquela sobre la tabla <code>alumnos</code> y añada el resultado como una nueva columna.\n",
    "</p>\n",
    "</div>"
   ]
  },
  {
   "cell_type": "markdown",
   "id": "142b133b-132f-4e61-b5a0-22b3d9add1e0",
   "metadata": {},
   "source": [
    "Solución 1:"
   ]
  },
  {
   "cell_type": "code",
   "execution_count": 9,
   "id": "ddda6e9d-41d4-48a5-a3d7-59c58dde6626",
   "metadata": {},
   "outputs": [
    {
     "data": {
      "text/html": [
       "<div>\n",
       "<style scoped>\n",
       "    .dataframe tbody tr th:only-of-type {\n",
       "        vertical-align: middle;\n",
       "    }\n",
       "\n",
       "    .dataframe tbody tr th {\n",
       "        vertical-align: top;\n",
       "    }\n",
       "\n",
       "    .dataframe thead th {\n",
       "        text-align: right;\n",
       "    }\n",
       "</style>\n",
       "<table border=\"1\" class=\"dataframe\">\n",
       "  <thead>\n",
       "    <tr style=\"text-align: right;\">\n",
       "      <th></th>\n",
       "      <th>Nombre</th>\n",
       "      <th>Edad</th>\n",
       "      <th>Matriculado</th>\n",
       "      <th>Nota</th>\n",
       "      <th>Residencia</th>\n",
       "      <th>Nueva nota</th>\n",
       "    </tr>\n",
       "  </thead>\n",
       "  <tbody>\n",
       "    <tr>\n",
       "      <th>0</th>\n",
       "      <td>Antonio</td>\n",
       "      <td>22</td>\n",
       "      <td>False</td>\n",
       "      <td>7.5</td>\n",
       "      <td>Alhaurin</td>\n",
       "      <td>0.0</td>\n",
       "    </tr>\n",
       "    <tr>\n",
       "      <th>1</th>\n",
       "      <td>Berta</td>\n",
       "      <td>43</td>\n",
       "      <td>True</td>\n",
       "      <td>4.5</td>\n",
       "      <td>Benalmádena</td>\n",
       "      <td>4.5</td>\n",
       "    </tr>\n",
       "    <tr>\n",
       "      <th>5</th>\n",
       "      <td>Fátima</td>\n",
       "      <td>23</td>\n",
       "      <td>True</td>\n",
       "      <td>8.7</td>\n",
       "      <td>Frigiliana</td>\n",
       "      <td>8.7</td>\n",
       "    </tr>\n",
       "    <tr>\n",
       "      <th>6</th>\n",
       "      <td>Gonzalo</td>\n",
       "      <td>30</td>\n",
       "      <td>True</td>\n",
       "      <td>7.7</td>\n",
       "      <td>Guaro</td>\n",
       "      <td>7.7</td>\n",
       "    </tr>\n",
       "  </tbody>\n",
       "</table>\n",
       "</div>"
      ],
      "text/plain": [
       "    Nombre  Edad  Matriculado  Nota   Residencia  Nueva nota\n",
       "0  Antonio    22        False   7.5     Alhaurin         0.0\n",
       "1    Berta    43         True   4.5  Benalmádena         4.5\n",
       "5   Fátima    23         True   8.7   Frigiliana         8.7\n",
       "6  Gonzalo    30         True   7.7        Guaro         7.7"
      ]
     },
     "execution_count": 9,
     "metadata": {},
     "output_type": "execute_result"
    }
   ],
   "source": [
    "def nueva_nota(fila):\n",
    "    if fila[\"Matriculado\"]:     # No hace falta poner if valor == True, cuando valor es booleano pero tampoco fallará si lo hacemos\n",
    "        return fila[\"Nota\"]\n",
    "    else:\n",
    "        return 0\n",
    "    \n",
    "alumnos[\"Nueva nota\"] = alumnos.apply(nueva_nota, axis=1)\n",
    "alumnos"
   ]
  },
  {
   "cell_type": "markdown",
   "id": "6ee1c443-606f-4175-9e95-06d512e1a48e",
   "metadata": {},
   "source": [
    "Solución 2 (más limpia):"
   ]
  },
  {
   "cell_type": "code",
   "execution_count": 10,
   "id": "2da41261-49a5-4bef-afca-d23eda927a4a",
   "metadata": {},
   "outputs": [
    {
     "data": {
      "text/html": [
       "<div>\n",
       "<style scoped>\n",
       "    .dataframe tbody tr th:only-of-type {\n",
       "        vertical-align: middle;\n",
       "    }\n",
       "\n",
       "    .dataframe tbody tr th {\n",
       "        vertical-align: top;\n",
       "    }\n",
       "\n",
       "    .dataframe thead th {\n",
       "        text-align: right;\n",
       "    }\n",
       "</style>\n",
       "<table border=\"1\" class=\"dataframe\">\n",
       "  <thead>\n",
       "    <tr style=\"text-align: right;\">\n",
       "      <th></th>\n",
       "      <th>Nombre</th>\n",
       "      <th>Edad</th>\n",
       "      <th>Matriculado</th>\n",
       "      <th>Nota</th>\n",
       "      <th>Residencia</th>\n",
       "      <th>Nueva nota</th>\n",
       "    </tr>\n",
       "  </thead>\n",
       "  <tbody>\n",
       "    <tr>\n",
       "      <th>0</th>\n",
       "      <td>Antonio</td>\n",
       "      <td>22</td>\n",
       "      <td>False</td>\n",
       "      <td>7.5</td>\n",
       "      <td>Alhaurin</td>\n",
       "      <td>0.0</td>\n",
       "    </tr>\n",
       "    <tr>\n",
       "      <th>1</th>\n",
       "      <td>Berta</td>\n",
       "      <td>43</td>\n",
       "      <td>True</td>\n",
       "      <td>4.5</td>\n",
       "      <td>Benalmádena</td>\n",
       "      <td>4.5</td>\n",
       "    </tr>\n",
       "    <tr>\n",
       "      <th>5</th>\n",
       "      <td>Fátima</td>\n",
       "      <td>23</td>\n",
       "      <td>True</td>\n",
       "      <td>8.7</td>\n",
       "      <td>Frigiliana</td>\n",
       "      <td>8.7</td>\n",
       "    </tr>\n",
       "    <tr>\n",
       "      <th>6</th>\n",
       "      <td>Gonzalo</td>\n",
       "      <td>30</td>\n",
       "      <td>True</td>\n",
       "      <td>7.7</td>\n",
       "      <td>Guaro</td>\n",
       "      <td>7.7</td>\n",
       "    </tr>\n",
       "  </tbody>\n",
       "</table>\n",
       "</div>"
      ],
      "text/plain": [
       "    Nombre  Edad  Matriculado  Nota   Residencia  Nueva nota\n",
       "0  Antonio    22        False   7.5     Alhaurin         0.0\n",
       "1    Berta    43         True   4.5  Benalmádena         4.5\n",
       "5   Fátima    23         True   8.7   Frigiliana         8.7\n",
       "6  Gonzalo    30         True   7.7        Guaro         7.7"
      ]
     },
     "execution_count": 10,
     "metadata": {},
     "output_type": "execute_result"
    }
   ],
   "source": [
    "def nueva_nota(fila):\n",
    "    return fila[\"Matriculado\"] * fila[\"Nota\"]   # En operaciones numéricas, un booleano vale 1 (True) o 0 (False)\n",
    "\n",
    "alumnos[\"Nueva nota\"] = alumnos.apply(nueva_nota, axis=1)\n",
    "alumnos"
   ]
  },
  {
   "cell_type": "markdown",
   "id": "82cf1ea6-b416-4686-b708-8c8c1244b40a",
   "metadata": {},
   "source": [
    "Forma alternativa (no es lo que se pide en el ejercicio, pero es más limpio):"
   ]
  },
  {
   "cell_type": "code",
   "execution_count": 11,
   "id": "0880ddc3-5ef0-42d0-9a47-35c954d13190",
   "metadata": {},
   "outputs": [
    {
     "data": {
      "text/html": [
       "<div>\n",
       "<style scoped>\n",
       "    .dataframe tbody tr th:only-of-type {\n",
       "        vertical-align: middle;\n",
       "    }\n",
       "\n",
       "    .dataframe tbody tr th {\n",
       "        vertical-align: top;\n",
       "    }\n",
       "\n",
       "    .dataframe thead th {\n",
       "        text-align: right;\n",
       "    }\n",
       "</style>\n",
       "<table border=\"1\" class=\"dataframe\">\n",
       "  <thead>\n",
       "    <tr style=\"text-align: right;\">\n",
       "      <th></th>\n",
       "      <th>Nombre</th>\n",
       "      <th>Edad</th>\n",
       "      <th>Matriculado</th>\n",
       "      <th>Nota</th>\n",
       "      <th>Residencia</th>\n",
       "      <th>Nueva nota</th>\n",
       "    </tr>\n",
       "  </thead>\n",
       "  <tbody>\n",
       "    <tr>\n",
       "      <th>0</th>\n",
       "      <td>Antonio</td>\n",
       "      <td>22</td>\n",
       "      <td>False</td>\n",
       "      <td>7.5</td>\n",
       "      <td>Alhaurin</td>\n",
       "      <td>0.0</td>\n",
       "    </tr>\n",
       "    <tr>\n",
       "      <th>1</th>\n",
       "      <td>Berta</td>\n",
       "      <td>43</td>\n",
       "      <td>True</td>\n",
       "      <td>4.5</td>\n",
       "      <td>Benalmádena</td>\n",
       "      <td>4.5</td>\n",
       "    </tr>\n",
       "    <tr>\n",
       "      <th>5</th>\n",
       "      <td>Fátima</td>\n",
       "      <td>23</td>\n",
       "      <td>True</td>\n",
       "      <td>8.7</td>\n",
       "      <td>Frigiliana</td>\n",
       "      <td>8.7</td>\n",
       "    </tr>\n",
       "    <tr>\n",
       "      <th>6</th>\n",
       "      <td>Gonzalo</td>\n",
       "      <td>30</td>\n",
       "      <td>True</td>\n",
       "      <td>7.7</td>\n",
       "      <td>Guaro</td>\n",
       "      <td>7.7</td>\n",
       "    </tr>\n",
       "  </tbody>\n",
       "</table>\n",
       "</div>"
      ],
      "text/plain": [
       "    Nombre  Edad  Matriculado  Nota   Residencia  Nueva nota\n",
       "0  Antonio    22        False   7.5     Alhaurin         0.0\n",
       "1    Berta    43         True   4.5  Benalmádena         4.5\n",
       "5   Fátima    23         True   8.7   Frigiliana         8.7\n",
       "6  Gonzalo    30         True   7.7        Guaro         7.7"
      ]
     },
     "execution_count": 11,
     "metadata": {},
     "output_type": "execute_result"
    }
   ],
   "source": [
    "alumnos[\"Nueva nota\"] = alumnos[\"Matriculado\"] * alumnos[\"Nota\"]\n",
    "alumnos"
   ]
  }
 ],
 "metadata": {
  "kernelspec": {
   "display_name": "Python 3 (ipykernel)",
   "language": "python",
   "name": "python3"
  },
  "language_info": {
   "codemirror_mode": {
    "name": "ipython",
    "version": 3
   },
   "file_extension": ".py",
   "mimetype": "text/x-python",
   "name": "python",
   "nbconvert_exporter": "python",
   "pygments_lexer": "ipython3",
   "version": "3.9.7"
  }
 },
 "nbformat": 4,
 "nbformat_minor": 5
}
