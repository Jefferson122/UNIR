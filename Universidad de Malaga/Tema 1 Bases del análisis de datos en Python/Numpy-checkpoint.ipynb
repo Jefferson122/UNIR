{
 "cells": [
  {
   "cell_type": "markdown",
   "id": "fcbea0a3-6a38-4b47-86bf-baf61dc30774",
   "metadata": {
    "tags": []
   },
   "source": [
    "# Librería Numpy"
   ]
  },
  {
   "cell_type": "markdown",
   "id": "8b3caa32-d306-4531-985d-6d4ef838c541",
   "metadata": {},
   "source": [
    "En esta libreta se presenta una introducción a la librería Numpy. La librería Numpy provee de una serie de herramientas que hacen de Python un lenguaje eficiente a la hora de realizar cálculo numérico. Consta de los siguientes elementos:\n",
    "- El objeto <code>ndarray</code>, que implementa vectores y matrices n-dimensionales.\n",
    "- Los operadores y funciones necesarios para realizar cálculos matemáticos de forma eficiente.\n",
    "- Funciones para leer y escribir datos de disco y memoria.\n",
    "- Algoritmos diversos (ej: generación de series, números aleatorios, transformadas, etc.)\n",
    "\n",
    "Además, la librería Numpy está es la base de otras librerías que veremos en este curso."
   ]
  },
  {
   "cell_type": "markdown",
   "id": "680129e3-2a29-44e4-98d3-ad2f1c9ba5ef",
   "metadata": {},
   "source": [
    "---"
   ]
  },
  {
   "cell_type": "markdown",
   "id": "282a98ef-3a47-47a7-826b-239585cd1d71",
   "metadata": {},
   "source": [
    "# Índice\n",
    "[El objeto ndarray](#El-objeto-ndarray) <br/>\n",
    "[Operaciones con ndarray](#Operaciones-con-ndarray) <br/>\n",
    "&nbsp;&nbsp;&nbsp;&nbsp; [Operaciones entre un escalar y un ndarray](#Operaciones-entre-un-escalar-y-un-ndarray) <br/>\n",
    "&nbsp;&nbsp;&nbsp;&nbsp; [Operaciones con un ndarray simple](#Operaciones-con-un-ndarray-simple) <br/>\n",
    "&nbsp;&nbsp;&nbsp;&nbsp; [Operaciones entre dos ndarray](#Operaciones-entre-dos-ndarray) <br/>\n",
    "[Generación de matrices comunes](#Generación-de-matrices-comunes) <br/>\n",
    "[Funciones de cálculo de Numpy](#Funciones-de-cálculo-de-Numpy) <br/>\n",
    "[Conclusiones](#Conclusiones) <br/>"
   ]
  },
  {
   "cell_type": "markdown",
   "id": "e23704cd-65cd-4678-bcdd-049ac684554d",
   "metadata": {},
   "source": [
    "---"
   ]
  },
  {
   "cell_type": "code",
   "execution_count": 55,
   "id": "6d397e82-3b59-4dd4-8281-4d114e8b9f34",
   "metadata": {},
   "outputs": [],
   "source": [
    "import numpy as np  # Nuevo: librería Numpy"
   ]
  },
  {
   "cell_type": "markdown",
   "id": "1f898bfb-7c6f-449d-8548-b650a6d3c590",
   "metadata": {
    "tags": []
   },
   "source": [
    "## El objeto <code>ndarray</code>"
   ]
  },
  {
   "cell_type": "markdown",
   "id": "d5b773d1-2953-4b49-9f09-8eca6a13486f",
   "metadata": {},
   "source": [
    "El objeto <code>ndarray</code> representa matrices n-dimensionales de forma más eficiente que los tipos de dato básicos de Python (es decir, las colecciones). Se puede definir un vector de la siguiente manera:"
   ]
  },
  {
   "cell_type": "code",
   "execution_count": 56,
   "id": "b4ae54f7",
   "metadata": {},
   "outputs": [
    {
     "ename": "NameError",
     "evalue": "name 'plt' is not defined",
     "output_type": "error",
     "traceback": [
      "\u001b[1;31m---------------------------------------------------------------------------\u001b[0m",
      "\u001b[1;31mNameError\u001b[0m                                 Traceback (most recent call last)",
      "\u001b[1;32m~\\AppData\\Local\\Temp/ipykernel_1896/3416346892.py\u001b[0m in \u001b[0;36m<module>\u001b[1;34m\u001b[0m\n\u001b[0;32m      1\u001b[0m \u001b[0mx\u001b[0m\u001b[1;33m=\u001b[0m\u001b[0mnp\u001b[0m\u001b[1;33m.\u001b[0m\u001b[0mrandom\u001b[0m\u001b[1;33m.\u001b[0m\u001b[0mrand\u001b[0m\u001b[1;33m(\u001b[0m\u001b[1;36m500\u001b[0m\u001b[1;33m)\u001b[0m\u001b[1;33m\u001b[0m\u001b[1;33m\u001b[0m\u001b[0m\n\u001b[0;32m      2\u001b[0m \u001b[0my\u001b[0m\u001b[1;33m=\u001b[0m\u001b[1;36m0.1\u001b[0m\u001b[1;33m*\u001b[0m\u001b[0mnp\u001b[0m\u001b[1;33m.\u001b[0m\u001b[0mrandom\u001b[0m\u001b[1;33m.\u001b[0m\u001b[0mrandn\u001b[0m\u001b[1;33m(\u001b[0m\u001b[1;36m500\u001b[0m\u001b[1;33m)\u001b[0m\u001b[1;33m\u001b[0m\u001b[1;33m\u001b[0m\u001b[0m\n\u001b[1;32m----> 3\u001b[1;33m \u001b[0mplt\u001b[0m\u001b[1;33m.\u001b[0m\u001b[0mscatter\u001b[0m\u001b[1;33m(\u001b[0m\u001b[0mx\u001b[0m\u001b[1;33m,\u001b[0m\u001b[0my\u001b[0m\u001b[1;33m)\u001b[0m\u001b[1;33m\u001b[0m\u001b[1;33m\u001b[0m\u001b[0m\n\u001b[0m\u001b[0;32m      4\u001b[0m \u001b[0mplt\u001b[0m\u001b[1;33m.\u001b[0m\u001b[0mshow\u001b[0m\u001b[1;33m(\u001b[0m\u001b[1;33m)\u001b[0m\u001b[1;33m\u001b[0m\u001b[1;33m\u001b[0m\u001b[0m\n",
      "\u001b[1;31mNameError\u001b[0m: name 'plt' is not defined"
     ]
    }
   ],
   "source": []
  },
  {
   "cell_type": "code",
   "execution_count": null,
   "id": "fdda4196-ef84-4957-9dca-7cf42bb4662a",
   "metadata": {},
   "outputs": [],
   "source": [
    "v = np.array([2.3, 4.5, 5.5, 8.2])\n",
    "print(v)"
   ]
  },
  {
   "cell_type": "markdown",
   "id": "45a955c8-5ed3-4102-ac6c-648f52cf9cdf",
   "metadata": {},
   "source": [
    "Para acceder a un elemento, lo podemos indexar por su posición (empezando por 0):"
   ]
  },
  {
   "cell_type": "code",
   "execution_count": 57,
   "id": "5c2fc947-25de-4713-a877-94358e354c12",
   "metadata": {},
   "outputs": [
    {
     "name": "stdout",
     "output_type": "stream",
     "text": [
      "Primer elemento: \n",
      "2.3\n",
      "Tercer elemento: \n",
      "5.5\n"
     ]
    }
   ],
   "source": [
    "print( \"Primer elemento: \")\n",
    "print( v[0] )\n",
    "print( \"Tercer elemento: \")\n",
    "print( v[2] )"
   ]
  },
  {
   "cell_type": "markdown",
   "id": "cf9060ad-b643-4c4a-b78b-957354a99664",
   "metadata": {},
   "source": [
    "Al igual que en las listas, se puede usar un indexado avanzado para seleccionar los elementos: "
   ]
  },
  {
   "cell_type": "code",
   "execution_count": 58,
   "id": "bafb19d0-9e6f-4958-a1bd-e702f55da164",
   "metadata": {},
   "outputs": [
    {
     "name": "stdout",
     "output_type": "stream",
     "text": [
      "Último elemento: \n",
      "8.2\n"
     ]
    }
   ],
   "source": [
    "print( \"Último elemento: \")\n",
    "print( v[-1] )"
   ]
  },
  {
   "cell_type": "code",
   "execution_count": 59,
   "id": "618ef1be-c240-4bf8-98a6-d189722d5fe7",
   "metadata": {},
   "outputs": [
    {
     "name": "stdout",
     "output_type": "stream",
     "text": [
      "Elementos impares\n",
      "[4.5 8.2]\n"
     ]
    }
   ],
   "source": [
    "print( \"Elementos impares\" )\n",
    "print ( v[1::2])"
   ]
  },
  {
   "cell_type": "markdown",
   "id": "1a46cc68-949e-4cf6-847f-1beed697bcb0",
   "metadata": {},
   "source": [
    "También podemos representar matrices de 2 o más dimensiones. Representemos, por ejemplo, la siguiente matriz bidimensional:\n",
    "\n",
    "\\begin{bmatrix}\n",
    "2 & 3\\\\\n",
    "8 & 5\n",
    "\\end{bmatrix}"
   ]
  },
  {
   "cell_type": "code",
   "execution_count": 60,
   "id": "fd7a02c0-50a7-4c85-bf25-0bb630823e03",
   "metadata": {},
   "outputs": [
    {
     "name": "stdout",
     "output_type": "stream",
     "text": [
      "[[2 3]\n",
      " [8 5]]\n"
     ]
    }
   ],
   "source": [
    "m2 = np.array([[2, 3], \n",
    "               [8, 5]])\n",
    "\n",
    "print(m2)"
   ]
  },
  {
   "cell_type": "markdown",
   "id": "020ded51-2a0e-41b9-abb9-2761ac966f76",
   "metadata": {},
   "source": [
    "En estos casos, el indexado también será bidimensional. Si queremos escoger, por ejemplo, el elemento en la primera fila, segunda columna, el índice será $(0,1)$:"
   ]
  },
  {
   "cell_type": "code",
   "execution_count": 61,
   "id": "b255f1c2-49f3-4c10-9ff2-9a9cb514f150",
   "metadata": {},
   "outputs": [
    {
     "name": "stdout",
     "output_type": "stream",
     "text": [
      "3\n"
     ]
    }
   ],
   "source": [
    "print( m2[0,1] )"
   ]
  },
  {
   "cell_type": "markdown",
   "id": "ae6aaf07-4ee6-4837-9473-380a0989b41c",
   "metadata": {},
   "source": [
    "Podemos seleccionar también una fila o una columna, usando el símbolo <code>:</code> en la dimensión seleccionada. Por ejemplo, si queremos seleccionar la primera columna usaremos el índice $(:,0)$, o, dicho de otro modo, todas las filas (<code>:</code>) de la primera columna (<code>0</code>):"
   ]
  },
  {
   "cell_type": "code",
   "execution_count": 62,
   "id": "5364ad15-dd06-4d99-b3e4-236e2184f6f0",
   "metadata": {},
   "outputs": [
    {
     "data": {
      "text/plain": [
       "array([2, 8])"
      ]
     },
     "execution_count": 62,
     "metadata": {},
     "output_type": "execute_result"
    }
   ],
   "source": [
    "m2[:,0]"
   ]
  },
  {
   "cell_type": "markdown",
   "id": "a621b50f-79b4-4057-b6cc-ba3157b0e17c",
   "metadata": {},
   "source": [
    "También se pueden definir matrices de más de 2 dimensiones. Aquí vemos un ejemplo de una matriz con 3 dimensiones."
   ]
  },
  {
   "cell_type": "code",
   "execution_count": 63,
   "id": "db95dfcb-1286-4e0f-98b0-c3408a0151d5",
   "metadata": {},
   "outputs": [
    {
     "name": "stdout",
     "output_type": "stream",
     "text": [
      "[[[1 9]\n",
      "  [3 3]]\n",
      "\n",
      " [[2 7]\n",
      "  [4 6]]]\n"
     ]
    }
   ],
   "source": [
    "m3= np.array( [ [ [1, 9],\n",
    "                  [3, 3] ],\n",
    "                [ [2, 7],\n",
    "                  [4, 6] ] ] )\n",
    "print(m3)"
   ]
  },
  {
   "cell_type": "markdown",
   "id": "831986ca-7c24-488a-a587-0e764602c1cf",
   "metadata": {
    "jp-MarkdownHeadingCollapsed": true,
    "tags": []
   },
   "source": [
    "<p style=\"background-color:lightpink; padding:1em\"><b>Ejercicio 1</b><br/>\n",
    "    Defina las siguientes matrices: <br/>\n",
    "    $A=\\begin{bmatrix}\n",
    "    3 & 2 & 1\\\\\n",
    "    2 & 1 & 3\n",
    "    \\end{bmatrix}\n",
    "    B=\\begin{bmatrix}\n",
    "    3 & 0 & 0\\\\\n",
    "    0 & 3 & 0\\\\\n",
    "    0 & 0 & 3\n",
    "    \\end{bmatrix}\n",
    "    C=\\begin{bmatrix}\n",
    "    1 & 0 & 4 & 6 & 3 & 4\n",
    "    \\end{bmatrix}$ \n",
    "</p>"
   ]
  },
  {
   "cell_type": "code",
   "execution_count": null,
   "id": "888931ba-33fe-4dc6-826f-170fbe4a8161",
   "metadata": {},
   "outputs": [],
   "source": []
  },
  {
   "cell_type": "markdown",
   "id": "0c1d0fcb-34f1-480f-8944-80911ada7811",
   "metadata": {},
   "source": [
    "<p style=\"background-color:lightpink; padding:1em\"><b>Ejercicio 2</b><br/>\n",
    "    Asigne las variables a los valores contenidos en las matrices de la siguiente manera: <br/>\n",
    "    <code>a02</code>=$A(0,2)$<br/>\n",
    "    <code>b11</code>=$B(1,1)$<br/>\n",
    "    <code>c3</code>=$C(3)$<br/>\n",
    "    <code>b0</code>=primera columna de $B$<br/>\n",
    "    <code>cpar</code>=todos los elementos en posiciones pares de $C$\n",
    "</p>"
   ]
  },
  {
   "cell_type": "code",
   "execution_count": null,
   "id": "e8605312-2f92-458d-99a1-1289bd412cd7",
   "metadata": {},
   "outputs": [],
   "source": []
  },
  {
   "cell_type": "markdown",
   "id": "2345a4c0-bb52-4a2f-92d3-d97bc92764e2",
   "metadata": {
    "tags": []
   },
   "source": [
    "### Propiedades de los objetos <code>ndarray</code>"
   ]
  },
  {
   "cell_type": "markdown",
   "id": "6f258006-d3b5-4318-9855-f2e3667d89ba",
   "metadata": {},
   "source": [
    "Los objetos <code>ndarray</code> poseen una serie de variables miembro que nos pueden ayudar para obtener información relevante acerca del objeto. De este modo, podemos ver el tipo de datos que guardan:"
   ]
  },
  {
   "cell_type": "code",
   "execution_count": 64,
   "id": "944723f8-cdbe-4f19-8005-8848537d2bfd",
   "metadata": {},
   "outputs": [
    {
     "name": "stdout",
     "output_type": "stream",
     "text": [
      "float64\n"
     ]
    }
   ],
   "source": [
    "print(v.dtype)"
   ]
  },
  {
   "cell_type": "code",
   "execution_count": 65,
   "id": "046d20c7-ac06-4808-a24f-861f523f451f",
   "metadata": {},
   "outputs": [
    {
     "name": "stdout",
     "output_type": "stream",
     "text": [
      "int32\n"
     ]
    }
   ],
   "source": [
    "print(m2.dtype)"
   ]
  },
  {
   "cell_type": "markdown",
   "id": "e1e43f3f-96b9-46a2-8581-b266666966d2",
   "metadata": {},
   "source": [
    "O también las dimensiones de la matriz:"
   ]
  },
  {
   "cell_type": "code",
   "execution_count": 66,
   "id": "59660e73-1065-4e0c-854f-738b262c5943",
   "metadata": {},
   "outputs": [
    {
     "name": "stdout",
     "output_type": "stream",
     "text": [
      "1\n"
     ]
    }
   ],
   "source": [
    "print(v.ndim)"
   ]
  },
  {
   "cell_type": "code",
   "execution_count": 67,
   "id": "b17e67af-f7c0-49e1-ba46-d2b70db39935",
   "metadata": {},
   "outputs": [
    {
     "name": "stdout",
     "output_type": "stream",
     "text": [
      "2\n"
     ]
    }
   ],
   "source": [
    "print(m2.ndim)"
   ]
  },
  {
   "cell_type": "code",
   "execution_count": 68,
   "id": "2a447ccb-268c-4ff7-8f2d-a7b225c65a2f",
   "metadata": {},
   "outputs": [
    {
     "name": "stdout",
     "output_type": "stream",
     "text": [
      "3\n"
     ]
    }
   ],
   "source": [
    "print(m3.ndim)"
   ]
  },
  {
   "cell_type": "markdown",
   "id": "5a22b056-3861-4800-9d3e-19f74d4812a3",
   "metadata": {},
   "source": [
    "Podemos ver también la longitud en cada dimensión mediante la propiedad <code>shape</code>, la cual es muy importante a la hora, por ejemplo, de ver si dos matrices se pueden multiplicar:"
   ]
  },
  {
   "cell_type": "code",
   "execution_count": 69,
   "id": "cd5e897b-a8d8-4005-833d-1a2c95221e05",
   "metadata": {},
   "outputs": [
    {
     "name": "stdout",
     "output_type": "stream",
     "text": [
      "(4,)\n"
     ]
    }
   ],
   "source": [
    "print(v.shape)"
   ]
  },
  {
   "cell_type": "code",
   "execution_count": 70,
   "id": "377a6fb0-14b8-4318-a518-4bcee21335ef",
   "metadata": {},
   "outputs": [
    {
     "name": "stdout",
     "output_type": "stream",
     "text": [
      "(2, 2)\n"
     ]
    }
   ],
   "source": [
    "print(m2.shape)"
   ]
  },
  {
   "cell_type": "code",
   "execution_count": 71,
   "id": "5543315b-cbee-4bd6-9451-946d6f5cd6a3",
   "metadata": {},
   "outputs": [
    {
     "name": "stdout",
     "output_type": "stream",
     "text": [
      "(2, 2, 2)\n"
     ]
    }
   ],
   "source": [
    "print(m3.shape)"
   ]
  },
  {
   "cell_type": "markdown",
   "id": "cae1d605-2b08-4f6e-94d5-0dae137218db",
   "metadata": {
    "tags": []
   },
   "source": [
    "## Operaciones con <code>ndarray</code>"
   ]
  },
  {
   "cell_type": "markdown",
   "id": "6c0b768d-f801-4adc-8a20-67e5f54ec96b",
   "metadata": {},
   "source": [
    "Numpy implementa los operadores típicos de las matrices. Lo hace, además, de forma eficiente, explotando optimizaciones para cálculos vectoriales de forma transparente. Por tanto, siempre hay que usar estos operadores cuando sea posible."
   ]
  },
  {
   "cell_type": "markdown",
   "id": "2febf867-b523-41c0-beb2-4eb8a924e4af",
   "metadata": {
    "tags": []
   },
   "source": [
    "### Operaciones entre un escalar y un <code>ndarray</code>"
   ]
  },
  {
   "cell_type": "markdown",
   "id": "d96256d9-7257-43c0-af0f-46298d1e3313",
   "metadata": {},
   "source": [
    "Podemos empezar por la multiplicación de un escalar con un array:"
   ]
  },
  {
   "cell_type": "code",
   "execution_count": 72,
   "id": "bdc63030-421f-4da0-b882-0dd55d887c3a",
   "metadata": {},
   "outputs": [
    {
     "data": {
      "text/plain": [
       "array([ 4.6,  9. , 11. , 16.4])"
      ]
     },
     "execution_count": 72,
     "metadata": {},
     "output_type": "execute_result"
    }
   ],
   "source": [
    "2 * v"
   ]
  },
  {
   "cell_type": "markdown",
   "id": "87a46fb1-b5d7-431b-9e78-78b451395ded",
   "metadata": {},
   "source": [
    "O la división:"
   ]
  },
  {
   "cell_type": "code",
   "execution_count": 73,
   "id": "28d6b6fe-de9e-4d82-891b-d9249e2a214c",
   "metadata": {},
   "outputs": [
    {
     "data": {
      "text/plain": [
       "array([0.43478261, 0.22222222, 0.18181818, 0.12195122])"
      ]
     },
     "execution_count": 73,
     "metadata": {},
     "output_type": "execute_result"
    }
   ],
   "source": [
    "1 / v"
   ]
  },
  {
   "cell_type": "code",
   "execution_count": 74,
   "id": "dea6245d-ec2f-4ff0-a366-110eb42e481e",
   "metadata": {},
   "outputs": [
    {
     "data": {
      "text/plain": [
       "array([0.23, 0.45, 0.55, 0.82])"
      ]
     },
     "execution_count": 74,
     "metadata": {},
     "output_type": "execute_result"
    }
   ],
   "source": [
    "v / 10"
   ]
  },
  {
   "cell_type": "markdown",
   "id": "ff06244d-1aa5-4be3-82b5-78f134e0276d",
   "metadata": {},
   "source": [
    "Como vemos, cuando se trata de un escalar, se realiza la misma operación para cada uno de los elementos del array. Esto pasa también con la suma y resta:"
   ]
  },
  {
   "cell_type": "code",
   "execution_count": 75,
   "id": "fb586328",
   "metadata": {},
   "outputs": [
    {
     "data": {
      "text/plain": [
       "array([2.3, 4.5, 5.5, 8.2])"
      ]
     },
     "execution_count": 75,
     "metadata": {},
     "output_type": "execute_result"
    }
   ],
   "source": [
    "v"
   ]
  },
  {
   "cell_type": "code",
   "execution_count": 76,
   "id": "f93c059f-fa1f-48af-88c2-6d4a3fdbcd2a",
   "metadata": {},
   "outputs": [
    {
     "data": {
      "text/plain": [
       "array([3.3, 5.5, 6.5, 9.2])"
      ]
     },
     "execution_count": 76,
     "metadata": {},
     "output_type": "execute_result"
    }
   ],
   "source": [
    "v + 1"
   ]
  },
  {
   "cell_type": "code",
   "execution_count": 77,
   "id": "d9510868-504c-495c-ad98-57cc21b46d98",
   "metadata": {},
   "outputs": [
    {
     "data": {
      "text/plain": [
       "array([-2.7, -0.5,  0.5,  3.2])"
      ]
     },
     "execution_count": 77,
     "metadata": {},
     "output_type": "execute_result"
    }
   ],
   "source": [
    "v - 5"
   ]
  },
  {
   "cell_type": "markdown",
   "id": "d86e9b24-88ba-46c9-9b72-560baef8b554",
   "metadata": {},
   "source": [
    "<p style=\"background-color:lightpink; padding:1em\"><b>Ejercicio 3</b><br/>\n",
    "    Defina el siguiente vector y multiplique sus valores por 10: <br/>\n",
    "    $\n",
    "    L=\\begin{bmatrix}\n",
    "    0.3 & -0.1 & 0.2 & 0.7 & -0.3 & 0.1\n",
    "    \\end{bmatrix}$ <br/>\n",
    "    $L_{10} = 10\\cdot L$\n",
    "</p>"
   ]
  },
  {
   "cell_type": "code",
   "execution_count": null,
   "id": "6a4a95ca-3f84-429f-98f0-1345306bb790",
   "metadata": {},
   "outputs": [],
   "source": []
  },
  {
   "cell_type": "markdown",
   "id": "b0c257b5-b6b7-4b5a-8b7e-0f2d0e962294",
   "metadata": {
    "tags": []
   },
   "source": [
    "### Operaciones con un <code>ndarray</code> simple"
   ]
  },
  {
   "cell_type": "markdown",
   "id": "b35d705b-2411-4275-8470-e3967fbbbcc7",
   "metadata": {},
   "source": [
    "Algunas operaciones implican a un sólo array. Por ejemplo, podemos cambiar su signo (equivalente a multiplicar por -1):"
   ]
  },
  {
   "cell_type": "code",
   "execution_count": 78,
   "id": "4608cc33-176d-4881-b199-c447ddeab5b0",
   "metadata": {},
   "outputs": [
    {
     "data": {
      "text/plain": [
       "array([-2.3, -4.5, -5.5, -8.2])"
      ]
     },
     "execution_count": 78,
     "metadata": {},
     "output_type": "execute_result"
    }
   ],
   "source": [
    "-v"
   ]
  },
  {
   "cell_type": "markdown",
   "id": "dfb08fb6-a747-460b-99c5-8461245b7bae",
   "metadata": {},
   "source": [
    "Otra operación muy importante, es la transposición, en la que se cambian filas por columnas, y que se hace con la propiedad <code>T</code> del objeto <code>ndarray</code>:"
   ]
  },
  {
   "cell_type": "code",
   "execution_count": 79,
   "id": "5400927a-7235-4209-ba7e-8f21e4102a9f",
   "metadata": {},
   "outputs": [
    {
     "data": {
      "text/plain": [
       "array([[2, 3],\n",
       "       [8, 5]])"
      ]
     },
     "execution_count": 79,
     "metadata": {},
     "output_type": "execute_result"
    }
   ],
   "source": [
    "m2"
   ]
  },
  {
   "cell_type": "code",
   "execution_count": 80,
   "id": "5787cd59-91ca-4a9f-901a-3435a7d81328",
   "metadata": {},
   "outputs": [
    {
     "data": {
      "text/plain": [
       "array([[2, 8],\n",
       "       [3, 5]])"
      ]
     },
     "execution_count": 80,
     "metadata": {},
     "output_type": "execute_result"
    }
   ],
   "source": [
    "m2.T"
   ]
  },
  {
   "cell_type": "markdown",
   "id": "11a5e682-95e3-49c0-ba59-07fc1c1f1bdb",
   "metadata": {
    "tags": []
   },
   "source": [
    "### Operaciones entre dos <code>ndarray</code>"
   ]
  },
  {
   "cell_type": "markdown",
   "id": "07fb6fa0-9719-4dda-b36a-3e5db83940d8",
   "metadata": {},
   "source": [
    "Las operaciones entre matrices son como se esperaría de la aritmética matricial. Lo único con lo que hay que tener cuidado es con que <b>Numpy no permite operaciones entre matrices de distintas dimensiones</b>. Por tanto, en lugar de un vector unidimensional, tenemos que definir una matriz bidimensional incluso en caso de que tenga sólo una fila/columna."
   ]
  },
  {
   "cell_type": "code",
   "execution_count": 81,
   "id": "690c556a-52ae-4cc5-bd80-f1693c2cc695",
   "metadata": {},
   "outputs": [],
   "source": [
    "vb = np.array([[1, 2, 3],])\n",
    "mb = np.array([[1, 10], [2, 20], [3, 30]])"
   ]
  },
  {
   "cell_type": "markdown",
   "id": "d591bc9c-fc2e-4cb1-92a5-70c71cae2778",
   "metadata": {},
   "source": [
    "Veamos un ejemplo de multiplicación entre una matriz de 1x3 y una 3x2. Para ello se utiliza el operador <code>@</code>, o la función <code>np.dot()</code>:"
   ]
  },
  {
   "cell_type": "code",
   "execution_count": 82,
   "id": "bcc6875d-b030-4858-98d6-52d3fedd365a",
   "metadata": {},
   "outputs": [
    {
     "data": {
      "text/plain": [
       "array([[ 14, 140]])"
      ]
     },
     "execution_count": 82,
     "metadata": {},
     "output_type": "execute_result"
    }
   ],
   "source": [
    "vb @ mb"
   ]
  },
  {
   "cell_type": "code",
   "execution_count": 83,
   "id": "5df84a8c-6f62-4dc7-af26-76005a22f900",
   "metadata": {},
   "outputs": [
    {
     "data": {
      "text/plain": [
       "array([[ 14, 140]])"
      ]
     },
     "execution_count": 83,
     "metadata": {},
     "output_type": "execute_result"
    }
   ],
   "source": [
    "np.dot(vb, mb)"
   ]
  },
  {
   "cell_type": "markdown",
   "id": "141ee89e-eac0-4d45-8f61-ae24fab7935b",
   "metadata": {},
   "source": [
    "Es importante tener en cuenta que el operador <code>*</code> no actúa como operador de multiplicación entre matrices, sino como multiplicación elemento a elemento. Por ejemplo:"
   ]
  },
  {
   "cell_type": "code",
   "execution_count": 84,
   "id": "711d95ab-da32-40ff-9055-d7d3aeb53c22",
   "metadata": {},
   "outputs": [
    {
     "data": {
      "text/plain": [
       "array([[  1, 100],\n",
       "       [  4, 400],\n",
       "       [  9, 900]])"
      ]
     },
     "execution_count": 84,
     "metadata": {},
     "output_type": "execute_result"
    }
   ],
   "source": [
    "mb * mb"
   ]
  },
  {
   "cell_type": "markdown",
   "id": "7f84a291-092a-4d0c-ae4b-d436ae52a725",
   "metadata": {},
   "source": [
    "Obviamente, hay que tener cuidado con que las formas de las matrices sean compatibles a la hora de realizar operaciones de multiplicación, suma, etc. En caso contrario, se producirá un error. Más adelante veremos cómo gestionar los errores que no se pueden predecir, por ejemplo, en casos en los que las formas de las matrices no sean conocidas de antemano."
   ]
  },
  {
   "cell_type": "markdown",
   "id": "b7289d2f-30c6-4857-a82e-7929cc33f91c",
   "metadata": {},
   "source": [
    "Para la suma, se utiliza el operador <code>+</code>:"
   ]
  },
  {
   "cell_type": "code",
   "execution_count": 85,
   "id": "5c7eb655-4c3d-4cce-81ac-9ed88e94b256",
   "metadata": {},
   "outputs": [
    {
     "data": {
      "text/plain": [
       "array([[ 2, 20],\n",
       "       [ 4, 40],\n",
       "       [ 6, 60]])"
      ]
     },
     "execution_count": 85,
     "metadata": {},
     "output_type": "execute_result"
    }
   ],
   "source": [
    "mb + mb"
   ]
  },
  {
   "cell_type": "markdown",
   "id": "6a45520f-a04a-4b58-aba0-5debe12cd727",
   "metadata": {},
   "source": [
    "<p style=\"background-color:lightpink; padding:1em\"><b>Ejercicio 4</b><br/>\n",
    "    Defina la siguiente matriz y realice la operación indicada: <br/>\n",
    "    $\n",
    "    M=\\begin{bmatrix}\n",
    "    2 & 1 \\\\\n",
    "    3 & 2 \n",
    "    \\end{bmatrix}$ <br/>\n",
    "    $M_p = M \\cdot M^T$\n",
    "</p>"
   ]
  },
  {
   "cell_type": "code",
   "execution_count": 86,
   "id": "b661e4cc-b6ac-4c64-8300-ec34851a1703",
   "metadata": {},
   "outputs": [
    {
     "name": "stdout",
     "output_type": "stream",
     "text": [
      "[[ 5  8]\n",
      " [ 8 13]]\n"
     ]
    }
   ],
   "source": [
    "M=np.array([[2,1],[3,2]])\n",
    "Mp=np.dot(M,M.T)\n",
    "print(Mp)"
   ]
  },
  {
   "cell_type": "markdown",
   "id": "4a4eb006-408a-4fa6-b308-7ddd191308b6",
   "metadata": {
    "tags": []
   },
   "source": [
    "## Generación de matrices comunes"
   ]
  },
  {
   "cell_type": "markdown",
   "id": "5f745ef3-0e9e-455e-a399-8e2373c4c9b1",
   "metadata": {},
   "source": [
    "Numpy permite generar matrices comunmente utilizadas. En este apartado veremos algunas que serán útiles para el análisis de datos, pero hay muchas más que se pueden consultar en la <a href=\"https://numpy.org/doc/stable/reference/routines.array-creation.html\">sección dedicada</a> de la documentación de Numpy."
   ]
  },
  {
   "cell_type": "markdown",
   "id": "1ca8623e-93b7-4695-99c2-78e78cbe9880",
   "metadata": {},
   "source": [
    "Podemos generar, por ejemplo, una matriz de ceros de cualquier tamaño definido por una tupla (o un número si queremos que sea unidimensional). Por ejemplo, para generar la matriz 2x3:\n",
    "\n",
    "\\begin{bmatrix}\n",
    "0 & 0 & 0\\\\\n",
    "0 & 0 & 0\n",
    "\\end{bmatrix}\n",
    "\n",
    "usamos:"
   ]
  },
  {
   "cell_type": "code",
   "execution_count": 87,
   "id": "02a5773d-5210-4743-a14a-7d6fd0dafe57",
   "metadata": {},
   "outputs": [
    {
     "name": "stdout",
     "output_type": "stream",
     "text": [
      "[[0. 0. 0.]\n",
      " [0. 0. 0.]]\n"
     ]
    }
   ],
   "source": [
    "z = np.zeros((2,3))\n",
    "print(z)"
   ]
  },
  {
   "cell_type": "markdown",
   "id": "3f87540c-aeae-4302-87c9-97dba5c9cf26",
   "metadata": {},
   "source": [
    "De igual modo, podemos generar una matriz con unos:"
   ]
  },
  {
   "cell_type": "code",
   "execution_count": 88,
   "id": "d137b6b6-c061-41ec-a123-d71ba26c058b",
   "metadata": {},
   "outputs": [
    {
     "name": "stdout",
     "output_type": "stream",
     "text": [
      "[1. 1. 1.]\n"
     ]
    }
   ],
   "source": [
    "u = np.ones(3)\n",
    "print(u)"
   ]
  },
  {
   "cell_type": "markdown",
   "id": "9db949ae-42fc-4714-931d-c1542f26d7f2",
   "metadata": {},
   "source": [
    "Otra matriz importante, es la identidad:"
   ]
  },
  {
   "cell_type": "code",
   "execution_count": 89,
   "id": "ffa1132f-bcd6-494a-a983-ec6948c81ab2",
   "metadata": {},
   "outputs": [
    {
     "name": "stdout",
     "output_type": "stream",
     "text": [
      "[[1. 0. 0.]\n",
      " [0. 1. 0.]\n",
      " [0. 0. 1.]]\n"
     ]
    }
   ],
   "source": [
    "i3 = np.identity(3)\n",
    "print(i3)"
   ]
  },
  {
   "cell_type": "code",
   "execution_count": 90,
   "id": "2192e407-6897-4743-be81-4e9502347e6a",
   "metadata": {},
   "outputs": [
    {
     "data": {
      "text/plain": [
       "array([1., 1., 1.])"
      ]
     },
     "execution_count": 90,
     "metadata": {},
     "output_type": "execute_result"
    }
   ],
   "source": [
    "u @ i3"
   ]
  },
  {
   "cell_type": "markdown",
   "id": "922b31a2-6f88-4f43-ba8d-3e390619f1c0",
   "metadata": {},
   "source": [
    "A menudo, querremos generar una matriz con valores aleatorios basados en la distribución normal. Esto se puede realizar con la función <code>randn</code> del módulo <code>random</code>:"
   ]
  },
  {
   "cell_type": "code",
   "execution_count": 91,
   "id": "89f78275-d39e-4429-ae84-2bc3f822431a",
   "metadata": {},
   "outputs": [
    {
     "data": {
      "text/plain": [
       "array([[ 1.45892744, -1.47621657, -1.00088441],\n",
       "       [ 0.54013166, -0.60825947,  1.27105032],\n",
       "       [ 0.76640063,  1.40981844,  0.50971294]])"
      ]
     },
     "execution_count": 91,
     "metadata": {},
     "output_type": "execute_result"
    }
   ],
   "source": [
    "np.random.randn(3,3)"
   ]
  },
  {
   "cell_type": "markdown",
   "id": "139ae33f-f0af-415c-8787-e360732c1e41",
   "metadata": {},
   "source": [
    "Nótese que en este caso, los parámetros no siguen el estándar de usar tuplas para las dimensiones, como en el caso de <code>np.zeros()</code> o <code>np.ones()</code>. A menudo, esta función se usa para generar un valor aleatorio simple:"
   ]
  },
  {
   "cell_type": "code",
   "execution_count": 92,
   "id": "12aa22fc-0ac3-4025-8140-8886381fa3af",
   "metadata": {},
   "outputs": [
    {
     "data": {
      "text/plain": [
       "-0.3669909721565559"
      ]
     },
     "execution_count": 92,
     "metadata": {},
     "output_type": "execute_result"
    }
   ],
   "source": [
    "np.random.randn()"
   ]
  },
  {
   "cell_type": "markdown",
   "id": "302d9a34-8ea8-4e03-9501-53e476c0dbda",
   "metadata": {},
   "source": [
    "El módulo <code>np.random</code> puede realizar muchas otras funciones, documentadas <a href=\"https://numpy.org/doc/stable/reference/random/index.html#module-numpy.random\">aquí</a>."
   ]
  },
  {
   "cell_type": "markdown",
   "id": "1ea320a0-5fda-4f15-82bd-cb4a0ba45a50",
   "metadata": {},
   "source": [
    "Una de las funciones que más se utilizarán en análisis de datos es la generación de rangos. Esta operación será especialmente útil para tareas como la representación gráfica, el muestreo, la ejecución sistemática de un algoritmo o función en una dimensión, etc. Para ello, la función <code>arange</code> es especialmente eficiente. Dicha función permite generar rangos de diverso tipo."
   ]
  },
  {
   "cell_type": "markdown",
   "id": "3b915812-5dbb-4d3b-bb5b-45ef13ec9f74",
   "metadata": {},
   "source": [
    "Si queremos generar un rango de enteros de 0 a un valor $N-1$, siendo $N$ la longitud del array:"
   ]
  },
  {
   "cell_type": "code",
   "execution_count": 93,
   "id": "fb5f92ba-2204-4e12-8736-27748d8823e8",
   "metadata": {},
   "outputs": [
    {
     "data": {
      "text/plain": [
       "array([0, 1, 2, 3, 4, 5, 6, 7, 8, 9])"
      ]
     },
     "execution_count": 93,
     "metadata": {},
     "output_type": "execute_result"
    }
   ],
   "source": [
    "np.arange(10)"
   ]
  },
  {
   "cell_type": "markdown",
   "id": "64ae9452-3933-4bda-9a6c-18260f968933",
   "metadata": {},
   "source": [
    "Podemos especificar el valor mínimo y máximo (siempre teniendo en cuenta que la cuenta se para a un valor antes del máximo, como consecuencia del indexado desde 0):"
   ]
  },
  {
   "cell_type": "code",
   "execution_count": 94,
   "id": "d7eb5316-ad00-4791-a9ee-6799f8b3ac32",
   "metadata": {},
   "outputs": [
    {
     "data": {
      "text/plain": [
       "array([4, 5, 6, 7, 8, 9])"
      ]
     },
     "execution_count": 94,
     "metadata": {},
     "output_type": "execute_result"
    }
   ],
   "source": [
    "np.arange(4,10)"
   ]
  },
  {
   "cell_type": "markdown",
   "id": "b430c320-10cd-4c64-974c-a9b0e6d96101",
   "metadata": {},
   "source": [
    "Incluso podemos ajustar el paso, llegando a generar valores fraccionales:"
   ]
  },
  {
   "cell_type": "code",
   "execution_count": 95,
   "id": "2a353f37-9934-404f-963a-16bc24716b45",
   "metadata": {},
   "outputs": [
    {
     "data": {
      "text/plain": [
       "array([4, 6, 8])"
      ]
     },
     "execution_count": 95,
     "metadata": {},
     "output_type": "execute_result"
    }
   ],
   "source": [
    "np.arange(4,10,2)"
   ]
  },
  {
   "cell_type": "code",
   "execution_count": 96,
   "id": "5a20c5ba-1caa-425a-88fb-f6566d602465",
   "metadata": {},
   "outputs": [
    {
     "data": {
      "text/plain": [
       "array([4. , 4.5, 5. , 5.5, 6. , 6.5, 7. , 7.5, 8. , 8.5, 9. , 9.5])"
      ]
     },
     "execution_count": 96,
     "metadata": {},
     "output_type": "execute_result"
    }
   ],
   "source": [
    "np.arange(4,10,0.5)"
   ]
  },
  {
   "cell_type": "markdown",
   "id": "ca0254bc-fe39-4f45-8ba8-94d348524c17",
   "metadata": {},
   "source": [
    "<p style=\"background-color:lightpink; padding:1em\"><b>Ejercicio 5</b><br/>\n",
    "    Genere una matriz de 4x2 con valores aleatorios\n",
    "</p>"
   ]
  },
  {
   "cell_type": "code",
   "execution_count": null,
   "id": "a86db068-1cfd-4d54-8811-3824144f294f",
   "metadata": {},
   "outputs": [],
   "source": []
  },
  {
   "cell_type": "markdown",
   "id": "243cc9b5-3fd5-4bcd-8710-b9f1834d3c09",
   "metadata": {},
   "source": [
    "<p style=\"background-color:lightpink; padding:1em\"><b>Ejercicio 6</b><br/>\n",
    "    Defina una secuencia de números entre -10 y 10 con separación de 2\n",
    "</p>"
   ]
  },
  {
   "cell_type": "code",
   "execution_count": null,
   "id": "9773a1bb-a782-41a3-a056-6ac6c7df7398",
   "metadata": {},
   "outputs": [],
   "source": []
  },
  {
   "cell_type": "markdown",
   "id": "de6c717f-7269-4c67-ad2c-582ae22dc532",
   "metadata": {
    "tags": []
   },
   "source": [
    "## Funciones de cálculo de Numpy"
   ]
  },
  {
   "cell_type": "markdown",
   "id": "6fb1a224-a6ac-40f0-8e79-cf5be258dc28",
   "metadata": {},
   "source": [
    "Además del objeto <code>ndarray</code> y de todos los operadores que permiten su manipulación, Numpy ofrece una serie de funciones comunes matemáticas. En este apartado, veremos algunas de ellas. "
   ]
  },
  {
   "cell_type": "markdown",
   "id": "cbb89161-ab4c-4fb3-afc7-d2356c0bd499",
   "metadata": {},
   "source": [
    "Numpy provee de funciones matemáticas básicas, implementadas de forma eficiente tanto para su uso con valores simples, como con matrices. Por ejemplo, disponemos de una función potencia, que nos permite calcular $2^3$:"
   ]
  },
  {
   "cell_type": "code",
   "execution_count": 97,
   "id": "75651fb4-b007-44e3-b9fc-1c2c9de1dd19",
   "metadata": {},
   "outputs": [
    {
     "data": {
      "text/plain": [
       "8"
      ]
     },
     "execution_count": 97,
     "metadata": {},
     "output_type": "execute_result"
    }
   ],
   "source": [
    "np.power(2,3)"
   ]
  },
  {
   "cell_type": "markdown",
   "id": "54a49640-ec1c-4539-90fe-86e6b51586bf",
   "metadata": {},
   "source": [
    "Esta misma función, aplicada a una matriz, calcula el valor elemento a elemento:"
   ]
  },
  {
   "cell_type": "code",
   "execution_count": 98,
   "id": "28e6dc8f-bf3d-4546-b189-9dd830c38b32",
   "metadata": {},
   "outputs": [
    {
     "name": "stdout",
     "output_type": "stream",
     "text": [
      "[[  8  27]\n",
      " [512 125]]\n",
      "[[  8  27]\n",
      " [512 125]]\n"
     ]
    }
   ],
   "source": [
    "t=np.power(m2,3)\n",
    "m33=m2**3\n",
    "print(m33)\n",
    "print(t)"
   ]
  },
  {
   "cell_type": "markdown",
   "id": "ec2093d4-69a9-444e-bd4b-b895f95d73f5",
   "metadata": {},
   "source": [
    "Una función similar es la función $e^x$:"
   ]
  },
  {
   "cell_type": "code",
   "execution_count": 99,
   "id": "c20c2d24-9235-4667-8ea4-ce5b2addcfcd",
   "metadata": {},
   "outputs": [
    {
     "data": {
      "text/plain": [
       "20.085536923187668"
      ]
     },
     "execution_count": 99,
     "metadata": {},
     "output_type": "execute_result"
    }
   ],
   "source": [
    "np.exp(3)"
   ]
  },
  {
   "cell_type": "markdown",
   "id": "3a24dff1-4d96-424c-b096-ac36a309f4d2",
   "metadata": {},
   "source": [
    "También tenemos, por ejemplo, la función raíz cuadrada:"
   ]
  },
  {
   "cell_type": "code",
   "execution_count": 100,
   "id": "84bfb1b7-ce6e-4f5b-b203-5db046fd8e61",
   "metadata": {},
   "outputs": [
    {
     "data": {
      "text/plain": [
       "9.0"
      ]
     },
     "execution_count": 100,
     "metadata": {},
     "output_type": "execute_result"
    }
   ],
   "source": [
    "np.sqrt(81)"
   ]
  },
  {
   "cell_type": "markdown",
   "id": "df28f09b-0051-4858-a4ee-4cf354df650c",
   "metadata": {},
   "source": [
    "Numpy también provee de las constantes $\\pi$, $e$ e $\\infty$, entre otras:"
   ]
  },
  {
   "cell_type": "code",
   "execution_count": 101,
   "id": "db549f9b-ec1b-4427-a9db-1ff9aa5b4210",
   "metadata": {},
   "outputs": [
    {
     "data": {
      "text/plain": [
       "2.718281828459045"
      ]
     },
     "execution_count": 101,
     "metadata": {},
     "output_type": "execute_result"
    }
   ],
   "source": [
    "np.e"
   ]
  },
  {
   "cell_type": "code",
   "execution_count": 102,
   "id": "bf14849b-4cb9-436f-8fd5-c40049785aa9",
   "metadata": {},
   "outputs": [
    {
     "data": {
      "text/plain": [
       "inf"
      ]
     },
     "execution_count": 102,
     "metadata": {},
     "output_type": "execute_result"
    }
   ],
   "source": [
    "np.Inf"
   ]
  },
  {
   "cell_type": "code",
   "execution_count": 103,
   "id": "9e0c3825-cde7-401e-acdb-0a0d763af3eb",
   "metadata": {},
   "outputs": [
    {
     "data": {
      "text/plain": [
       "0.0"
      ]
     },
     "execution_count": 103,
     "metadata": {},
     "output_type": "execute_result"
    }
   ],
   "source": [
    "1 / np.Inf"
   ]
  },
  {
   "cell_type": "markdown",
   "id": "2a923368-5bb4-40d7-acc3-d045fa2a2dfd",
   "metadata": {},
   "source": [
    "De hecho, podemos usar la constante $\\pi$ en combinación con las funciones trigonométricas:"
   ]
  },
  {
   "cell_type": "code",
   "execution_count": 104,
   "id": "5cfb9081-8fd3-4247-ada9-c650068b26f6",
   "metadata": {},
   "outputs": [
    {
     "name": "stdout",
     "output_type": "stream",
     "text": [
      "[ 1.00000000e+00  7.07106781e-01  6.12323400e-17 -7.07106781e-01\n",
      " -1.00000000e+00 -7.07106781e-01 -1.83697020e-16  7.07106781e-01]\n"
     ]
    }
   ],
   "source": [
    "x = np.arange(0, 2*np.pi, np.pi/4)\n",
    "y = np.cos(x)\n",
    "print(y)"
   ]
  },
  {
   "cell_type": "markdown",
   "id": "6d2f9aad-e4cd-4829-9bcc-e784d6fa5926",
   "metadata": {},
   "source": [
    "Numpy también dispone de un gran número de funciones de álgebra lineal con matrices en el módulo <code>linalg</code>. Por ejemplo, podemos calcular la matriz inversa con la función <code>inv</code>:"
   ]
  },
  {
   "cell_type": "code",
   "execution_count": 105,
   "id": "91e7d249-c636-4fa6-9ebd-18e10dbc2333",
   "metadata": {},
   "outputs": [
    {
     "name": "stdout",
     "output_type": "stream",
     "text": [
      "[[-0.35714286  0.21428571]\n",
      " [ 0.57142857 -0.14285714]]\n"
     ]
    }
   ],
   "source": [
    "m2inv= np.linalg.inv(m2)\n",
    "print(m2inv)"
   ]
  },
  {
   "cell_type": "code",
   "execution_count": 106,
   "id": "6032c631-f078-40e1-802f-8abfa5299753",
   "metadata": {},
   "outputs": [
    {
     "data": {
      "text/plain": [
       "array([[1., 0.],\n",
       "       [0., 1.]])"
      ]
     },
     "execution_count": 106,
     "metadata": {},
     "output_type": "execute_result"
    }
   ],
   "source": [
    "m2 @ m2inv"
   ]
  },
  {
   "cell_type": "markdown",
   "id": "f34c377b-558b-4f81-ada9-66a0de91c9c5",
   "metadata": {},
   "source": [
    "<p style=\"background-color:lightpink; padding:1em\"><b>Ejercicio 7</b><br/>\n",
    "    Defina una función de Python que tome a su entrada un array y devuelva un array sólo con los elementos en posiciones impares, elevados al cuadrado.<br/>\n",
    "    La cabecera de la función es la siguiente:<br/>\n",
    "    <code>def funcion_ejercicio(array_entrada):</code><br/>\n",
    "</p>"
   ]
  },
  {
   "cell_type": "code",
   "execution_count": 107,
   "id": "9f2f8eff-cf61-4118-aace-8f680e0656ae",
   "metadata": {},
   "outputs": [
    {
     "data": {
      "text/plain": [
       "array([ 0,  4, 16, 36], dtype=int32)"
      ]
     },
     "execution_count": 107,
     "metadata": {},
     "output_type": "execute_result"
    }
   ],
   "source": [
    "def funcion_ejercicio(array_entrada):\n",
    "    elementos_pares = array_entrada[::2]\n",
    "    return np.power(elementos_pares, 2)\n",
    "\n",
    "funcion_ejercicio(np.array([0, 1, 2, 3, 4, 5, 6]))"
   ]
  },
  {
   "cell_type": "markdown",
   "id": "f2e9c01c-1220-4c88-86fb-935e9547e04a",
   "metadata": {
    "tags": []
   },
   "source": [
    "Hay numerosas otras funciones que se escapan del alcance de este curso, como las transformadas de Fourier, manipulación de polinomios, etc. En la <a href=\"https://numpy.org/doc/\">documentación de Numpy</a> se puede encontrar una referencia completa de las funciones."
   ]
  },
  {
   "cell_type": "markdown",
   "id": "9f143a50-9bc7-4a76-8940-5a375f9956f6",
   "metadata": {},
   "source": [
    "## Conclusiones"
   ]
  },
  {
   "cell_type": "markdown",
   "id": "2579943d-59e2-4146-82ec-329308c4ab75",
   "metadata": {},
   "source": [
    "Hemos hecho un repaso a las funciones básicas de Numpy, que es una librería que compone el núcleo de otras que usaremos para el análisis de datos. En ocasiones, tendremos que manipular estructuras de datos de Numpy cuando operemos con dichas librerías. Concretamente, hemos visto que la principal aportación de Numpy es el objeto <code>ndarray</code> y todo lo que la rodea (operadores, funciones de cálculo, etc.). La gran funcionalidad de Numpy, se extiende aún más con la librería <a href=\"https://docs.scipy.org/doc/\">Scipy</a>, que provee de muchas otras funcionalidades matemáticas (como son la resolución de sistemas de ecuaciones diferenciales, optimización, etc.)."
   ]
  },
  {
   "cell_type": "code",
   "execution_count": null,
   "id": "3e1118fc-f4d8-4102-871d-0b2049d0c2c9",
   "metadata": {},
   "outputs": [],
   "source": []
  }
 ],
 "metadata": {
  "kernelspec": {
   "display_name": "Python 3 (ipykernel)",
   "language": "python",
   "name": "python3"
  },
  "language_info": {
   "codemirror_mode": {
    "name": "ipython",
    "version": 3
   },
   "file_extension": ".py",
   "mimetype": "text/x-python",
   "name": "python",
   "nbconvert_exporter": "python",
   "pygments_lexer": "ipython3",
   "version": "3.9.7"
  }
 },
 "nbformat": 4,
 "nbformat_minor": 5
}
