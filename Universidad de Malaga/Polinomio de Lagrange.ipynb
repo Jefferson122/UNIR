{
 "cells": [
  {
   "cell_type": "code",
   "execution_count": 14,
   "id": "70388b00",
   "metadata": {},
   "outputs": [
    {
     "name": "stdout",
     "output_type": "stream",
     "text": [
      "los puntos empleados son:\n",
      "[2 3 4 5] [ 5.2  7.8 10.7 13. ]\n",
      "El polinomio de lagrange es:\n",
      "       3       2\n",
      "-0.15 x + 1.5 x - 2.05 x + 4.5\n",
      "Numero aproximado 11.981249999999992\n"
     ]
    }
   ],
   "source": [
    "import numpy as np\n",
    "import matplotlib.pyplot as plt\n",
    "from pylab import *\n",
    "from scipy.interpolate import lagrange\n",
    "#Se importó en la libreria interpolate la interpolacion de lagrange\n",
    "\n",
    "\n",
    "#for i in range(1,11):\n",
    "#se crea dos vectores en la primera iteracion se calcula el polinomio de lagrange de grado 1 \n",
    "#utilizando los puesto (1,1.190) y (25,-0.037) el resultado es -0.05114x+1.241\n",
    "# y así sucesivamente hasta obtener 10 polinomios de lagrange\n",
    "    #x=linspace(1,25,i+1)\n",
    "    #y=sqrt(2/x)*sin(x)\n",
    "#x=np.array([2,3,4,5,7,10])\n",
    "#y=np.array([5.2,7.8,10.7,13,19.3,27.5])\n",
    "x=np.array([2,3,4,5])\n",
    "y=np.array([5.2,7.8,10.7,13])\n",
    "    #print('iteracion',i)\n",
    "print('los puntos empleados son:')\n",
    "print(x,y)\n",
    "#valorreal=0.347\n",
    "P=lagrange(x,y)\n",
    "print('El polinomio de lagrange es:')\n",
    "print(P)\n",
    "print('Numero aproximado',P(4.5))\n",
    "    #error=abs(P(14.5)-valorreal)\n",
    "    #print('El error es',error)\n",
    "    #print('')"
   ]
  }
 ],
 "metadata": {
  "kernelspec": {
   "display_name": "Python 3 (ipykernel)",
   "language": "python",
   "name": "python3"
  },
  "language_info": {
   "codemirror_mode": {
    "name": "ipython",
    "version": 3
   },
   "file_extension": ".py",
   "mimetype": "text/x-python",
   "name": "python",
   "nbconvert_exporter": "python",
   "pygments_lexer": "ipython3",
   "version": "3.9.7"
  }
 },
 "nbformat": 4,
 "nbformat_minor": 5
}
