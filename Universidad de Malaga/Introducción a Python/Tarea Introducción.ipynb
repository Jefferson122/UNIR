{
 "cells": [
  {
   "cell_type": "markdown",
   "id": "70e16ebb",
   "metadata": {},
   "source": [
    "<div style=\"background-color:lightpink; padding:1em\">\n",
    "    <b>Ejercicio 1</b><br/>\n",
    "    Haga un hola mundo en una libreta nueva de Jupyter y guárdelo en un fichero. Vuelva a esta libreta una vez que lo haya completado.\n",
    "</div>"
   ]
  },
  {
   "cell_type": "code",
   "execution_count": 2,
   "id": "b6c5a8e7",
   "metadata": {},
   "outputs": [
    {
     "name": "stdout",
     "output_type": "stream",
     "text": [
      "Hola Mundo\n"
     ]
    }
   ],
   "source": [
    "print('Hola Mundo')"
   ]
  },
  {
   "cell_type": "markdown",
   "id": "8d3a3b32",
   "metadata": {},
   "source": [
    "<div style=\"background-color:lightpink; padding:1em\">\n",
    "    <b>Ejercicio 2</b><br/>\n",
    "    <p>Resuelva una ecuación de segundo grado con Jupyter. </p>\n",
    "    <p>Nota: la función raíz cuadrada compleja (<code>cmath.sqrt()</code>) está en la librería <code>cmath</code>. Para usarla, antes hay que indicar el uso de la librería con <code>import cmath</code></p>\n",
    "    <p>Recordatorio:</p>\n",
    "    \\begin{equation}\n",
    "    ax^2 + bx + c = 0 \\;\\;\\;\\;\\;\\;\\; \\Longrightarrow \\;\\;\\;\\;\\;\\;\\;  x=\\frac{-b \\pm \\sqrt{b^2-4ac}}{2a}\n",
    "    \\end{equation}\n",
    "</div>"
   ]
  },
  {
   "cell_type": "code",
   "execution_count": 2,
   "id": "cb63c162",
   "metadata": {},
   "outputs": [
    {
     "name": "stdout",
     "output_type": "stream",
     "text": [
      "Ingrese el coeficiente de x^2: 1\n",
      "Ingrese el coeficiente de x: 0\n",
      "ingrese la constante: -1\n",
      "Las dos raices son:\n",
      "(1+0j) (-1+0j)\n"
     ]
    }
   ],
   "source": [
    "import cmath\n",
    "#ingrese los coeficientes del polinomio ax^2+bx+c\n",
    "a=int(input('Ingrese el coeficiente de x^2: '))\n",
    "b=int(input('Ingrese el coeficiente de x: '))\n",
    "c=int(input('ingrese la constante: '))\n",
    "x1=(-b+cmath.sqrt(b**2-4*a*c))/(2*a)\n",
    "x2=(-b-cmath.sqrt(b**2-4*a*c))/(2*a)\n",
    "print('Las dos raices son:')\n",
    "print(x1,x2)"
   ]
  },
  {
   "cell_type": "markdown",
   "id": "aeae01c0",
   "metadata": {},
   "source": [
    "<div style=\"background-color:lightpink; padding:1em\">\n",
    "    <b>Ejercicio 3</b><br/>\n",
    "    <p>Hacer una unión de los dos siguientes conjuntos y mostrar los resultados. Explicar por qué el resultado tiene los elementos que aparecen.</p>\n",
    "    <code style=\"background-color:lightpink\">\n",
    "conjunto1 = {\"Ana\", \"Berta\", \"Carlos\", \"Daniel\"}\n",
    "conjunto2 = {\"Alberto\", \"Berta\", \"Carlos\", \"Daniel\"}\n",
    "    </code>\n",
    "</div>"
   ]
  },
  {
   "cell_type": "code",
   "execution_count": 28,
   "id": "3660fd8c",
   "metadata": {},
   "outputs": [
    {
     "data": {
      "text/plain": [
       "{'Alberto', 'Ana', 'Berta', 'Carlos', 'Daniel'}"
      ]
     },
     "execution_count": 28,
     "metadata": {},
     "output_type": "execute_result"
    }
   ],
   "source": [
    "conjunto1 = {\"Ana\", \"Berta\", \"Carlos\", \"Daniel\"}\n",
    "conjunto2 = {\"Alberto\", \"Berta\", \"Carlos\", \"Daniel\"}\n",
    "conjunto1.union(conjunto2)"
   ]
  },
  {
   "cell_type": "markdown",
   "id": "4557cef7",
   "metadata": {},
   "source": [
    "El resultado dio la unión menos la intersección"
   ]
  },
  {
   "cell_type": "markdown",
   "id": "a8ee9d7a",
   "metadata": {},
   "source": [
    "<div style=\"background-color:lightpink; padding:1em\">\n",
    "    <b>Ejercicio 4</b><br/>\n",
    "    <p>Convertir la siguiente lista a un conjunto. Explicar el resultado. Con dicha explicación, elaborar un método para quitar elementos repetidos de una lista.</p>\n",
    "    <code style=\"background-color:lightpink\">\n",
    "l = [1, 1, 3, 1]\n",
    "set(l)\n",
    "    </code>\n",
    "</div>"
   ]
  },
  {
   "cell_type": "code",
   "execution_count": 29,
   "id": "2a945944",
   "metadata": {},
   "outputs": [
    {
     "data": {
      "text/plain": [
       "{1, 3}"
      ]
     },
     "execution_count": 29,
     "metadata": {},
     "output_type": "execute_result"
    }
   ],
   "source": [
    "l = [1, 1, 3, 1]\n",
    "set(l)"
   ]
  },
  {
   "cell_type": "markdown",
   "id": "dbc1e781",
   "metadata": {},
   "source": [
    "<div style=\"background-color:lightpink; padding:1em\">\n",
    "    <b>Ejercicio 5</b><br/>\n",
    "    <p>Imprimir una cadena anunciando las soluciones de la ecuación de segundo grado, de forma que resulte en la siguiente cadena:</p>\n",
    "    <code style=\"background-color:lightpink\">\n",
    "Las soluciones para la ecuación con a=10, b=5 y c=-5 son (0.5+0j) y (-1+0j)\n",
    "    </code>\n",
    "</div>"
   ]
  },
  {
   "cell_type": "code",
   "execution_count": 31,
   "id": "7a83d994",
   "metadata": {},
   "outputs": [
    {
     "data": {
      "text/plain": [
       "'Las soluciones para la ecuación con 10, 5 y -5 son (0.5+0j) y (-1+0j)'"
      ]
     },
     "execution_count": 31,
     "metadata": {},
     "output_type": "execute_result"
    }
   ],
   "source": [
    "a=10\n",
    "b=5\n",
    "c=-5\n",
    "x1=(-b+cmath.sqrt(b**2-4*a*c))/(2*a)\n",
    "x2=(-b-cmath.sqrt(b**2-4*a*c))/(2*a)\n",
    "p='Las soluciones para la ecuación con {}, {} y {} son {} y {}'\n",
    "p.format(a,b,c,x1,x2)"
   ]
  },
  {
   "cell_type": "markdown",
   "id": "a4cf91d2",
   "metadata": {},
   "source": [
    "<div style=\"background-color:lightpink; padding:1em\">\n",
    "    <b>Ejercicio 6</b><br/>\n",
    "    <p>Desarrollo de un cuantificador: <br/>en un móvil LTE, el receptor mide la potencia en dBm. Una potencia menor que -100 dBm se considera muy baja (una raya); entre -100 y -90, baja (2 rayas), entre -90 y -75, media (3 rayas) y mayor de -75, alta (4 rayas). Si la potencia viene dada en la variable <code>potencia</code>, escriba una estructura con <code>if</code>, <code>elif</code> y <code>else</code> que asigne una cadena a la variable <code>recepcion</code> indicando la potencia en formato textual.</p>\n",
    "    <p>Ejemplo:</p>\n",
    "    <code style=\"background-color:lightpink\">\n",
    "    potencia = -93<br/>\n",
    "    if .....\n",
    "        recepcion = ....\n",
    "    elif ....\n",
    "        recpcion = ...\n",
    "    else:\n",
    "        recepcion = ...<br/>\n",
    "    print(recepcion)\n",
    "    </code><br/>\n",
    "    Resultado: <code>Baja</code>\n",
    "</div>"
   ]
  },
  {
   "cell_type": "code",
   "execution_count": 3,
   "id": "4a634694",
   "metadata": {},
   "outputs": [
    {
     "name": "stdout",
     "output_type": "stream",
     "text": [
      "Potencia Baja\n"
     ]
    }
   ],
   "source": [
    "potencia = -93\n",
    "\n",
    "if potencia < -100:\n",
    "    recepcion = \"Muy baja\"\n",
    "elif potencia < -90:\n",
    "    recepcion = \"Baja\"\n",
    "elif potencia < -75:\n",
    "    recepcion = \"Media\"\n",
    "else:\n",
    "    recepcion = \"Alta\"\n",
    "    \n",
    "print(recepcion)\n",
    "    "
   ]
  },
  {
   "cell_type": "markdown",
   "id": "98d9f443",
   "metadata": {},
   "source": [
    "<div style=\"background-color:lightpink; padding:1em\">\n",
    "    <b>Ejercicio 7</b><br/>\n",
    "    <p>Búsqueda de números primos:<br/> desarrollar un código que recorra todos los números hasta N e imprima por pantalla aquellos que son primos.</p>\n",
    "    <p>Notas:</p>\n",
    "    <ul>\n",
    "        <li>Para saber si un número es divisible por otro, usar el operador <code>%</code>.</li>\n",
    "        <li>Hace falta usar break en el bucle interno.</li>\n",
    "        <li>Usar una variable booleana para indicar que se ha encontrado un divisor</li>\n",
    "        <li>Planifique antes de escribir el código</li>\n",
    "    </ul>\n",
    "    </p>\n",
    "</div>"
   ]
  },
  {
   "cell_type": "code",
   "execution_count": 13,
   "id": "3f52e2a6",
   "metadata": {},
   "outputs": [
    {
     "name": "stdout",
     "output_type": "stream",
     "text": [
      "1\n",
      "2\n",
      "3\n",
      "5\n",
      "7\n",
      "11\n",
      "13\n",
      "17\n",
      "19\n"
     ]
    }
   ],
   "source": [
    "N = 20\n",
    "for i in range(1,N):\n",
    "    divisible = True          # Empezamos asumiendo que el número no es primo\n",
    "    for j in range(2,i):       # Comprobar si es divisible por todos los números entre 2 y su anterior\n",
    "        if i%j == 0:\n",
    "            divisible = False\n",
    "            break              # Si es divisible por ese número, ya sabemos que no es primo y dejamos de buscar\n",
    "    if divisible:\n",
    "        print(i)"
   ]
  },
  {
   "cell_type": "code",
   "execution_count": null,
   "id": "7165a5ec",
   "metadata": {},
   "outputs": [],
   "source": []
  }
 ],
 "metadata": {
  "kernelspec": {
   "display_name": "Python 3 (ipykernel)",
   "language": "python",
   "name": "python3"
  },
  "language_info": {
   "codemirror_mode": {
    "name": "ipython",
    "version": 3
   },
   "file_extension": ".py",
   "mimetype": "text/x-python",
   "name": "python",
   "nbconvert_exporter": "python",
   "pygments_lexer": "ipython3",
   "version": "3.9.7"
  }
 },
 "nbformat": 4,
 "nbformat_minor": 5
}
