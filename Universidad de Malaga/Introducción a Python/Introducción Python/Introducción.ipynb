{
 "cells": [
  {
   "cell_type": "markdown",
   "id": "e2e82e09-ad02-4384-b939-d6a205940e40",
   "metadata": {},
   "source": [
    "# Introducción a Python"
   ]
  },
  {
   "cell_type": "markdown",
   "id": "fd50f5e5-9379-4e5a-9325-57dc16819924",
   "metadata": {},
   "source": [
    "En esta primera libreta del curso, haremos una introducción de las bases de Python. Dicha introducción debe servir más como un repaso que como un tutorial de programación. Puede servir tanto como refresco para personas ya familiarizadas con Python como para personas que usan un lenguaje distinto (Java, C/C++, Matlab, etc.). Programar no consiste sólo en saber escribir el lenguaje, sino también en saber organizar los bloques que componen un programa, entender cómo funciona un ordenador, etc. Para personas completamente novatas, el libro <a href=\"https://greenteapress.com/thinkpython/html/index.html\">Think Python</a> puede ser una lectura de gran ayuda. En <a href=\"https://youtu.be/uCzFUKWtzgA?list=PLboXykqtm8dy_DNg1NZiS08Dnyj35PWXw\">esta lista de reproducción</a> se da una introducción en vídeo. La página de Python ofrece <a href=\"https://wiki.python.org/moin/BeginnersGuide/NonProgrammers\">recursos</a> para novatos que nunca hayan programado."
   ]
  },
  {
   "cell_type": "markdown",
   "id": "258e879b-a14d-44e4-8283-5c20eacb01ce",
   "metadata": {},
   "source": [
    "---"
   ]
  },
  {
   "cell_type": "markdown",
   "id": "06fd1e21-1e7f-4259-ab3f-2ac8e681210c",
   "metadata": {},
   "source": [
    "# Índice\n",
    "[Tipos de dato básicos](#Tipos-de-dato-básicos) <br/>\n",
    "&nbsp;&nbsp;&nbsp;&nbsp; [Operadores numéricos](#Operadores-numéricos) <br/>\n",
    "&nbsp;&nbsp;&nbsp;&nbsp; [Operadores de cadena](#Operadores-de-cadena) <br/>\n",
    "&nbsp;&nbsp;&nbsp;&nbsp; [Operadores booleanos](#Operadores-booleanos) <br/>\n",
    "[Estructuras de datos](#Estructuras-de-datos) <br/>\n",
    "&nbsp;&nbsp;&nbsp;&nbsp; [Lista](#Lista) <br/>\n",
    "&nbsp;&nbsp;&nbsp;&nbsp; [Diccionarios](#Diccionarios) <br/>\n",
    "&nbsp;&nbsp;&nbsp;&nbsp; [Conjuntos](#Conjuntos) <br/>\n",
    "&nbsp;&nbsp;&nbsp;&nbsp; [Tuplas](#Tuplas) <br/>\n",
    "&nbsp;&nbsp;&nbsp;&nbsp; [Conversiones](#Conversiones) <br/>\n",
    "[Manipulación de cadenas](#Manipulación-de-cadenas) <br/>\n",
    "[Control de flujo](#Control-de-flujo) <br/>\n",
    "&nbsp;&nbsp;&nbsp;&nbsp; [Condicional](#Condicional) <br/>\n",
    "&nbsp;&nbsp;&nbsp;&nbsp; [Bucles](#Bucles) <br/>\n",
    "&nbsp;&nbsp;&nbsp;&nbsp; [Comprehensions](#Comprehensions) <br/>\n",
    "[Funciones](#Funciones) <br/>\n",
    "[Conclusiones](#Conclusiones) <br/>"
   ]
  },
  {
   "cell_type": "markdown",
   "id": "f33592e5-0f4b-4147-a88a-52faf1f0a5c7",
   "metadata": {},
   "source": [
    "---"
   ]
  },
  {
   "cell_type": "markdown",
   "id": "ba103492-4d00-4429-aaf7-eefc2a57af20",
   "metadata": {},
   "source": [
    "Hecha esta aclaración, empezamos con la introducción. Lo primero que tenemos que hacer en todo lenguaje de programación, es ejecutar y entender el programa <i><a href=\"https://en.wikipedia.org/wiki/%22Hello,_World!%22_program\">Hola mundo</a></i>:"
   ]
  },
  {
   "cell_type": "code",
   "execution_count": 203,
   "id": "1bfb1afc-14e6-4a0b-99fe-6ec2dc55e2da",
   "metadata": {},
   "outputs": [
    {
     "name": "stdout",
     "output_type": "stream",
     "text": [
      "Hola mundo\n"
     ]
    }
   ],
   "source": [
    "print(\"Hola mundo\")"
   ]
  },
  {
   "cell_type": "markdown",
   "id": "8915139d-af81-4afc-9fc5-09c3175f5193",
   "metadata": {},
   "source": [
    "¿Por qué es tan importante el <i>Hola mundo</i>? Es un programa muy sencillo y completo, que hace una tarea muy común (mostrar algo por pantalla), y que por tanto, nos dice mucho acerca de la filosofía del lenguaje. En Python, por ejemplo, tan sólo tenemos esta línea, que se puede leer prácticamente como una frase natural. En C, como contraejemplo, el <i>Hola mundo</i> consistiría en el siguiente código:\n",
    "<div style=\"background-color:lightgray\">\n",
    "<code style=\"background-color:lightgray\">#include &lt;stdio.h&gt;\n",
    " int main() {\n",
    "    printf(\"Hola mundo\\n\");\n",
    "    return 0;\n",
    " }\n",
    "</code>\n",
    "</div>\n",
    "\n",
    "Además, el programa <i>Hola mundo</i> lo tenemos que escribir, compilar (si es un lenguaje compilado) y ejecutar igual que programas más complejos. En Python, basta con escribir esa línea en un fichero con terminación <code>.py</code> y ejecutarlo con el intérprete:\n",
    "\n",
    "<img src=\"holamundo.png\" style=\"width:40em; margin: 0 auto;\"/>\n",
    "<br/>\n",
    "En Jupyter, ni siquiera tenemos que salir del entorno, basta escribirlo y pulsar el botón de ejecución, o, mejor, la combinación de teclas &lt;Mayus&gt;&lt;Intro&gt;.\n",
    "\n",
    "Nuevamente, esta facilidad contrasta con C y otros lenguajes:\n",
    "\n",
    "<img src=\"c.png\" style=\"width:40em; margin: 0 auto;\"/>\n",
    "<br/>\n",
    "\n",
    "Analizando un poco más a fondo el <i>Hola mundo</i> podemos ver dos aspectos importantes de Python. \n",
    "\n",
    "\n",
    "<img src=\"holamundo2.png\" style=\"width:20em; margin: 0 auto;\"/>\n",
    "<br/>\n",
    "\n",
    "El primero es cómo se llama a una función: con el nombre de la misma y el/los parámetros en un paréntesis. Esto coincide con la mayoría de los otros lenguajes de programación. También vemos cómo se representa una cadena de caracteres: rodeandola con comillas (pueden ser dobles o simples)."
   ]
  },
  {
   "cell_type": "markdown",
   "id": "66ba25db-2f15-4c58-a4c1-01fa3ee22ce5",
   "metadata": {},
   "source": [
    "<div style=\"background-color:lightpink; padding:1em\">\n",
    "    <b>Ejercicio 1</b><br/>\n",
    "    Haga un hola mundo en una libreta nueva de Jupyter y guárdelo en un fichero. Vuelva a esta libreta una vez que lo haya completado.\n",
    "</div>"
   ]
  },
  {
   "cell_type": "code",
   "execution_count": 204,
   "id": "7b09b575",
   "metadata": {},
   "outputs": [
    {
     "name": "stdout",
     "output_type": "stream",
     "text": [
      "Hola Mundo\n"
     ]
    }
   ],
   "source": [
    "print('Hola Mundo')"
   ]
  },
  {
   "cell_type": "markdown",
   "id": "78297162-1da7-46a6-9411-f11dce9cac7c",
   "metadata": {
    "tags": []
   },
   "source": [
    "## Tipos de dato básicos"
   ]
  },
  {
   "cell_type": "markdown",
   "id": "1aea1f9b-a3c2-4b04-9777-73b9115de00d",
   "metadata": {},
   "source": [
    "Las variables son muy importantes en programación. Guardan datos (valores) en la memoria del ordenador acerca de los problemas que resuelve el programa. Las variables son espacios de memoria con un nombre asociado. Los valores que se guardan son de un tipo concreto. El tipo puede ser entero, caracter, array, etc. y determina cómo intepreta el programa los bits almacenados en esa variable. En Python, las variables no tienen tipo, pero los valores sí. Asignar un valor a una variable es muy sencillo:"
   ]
  },
  {
   "cell_type": "code",
   "execution_count": 205,
   "id": "0dc7f967-80ca-46cb-9575-2fca74c09c5e",
   "metadata": {},
   "outputs": [],
   "source": [
    "a = 15\n",
    "b = \"Hola\""
   ]
  },
  {
   "cell_type": "markdown",
   "id": "a53832b5-ca2e-45c1-b088-5c0dcd0a680e",
   "metadata": {},
   "source": [
    "<code>a</code> guarda un valor de tipo entero, y <code>b</code> una cadena. Podemos usar las variables de muchas maneras:"
   ]
  },
  {
   "cell_type": "code",
   "execution_count": 206,
   "id": "09ac2261-8d8b-46ae-9672-9f7a9a43b14f",
   "metadata": {},
   "outputs": [
    {
     "name": "stdout",
     "output_type": "stream",
     "text": [
      "15\n"
     ]
    }
   ],
   "source": [
    "print(a)"
   ]
  },
  {
   "cell_type": "code",
   "execution_count": 207,
   "id": "c95a7703-5650-4211-8ed4-656db49dabac",
   "metadata": {},
   "outputs": [
    {
     "data": {
      "text/plain": [
       "16"
      ]
     },
     "execution_count": 207,
     "metadata": {},
     "output_type": "execute_result"
    }
   ],
   "source": [
    "a+1"
   ]
  },
  {
   "cell_type": "markdown",
   "id": "275c70f1-579b-4f9c-a1b2-c8aa362a65b5",
   "metadata": {},
   "source": [
    "Hay que tener en cuenta que cuando trabajamos con Python de modo interactivo, es decir, con el intérprete o en Jupyter, se muestra el resultado de la última operación. Por tanto, la línea anterior ha mostrado el valor 16. No obstante, en un script, esto no pasa.\n",
    "\n",
    "Si intentamos usar una variable que no ha sido declarada, obtenemos un error:"
   ]
  },
  {
   "cell_type": "code",
   "execution_count": 208,
   "id": "9779fd98-6f39-4463-b981-10ca0215fa1d",
   "metadata": {},
   "outputs": [
    {
     "ename": "TypeError",
     "evalue": "can only concatenate str (not \"int\") to str",
     "output_type": "error",
     "traceback": [
      "\u001b[1;31m---------------------------------------------------------------------------\u001b[0m",
      "\u001b[1;31mTypeError\u001b[0m                                 Traceback (most recent call last)",
      "\u001b[1;32m~\\AppData\\Local\\Temp/ipykernel_10636/4244594933.py\u001b[0m in \u001b[0;36m<module>\u001b[1;34m\u001b[0m\n\u001b[1;32m----> 1\u001b[1;33m \u001b[0mc\u001b[0m\u001b[1;33m+\u001b[0m\u001b[1;36m1\u001b[0m\u001b[1;33m\u001b[0m\u001b[1;33m\u001b[0m\u001b[0m\n\u001b[0m",
      "\u001b[1;31mTypeError\u001b[0m: can only concatenate str (not \"int\") to str"
     ]
    }
   ],
   "source": [
    "c+1"
   ]
  },
  {
   "cell_type": "markdown",
   "id": "4ad12ba2-29e7-4440-813e-fd07c00e8613",
   "metadata": {},
   "source": [
    "Podemos reasignar variables en cualquier momento:"
   ]
  },
  {
   "cell_type": "code",
   "execution_count": 209,
   "id": "5cca052e-e8ca-4e10-be55-256ae34f6782",
   "metadata": {},
   "outputs": [
    {
     "name": "stdout",
     "output_type": "stream",
     "text": [
      "16\n"
     ]
    }
   ],
   "source": [
    "a = 16\n",
    "print(a)"
   ]
  },
  {
   "cell_type": "markdown",
   "id": "7f0d7995-6043-4572-b17d-dac4b07b9f1a",
   "metadata": {},
   "source": [
    "En cualquier momento, podríamos asignar a estas variables un valor distinto o de tipo distinto, sin que haya ningún problema:"
   ]
  },
  {
   "cell_type": "code",
   "execution_count": 210,
   "id": "f80e8e02-a663-4426-9ea8-f2aeb90e49cb",
   "metadata": {},
   "outputs": [],
   "source": [
    "a = \"Ahora es una cadena\""
   ]
  },
  {
   "cell_type": "markdown",
   "id": "74b55abc-3fff-4b06-af31-022ee33debaf",
   "metadata": {},
   "source": [
    "Veamos los tipos básicos de dato en Python. Se puede ver el tipo de un valor pasándolo a la función <code>type()</code>. El primero que veremos es el entero:"
   ]
  },
  {
   "cell_type": "code",
   "execution_count": 211,
   "id": "605b7e45-3c5c-468e-a16e-98b871782f82",
   "metadata": {},
   "outputs": [
    {
     "data": {
      "text/plain": [
       "int"
      ]
     },
     "execution_count": 211,
     "metadata": {},
     "output_type": "execute_result"
    }
   ],
   "source": [
    "a = 16\n",
    "type(a)"
   ]
  },
  {
   "cell_type": "markdown",
   "id": "991e6f75-e247-40ae-b374-994d98eb4276",
   "metadata": {},
   "source": [
    "Los números también se pueden representar con coma flotante:"
   ]
  },
  {
   "cell_type": "code",
   "execution_count": 212,
   "id": "d4aad584-0cb7-4d52-a9fe-4c875854302f",
   "metadata": {},
   "outputs": [
    {
     "data": {
      "text/plain": [
       "float"
      ]
     },
     "execution_count": 212,
     "metadata": {},
     "output_type": "execute_result"
    }
   ],
   "source": [
    "b = 15.6\n",
    "type(b)"
   ]
  },
  {
   "cell_type": "markdown",
   "id": "8cb92273-aa93-4572-b922-381358af76e9",
   "metadata": {},
   "source": [
    "Incluso podemos usar números complejos:"
   ]
  },
  {
   "cell_type": "code",
   "execution_count": 213,
   "id": "b24ac48e-f602-4dfe-8d9a-a779780d4cd7",
   "metadata": {},
   "outputs": [
    {
     "data": {
      "text/plain": [
       "complex"
      ]
     },
     "execution_count": 213,
     "metadata": {},
     "output_type": "execute_result"
    }
   ],
   "source": [
    "c = 3+4j\n",
    "type(c)"
   ]
  },
  {
   "cell_type": "markdown",
   "id": "0dd5851c-5844-4387-bb8b-7f109d3b0286",
   "metadata": {},
   "source": [
    "Uno de los tipos fundamentales en cualquier lenguaje son los caracteres y cadenas de texto. En Python no se diferencia entre ambas, sólo tenemos cadenas:"
   ]
  },
  {
   "cell_type": "code",
   "execution_count": 214,
   "id": "1d003c53-d4c2-4ba9-8b08-7ef301b6990d",
   "metadata": {},
   "outputs": [
    {
     "data": {
      "text/plain": [
       "str"
      ]
     },
     "execution_count": 214,
     "metadata": {},
     "output_type": "execute_result"
    }
   ],
   "source": [
    "d = \"hola\"\n",
    "type(d)"
   ]
  },
  {
   "cell_type": "markdown",
   "id": "312b10be-16a9-4b2a-8e71-da027819a9d0",
   "metadata": {},
   "source": [
    "También tenemos booleanos que pueden tomar valores de verdadero/falso:"
   ]
  },
  {
   "cell_type": "code",
   "execution_count": 215,
   "id": "613c150e-e761-4bba-accc-b32fbf18502b",
   "metadata": {},
   "outputs": [
    {
     "data": {
      "text/plain": [
       "bool"
      ]
     },
     "execution_count": 215,
     "metadata": {},
     "output_type": "execute_result"
    }
   ],
   "source": [
    "e = True\n",
    "type(e)"
   ]
  },
  {
   "cell_type": "markdown",
   "id": "a16f4d27-e38d-4442-98a1-960fcfa22c66",
   "metadata": {},
   "source": [
    "Y para terminar, tenemos el valor nulo, que se usa para indicar ausencia de datos:"
   ]
  },
  {
   "cell_type": "code",
   "execution_count": 216,
   "id": "fbfafbce-cecc-4ede-b3a0-83e6ac9bbe5e",
   "metadata": {},
   "outputs": [
    {
     "data": {
      "text/plain": [
       "NoneType"
      ]
     },
     "execution_count": 216,
     "metadata": {},
     "output_type": "execute_result"
    }
   ],
   "source": [
    "f = None\n",
    "type(f)"
   ]
  },
  {
   "cell_type": "markdown",
   "id": "54fab80c-1efe-49bf-9a39-3127e92632ca",
   "metadata": {},
   "source": [
    "Con estos tipos, podemos hacer muchas cosas, pero tenemos que tener cuidado con ciertas incompatibilidades. Por ejemplo, no podemos sumar una cadena con un número:"
   ]
  },
  {
   "cell_type": "code",
   "execution_count": 217,
   "id": "e0829ea0-2a2d-41e7-99ee-a9859210601d",
   "metadata": {},
   "outputs": [
    {
     "ename": "TypeError",
     "evalue": "can only concatenate str (not \"int\") to str",
     "output_type": "error",
     "traceback": [
      "\u001b[1;31m---------------------------------------------------------------------------\u001b[0m",
      "\u001b[1;31mTypeError\u001b[0m                                 Traceback (most recent call last)",
      "\u001b[1;32m~\\AppData\\Local\\Temp/ipykernel_10636/1526614864.py\u001b[0m in \u001b[0;36m<module>\u001b[1;34m\u001b[0m\n\u001b[1;32m----> 1\u001b[1;33m \u001b[0md\u001b[0m \u001b[1;33m+\u001b[0m \u001b[0ma\u001b[0m\u001b[1;33m\u001b[0m\u001b[1;33m\u001b[0m\u001b[0m\n\u001b[0m",
      "\u001b[1;31mTypeError\u001b[0m: can only concatenate str (not \"int\") to str"
     ]
    }
   ],
   "source": [
    "d + a"
   ]
  },
  {
   "cell_type": "markdown",
   "id": "8df3c635-f40f-4487-94a6-22efc1c57f4d",
   "metadata": {},
   "source": [
    "Para evitar estas incompatibilidades, podemos hacer cambios de tipo mediante las funciones de cada tipo, que harán lo posible por hacer una traducción apropiada:"
   ]
  },
  {
   "cell_type": "code",
   "execution_count": 218,
   "id": "18bb5dd8-ca5d-4f99-9dee-0f5a5a1d2ade",
   "metadata": {},
   "outputs": [
    {
     "data": {
      "text/plain": [
       "'16'"
      ]
     },
     "execution_count": 218,
     "metadata": {},
     "output_type": "execute_result"
    }
   ],
   "source": [
    "str(a)"
   ]
  },
  {
   "cell_type": "code",
   "execution_count": 219,
   "id": "0af7ebc3-7890-43d4-8c30-4dd3c8a4804f",
   "metadata": {},
   "outputs": [
    {
     "data": {
      "text/plain": [
       "'hola16'"
      ]
     },
     "execution_count": 219,
     "metadata": {},
     "output_type": "execute_result"
    }
   ],
   "source": [
    "d + str(a)"
   ]
  },
  {
   "cell_type": "markdown",
   "id": "d296fac9-3e57-4532-8d0f-b2dd2b4b1a79",
   "metadata": {
    "tags": []
   },
   "source": [
    "### Operadores numéricos"
   ]
  },
  {
   "cell_type": "markdown",
   "id": "d8ba1b17-eac7-4759-8be4-211738ec716a",
   "metadata": {},
   "source": [
    "Una de las primeras cosas que podemos hacer con Python es usarlo como una calculadora. En esta sección, veremos las operaciones básicas. Empezamos por la suma, resta, multiplicación y división:"
   ]
  },
  {
   "cell_type": "code",
   "execution_count": 220,
   "id": "d95934ae-73a7-415b-bdf3-fb37c330fd0c",
   "metadata": {},
   "outputs": [
    {
     "data": {
      "text/plain": [
       "8"
      ]
     },
     "execution_count": 220,
     "metadata": {},
     "output_type": "execute_result"
    }
   ],
   "source": [
    "a = 5\n",
    "b = 3\n",
    "\n",
    "a + b"
   ]
  },
  {
   "cell_type": "code",
   "execution_count": 221,
   "id": "dbfd9f3e-f0f3-4a63-a6b9-0dfecd0a2832",
   "metadata": {},
   "outputs": [
    {
     "data": {
      "text/plain": [
       "2"
      ]
     },
     "execution_count": 221,
     "metadata": {},
     "output_type": "execute_result"
    }
   ],
   "source": [
    "a - b"
   ]
  },
  {
   "cell_type": "code",
   "execution_count": 222,
   "id": "95ea9082-ec35-4c5f-9b59-920d8697287a",
   "metadata": {},
   "outputs": [
    {
     "data": {
      "text/plain": [
       "15"
      ]
     },
     "execution_count": 222,
     "metadata": {},
     "output_type": "execute_result"
    }
   ],
   "source": [
    "a * b"
   ]
  },
  {
   "cell_type": "code",
   "execution_count": 223,
   "id": "fa26d234-e0dd-4118-956f-04afec93aa93",
   "metadata": {},
   "outputs": [
    {
     "data": {
      "text/plain": [
       "1.6666666666666667"
      ]
     },
     "execution_count": 223,
     "metadata": {},
     "output_type": "execute_result"
    }
   ],
   "source": [
    "a / b"
   ]
  },
  {
   "cell_type": "markdown",
   "id": "e44b893a-0182-4d9c-a6c2-27242f8d0eba",
   "metadata": {},
   "source": [
    "Hasta aquí, todo es muy intuitivo y similar a otros lenguajes de programación. Nota: la división <a href=\"https://www.informit.com/articles/article.aspx?p=1439189\">no funciona igual</a> en Python 2. No obstante, Python 2 fue superado hace tiempo, no debería usarse por falta de soporte e incompatibilidades con nuevas versiones de las librerías y sólo lo encontraremos en sistemas anticuados.\n",
    "\n",
    "El siguiente operador que veremos es el módulo, que nos da el resto de hacer la división entera de un número entre otro:"
   ]
  },
  {
   "cell_type": "code",
   "execution_count": 224,
   "id": "73297e77-a85f-4488-b75f-046b83395a5b",
   "metadata": {},
   "outputs": [
    {
     "data": {
      "text/plain": [
       "2"
      ]
     },
     "execution_count": 224,
     "metadata": {},
     "output_type": "execute_result"
    }
   ],
   "source": [
    "a % b"
   ]
  },
  {
   "cell_type": "markdown",
   "id": "88c617dd-c37e-49b1-ab8f-ec56fe44589c",
   "metadata": {},
   "source": [
    "La potenciación se representa con el siguiente operador: "
   ]
  },
  {
   "cell_type": "code",
   "execution_count": 225,
   "id": "83918a63-1943-44a2-a7ff-64e2c2e59172",
   "metadata": {},
   "outputs": [
    {
     "data": {
      "text/plain": [
       "25"
      ]
     },
     "execution_count": 225,
     "metadata": {},
     "output_type": "execute_result"
    }
   ],
   "source": [
    "a ** 2"
   ]
  },
  {
   "cell_type": "markdown",
   "id": "75a74cbe-96cf-4277-be4d-069df5b56301",
   "metadata": {},
   "source": [
    "El cambio de signo de un número también es intuitivo:"
   ]
  },
  {
   "cell_type": "code",
   "execution_count": 226,
   "id": "a7ec1b82-ee16-4387-b677-e8232c090683",
   "metadata": {},
   "outputs": [
    {
     "data": {
      "text/plain": [
       "-5"
      ]
     },
     "execution_count": 226,
     "metadata": {},
     "output_type": "execute_result"
    }
   ],
   "source": [
    "-a"
   ]
  },
  {
   "cell_type": "markdown",
   "id": "d2df4a82-ed8d-4fd4-92e2-c9a32fb67c4a",
   "metadata": {},
   "source": [
    "Los operadores matemáticos guardan la precedencia esperada:"
   ]
  },
  {
   "cell_type": "code",
   "execution_count": 227,
   "id": "0075a825-56d0-4e5c-a96a-544f3129c092",
   "metadata": {},
   "outputs": [
    {
     "data": {
      "text/plain": [
       "4.5"
      ]
     },
     "execution_count": 227,
     "metadata": {},
     "output_type": "execute_result"
    }
   ],
   "source": [
    "1 + -5 / 2 + 6"
   ]
  },
  {
   "cell_type": "markdown",
   "id": "b5c929af-79a8-4f95-b8f8-efb884852e05",
   "metadata": {},
   "source": [
    "Con paréntesis podemos cambiar la precedencia:"
   ]
  },
  {
   "cell_type": "code",
   "execution_count": 228,
   "id": "fe3ab33e-f040-45fd-8b8f-ac7acf7dbee5",
   "metadata": {},
   "outputs": [
    {
     "data": {
      "text/plain": [
       "-0.5"
      ]
     },
     "execution_count": 228,
     "metadata": {},
     "output_type": "execute_result"
    }
   ],
   "source": [
    "(1 + -5) / (2 + 6)"
   ]
  },
  {
   "cell_type": "markdown",
   "id": "0eb76b96-6002-4be8-82eb-f3d16c57b682",
   "metadata": {},
   "source": [
    "Además de los operadores matemáticos típicos, Python, al igual que otros lenguajes de programación, tiene atajos para el incremento y decremento de enteros, lo cual será útil para contar eventos en bucles:"
   ]
  },
  {
   "cell_type": "code",
   "execution_count": 229,
   "id": "6d277133-3cab-4ded-a65b-1378d75bf025",
   "metadata": {},
   "outputs": [
    {
     "data": {
      "text/plain": [
       "2"
      ]
     },
     "execution_count": 229,
     "metadata": {},
     "output_type": "execute_result"
    }
   ],
   "source": [
    "a = 0\n",
    "a += 1\n",
    "a += 1\n",
    "a"
   ]
  },
  {
   "cell_type": "code",
   "execution_count": 230,
   "id": "5ad87e3e-b43e-49a9-abca-713240f6b85b",
   "metadata": {},
   "outputs": [
    {
     "data": {
      "text/plain": [
       "0"
      ]
     },
     "execution_count": 230,
     "metadata": {},
     "output_type": "execute_result"
    }
   ],
   "source": [
    "a -= 2\n",
    "a"
   ]
  },
  {
   "cell_type": "markdown",
   "id": "5f022e70-4202-421e-acec-9847da407207",
   "metadata": {},
   "source": [
    "Tenemos también operadores de comparación, que evalúan una expresión y nos dicen si se cumple o no:"
   ]
  },
  {
   "cell_type": "code",
   "execution_count": 231,
   "id": "173269b7-bef7-4fac-a993-d13b6fbd12cc",
   "metadata": {},
   "outputs": [
    {
     "data": {
      "text/plain": [
       "False"
      ]
     },
     "execution_count": 231,
     "metadata": {},
     "output_type": "execute_result"
    }
   ],
   "source": [
    "a > 16"
   ]
  },
  {
   "cell_type": "code",
   "execution_count": 232,
   "id": "75b869a7-315d-4bfe-9d21-01684f6edc2d",
   "metadata": {},
   "outputs": [
    {
     "data": {
      "text/plain": [
       "True"
      ]
     },
     "execution_count": 232,
     "metadata": {},
     "output_type": "execute_result"
    }
   ],
   "source": [
    "a < 1"
   ]
  },
  {
   "cell_type": "code",
   "execution_count": 233,
   "id": "156306b3-af33-450e-a869-c072ca952503",
   "metadata": {},
   "outputs": [
    {
     "data": {
      "text/plain": [
       "True"
      ]
     },
     "execution_count": 233,
     "metadata": {},
     "output_type": "execute_result"
    }
   ],
   "source": [
    "a >= 0"
   ]
  },
  {
   "cell_type": "code",
   "execution_count": 234,
   "id": "e9fda731-e5ce-4231-997c-41d254c7ad69",
   "metadata": {},
   "outputs": [
    {
     "data": {
      "text/plain": [
       "False"
      ]
     },
     "execution_count": 234,
     "metadata": {},
     "output_type": "execute_result"
    }
   ],
   "source": [
    "a <= -1"
   ]
  },
  {
   "cell_type": "markdown",
   "id": "07771445-f56e-4586-8bd4-fff937b7fe93",
   "metadata": {},
   "source": [
    "Estos operadores se pueden también usar para ver si un valor está en un intervalo:"
   ]
  },
  {
   "cell_type": "code",
   "execution_count": 235,
   "id": "5ed581fa-6888-416c-b97b-7e01c84f61c3",
   "metadata": {},
   "outputs": [
    {
     "data": {
      "text/plain": [
       "True"
      ]
     },
     "execution_count": 235,
     "metadata": {},
     "output_type": "execute_result"
    }
   ],
   "source": [
    "-1 < a < 10"
   ]
  },
  {
   "cell_type": "markdown",
   "id": "7723de99-9e0a-4772-9e7e-43ccab2f37ab",
   "metadata": {},
   "source": [
    "Para comparar la igualdad, usamos el operador <code>==</code> que es distinto al <code>=</code> (asignación). Es muy importante no equivocarse, ya que no saltará ningún error, pero hará que toda la lógica del programa funcione mal. Es una de las primeras cosas que hay que mirar a la hora de detectar fallos."
   ]
  },
  {
   "cell_type": "code",
   "execution_count": 236,
   "id": "2ebecd4d-6e0c-48e8-8cd8-dda1b6b2fdd9",
   "metadata": {},
   "outputs": [
    {
     "data": {
      "text/plain": [
       "True"
      ]
     },
     "execution_count": 236,
     "metadata": {},
     "output_type": "execute_result"
    }
   ],
   "source": [
    "a == 0"
   ]
  },
  {
   "cell_type": "markdown",
   "id": "19c22607-e6cf-4528-b1ae-d6b8d3871836",
   "metadata": {},
   "source": [
    "La desigualdad se comprueba de la siguiente manera:"
   ]
  },
  {
   "cell_type": "code",
   "execution_count": 237,
   "id": "f06da02e-b22e-4670-ac12-c0d7b7e8f1d1",
   "metadata": {},
   "outputs": [
    {
     "data": {
      "text/plain": [
       "False"
      ]
     },
     "execution_count": 237,
     "metadata": {},
     "output_type": "execute_result"
    }
   ],
   "source": [
    "a != 0"
   ]
  },
  {
   "cell_type": "markdown",
   "id": "bf063b43-c445-4d84-b23d-556991457857",
   "metadata": {},
   "source": [
    "<div style=\"background-color:lightpink; padding:1em\">\n",
    "    <b>Ejercicio 2</b><br/>\n",
    "    <p>Resuelva una ecuación de segundo grado con Jupyter. </p>\n",
    "    <p>Nota: la función raíz cuadrada compleja (<code>cmath.sqrt()</code>) está en la librería <code>cmath</code>. Para usarla, antes hay que indicar el uso de la librería con <code>import cmath</code></p>\n",
    "    <p>Recordatorio:</p>\n",
    "    \\begin{equation}\n",
    "    ax^2 + bx + c = 0 \\;\\;\\;\\;\\;\\;\\; \\Longrightarrow \\;\\;\\;\\;\\;\\;\\;  x=\\frac{-b \\pm \\sqrt{b^2-4ac}}{2a}\n",
    "    \\end{equation}\n",
    "</div>"
   ]
  },
  {
   "cell_type": "code",
   "execution_count": 238,
   "id": "a88e1dd3",
   "metadata": {},
   "outputs": [
    {
     "name": "stdout",
     "output_type": "stream",
     "text": [
      "Ingrese el coeficiente de x^2: 1\n",
      "Ingrese el coeficiente de x: 1\n",
      "ingrese la constante: 1\n",
      "Las dos raices son:\n",
      "(-0.5+0.8660254037844386j) (-0.5-0.8660254037844386j)\n"
     ]
    }
   ],
   "source": [
    "import cmath\n",
    "#ingrese los coeficientes del polinomio ax^2+bx+c\n",
    "a=int(input('Ingrese el coeficiente de x^2: '))\n",
    "b=int(input('Ingrese el coeficiente de x: '))\n",
    "c=int(input('ingrese la constante: '))\n",
    "x1=(-b+cmath.sqrt(b**2-4*a*c))/(2*a)\n",
    "x2=(-b-cmath.sqrt(b**2-4*a*c))/(2*a)\n",
    "print('Las dos raices son:')\n",
    "print(x1,x2)"
   ]
  },
  {
   "cell_type": "markdown",
   "id": "f5bcb1ca-8acb-4812-85f4-37efe74b89cb",
   "metadata": {
    "tags": []
   },
   "source": [
    "### Operadores de cadena"
   ]
  },
  {
   "cell_type": "markdown",
   "id": "b10325cf-fe10-40d7-8c05-cfba6dd4ca3c",
   "metadata": {},
   "source": [
    "Del mismo modeo que se puede operar con números, en la mayoría de lenguajes de programación se puede operar con cadenas. Esto nos permite, por ejemplo, generar mensajes que contengan resultados de cálculos. Las cadenas se pueden declarar de dos maneras, con comillas simples o dobles. No existe ninguna preferencia entre estas dos; tan sólo que si dentro de la cadena aparece alguna de ellas, la delimitadora tiene que ser la otra:"
   ]
  },
  {
   "cell_type": "code",
   "execution_count": 239,
   "id": "4e67334a-f8ee-41c0-9efb-a6b8877e6404",
   "metadata": {},
   "outputs": [
    {
     "name": "stdout",
     "output_type": "stream",
     "text": [
      "Hola mundo\n",
      "Hola mundo\n",
      "Le dije \"Hola\"\n"
     ]
    }
   ],
   "source": [
    "a = \"Hola mundo\"\n",
    "b = 'Hola mundo'\n",
    "c = 'Le dije \"Hola\"'\n",
    "\n",
    "print(a)\n",
    "print(b)\n",
    "print(c)"
   ]
  },
  {
   "cell_type": "markdown",
   "id": "41a30036-ac0b-458c-866f-6f68b20bc398",
   "metadata": {},
   "source": [
    "Podemos concatenar dos cadenas de forma muy simple:"
   ]
  },
  {
   "cell_type": "code",
   "execution_count": 240,
   "id": "cf4a338a-1168-4957-8b15-75e75c61ae5a",
   "metadata": {},
   "outputs": [
    {
     "data": {
      "text/plain": [
       "'Hola mundo'"
      ]
     },
     "execution_count": 240,
     "metadata": {},
     "output_type": "execute_result"
    }
   ],
   "source": [
    "a = \"Hola \"\n",
    "b = \"mundo\"\n",
    "a + b"
   ]
  },
  {
   "cell_type": "markdown",
   "id": "92e0e36a-5ee6-4fa7-af81-5579437158a6",
   "metadata": {},
   "source": [
    "Veremos más operaciones con cadenas un poco más adelante."
   ]
  },
  {
   "cell_type": "markdown",
   "id": "cf3b6728-f0ba-4fdb-aea8-df1066690916",
   "metadata": {
    "tags": []
   },
   "source": [
    "### Operadores booleanos"
   ]
  },
  {
   "cell_type": "markdown",
   "id": "eea7aa23-d5dd-4c49-9e82-d1a7e93697a5",
   "metadata": {},
   "source": [
    "Python implementa una lógica booleana muy sencilla, que se lee como si se tratase de una frase escrita, con los operadores <code>and</code>, <code>or</code> y <code>not</code>:"
   ]
  },
  {
   "cell_type": "code",
   "execution_count": 241,
   "id": "a96d7df0-bd35-4a56-84e4-a759fce67178",
   "metadata": {},
   "outputs": [],
   "source": [
    "a = True\n",
    "b = False\n",
    "c = True"
   ]
  },
  {
   "cell_type": "code",
   "execution_count": 242,
   "id": "5f1728ba-9faf-4959-8052-e2697d583d28",
   "metadata": {},
   "outputs": [
    {
     "data": {
      "text/plain": [
       "False"
      ]
     },
     "execution_count": 242,
     "metadata": {},
     "output_type": "execute_result"
    }
   ],
   "source": [
    "a and b"
   ]
  },
  {
   "cell_type": "code",
   "execution_count": 243,
   "id": "445380a9-f67f-48ee-b38a-62975637b58a",
   "metadata": {},
   "outputs": [
    {
     "data": {
      "text/plain": [
       "True"
      ]
     },
     "execution_count": 243,
     "metadata": {},
     "output_type": "execute_result"
    }
   ],
   "source": [
    "a and c"
   ]
  },
  {
   "cell_type": "code",
   "execution_count": 244,
   "id": "9e2aedae-6b0b-4627-bcee-74df4c9ef55d",
   "metadata": {},
   "outputs": [
    {
     "data": {
      "text/plain": [
       "True"
      ]
     },
     "execution_count": 244,
     "metadata": {},
     "output_type": "execute_result"
    }
   ],
   "source": [
    "a or b"
   ]
  },
  {
   "cell_type": "code",
   "execution_count": 245,
   "id": "178b8439-2978-40d7-8eca-80cef837359f",
   "metadata": {},
   "outputs": [
    {
     "data": {
      "text/plain": [
       "False"
      ]
     },
     "execution_count": 245,
     "metadata": {},
     "output_type": "execute_result"
    }
   ],
   "source": [
    "not a"
   ]
  },
  {
   "cell_type": "markdown",
   "id": "9cbc2b72-f134-4111-b839-65cb3a574040",
   "metadata": {},
   "source": [
    "Podemos evaluar como variables booleanas cualquiera de los resultados de operadores que ya vimos antes:"
   ]
  },
  {
   "cell_type": "code",
   "execution_count": 246,
   "id": "e1efc390-656e-444e-8625-e2a63e33d6c0",
   "metadata": {},
   "outputs": [
    {
     "data": {
      "text/plain": [
       "True"
      ]
     },
     "execution_count": 246,
     "metadata": {},
     "output_type": "execute_result"
    }
   ],
   "source": [
    "d = 2\n",
    "e = 0\n",
    "\n",
    "d>0 and e<=0"
   ]
  },
  {
   "cell_type": "markdown",
   "id": "48ac5d07-440b-444e-ac9d-86a7dc65585b",
   "metadata": {},
   "source": [
    "Además de estos operadores booleanos, existen los operadores bit a bit and (<code>&</code>) y or (<code>|</code>), que ejecutan operaciones a nivel de bit. Para lógica de un bit (como la booleana) funcionan igual. Esto nos servirá más adelante en la librería Pandas."
   ]
  },
  {
   "cell_type": "markdown",
   "id": "4dba7e21-a636-4c64-ba00-b0aa8acfb9f2",
   "metadata": {
    "tags": []
   },
   "source": [
    "## Estructuras de datos"
   ]
  },
  {
   "cell_type": "markdown",
   "id": "d80153f8-79fb-437f-8d22-719e016407b8",
   "metadata": {},
   "source": [
    "Cuando programamos, y especialmente cuando programamos para análisis de datos, necesitamos tener variables compuestas de muchos valores, como listas, tablas, vectores o matrices. Dichas variables compuestas son, esencialmente, lo mismo que las simples: nombres que se le da a un rango de posiciones de memoria. Pero además, tienen funcionalidades asociadas a su naturaleza compuesta. En Python tenemos cuatro tipos básicos de estructuras de datos:\n",
    "- Listas: Colección de elementos ordenados, con posibilidad de repetición.\n",
    "- Diccionarios: Colección de elementos desordenada e indexada. Los índices tienen que ser únicos.\n",
    "- Conjuntos: Colección de elementos desordenada con elementos únicos. Los elementos se pueden añadir y quitar, pero no cambiar.\n",
    "- Tuplas: Colección de elementos ordenada con elementos fijos.\n",
    "\n",
    "Todas estas estructuras pueden contener datos de cualquier tipo. Vamos a verlas una a una:"
   ]
  },
  {
   "cell_type": "markdown",
   "id": "94b0dfb9-ecaf-437d-ac50-7de2078c7412",
   "metadata": {
    "tags": []
   },
   "source": [
    "### Lista"
   ]
  },
  {
   "cell_type": "markdown",
   "id": "4fd217be-7787-497c-946b-7a7f0a892c8f",
   "metadata": {},
   "source": [
    "La creamos con los delimitadores <code>[]</code>:"
   ]
  },
  {
   "cell_type": "code",
   "execution_count": 247,
   "id": "8c89e6c3-adce-4e4b-85ea-7d741d5e06a7",
   "metadata": {},
   "outputs": [
    {
     "data": {
      "text/plain": [
       "[1, 4, 2, 7, 2]"
      ]
     },
     "execution_count": 247,
     "metadata": {},
     "output_type": "execute_result"
    }
   ],
   "source": [
    "l = [1, 4, 2, 7, 2]\n",
    "l"
   ]
  },
  {
   "cell_type": "code",
   "execution_count": 248,
   "id": "22ed0045-2ce9-44e3-a4e0-625782547092",
   "metadata": {},
   "outputs": [
    {
     "data": {
      "text/plain": [
       "['Hola', 'mundo']"
      ]
     },
     "execution_count": 248,
     "metadata": {},
     "output_type": "execute_result"
    }
   ],
   "source": [
    "m = [\"Hola\", \"mundo\"]\n",
    "m"
   ]
  },
  {
   "cell_type": "markdown",
   "id": "0555f4ad-e71d-460c-9a2c-b911b379eff2",
   "metadata": {},
   "source": [
    "Para acceder a los elementos, usaremos un indexado con números enteros que empieza en 0:"
   ]
  },
  {
   "cell_type": "code",
   "execution_count": 249,
   "id": "facc7dae-d26c-42d6-894c-a07e1f6fc3b4",
   "metadata": {},
   "outputs": [
    {
     "data": {
      "text/plain": [
       "1"
      ]
     },
     "execution_count": 249,
     "metadata": {},
     "output_type": "execute_result"
    }
   ],
   "source": [
    "l[0]"
   ]
  },
  {
   "cell_type": "code",
   "execution_count": 250,
   "id": "ba5c1e0a-b177-4ebe-8390-9e976236fa90",
   "metadata": {},
   "outputs": [
    {
     "data": {
      "text/plain": [
       "2"
      ]
     },
     "execution_count": 250,
     "metadata": {},
     "output_type": "execute_result"
    }
   ],
   "source": [
    "l[2]"
   ]
  },
  {
   "cell_type": "markdown",
   "id": "7cecd960-1f50-4145-80e5-2823d8f06a34",
   "metadata": {},
   "source": [
    "Además de acceder para leer, podemos modificar el valor de una entrada de la lista:"
   ]
  },
  {
   "cell_type": "code",
   "execution_count": 251,
   "id": "1730cb5d-8afa-418f-9be2-f6d6446550b5",
   "metadata": {},
   "outputs": [
    {
     "data": {
      "text/plain": [
       "['Adiós', 'mundo']"
      ]
     },
     "execution_count": 251,
     "metadata": {},
     "output_type": "execute_result"
    }
   ],
   "source": [
    "m[0] = \"Adiós\"\n",
    "m"
   ]
  },
  {
   "cell_type": "markdown",
   "id": "3527e4ba-a3c2-41d1-9092-1b5d4c20ef6a",
   "metadata": {},
   "source": [
    "Podemos también acceder a las posiciones de la lista con indexado inverso, donde -1 es el último elemento, -2 el penúltimo, ..."
   ]
  },
  {
   "cell_type": "code",
   "execution_count": 252,
   "id": "74901804-9756-4320-87a5-5a39056b5e67",
   "metadata": {},
   "outputs": [
    {
     "data": {
      "text/plain": [
       "2"
      ]
     },
     "execution_count": 252,
     "metadata": {},
     "output_type": "execute_result"
    }
   ],
   "source": [
    "l[-1]"
   ]
  },
  {
   "cell_type": "markdown",
   "id": "c641619c-d00f-4529-b443-938300e5c467",
   "metadata": {},
   "source": [
    "También podemos extraer un segmento de la lista usando la operación de <i>slicing</i>. Para ello, necesitamos el índice del primer elemento que queremos tomar, el primero que queremos excluir, y el salto (opcional):"
   ]
  },
  {
   "cell_type": "code",
   "execution_count": 253,
   "id": "07650fc0-8a86-4759-a601-e0edaca78f3c",
   "metadata": {},
   "outputs": [
    {
     "data": {
      "text/plain": [
       "[1, 4, 2]"
      ]
     },
     "execution_count": 253,
     "metadata": {},
     "output_type": "execute_result"
    }
   ],
   "source": [
    "l[0:3]"
   ]
  },
  {
   "cell_type": "markdown",
   "id": "02f65f2b-3a9b-4ab5-be23-481da3418c99",
   "metadata": {},
   "source": [
    "Esta expresión significa que queremos coger los elementos 0, 1 y 2 (entre 0 y 3 sin incluir el 3). La siguiente indica que queremos coger todos los elementos entre 0 y 3 de dos en dos, o sea, los elementos 0 y 2."
   ]
  },
  {
   "cell_type": "code",
   "execution_count": 254,
   "id": "516b5a79-dae5-452a-bc4a-19564c2158a3",
   "metadata": {},
   "outputs": [
    {
     "data": {
      "text/plain": [
       "[1, 2]"
      ]
     },
     "execution_count": 254,
     "metadata": {},
     "output_type": "execute_result"
    }
   ],
   "source": [
    "l[0:3:2]"
   ]
  },
  {
   "cell_type": "markdown",
   "id": "a42b7070-2294-4fc7-9294-4d2ab7953353",
   "metadata": {},
   "source": [
    "Existen algunas funciones y operadores para las estructuras de datos. Por ejemplo, para calcular la longitud de una lista, tenemos la función <code>len()</code>:"
   ]
  },
  {
   "cell_type": "code",
   "execution_count": 255,
   "id": "672ee983-3359-43de-84a0-21c9ff389050",
   "metadata": {},
   "outputs": [
    {
     "data": {
      "text/plain": [
       "5"
      ]
     },
     "execution_count": 255,
     "metadata": {},
     "output_type": "execute_result"
    }
   ],
   "source": [
    "len(l)"
   ]
  },
  {
   "cell_type": "markdown",
   "id": "2e5347df-0d53-437b-b32f-87c08d6e2f95",
   "metadata": {},
   "source": [
    "El operador <code>in</code> comprueba si un elemento está contenido en una lista:"
   ]
  },
  {
   "cell_type": "code",
   "execution_count": 256,
   "id": "ad3999ed-3ede-4f19-9eb6-6ca866a03153",
   "metadata": {},
   "outputs": [
    {
     "data": {
      "text/plain": [
       "False"
      ]
     },
     "execution_count": 256,
     "metadata": {},
     "output_type": "execute_result"
    }
   ],
   "source": [
    "3 in l"
   ]
  },
  {
   "cell_type": "markdown",
   "id": "08fdc2f7-001c-4ec7-bc72-689ec3ea67e4",
   "metadata": {},
   "source": [
    "Las listas tienen una serie de métodos, es decir funciones que son parte de la propia variable (veremos más cuando repasemos los objetos). Por ejemplo, podemos añadir y quitar elementos: "
   ]
  },
  {
   "cell_type": "code",
   "execution_count": 257,
   "id": "be454690-a553-408c-80e9-89cb54015aa0",
   "metadata": {},
   "outputs": [
    {
     "data": {
      "text/plain": [
       "[1, 4, 2, 7, 2, 9]"
      ]
     },
     "execution_count": 257,
     "metadata": {},
     "output_type": "execute_result"
    }
   ],
   "source": [
    "l.append(9)\n",
    "l"
   ]
  },
  {
   "cell_type": "code",
   "execution_count": 258,
   "id": "57a020b1-375e-43e3-818e-e250ecf8548a",
   "metadata": {},
   "outputs": [
    {
     "data": {
      "text/plain": [
       "[1, 4, 2, 2, 9]"
      ]
     },
     "execution_count": 258,
     "metadata": {},
     "output_type": "execute_result"
    }
   ],
   "source": [
    "l.remove(7)\n",
    "l"
   ]
  },
  {
   "cell_type": "markdown",
   "id": "48ba6db1-d87e-4d90-aa90-52b8cdfb7b0f",
   "metadata": {},
   "source": [
    "Podemos leer y quitar elementos del principio de la lista, implementando de este modo, junto con <code>append</code> una cola:"
   ]
  },
  {
   "cell_type": "code",
   "execution_count": 259,
   "id": "9aaa360d-9baa-4d23-bb14-453ddbacce6b",
   "metadata": {},
   "outputs": [
    {
     "data": {
      "text/plain": [
       "9"
      ]
     },
     "execution_count": 259,
     "metadata": {},
     "output_type": "execute_result"
    }
   ],
   "source": [
    "a = l.pop()\n",
    "a"
   ]
  },
  {
   "cell_type": "code",
   "execution_count": 260,
   "id": "c90bbfe1-abfc-474a-9689-951f1d5dadd1",
   "metadata": {},
   "outputs": [
    {
     "data": {
      "text/plain": [
       "[1, 4, 2, 2]"
      ]
     },
     "execution_count": 260,
     "metadata": {},
     "output_type": "execute_result"
    }
   ],
   "source": [
    "l"
   ]
  },
  {
   "cell_type": "markdown",
   "id": "a77cd262-8a57-4113-8dfb-ac150c162144",
   "metadata": {},
   "source": [
    "También podemos concatenar listas con el operador <code>+</code>:"
   ]
  },
  {
   "cell_type": "code",
   "execution_count": 261,
   "id": "90b787c9-4dcf-4f1e-813e-12310e828bba",
   "metadata": {},
   "outputs": [
    {
     "data": {
      "text/plain": [
       "[1, 4, 2, 2, 6, 7]"
      ]
     },
     "execution_count": 261,
     "metadata": {},
     "output_type": "execute_result"
    }
   ],
   "source": [
    "m = [6, 7]\n",
    "l + m"
   ]
  },
  {
   "cell_type": "markdown",
   "id": "f0b0435e-6f69-44cb-a889-a4a4f7c28381",
   "metadata": {},
   "source": [
    "Para invertir los valores de una lista, podemos usar el método <code>reverse</code>:"
   ]
  },
  {
   "cell_type": "code",
   "execution_count": 262,
   "id": "be993fea-0e4f-43c9-9726-8e615dda6642",
   "metadata": {},
   "outputs": [
    {
     "data": {
      "text/plain": [
       "[7, 6]"
      ]
     },
     "execution_count": 262,
     "metadata": {},
     "output_type": "execute_result"
    }
   ],
   "source": [
    "m.reverse()\n",
    "m"
   ]
  },
  {
   "cell_type": "markdown",
   "id": "947f32dd-34ee-4217-9a20-d5cc47ede914",
   "metadata": {
    "tags": []
   },
   "source": [
    "### Diccionarios"
   ]
  },
  {
   "cell_type": "markdown",
   "id": "88e74a00-8fe0-4a80-907c-55559f28e370",
   "metadata": {},
   "source": [
    "Los diccionarios tienen entradas indexadas con una variable de cualquier tipo (siempre que sea <a href=\"https://www.pythonforthelab.com/blog/what-are-hashable-objects/\"><i>hashable</i></a>). Su nombre, diccionario, representa muy bien cómo funciona:"
   ]
  },
  {
   "cell_type": "code",
   "execution_count": 263,
   "id": "ae8559cf-4bd8-4039-b38a-aa08231efab2",
   "metadata": {},
   "outputs": [],
   "source": [
    "d = {\"perro\":\"animal mamífero\",\n",
    "     \"coche\":\"vehículo terrestre\"}"
   ]
  },
  {
   "cell_type": "code",
   "execution_count": 264,
   "id": "6748ac92-e84f-45ab-850c-72e79da82312",
   "metadata": {},
   "outputs": [
    {
     "data": {
      "text/plain": [
       "'animal mamífero'"
      ]
     },
     "execution_count": 264,
     "metadata": {},
     "output_type": "execute_result"
    }
   ],
   "source": [
    "d[\"perro\"]"
   ]
  },
  {
   "cell_type": "markdown",
   "id": "827cd0b6-04ad-49be-b389-64d657b0ac2c",
   "metadata": {},
   "source": [
    "Podemos añadir o modificar entradas con facilidad:"
   ]
  },
  {
   "cell_type": "code",
   "execution_count": 265,
   "id": "d9861585-ea07-4463-9a7a-e0336a5a1ffb",
   "metadata": {},
   "outputs": [],
   "source": [
    "d[\"pino\"] = \"Árbol mediterráneo\""
   ]
  },
  {
   "cell_type": "markdown",
   "id": "60d216de-6019-45bf-b26d-f62a02dbb1ae",
   "metadata": {},
   "source": [
    "Para ver los índices y entradas por separado, podemos usar los siguientes médtodos:"
   ]
  },
  {
   "cell_type": "code",
   "execution_count": 266,
   "id": "7930cf5c-9faa-4489-8d46-4fa780bf5c77",
   "metadata": {},
   "outputs": [
    {
     "data": {
      "text/plain": [
       "dict_keys(['perro', 'coche', 'pino'])"
      ]
     },
     "execution_count": 266,
     "metadata": {},
     "output_type": "execute_result"
    }
   ],
   "source": [
    "d.keys()"
   ]
  },
  {
   "cell_type": "code",
   "execution_count": 267,
   "id": "5397b084-de81-49b7-bcc0-bb72121288c6",
   "metadata": {},
   "outputs": [
    {
     "data": {
      "text/plain": [
       "dict_values(['animal mamífero', 'vehículo terrestre', 'Árbol mediterráneo'])"
      ]
     },
     "execution_count": 267,
     "metadata": {},
     "output_type": "execute_result"
    }
   ],
   "source": [
    "d.values()"
   ]
  },
  {
   "cell_type": "markdown",
   "id": "6658ec9d-656c-4d42-a92b-e2d2fc3f5e04",
   "metadata": {},
   "source": [
    "Podemos usar la función <code>len()</code> como con la lista:"
   ]
  },
  {
   "cell_type": "code",
   "execution_count": 268,
   "id": "4d856d52-a27a-414a-95f3-c75ffcb313e7",
   "metadata": {},
   "outputs": [
    {
     "data": {
      "text/plain": [
       "3"
      ]
     },
     "execution_count": 268,
     "metadata": {},
     "output_type": "execute_result"
    }
   ],
   "source": [
    "len(d)"
   ]
  },
  {
   "cell_type": "markdown",
   "id": "d58ee01c-8e9e-45c2-9d9c-54629381e5d4",
   "metadata": {},
   "source": [
    "Y el operador <code>in</code> comprueba si un determinado valor está en el índice:"
   ]
  },
  {
   "cell_type": "code",
   "execution_count": 269,
   "id": "e5fa7c05-9631-4c7e-8d6a-499db81132c2",
   "metadata": {},
   "outputs": [
    {
     "data": {
      "text/plain": [
       "True"
      ]
     },
     "execution_count": 269,
     "metadata": {},
     "output_type": "execute_result"
    }
   ],
   "source": [
    "\"coche\" in d"
   ]
  },
  {
   "cell_type": "markdown",
   "id": "530ef2b3-c052-49fa-aa04-08224578c1f4",
   "metadata": {},
   "source": [
    "El método <code>pop()</code> no tiene la misma importancia que en las listas, pero hace una función similar:"
   ]
  },
  {
   "cell_type": "code",
   "execution_count": 270,
   "id": "4ca4998d-26e0-4700-a0cc-87a760079e3a",
   "metadata": {},
   "outputs": [
    {
     "data": {
      "text/plain": [
       "'vehículo terrestre'"
      ]
     },
     "execution_count": 270,
     "metadata": {},
     "output_type": "execute_result"
    }
   ],
   "source": [
    "m = d.pop(\"coche\")\n",
    "m"
   ]
  },
  {
   "cell_type": "code",
   "execution_count": 271,
   "id": "0ed7dcd5-6cbd-4d76-8b16-5a70bb9382c5",
   "metadata": {},
   "outputs": [
    {
     "data": {
      "text/plain": [
       "False"
      ]
     },
     "execution_count": 271,
     "metadata": {},
     "output_type": "execute_result"
    }
   ],
   "source": [
    "\"coche\" in d"
   ]
  },
  {
   "cell_type": "markdown",
   "id": "fe246186-daf0-47a2-bf67-f356ca629ae9",
   "metadata": {
    "tags": []
   },
   "source": [
    "### Conjuntos"
   ]
  },
  {
   "cell_type": "markdown",
   "id": "794b5369-4379-4be1-baeb-72d3758b4a68",
   "metadata": {},
   "source": [
    "Los conjuntos contienen elementos únicos, que también tienen que ser hashables. Se definen con el operador <code>{}</code>:"
   ]
  },
  {
   "cell_type": "code",
   "execution_count": 272,
   "id": "4fa3558c-ebd6-413e-a5ed-9aae442e516e",
   "metadata": {},
   "outputs": [],
   "source": [
    "s = {\"Alicia\",\"Borja\",\"Cristina\"}"
   ]
  },
  {
   "cell_type": "markdown",
   "id": "9ac79977-baf8-43cf-9e0c-9938fff78cd9",
   "metadata": {},
   "source": [
    "Aquí no hay indexado, dado que no hay orden de los elementos. Podemos comprobar si hay elementos en un conjunto con el operador <code>in</code>:"
   ]
  },
  {
   "cell_type": "code",
   "execution_count": 273,
   "id": "83a3cee9-7fd9-422a-8ce9-101ff4896277",
   "metadata": {},
   "outputs": [
    {
     "data": {
      "text/plain": [
       "False"
      ]
     },
     "execution_count": 273,
     "metadata": {},
     "output_type": "execute_result"
    }
   ],
   "source": [
    "\"David\" in s"
   ]
  },
  {
   "cell_type": "markdown",
   "id": "0bfc877e-0d03-479b-b2db-31424620d9d2",
   "metadata": {},
   "source": [
    "Podemos añadir elementos, en este caso con <code>add()</code>, y quitarlos con <code>remove()</code>:"
   ]
  },
  {
   "cell_type": "code",
   "execution_count": 274,
   "id": "2ed1d7fb-4b7f-4bba-a26a-e7b101d11d98",
   "metadata": {},
   "outputs": [
    {
     "data": {
      "text/plain": [
       "{'Alicia', 'Borja', 'Cristina', 'David'}"
      ]
     },
     "execution_count": 274,
     "metadata": {},
     "output_type": "execute_result"
    }
   ],
   "source": [
    "s.add(\"David\")\n",
    "s"
   ]
  },
  {
   "cell_type": "code",
   "execution_count": 275,
   "id": "405b22da-d5de-4ab0-9653-177fa20458d6",
   "metadata": {},
   "outputs": [
    {
     "data": {
      "text/plain": [
       "{'Borja', 'Cristina', 'David'}"
      ]
     },
     "execution_count": 275,
     "metadata": {},
     "output_type": "execute_result"
    }
   ],
   "source": [
    "s.remove(\"Alicia\")\n",
    "s"
   ]
  },
  {
   "cell_type": "markdown",
   "id": "8064e4d5-c7e3-4ffc-9b77-22bd9625dd2b",
   "metadata": {},
   "source": [
    "Si intentamos eliminar un elemento que no está en la lista, provocaremos un error. Para ello, podemos usar la función <code>discard()</code>:"
   ]
  },
  {
   "cell_type": "code",
   "execution_count": 276,
   "id": "cae5938c-419c-4bf8-a8ad-1f87867ad463",
   "metadata": {},
   "outputs": [
    {
     "data": {
      "text/plain": [
       "{'Borja', 'Cristina', 'David'}"
      ]
     },
     "execution_count": 276,
     "metadata": {},
     "output_type": "execute_result"
    }
   ],
   "source": [
    "s.discard(\"Andrés\")\n",
    "s"
   ]
  },
  {
   "cell_type": "markdown",
   "id": "2b2343f0-fabc-4488-badf-9e3e41f88395",
   "metadata": {},
   "source": [
    "Para añadir los elementos de otro conjunto, usamos la función <code>update()</code>:"
   ]
  },
  {
   "cell_type": "code",
   "execution_count": 277,
   "id": "98276b07-dfe6-40c8-a256-d1f4dd250428",
   "metadata": {},
   "outputs": [
    {
     "data": {
      "text/plain": [
       "{'Borja', 'Cristina', 'David', 'Manuel', 'Natalia'}"
      ]
     },
     "execution_count": 277,
     "metadata": {},
     "output_type": "execute_result"
    }
   ],
   "source": [
    "s.update({\"Manuel\",\"Natalia\"})\n",
    "s"
   ]
  },
  {
   "cell_type": "markdown",
   "id": "54571977-6783-42ac-8b90-957702c65693",
   "metadata": {},
   "source": [
    "Esta operación es similar a la unión, con la diferencia de que la unión genera un nuevo conjunto. En Python podemos hacer las operaciones básicas de lógica de conjuntos:\n",
    "\n",
    "<img src=\"conjuntos.png\" style=\"width:30em; margin: 0 auto;\"/>\n",
    "<br/>\n",
    "\n",
    "Veamos cómo se realizan estas operaciones:"
   ]
  },
  {
   "cell_type": "code",
   "execution_count": 278,
   "id": "a33595d9-16ff-40fb-a90b-c92c9fcc7414",
   "metadata": {},
   "outputs": [
    {
     "data": {
      "text/plain": [
       "{'Borja', 'Cristina', 'David', 'Manuel', 'Natalia'}"
      ]
     },
     "execution_count": 278,
     "metadata": {},
     "output_type": "execute_result"
    }
   ],
   "source": [
    "s"
   ]
  },
  {
   "cell_type": "code",
   "execution_count": 279,
   "id": "5b2ebe8b-d6af-4f68-8580-2ef5d966f945",
   "metadata": {},
   "outputs": [],
   "source": [
    "t = {\"Antonio\", \"Laura\"}"
   ]
  },
  {
   "cell_type": "code",
   "execution_count": 280,
   "id": "74b3ab65-cc9e-41c8-8338-085ca7d8d836",
   "metadata": {},
   "outputs": [
    {
     "data": {
      "text/plain": [
       "{'Antonio', 'Borja', 'Cristina', 'David', 'Laura', 'Manuel', 'Natalia'}"
      ]
     },
     "execution_count": 280,
     "metadata": {},
     "output_type": "execute_result"
    }
   ],
   "source": [
    "s.union(t)"
   ]
  },
  {
   "cell_type": "markdown",
   "id": "3cebfcef-fe91-4702-ac89-32a6457ff49b",
   "metadata": {},
   "source": [
    "<div style=\"background-color:lightpink; padding:1em\">\n",
    "    <b>Ejercicio 3</b><br/>\n",
    "    <p>Hacer una unión de los dos siguientes conjuntos y mostrar los resultados. Explicar por qué el resultado tiene los elementos que aparecen.</p>\n",
    "    <code style=\"background-color:lightpink\">\n",
    "conjunto1 = {\"Ana\", \"Berta\", \"Carlos\", \"Daniel\"}\n",
    "conjunto2 = {\"Alberto\", \"Berta\", \"Carlos\", \"Daniel\"}\n",
    "    </code>\n",
    "</div>"
   ]
  },
  {
   "cell_type": "code",
   "execution_count": 281,
   "id": "421d55eb-ac13-4866-af44-97604683aac2",
   "metadata": {},
   "outputs": [
    {
     "data": {
      "text/plain": [
       "{'Alberto', 'Ana', 'Berta', 'Carlos', 'Daniel'}"
      ]
     },
     "execution_count": 281,
     "metadata": {},
     "output_type": "execute_result"
    }
   ],
   "source": [
    "conjunto1 = {\"Ana\", \"Berta\", \"Carlos\", \"Daniel\"}\n",
    "conjunto2 = {\"Alberto\", \"Berta\", \"Carlos\", \"Daniel\"}\n",
    "conjunto1.union(conjunto2)"
   ]
  },
  {
   "cell_type": "code",
   "execution_count": 282,
   "id": "6bcbff9a-2469-42d3-8191-2cdd45b5ef82",
   "metadata": {},
   "outputs": [
    {
     "data": {
      "text/plain": [
       "{'Borja', 'Cristina'}"
      ]
     },
     "execution_count": 282,
     "metadata": {},
     "output_type": "execute_result"
    }
   ],
   "source": [
    "t = {\"Antonio\", \"Borja\", \"Cristina\", \"Laura\"}\n",
    "s.intersection(t)"
   ]
  },
  {
   "cell_type": "code",
   "execution_count": 283,
   "id": "3ab7a394-d46f-4a2f-912c-a40ce475ce1c",
   "metadata": {},
   "outputs": [
    {
     "data": {
      "text/plain": [
       "{'David', 'Manuel', 'Natalia'}"
      ]
     },
     "execution_count": 283,
     "metadata": {},
     "output_type": "execute_result"
    }
   ],
   "source": [
    "s.difference(t)"
   ]
  },
  {
   "cell_type": "code",
   "execution_count": 284,
   "id": "a4bdc3f4-7162-463b-b433-99e1404e27dc",
   "metadata": {},
   "outputs": [
    {
     "data": {
      "text/plain": [
       "{'Antonio', 'Laura'}"
      ]
     },
     "execution_count": 284,
     "metadata": {},
     "output_type": "execute_result"
    }
   ],
   "source": [
    "t.difference(s)"
   ]
  },
  {
   "cell_type": "markdown",
   "id": "96693663-18bb-485c-83a4-22c302b415dd",
   "metadata": {
    "tags": []
   },
   "source": [
    "### Tuplas"
   ]
  },
  {
   "cell_type": "markdown",
   "id": "493067e7-67c6-4f61-89eb-cc4d5021ad28",
   "metadata": {},
   "source": [
    "Las tuplas son similares a las listas, con la diferencia de que una vez creadas, no se pueden modificar. Se definen de la siguiente manera:"
   ]
  },
  {
   "cell_type": "code",
   "execution_count": 285,
   "id": "36399179-f8d1-445d-af46-5ee86a28acc2",
   "metadata": {},
   "outputs": [],
   "source": [
    "p = (1, 0, 0)"
   ]
  },
  {
   "cell_type": "markdown",
   "id": "e1b2aba1-69d7-42f2-9a13-089c783d6733",
   "metadata": {},
   "source": [
    "Las tuplas se suelen usar, entre otras muchas cosas, para guardar varios valores que pueden ser del mismo o distinto tipo, o representar cosas muy diferentes. Para poder acceder a cada elemento, podemos usar la fórmula de las listas:"
   ]
  },
  {
   "cell_type": "code",
   "execution_count": 286,
   "id": "0be20d40-f0b2-4490-88e0-0f4e908515fd",
   "metadata": {},
   "outputs": [
    {
     "data": {
      "text/plain": [
       "1"
      ]
     },
     "execution_count": 286,
     "metadata": {},
     "output_type": "execute_result"
    }
   ],
   "source": [
    "p[0]"
   ]
  },
  {
   "cell_type": "markdown",
   "id": "80e3f618-c88b-4daf-89cf-c3c75a31b3f1",
   "metadata": {},
   "source": [
    "o también podemos hacer una asignación múltiple (o desempaquetado) si conocemos el tamaño:"
   ]
  },
  {
   "cell_type": "code",
   "execution_count": 287,
   "id": "aa7fa670-06b3-4ab3-89e2-085cdf20704a",
   "metadata": {},
   "outputs": [
    {
     "data": {
      "text/plain": [
       "1"
      ]
     },
     "execution_count": 287,
     "metadata": {},
     "output_type": "execute_result"
    }
   ],
   "source": [
    "x, y, z = p\n",
    "x"
   ]
  },
  {
   "cell_type": "markdown",
   "id": "914bd78d-19c1-4416-87e4-a425fe2d02ae",
   "metadata": {},
   "source": [
    "Igual que con las listas, las tuplas se concatenan con <code>+</code>:"
   ]
  },
  {
   "cell_type": "code",
   "execution_count": 288,
   "id": "87f6335d-b725-4ada-bf4c-6a6526b115dc",
   "metadata": {},
   "outputs": [
    {
     "data": {
      "text/plain": [
       "(1, 0, 0, 0, 1, 0)"
      ]
     },
     "execution_count": 288,
     "metadata": {},
     "output_type": "execute_result"
    }
   ],
   "source": [
    "r = (0, 1, 0)\n",
    "p+r"
   ]
  },
  {
   "cell_type": "markdown",
   "id": "d48e441d-5c3a-4819-9b7d-fb9de7ae5b88",
   "metadata": {
    "tags": []
   },
   "source": [
    "### Conversiones"
   ]
  },
  {
   "cell_type": "markdown",
   "id": "12c3c027-d71b-43ea-ba2a-a81acb16b169",
   "metadata": {},
   "source": [
    "Al igual que en el caso de las variables simples, podemos realizar conversiones entre los distintos tipos de variables compuestas:"
   ]
  },
  {
   "cell_type": "code",
   "execution_count": 289,
   "id": "be1f5b48-2f8c-4fe4-bf00-082bdcfe124e",
   "metadata": {},
   "outputs": [
    {
     "data": {
      "text/plain": [
       "[0, 1, 0]"
      ]
     },
     "execution_count": 289,
     "metadata": {},
     "output_type": "execute_result"
    }
   ],
   "source": [
    "r = (0,1,0)\n",
    "list(r)"
   ]
  },
  {
   "cell_type": "code",
   "execution_count": 290,
   "id": "92e787f0-b78f-42bb-addb-75a1110b220e",
   "metadata": {},
   "outputs": [
    {
     "data": {
      "text/plain": [
       "list"
      ]
     },
     "execution_count": 290,
     "metadata": {},
     "output_type": "execute_result"
    }
   ],
   "source": [
    "type( list(r) )"
   ]
  },
  {
   "cell_type": "markdown",
   "id": "2867cac5-9fec-4fa2-b1f4-9c06c3e700cf",
   "metadata": {},
   "source": [
    "<div style=\"background-color:lightpink; padding:1em\">\n",
    "    <b>Ejercicio 4</b><br/>\n",
    "    <p>Convertir la siguiente lista a un conjunto. Explicar el resultado. Con dicha explicación, elaborar un método para quitar elementos repetidos de una lista.</p>\n",
    "    <code style=\"background-color:lightpink\">\n",
    "l = [1, 1, 3, 1]\n",
    "set(l)\n",
    "    </code>\n",
    "</div>"
   ]
  },
  {
   "cell_type": "code",
   "execution_count": 291,
   "id": "aaffb07a",
   "metadata": {},
   "outputs": [
    {
     "data": {
      "text/plain": [
       "{1, 3}"
      ]
     },
     "execution_count": 291,
     "metadata": {},
     "output_type": "execute_result"
    }
   ],
   "source": [
    "l = [1, 1, 3, 1]\n",
    "set(l)"
   ]
  },
  {
   "cell_type": "markdown",
   "id": "ddb27ed2-b8d4-4306-ae81-3e4ab30deca3",
   "metadata": {
    "tags": []
   },
   "source": [
    "## Manipulación de cadenas"
   ]
  },
  {
   "cell_type": "markdown",
   "id": "b106f960-ae0c-46f1-9678-e6f8fa125591",
   "metadata": {},
   "source": [
    "Manejar cadenas es una funcionalidad básica de cualquier lenguaje de programación. Las cadenas se usan para un gran número de tareas: interacción con el usuario, interacción con otros programas, almacenamiento de información en ficheros de texto, interpretación de ficheros de texto, etc. Para poder usarlas, necesitaremos ser capaces de realizar tareas como dividir las palabras, rellenar huecos, realizar búsquedas, etc. Pyton es uno de los lenguajes más fáciles para este tipo de tareas. Para empezar, las cadenas se pueden usar como listas de caracteres, por lo que todo lo que hemos visto hasta ahora para listas, también aplica a las cadenas."
   ]
  },
  {
   "cell_type": "code",
   "execution_count": 292,
   "id": "1686ff8f-36d3-4b0a-b1b9-1a9a316ef413",
   "metadata": {},
   "outputs": [
    {
     "data": {
      "text/plain": [
       "'H'"
      ]
     },
     "execution_count": 292,
     "metadata": {},
     "output_type": "execute_result"
    }
   ],
   "source": [
    "c = \"Hola mundo\"\n",
    "c[0]"
   ]
  },
  {
   "cell_type": "code",
   "execution_count": 293,
   "id": "8d512659-fe7c-4e3a-845a-cbc1035fca65",
   "metadata": {},
   "outputs": [
    {
     "data": {
      "text/plain": [
       "'Hola'"
      ]
     },
     "execution_count": 293,
     "metadata": {},
     "output_type": "execute_result"
    }
   ],
   "source": [
    "c[0:4]"
   ]
  },
  {
   "cell_type": "code",
   "execution_count": 294,
   "id": "10a26500-a5c5-4549-8da0-a6303e128ac7",
   "metadata": {},
   "outputs": [
    {
     "data": {
      "text/plain": [
       "10"
      ]
     },
     "execution_count": 294,
     "metadata": {},
     "output_type": "execute_result"
    }
   ],
   "source": [
    "len(c)"
   ]
  },
  {
   "cell_type": "markdown",
   "id": "f09374b9-a136-4d1d-931f-ee6b88d2a99b",
   "metadata": {},
   "source": [
    "Para buscar una palabra en una cadena, podemos usar <code>in</code>:"
   ]
  },
  {
   "cell_type": "code",
   "execution_count": 295,
   "id": "4e67c7e1-eade-4582-9d7d-3e85cbeb97d7",
   "metadata": {},
   "outputs": [
    {
     "data": {
      "text/plain": [
       "True"
      ]
     },
     "execution_count": 295,
     "metadata": {},
     "output_type": "execute_result"
    }
   ],
   "source": [
    "\"mundo\" in c"
   ]
  },
  {
   "cell_type": "markdown",
   "id": "f1683244-8326-4143-bd4a-a394c7b5c4c9",
   "metadata": {},
   "source": [
    "Si además queremos conocer el índice en el que empieza, usaremos <code>find</code>:"
   ]
  },
  {
   "cell_type": "code",
   "execution_count": 296,
   "id": "2f35628d-246a-4cbf-bda1-c12c30d66d3d",
   "metadata": {},
   "outputs": [
    {
     "data": {
      "text/plain": [
       "5"
      ]
     },
     "execution_count": 296,
     "metadata": {},
     "output_type": "execute_result"
    }
   ],
   "source": [
    "c.find(\"mundo\")"
   ]
  },
  {
   "cell_type": "markdown",
   "id": "cb731768-f0ae-4f69-a6a4-ee95bb25439f",
   "metadata": {},
   "source": [
    "También podemos reemplazar una subcadena por otra:"
   ]
  },
  {
   "cell_type": "code",
   "execution_count": 297,
   "id": "4b2a74d7-9174-45b3-8e34-7c4b1510c24b",
   "metadata": {},
   "outputs": [
    {
     "data": {
      "text/plain": [
       "'Adiós mundo'"
      ]
     },
     "execution_count": 297,
     "metadata": {},
     "output_type": "execute_result"
    }
   ],
   "source": [
    "c.replace(\"Hola\",\"Adiós\")"
   ]
  },
  {
   "cell_type": "markdown",
   "id": "cd250e1a-29cf-4b9d-ad56-791e5de7a67d",
   "metadata": {},
   "source": [
    "Esta operación no cambia la cadena, sino que crea una nueva. <code>c</code> sigue valiendo lo mismo que al principio:"
   ]
  },
  {
   "cell_type": "code",
   "execution_count": 298,
   "id": "17bc3244-e6f0-4569-9f89-b91c00356d05",
   "metadata": {},
   "outputs": [
    {
     "data": {
      "text/plain": [
       "'Hola mundo'"
      ]
     },
     "execution_count": 298,
     "metadata": {},
     "output_type": "execute_result"
    }
   ],
   "source": [
    "c"
   ]
  },
  {
   "cell_type": "markdown",
   "id": "42f6d73b-b311-4070-935f-868dcc8fab7a",
   "metadata": {},
   "source": [
    "Una operación muy común con cadenas es la división por un carácter. Por ejemplo, si dividimos por el espacio (carácter que se usa por defecto), tendremos una lista de palabras de una frase:"
   ]
  },
  {
   "cell_type": "code",
   "execution_count": 299,
   "id": "8a9a47e3-5af8-4613-b791-43035b361596",
   "metadata": {},
   "outputs": [
    {
     "data": {
      "text/plain": [
       "['Hola', 'mundo']"
      ]
     },
     "execution_count": 299,
     "metadata": {},
     "output_type": "execute_result"
    }
   ],
   "source": [
    "c.split()"
   ]
  },
  {
   "cell_type": "markdown",
   "id": "76e91d1d-9ec7-42cd-9804-c9b7ae45a3b9",
   "metadata": {},
   "source": [
    "Otro ejemplo:"
   ]
  },
  {
   "cell_type": "code",
   "execution_count": 300,
   "id": "042c18e1-096d-426f-a9bc-60c70351673c",
   "metadata": {},
   "outputs": [
    {
     "data": {
      "text/plain": [
       "['gato', 'perro', 'pájaro']"
      ]
     },
     "execution_count": 300,
     "metadata": {},
     "output_type": "execute_result"
    }
   ],
   "source": [
    "c = \"gato,perro,pájaro\"\n",
    "c.split(\",\")"
   ]
  },
  {
   "cell_type": "markdown",
   "id": "c405a498-b867-47dd-ae4d-fc7527fd768d",
   "metadata": {},
   "source": [
    "Podemos unir cadenas para formar cadenas más largas:"
   ]
  },
  {
   "cell_type": "code",
   "execution_count": 301,
   "id": "5198435b-e9c0-45fd-b955-e36b1fd00ca7",
   "metadata": {},
   "outputs": [
    {
     "data": {
      "text/plain": [
       "'Holamundo'"
      ]
     },
     "execution_count": 301,
     "metadata": {},
     "output_type": "execute_result"
    }
   ],
   "source": [
    "\"Hola\" + \"mundo\""
   ]
  },
  {
   "cell_type": "markdown",
   "id": "58c49610-1d8c-40f4-b90d-153ece54a4a4",
   "metadata": {},
   "source": [
    "Hay que tener cuidado con esto, ya que si no añadimos explícitamente los espacios, estos no se añaden. La operación inversa del <code>split()</code> es el <code>join</code>, que aquí sirve para indicar que con un carácter determinado, queremos unir todas las palabras de una lista. Por ejemplo, con un espacio en blanco:"
   ]
  },
  {
   "cell_type": "code",
   "execution_count": 302,
   "id": "7f636b01-d762-4e6c-9cf5-2f8d14e19ff3",
   "metadata": {},
   "outputs": [
    {
     "data": {
      "text/plain": [
       "'Hola mundo'"
      ]
     },
     "execution_count": 302,
     "metadata": {},
     "output_type": "execute_result"
    }
   ],
   "source": [
    "\" \".join( [\"Hola\", \"mundo\"] )"
   ]
  },
  {
   "cell_type": "markdown",
   "id": "e6b1bd0c-7000-41f8-8b0c-aef3a0c96781",
   "metadata": {},
   "source": [
    "Si intentamos concatenar un número con una cadena, obtendremos un fallo, porque Python no sabe cómo operar con estos dos tipos de dato distinto:"
   ]
  },
  {
   "cell_type": "code",
   "execution_count": 303,
   "id": "f573b434-c5d0-4e57-9cda-6309339af82d",
   "metadata": {},
   "outputs": [
    {
     "ename": "TypeError",
     "evalue": "can only concatenate str (not \"int\") to str",
     "output_type": "error",
     "traceback": [
      "\u001b[1;31m---------------------------------------------------------------------------\u001b[0m",
      "\u001b[1;31mTypeError\u001b[0m                                 Traceback (most recent call last)",
      "\u001b[1;32m~\\AppData\\Local\\Temp/ipykernel_10636/124861420.py\u001b[0m in \u001b[0;36m<module>\u001b[1;34m\u001b[0m\n\u001b[0;32m      1\u001b[0m \u001b[0mT\u001b[0m \u001b[1;33m=\u001b[0m \u001b[1;36m27\u001b[0m\u001b[1;33m\u001b[0m\u001b[1;33m\u001b[0m\u001b[0m\n\u001b[1;32m----> 2\u001b[1;33m \u001b[1;34m\"La temperatura es de \"\u001b[0m \u001b[1;33m+\u001b[0m \u001b[0mT\u001b[0m \u001b[1;33m+\u001b[0m \u001b[1;34m\" grados\"\u001b[0m\u001b[1;33m\u001b[0m\u001b[1;33m\u001b[0m\u001b[0m\n\u001b[0m",
      "\u001b[1;31mTypeError\u001b[0m: can only concatenate str (not \"int\") to str"
     ]
    }
   ],
   "source": [
    "T = 27\n",
    "\"La temperatura es de \" + T + \" grados\""
   ]
  },
  {
   "cell_type": "markdown",
   "id": "ca45c0b4-7ff3-4fe4-a0a3-074913bda62d",
   "metadata": {},
   "source": [
    "Tendremos que convertir <code>T</code> a una cadena antes:"
   ]
  },
  {
   "cell_type": "code",
   "execution_count": 304,
   "id": "28b85676-9b1d-461a-9dfa-a72fa99678d1",
   "metadata": {},
   "outputs": [
    {
     "data": {
      "text/plain": [
       "'La temperatura es de 27 grados'"
      ]
     },
     "execution_count": 304,
     "metadata": {},
     "output_type": "execute_result"
    }
   ],
   "source": [
    "\"La temperatura es de \" + str(T) + \" grados\""
   ]
  },
  {
   "cell_type": "markdown",
   "id": "abd6fc5f-ba4e-4a43-86bd-5f3ac5f1c873",
   "metadata": {},
   "source": [
    "Aunque en ocasiones es más conveniente usar la función <code>format()</code>, que rellena huecos con datos que le pasamos como parámetro:"
   ]
  },
  {
   "cell_type": "code",
   "execution_count": 305,
   "id": "9a211c71-f56c-41fa-82ca-c0e32815c540",
   "metadata": {},
   "outputs": [
    {
     "data": {
      "text/plain": [
       "'La temperatura es de 27 grados'"
      ]
     },
     "execution_count": 305,
     "metadata": {},
     "output_type": "execute_result"
    }
   ],
   "source": [
    "c = \"La temperatura es de {} grados\"\n",
    "c.format(T)"
   ]
  },
  {
   "cell_type": "markdown",
   "id": "7ff2ab12-2fe0-47bd-b30c-ff6466ae973e",
   "metadata": {},
   "source": [
    "Cuando tenemos varios huecos, puede rellenarlos en orden:"
   ]
  },
  {
   "cell_type": "code",
   "execution_count": 306,
   "id": "71677488-38b7-4802-a239-c888ad3e600d",
   "metadata": {},
   "outputs": [
    {
     "data": {
      "text/plain": [
       "'La temperatura el día 12 del mes 10 es de 27 grados'"
      ]
     },
     "execution_count": 306,
     "metadata": {},
     "output_type": "execute_result"
    }
   ],
   "source": [
    "d = 12\n",
    "m = 10\n",
    "c = \"La temperatura el día {} del mes {} es de {} grados\"\n",
    "c.format(d,m,T)"
   ]
  },
  {
   "cell_type": "markdown",
   "id": "4e1417ae-bc55-42af-b0c6-74ba06624cca",
   "metadata": {},
   "source": [
    "o incluso podemos ponerle nombres a los huecos:"
   ]
  },
  {
   "cell_type": "code",
   "execution_count": 307,
   "id": "70482c54-448f-430f-8245-e7d9a7aa3d2a",
   "metadata": {},
   "outputs": [
    {
     "data": {
      "text/plain": [
       "'La temperatura el día 12 del mes 10 es de 27 grados'"
      ]
     },
     "execution_count": 307,
     "metadata": {},
     "output_type": "execute_result"
    }
   ],
   "source": [
    "c = \"La temperatura el día {dia} del mes {mes} es de {temperatura} grados\"\n",
    "c.format(temperatura=T, dia=d, mes=m)"
   ]
  },
  {
   "cell_type": "markdown",
   "id": "bb5efc12-4521-4b71-bc55-489df1516687",
   "metadata": {},
   "source": [
    "Hay algunos caracteres especiales, como la línea nueva (<code>\\n</code>) o las propias comillas <code>\\\"</code>. Éstos caracteres van precedidos de <code>\\</code> que indica Python que tiene que darles un significado distinto al que tendrían por su contexto. Se dice que están <i>escapados</i>:"
   ]
  },
  {
   "cell_type": "code",
   "execution_count": 308,
   "id": "00d9e7ea-bb81-4c1f-9478-651bfcb55595",
   "metadata": {},
   "outputs": [
    {
     "name": "stdout",
     "output_type": "stream",
     "text": [
      "El vecino dijo \"hola\"\n"
     ]
    }
   ],
   "source": [
    "print(\"El vecino dijo \\\"hola\\\"\")"
   ]
  },
  {
   "cell_type": "markdown",
   "id": "e7d0cf4c-1bd3-46cd-9a70-add7d47295c2",
   "metadata": {},
   "source": [
    "<div style=\"background-color:lightpink; padding:1em\">\n",
    "    <b>Ejercicio 5</b><br/>\n",
    "    <p>Imprimir una cadena anunciando las soluciones de la ecuación de segundo grado, de forma que resulte en la siguiente cadena:</p>\n",
    "    <code style=\"background-color:lightpink\">\n",
    "Las soluciones para la ecuación con a=10, b=5 y c=-5 son (0.5+0j) y (-1+0j)\n",
    "    </code>\n",
    "</div>"
   ]
  },
  {
   "cell_type": "code",
   "execution_count": 309,
   "id": "e666fc26",
   "metadata": {},
   "outputs": [
    {
     "data": {
      "text/plain": [
       "'Las soluciones para la ecuación con 10, 5 y -5 son (0.5+0j) y (-1+0j)'"
      ]
     },
     "execution_count": 309,
     "metadata": {},
     "output_type": "execute_result"
    }
   ],
   "source": [
    "a=10\n",
    "b=5\n",
    "c=-5\n",
    "x1=(-b+cmath.sqrt(b**2-4*a*c))/(2*a)\n",
    "x2=(-b-cmath.sqrt(b**2-4*a*c))/(2*a)\n",
    "p='Las soluciones para la ecuación con {}, {} y {} son {} y {}'\n",
    "p.format(a,b,c,x1,x2)"
   ]
  },
  {
   "cell_type": "markdown",
   "id": "e7b21a87-d020-4e63-8515-fb78468edcb7",
   "metadata": {
    "tags": []
   },
   "source": [
    "## Control de flujo"
   ]
  },
  {
   "cell_type": "markdown",
   "id": "89ba8869-95e5-4b3d-bd7c-7946c8f9b2a4",
   "metadata": {},
   "source": [
    "Las variables que representan tipos de dato básicos y estructuras de datos, permiten almacenar datos, y los operadores permiten manipularlos. No obstante, un programa debe ser capaz de ejecutar tareas mucho más complejas que la simple asignación y manipulación de valores. Un programa, además de los datos, contiene un estado que va variando a lo largo del tiempo, interactúa con el usuario y otros programas a través de variables que van cambiando de modo dinámico, reacciona a situaciones, etc. En otras palabras, un programa realiza una tarea que evoluciona con el tiempo, no es estático; tiene un flujo, que comienza en un estado inicial y termina cuando el programa ha terminado su tarea (o se ha encontrado con un error). Este flujo contiene una serie de instrucciones que nosotros, como programadores, hemos descrito en el código. El orden en que se ejecutan dichas acciones se ajusta mediante los elementos de control de flujo, que en Python se clasifican en tres grupos:\n",
    "- Condicionales: una parte del código se ejecuta según una condición dada por una expresión booleana.\n",
    "- Bucles: se repite una acción un número determinado de veces, una vez por cada elemento de un iterable o mientras se cumpla una condición.\n",
    "- <i>Comprehensions</i>: un tipo especial de control de flujo que construye una estructura de datos en base a repetir una acción\n"
   ]
  },
  {
   "cell_type": "markdown",
   "id": "8d876d2f-7818-4141-9f41-ef694b7d5082",
   "metadata": {
    "tags": []
   },
   "source": [
    "### Condicional"
   ]
  },
  {
   "cell_type": "markdown",
   "id": "d743108d-f619-4674-8036-904cf543d24d",
   "metadata": {},
   "source": [
    "El condicional es un elemento de control de flujo que ejecuta un bloque de código si se cumple una condición. Opcionalmente, puede ofrecer otro bloque de código en caso de que no se cumpla:\n",
    "\n",
    "<img src=\"if.png\" style=\"width:30em; margin: 0 auto;\"/>\n",
    "<br/>\n",
    "\n",
    "En Python, como en muchos lenguajes de programación, el condicional se representa con la palabra clave <code>if</code>. Concretamente, la sintaxis tiene las siguientes reglas:\n",
    "- La condición va justo detrás de <code>if</code> y seguida de <code>:</code>. No hace falta usar paréntesis.\n",
    "- El bloque que se ejecuta si la condición se cumple tiene que ir identado. Todo lo que no vaya identado, se considerará fuera del bloque y se ejecutará incondicionalmente. La identación correcta es obligatoria en Python, ya que no hay elementos de delimitación como en C o en Java.\n",
    "\n",
    "Veamos cómo se traslada esto a la práctica:"
   ]
  },
  {
   "cell_type": "code",
   "execution_count": 310,
   "id": "03e3e729-f68b-4d52-9cfd-b48392f2faf2",
   "metadata": {},
   "outputs": [
    {
     "name": "stdout",
     "output_type": "stream",
     "text": [
      "El número es mayor que 10\n",
      "Esta línea se ejecuta siempre\n"
     ]
    }
   ],
   "source": [
    "a = 15\n",
    "\n",
    "if a > 10 :\n",
    "    print(\"El número es mayor que 10\")\n",
    "\n",
    "print(\"Esta línea se ejecuta siempre\")"
   ]
  },
  {
   "cell_type": "markdown",
   "id": "eb2c4398-feca-45ea-a3cf-003399f3ec7f",
   "metadata": {},
   "source": [
    "Podemos poner la rama alternativa, que se ejecuta en caso de que no se cumpla la condición:"
   ]
  },
  {
   "cell_type": "code",
   "execution_count": 311,
   "id": "72c9c8c0-8d68-424c-9b75-d134c7d72d4a",
   "metadata": {},
   "outputs": [
    {
     "name": "stdout",
     "output_type": "stream",
     "text": [
      "El número es menor que 10\n"
     ]
    }
   ],
   "source": [
    "a = 5\n",
    "\n",
    "if a > 10 :\n",
    "    print(\"El número es mayor que 10\")\n",
    "else:\n",
    "    print(\"El número es menor que 10\")"
   ]
  },
  {
   "cell_type": "markdown",
   "id": "059d65db-8a7f-4bb7-92f1-f7891ce1c9f9",
   "metadata": {},
   "source": [
    "Podemos también poner varias ramas alternativas, es decir, si no se cumple la condición, se evalúa otra, y si no otra ... y si no se cumple ninguna, se ejecuta un código alternativo:"
   ]
  },
  {
   "cell_type": "code",
   "execution_count": 312,
   "id": "96504e8a-096f-443e-8957-8e1ed5e226cd",
   "metadata": {},
   "outputs": [
    {
     "name": "stdout",
     "output_type": "stream",
     "text": [
      "El número es menor que 1\n"
     ]
    }
   ],
   "source": [
    "a = 0.5\n",
    "\n",
    "if a<0:\n",
    "    print(\"El número es negativo\")\n",
    "elif a < 1:\n",
    "    print(\"El número es menor que 1\")\n",
    "else:\n",
    "    print(\"El número es mayor que 1\")"
   ]
  },
  {
   "cell_type": "markdown",
   "id": "9e1fb331-ac09-45cc-95b8-20601e42985e",
   "metadata": {},
   "source": [
    "<div style=\"background-color:lightpink; padding:1em\">\n",
    "    <b>Ejercicio 6</b><br/>\n",
    "    <p>Desarrollo de un cuantificador: <br/>en un móvil LTE, el receptor mide la potencia en dBm. Una potencia menor que -100 dBm se considera muy baja (una raya); entre -100 y -90, baja (2 rayas), entre -90 y -75, media (3 rayas) y mayor de -75, alta (4 rayas). Si la potencia viene dada en la variable <code>potencia</code>, escriba una estructura con <code>if</code>, <code>elif</code> y <code>else</code> que asigne una cadena a la variable <code>recepcion</code> indicando la potencia en formato textual.</p>\n",
    "    <p>Ejemplo:</p>\n",
    "    <code style=\"background-color:lightpink\">\n",
    "    potencia = -93<br/>\n",
    "    if .....\n",
    "        recepcion = ....\n",
    "    elif ....\n",
    "        recpcion = ...\n",
    "    else:\n",
    "        recepcion = ...<br/>\n",
    "    print(recepcion)\n",
    "    </code><br/>\n",
    "    Resultado: <code>Baja</code>\n",
    "</div>"
   ]
  },
  {
   "cell_type": "code",
   "execution_count": 313,
   "id": "737924b0-f07e-440b-beb0-0a7fdcc4cd39",
   "metadata": {},
   "outputs": [
    {
     "name": "stdout",
     "output_type": "stream",
     "text": [
      "Baja\n"
     ]
    }
   ],
   "source": [
    "potencia = -93\n",
    "\n",
    "if potencia < -100:\n",
    "    recepcion = \"Muy baja\"\n",
    "elif potencia < -90:\n",
    "    recepcion = \"Baja\"\n",
    "elif potencia < -75:\n",
    "    recepcion = \"Media\"\n",
    "else:\n",
    "    recepcion = \"Alta\"\n",
    "    \n",
    "print(recepcion)"
   ]
  },
  {
   "cell_type": "markdown",
   "id": "4a1f2587-1cef-4c59-a1ed-24ee620ae611",
   "metadata": {},
   "source": [
    "Podemos usar el condicional de otra forma, más propia de los lenguajes de programación funcional, que nos ayuda a tener un código más limpio y que se lee como el lenguaje hablado:"
   ]
  },
  {
   "cell_type": "code",
   "execution_count": 314,
   "id": "9f9928db-09b5-40a1-8235-7b936bda63e2",
   "metadata": {},
   "outputs": [
    {
     "data": {
      "text/plain": [
       "True"
      ]
     },
     "execution_count": 314,
     "metadata": {},
     "output_type": "execute_result"
    }
   ],
   "source": [
    "probabilidad_de_victoria = 0.7\n",
    "\n",
    "jugar = True if probabilidad_de_victoria > 0.6 else False\n",
    "\n",
    "jugar"
   ]
  },
  {
   "cell_type": "markdown",
   "id": "ad57206c-68c5-4b22-bca6-8eb65c6e965b",
   "metadata": {},
   "source": [
    "En este caso, seguimos el siguiente o: <code>variable = valor if condición else valor_alternativo</code>. Esta forma sólo se puede usar en asignaciones simples, no sirve para ejecutar bloques de instrucciones complejas."
   ]
  },
  {
   "cell_type": "markdown",
   "id": "da896f1b-146f-4988-ac7d-593f990f52b5",
   "metadata": {
    "tags": []
   },
   "source": [
    "### Bucles"
   ]
  },
  {
   "cell_type": "markdown",
   "id": "f742e752-fc26-4dfa-9095-e3b9ee21cf17",
   "metadata": {},
   "source": [
    "Los bucles sirven para repetir acciones un número determinado o indeterminado de veces. Existen dos tipos de bucles:\n",
    "- Bucle <code>while</code>: repetir una acción mientras se cumpla una condición.\n",
    "- Bucle <code>for</code>: repetir una acción un número determinado de veces.\n",
    "\n",
    "Veremos primero el bucle <code>while</code>, que sigue el siguiente esquema:\n",
    "\n",
    "<img src=\"while.png\" style=\"width:20em; margin: 0 auto;\"/>\n",
    "<br/>\n",
    "\n",
    "Se suele usar cuando no sabemos cuándo se cumplirá exactamente una condición. Un ejemplo en código:"
   ]
  },
  {
   "cell_type": "code",
   "execution_count": 315,
   "id": "e0ceac29-f2df-4f62-9ccc-d1c6f32502b2",
   "metadata": {},
   "outputs": [
    {
     "name": "stdout",
     "output_type": "stream",
     "text": [
      "Hola 1\n",
      "Hola 2\n",
      "Hola 3\n",
      "Hola 4\n",
      "Hola 5\n"
     ]
    }
   ],
   "source": [
    "i = 0\n",
    "\n",
    "while i < 5:\n",
    "    i += 1\n",
    "    print(\"Hola \" + str(i))"
   ]
  },
  {
   "cell_type": "markdown",
   "id": "f8e7243c-54ff-44d3-b14b-f1d9c5379955",
   "metadata": {},
   "source": [
    "Todo lo que se repite dentro del <code>while</code> está identado. Es muy importante no olvidarnos de actualizar la variable que se evalúa en la condición. De lo contrario, podríamos caer en un bucle infinito. Si queremos comprobar una condición de ruptura dentro de la iteración, podemos usar la palabra <code>break</code>. Un ejemplo de esto sería hacer <i>polling</i> en la condición, y a la vez tener un tiempo de espera limitado. Veamos cómo se usa <code>break</code> haciendo que el bucle anterior se cancele si <code>i</code> vale 2:"
   ]
  },
  {
   "cell_type": "code",
   "execution_count": 316,
   "id": "ae63030a-f883-4ee5-aa5c-8ca52241c669",
   "metadata": {},
   "outputs": [
    {
     "name": "stdout",
     "output_type": "stream",
     "text": [
      "Hola 1\n",
      "Se ha dado la condición de ruptura\n"
     ]
    }
   ],
   "source": [
    "i = 0\n",
    "\n",
    "while i < 5:\n",
    "    i += 1\n",
    "    if i==2:\n",
    "        print(\"Se ha dado la condición de ruptura\")\n",
    "        break\n",
    "    print(\"Hola \" + str(i))"
   ]
  },
  {
   "cell_type": "markdown",
   "id": "0426a3f0-8df3-4177-b231-5823be3364ea",
   "metadata": {},
   "source": [
    "También podemos querer omitir una iteración si se cumple una condición de salto. Por ejemplo, si queremos mostrar por pantalla todos los números menos el 2:"
   ]
  },
  {
   "cell_type": "code",
   "execution_count": 317,
   "id": "da8705bb-ac06-4e9c-9428-5d55c3cf9a8e",
   "metadata": {},
   "outputs": [
    {
     "name": "stdout",
     "output_type": "stream",
     "text": [
      "Hola 1\n",
      "Nos saltamos el 2\n",
      "Hola 3\n",
      "Hola 4\n",
      "Hola 5\n"
     ]
    }
   ],
   "source": [
    "i = 0\n",
    "\n",
    "while i < 5:\n",
    "    i += 1\n",
    "    if i==2:\n",
    "        print(\"Nos saltamos el 2\")\n",
    "        continue\n",
    "    print(\"Hola \" + str(i))"
   ]
  },
  {
   "cell_type": "markdown",
   "id": "bfb84c4b-9fc6-4e52-b55e-5da37219da00",
   "metadata": {},
   "source": [
    "<code>continue</code> se salta todo el código que viene después de él. Si la cuenta de <code>i</code> la incrementamos después, tendremos que hacer un incremento dentro del <code>if</code> antes de llamar a <code>continue</code>:"
   ]
  },
  {
   "cell_type": "code",
   "execution_count": 318,
   "id": "5f5933b6-1bf2-426d-9759-07f7dd1bd977",
   "metadata": {},
   "outputs": [
    {
     "name": "stdout",
     "output_type": "stream",
     "text": [
      "Hola 0\n",
      "Hola 1\n",
      "Nos saltamos el 2\n",
      "Hola 3\n",
      "Hola 4\n"
     ]
    }
   ],
   "source": [
    "i = 0\n",
    "\n",
    "while i < 5:\n",
    "    if i==2:\n",
    "        print(\"Nos saltamos el 2\")\n",
    "        i += 1\n",
    "        continue\n",
    "    print(\"Hola \" + str(i))\n",
    "    i += 1"
   ]
  },
  {
   "cell_type": "markdown",
   "id": "c5cce270-cd0e-4d9c-ac78-476df02c0e66",
   "metadata": {},
   "source": [
    "El otro tipo de control de flujo, que veremos mucho más a menudo, especialmente en análisis de datos, es el bucle <code>for</code>. Éste ejecuta una iteración por cada elemento de una colección conocida. Se puede leer como <i>\"para cada elemento de la colección, ejecutar el siguiente bloque\"</i>:"
   ]
  },
  {
   "cell_type": "code",
   "execution_count": 319,
   "id": "0f777773-499a-40c7-af3e-2f60de5edc5b",
   "metadata": {},
   "outputs": [
    {
     "name": "stdout",
     "output_type": "stream",
     "text": [
      "El objeto elegido es: coche\n",
      "El objeto elegido es: pelota\n",
      "El objeto elegido es: bolígrafo\n"
     ]
    }
   ],
   "source": [
    "objetos = [\"coche\", \"pelota\", \"bolígrafo\"]\n",
    "\n",
    "for objeto in objetos:\n",
    "    print(\"El objeto elegido es: \" + objeto )"
   ]
  },
  {
   "cell_type": "markdown",
   "id": "b1c19acb-59b0-4bc5-bdc2-3868191a41d1",
   "metadata": {},
   "source": [
    "En otros lenguajes de programación, como C, es común que el bucle <code>for</code> se ejecute con una variable contador, en lugar de con los elementos de una colección. En otras palabras, ese tipo de bucle <code>for</code> se leería como <i>\"para cada valor de un contador entre 0 y N, ejecutar el siguiente bloque\"</i>. Muchas personas están más acostumbradas a este tipo de comportamiento. Este comportamiento se puede imitar en Python gracias a la función <code>range()</code>, que genera una lista de números consecutivos:"
   ]
  },
  {
   "cell_type": "code",
   "execution_count": 320,
   "id": "8d6f066c-50df-4fd5-ab06-12c3e9e6103c",
   "metadata": {},
   "outputs": [
    {
     "name": "stdout",
     "output_type": "stream",
     "text": [
      "El valor del contador es 0\n",
      "El valor del contador es 1\n",
      "El valor del contador es 2\n",
      "El valor del contador es 3\n",
      "El valor del contador es 4\n"
     ]
    }
   ],
   "source": [
    "for i in range(5):\n",
    "    print( \"El valor del contador es \" + str(i))"
   ]
  },
  {
   "cell_type": "markdown",
   "id": "01a95064-13e6-4b53-a66d-975c92451b0f",
   "metadata": {},
   "source": [
    "Los bucles se pueden anidar, es decir, podemos tener un bucle dentro de otro bucle, cuya colección depende de la variable seleccionada en la primera. En el siguiente ejemplo, el bucle interno concatena un asterisco a una cadena <code>i</code> veces, siendo <code>i</code> el valor seleccionado por el bucle externo."
   ]
  },
  {
   "cell_type": "code",
   "execution_count": 321,
   "id": "3210b48e-fa0f-4131-ad7c-005064d124ba",
   "metadata": {},
   "outputs": [
    {
     "name": "stdout",
     "output_type": "stream",
     "text": [
      "*\n",
      "**\n",
      "***\n",
      "****\n",
      "*****\n"
     ]
    }
   ],
   "source": [
    "for i in range(5):\n",
    "    linea = \"*\"\n",
    "    for j in range(i):\n",
    "        linea += \"*\"\n",
    "    \n",
    "    print(linea)"
   ]
  },
  {
   "cell_type": "markdown",
   "id": "ae34bae1-cdef-43b2-abe3-7b8a5acfe0ce",
   "metadata": {},
   "source": [
    "Siempre hay que respetar la identación. En este caso, todo lo que se ejecuta en el bucle anidado está identado dos veces."
   ]
  },
  {
   "cell_type": "markdown",
   "id": "a4847104-4f61-4e21-80f4-c0db4d2d1366",
   "metadata": {},
   "source": [
    "<div style=\"background-color:lightpink; padding:1em\">\n",
    "    <b>Ejercicio 7</b><br/>\n",
    "    <p>Búsqueda de números primos:<br/> desarrollar un código que recorra todos los números hasta N e imprima por pantalla aquellos que son primos.</p>\n",
    "    <p>Notas:</p>\n",
    "    <ul>\n",
    "        <li>Para saber si un número es divisible por otro, usar el operador <code>%</code>.</li>\n",
    "        <li>Hace falta usar break en el bucle interno.</li>\n",
    "        <li>Usar una variable booleana para indicar que se ha encontrado un divisor</li>\n",
    "        <li>Planifique antes de escribir el código</li>\n",
    "    </ul>\n",
    "    </p>\n",
    "</div>"
   ]
  },
  {
   "cell_type": "code",
   "execution_count": 322,
   "id": "ef261aa3",
   "metadata": {},
   "outputs": [
    {
     "name": "stdout",
     "output_type": "stream",
     "text": [
      "1\n",
      "2\n",
      "3\n",
      "5\n",
      "7\n",
      "11\n",
      "13\n",
      "17\n",
      "19\n"
     ]
    }
   ],
   "source": [
    "N = 20\n",
    "for i in range(1,N):\n",
    "    divisible = True          # Empezamos asumiendo que el número no es primo\n",
    "    for j in range(2,i):       # Comprobar si es divisible por todos los números entre 2 y su anterior\n",
    "        if i%j == 0:\n",
    "            divisible = False\n",
    "            break              # Si es divisible por ese número, ya sabemos que no es primo y dejamos de buscar\n",
    "    if divisible:\n",
    "        print(i)"
   ]
  },
  {
   "cell_type": "markdown",
   "id": "40621af8-8ac2-4ffe-ab63-1941005e2372",
   "metadata": {
    "tags": []
   },
   "source": [
    "### Comprehensions"
   ]
  },
  {
   "cell_type": "markdown",
   "id": "f94dd2c1-561f-40a9-be25-fee9a0042712",
   "metadata": {},
   "source": [
    "Las comprehensions o construcciones sintácticas, son una forma eficiente de definir una colección a partir de otra; por ejemplo, una lista construida a partir de un filtrado de los elementos de otra lista. En realidad, son equivalentes a aplicar un bucle <code>for</code>, dentro del cual se genera un valor que pasa a concatenarse a una lista. Al ser expresiones de una sola línea, pueden leerse de forma más sencilla (siempre y cuando la acción no sea compleja). Además, las comprehensions se ejecutan de forma optimizada por el intérprete."
   ]
  },
  {
   "cell_type": "markdown",
   "id": "dd072086-1542-4201-b9dd-3c71f7a15484",
   "metadata": {},
   "source": [
    "Supongamos que tenemos el siguiente bucle <code>for</code>:"
   ]
  },
  {
   "cell_type": "code",
   "execution_count": 323,
   "id": "912597c5-19b7-4b33-ae72-999815df9571",
   "metadata": {},
   "outputs": [
    {
     "data": {
      "text/plain": [
       "[0, 1, 4]"
      ]
     },
     "execution_count": 323,
     "metadata": {},
     "output_type": "execute_result"
    }
   ],
   "source": [
    "cuadrados = []\n",
    "\n",
    "for x in range(3):\n",
    "    cuadrados.append( x**2 )\n",
    "\n",
    "cuadrados"
   ]
  },
  {
   "cell_type": "markdown",
   "id": "c7f6ff92-de97-4c04-abe2-d1c287a89ae1",
   "metadata": {},
   "source": [
    "Equivalentemente, podemos escribir el siguiente comprehension:"
   ]
  },
  {
   "cell_type": "code",
   "execution_count": 324,
   "id": "3eca6691-b7b9-4e66-abf3-54aca21ecd75",
   "metadata": {},
   "outputs": [
    {
     "data": {
      "text/plain": [
       "[0, 1, 4, 9, 16, 25, 36, 49, 64, 81]"
      ]
     },
     "execution_count": 324,
     "metadata": {},
     "output_type": "execute_result"
    }
   ],
   "source": [
    "cuadrados = [x**2 for x in range(10) ]\n",
    "cuadrados"
   ]
  },
  {
   "cell_type": "markdown",
   "id": "8ddf772d-d4dc-400d-8956-76e1b447abdc",
   "metadata": {},
   "source": [
    "Se puede leer como <i>\"elevar al cuadrado cada valor x entre 0 y 10\"</i>. Podemos poner también condicionales, de modo que sólo se genere una entrada en la lista si se cumple una condición en el valor leído. Por ejemplo, si queremos sólo los cuadrados de los números pares:"
   ]
  },
  {
   "cell_type": "code",
   "execution_count": 325,
   "id": "6c17bd56-6813-4901-8db1-1dda36b736e0",
   "metadata": {},
   "outputs": [
    {
     "data": {
      "text/plain": [
       "[0, 4, 16, 36, 64]"
      ]
     },
     "execution_count": 325,
     "metadata": {},
     "output_type": "execute_result"
    }
   ],
   "source": [
    "cuadrados = [x**2 for x in range(10) if x%2==0]\n",
    "cuadrados"
   ]
  },
  {
   "cell_type": "markdown",
   "id": "f8af456f-b2bd-4d1e-90cd-9c3d1c3b4626",
   "metadata": {},
   "source": [
    "En este caso leeríamos <i>\"elevar al cuadrado cada valor x entre 0 y 10 si x es divisible por 2\"</i>"
   ]
  },
  {
   "cell_type": "markdown",
   "id": "5be62fa6-717d-424b-8582-4409276efbe8",
   "metadata": {},
   "source": [
    "Con las comprehensions también podemos generar diccionarios, en cuyo caso usamos <code>{}</code> en lugar de <code>[]</code> y en lugar de un valor simple, describimos dos valores separados porr <code>:</code>:"
   ]
  },
  {
   "cell_type": "code",
   "execution_count": 326,
   "id": "0480436f-20f6-41c8-a18d-f055de08ea55",
   "metadata": {},
   "outputs": [
    {
     "data": {
      "text/plain": [
       "{0: 0, 1: 1, 2: 4, 3: 9, 4: 16, 5: 25, 6: 36, 7: 49, 8: 64, 9: 81}"
      ]
     },
     "execution_count": 326,
     "metadata": {},
     "output_type": "execute_result"
    }
   ],
   "source": [
    "cuadrados = {x:x**2 for x in range(10)}\n",
    "cuadrados"
   ]
  },
  {
   "cell_type": "markdown",
   "id": "4e03ac06-0159-4d50-9bb1-ea0137333e76",
   "metadata": {},
   "source": [
    "Finalmente, podemos generar conjuntos (también con <code>{}</code>, pero generando un valor simple por cada entrada) y tuplas (que a diferencia del resto de colecciones, se generan explícitamente con la función <code>tuple()</code>):"
   ]
  },
  {
   "cell_type": "code",
   "execution_count": 327,
   "id": "21abb51f-a240-484f-ab68-f683523e20ec",
   "metadata": {},
   "outputs": [
    {
     "data": {
      "text/plain": [
       "{'alicia@miservidor.com', 'berta@miservidor.com', 'carlos@miservidor.com'}"
      ]
     },
     "execution_count": 327,
     "metadata": {},
     "output_type": "execute_result"
    }
   ],
   "source": [
    "nombres = {\"Alicia\", \"Berta\", \"Carlos\"}\n",
    "correos = {nombre.lower() + \"@miservidor.com\" for nombre in nombres} #lower es minuscula\n",
    "correos"
   ]
  },
  {
   "cell_type": "code",
   "execution_count": 328,
   "id": "08719149-aa4e-41dc-a2ca-b32298ef52fd",
   "metadata": {},
   "outputs": [
    {
     "data": {
      "text/plain": [
       "(30, 50, 20)"
      ]
     },
     "execution_count": 328,
     "metadata": {},
     "output_type": "execute_result"
    }
   ],
   "source": [
    "p = (3, 5, 2)\n",
    "p10 = tuple(v*10 for v in p)#Los elementos de tupla están ordenados, no se pueden modificar y permiten valores duplicados.\n",
    "p10"
   ]
  },
  {
   "cell_type": "markdown",
   "id": "2f8e80f5-02f9-466c-b963-d6ad3b22b6cd",
   "metadata": {
    "tags": []
   },
   "source": [
    "## Funciones"
   ]
  },
  {
   "cell_type": "markdown",
   "id": "d38d59c0-0676-4120-a770-193d6542abdb",
   "metadata": {},
   "source": [
    "En matemáticas, una función se define como una relación de dependencia entre dos variables:\n",
    "\\begin{equation}\n",
    "y = f(x)\n",
    "\\end{equation}\n",
    "En informática, el concepto es muy similar. Una función $f$ toma parámetros $x$ y devuelve a su salida una (o varias) variable $y$. Tanto $x$ como $y$ pueden ser de uno de los muchos tipos de datos que soporta el lenguaje de programación, y $f$ suele tener una implementación compleja. En Python, concretamente, una función es un bloque de código que se empieza a definir con la palabra clave <code>def</code> y suele terminar con un <code>return</code>. Las funciones suelen ser la forma más simple de reutlización de código, ya que podemos empaquetar un bloque de código y usarlo repetidamente en diferentes puntos del programa. Veamos algunos ejemplos:"
   ]
  },
  {
   "cell_type": "code",
   "execution_count": 329,
   "id": "5daa377e-5e6b-4bcc-8d72-d954f9f9b1d3",
   "metadata": {},
   "outputs": [],
   "source": [
    "def hola_mundo():\n",
    "    print(\"Hola mundo\")"
   ]
  },
  {
   "cell_type": "markdown",
   "id": "40802c51-d91b-45f0-af15-262df0b37d13",
   "metadata": {},
   "source": [
    "Esta primera función hace más bien poco; simplemente muestra por pantalla <code>Hola mundo</code>:"
   ]
  },
  {
   "cell_type": "code",
   "execution_count": 330,
   "id": "d3614c74-9a40-442d-970c-05ba8e32c62c",
   "metadata": {},
   "outputs": [
    {
     "name": "stdout",
     "output_type": "stream",
     "text": [
      "Hola mundo\n"
     ]
    }
   ],
   "source": [
    "hola_mundo()"
   ]
  },
  {
   "cell_type": "markdown",
   "id": "d49a04d0-2de4-46a0-b135-063a2f151194",
   "metadata": {},
   "source": [
    "Con este código podemos ver cómo se define la función, con la palabra <code>def</code>, seguida del nombre de la función, paréntesis (donde irán los argumentos), y a continuación el bloque de código identado. Para invocar a la función, tenemos que escribir su nombre seguido de paréntesis (donde irán los valores de los argumentos). Esta función además, no devuelve nada. \n",
    "\n",
    "Veamos una función un poco más compleja:"
   ]
  },
  {
   "cell_type": "code",
   "execution_count": 331,
   "id": "93f4a9c8-89ab-4c24-99df-5a80098c5073",
   "metadata": {},
   "outputs": [],
   "source": [
    "def es_primo(numero):\n",
    "    divisible = False\n",
    "    for i in range(2, numero):\n",
    "        if numero % i == 0:\n",
    "            divisible = True\n",
    "            break\n",
    "    \n",
    "    return not divisible "
   ]
  },
  {
   "cell_type": "markdown",
   "id": "13bd2992-7a52-440e-be09-2884ef42c2fe",
   "metadata": {},
   "source": [
    "Inspeccionemos este código. Para empezar, toma un argumento, <code>numero</code>, que ahora veremos qué papel juega. En la primera línea se declara una variable booleana <code>divisible</code> con valor <code>False</code>. A continuación, entramos en un bucle <code>for</code> en el que para cada número <code>i</code> entero entre 2 y <code>numero</code> hace la siguiente comprobación: si <code>numero</code> es divisible entre <code>i</code>, entonces ponemos <code>divisible</code> a <code>True</code> y salimos del bucle. Esto tiene el siguiente efecto: el bucle mira todos los números entre 2 y <code>numero</code> y si encuentra un divisor se para. La variable <code>divisible</code> estará a <code>True</code> si hay divisor, y si no lo hay, seguirá siendo <code>False</code>. Por tanto, el número será primo si <code>divisible</code> es <code>False</code> y no primo si es <code>True</code>. Al devolver el inverso de <code>divisible</code>, tenemos una función que nos dice si un número es primo o no. "
   ]
  },
  {
   "cell_type": "code",
   "execution_count": 332,
   "id": "d7dbdf99-9873-4c2d-bf60-51368e7b4472",
   "metadata": {},
   "outputs": [
    {
     "data": {
      "text/plain": [
       "True"
      ]
     },
     "execution_count": 332,
     "metadata": {},
     "output_type": "execute_result"
    }
   ],
   "source": [
    "es_primo(23)"
   ]
  },
  {
   "cell_type": "code",
   "execution_count": 333,
   "id": "0963b3b0-5d27-45d7-af3b-d9ffaf08fa79",
   "metadata": {},
   "outputs": [
    {
     "data": {
      "text/plain": [
       "False"
      ]
     },
     "execution_count": 333,
     "metadata": {},
     "output_type": "execute_result"
    }
   ],
   "source": [
    "es_primo(10)"
   ]
  },
  {
   "cell_type": "markdown",
   "id": "28fe6da5-0e79-43be-a970-eb712abf538c",
   "metadata": {},
   "source": [
    "<div style=\"background-color:lightpink; padding:1em\">\n",
    "    <b>Ejercicio 8</b><br/>\n",
    "    <p>Repetir el ejercicio de la búsqueda de los N primeros números primos usando en esta ocasión la función <code>es_primo</code>.</p>\n",
    "</div>"
   ]
  },
  {
   "cell_type": "code",
   "execution_count": 334,
   "id": "c82ec13b-3b6c-4e8d-a2ce-acad90af4344",
   "metadata": {},
   "outputs": [
    {
     "name": "stdout",
     "output_type": "stream",
     "text": [
      "1\n",
      "2\n",
      "3\n",
      "5\n",
      "7\n"
     ]
    }
   ],
   "source": [
    "N = 10\n",
    "for i in range(1,N):\n",
    "    if es_primo(i):\n",
    "        print(i)"
   ]
  },
  {
   "cell_type": "code",
   "execution_count": 374,
   "id": "f0b653e0",
   "metadata": {},
   "outputs": [
    {
     "name": "stdout",
     "output_type": "stream",
     "text": [
      "[1, 2, 3, 5, 7]\n"
     ]
    }
   ],
   "source": [
    "N = 10\n",
    "primos = [i for i in range(1,N) if es_primo(i)]\n",
    "print(primos)"
   ]
  },
  {
   "cell_type": "markdown",
   "id": "df63414d-8867-491c-ab2c-1c35044a0134",
   "metadata": {},
   "source": [
    "Una función puede recibir más de un argumento:"
   ]
  },
  {
   "cell_type": "code",
   "execution_count": 335,
   "id": "1e1fc802-1857-46db-adc3-d586a8532596",
   "metadata": {},
   "outputs": [],
   "source": [
    "def repetir(texto, veces):\n",
    "    for i in range(veces):\n",
    "        print(texto)"
   ]
  },
  {
   "cell_type": "markdown",
   "id": "b93d858c-d926-49bc-8944-68ab2047830e",
   "metadata": {},
   "source": [
    "Los parámetros pueden ser posicionales, es decir, se mapean a las variables según su posición en la definición:"
   ]
  },
  {
   "cell_type": "code",
   "execution_count": 336,
   "id": "2db98415-6907-4b0a-b3a6-69eb234d7547",
   "metadata": {},
   "outputs": [
    {
     "name": "stdout",
     "output_type": "stream",
     "text": [
      "Hola\n",
      "Hola\n",
      "Hola\n"
     ]
    }
   ],
   "source": [
    "repetir(\"Hola\",3)"
   ]
  },
  {
   "cell_type": "markdown",
   "id": "b5462b51-00d3-49a5-8ddb-a5df578f6589",
   "metadata": {},
   "source": [
    "o nombrados, es decir, que se indica el valor de cada variable de manera explícita, en un orden arbitrario:"
   ]
  },
  {
   "cell_type": "code",
   "execution_count": 337,
   "id": "98427d86-c427-49e9-b1e5-d7e5c5c57ca4",
   "metadata": {},
   "outputs": [
    {
     "name": "stdout",
     "output_type": "stream",
     "text": [
      "¡Alerta! ¡¡3x1!!\n",
      "¡Alerta! ¡¡3x1!!\n"
     ]
    }
   ],
   "source": [
    "repetir(veces=2, texto=\"¡Alerta! ¡¡3x1!!\")"
   ]
  },
  {
   "cell_type": "markdown",
   "id": "5707226c-f79b-4c83-8901-4d7547664563",
   "metadata": {},
   "source": [
    "Asimismo, las funciones pueden devolver una tupla, que podemos interpretar como múltiples salidas por medio del desempaquetado:\n",
    "\n",
    "Nota: split->Divide una cadena en una lista donde cada palabra es un elemento de la lista. En este caso calcula cuantas palabras son."
   ]
  },
  {
   "cell_type": "code",
   "execution_count": 338,
   "id": "92aec660-b577-49a7-bf44-2c4f3b215c9f",
   "metadata": {},
   "outputs": [],
   "source": [
    "def analizar(texto):\n",
    "    caracteres = len(texto)\n",
    "    palabras = len( texto.split() )\n",
    "    return caracteres, palabras"
   ]
  },
  {
   "cell_type": "code",
   "execution_count": 339,
   "id": "472fedb9-4507-49ae-b5aa-151025edad3c",
   "metadata": {},
   "outputs": [
    {
     "data": {
      "text/plain": [
       "(27, 5)"
      ]
     },
     "execution_count": 339,
     "metadata": {},
     "output_type": "execute_result"
    }
   ],
   "source": [
    "analizar(\"Este texto tiene 5 palabras\")"
   ]
  },
  {
   "cell_type": "code",
   "execution_count": 340,
   "id": "417d086e-7216-46bd-856c-ebb0ae4eb39c",
   "metadata": {},
   "outputs": [],
   "source": [
    "car, pal = analizar(\"Este texto tiene 5 palabras\")"
   ]
  },
  {
   "cell_type": "code",
   "execution_count": 341,
   "id": "b4ce445a-cf7e-4ada-9e3f-d138d2614cc5",
   "metadata": {},
   "outputs": [
    {
     "data": {
      "text/plain": [
       "27"
      ]
     },
     "execution_count": 341,
     "metadata": {},
     "output_type": "execute_result"
    }
   ],
   "source": [
    "car"
   ]
  },
  {
   "cell_type": "code",
   "execution_count": 342,
   "id": "55368148-dd81-4c33-b29e-8bb2634e352e",
   "metadata": {},
   "outputs": [
    {
     "data": {
      "text/plain": [
       "5"
      ]
     },
     "execution_count": 342,
     "metadata": {},
     "output_type": "execute_result"
    }
   ],
   "source": [
    "pal"
   ]
  },
  {
   "cell_type": "markdown",
   "id": "ce6c4f56-5d47-44e6-b2c8-edf5a17f7d0e",
   "metadata": {},
   "source": [
    "Podemos tener argumentos arbitrarios en una función. Dicho argumento tiene un nombre, como los posicionales y nombrados, y para distinguirlo, va precedido de <code>*</code>. Dentro de la función se interpreta como una lista:\n",
    "\n",
    "Nota:Join->Une todos los elementos de una tupla en una cadena, usando un carácter hash como separador:"
   ]
  },
  {
   "cell_type": "code",
   "execution_count": 370,
   "id": "90e93468-99d4-4ebc-8665-334c4a8b644f",
   "metadata": {},
   "outputs": [],
   "source": [
    "def concatenar_palabras(*palabras):\n",
    "    return \"+\".join(palabras)"
   ]
  },
  {
   "cell_type": "code",
   "execution_count": 371,
   "id": "91451dc4-b892-47b2-a0c3-6b87bb40e415",
   "metadata": {},
   "outputs": [
    {
     "data": {
      "text/plain": [
       "'Varias+palabras+hacen+una+frase'"
      ]
     },
     "execution_count": 371,
     "metadata": {},
     "output_type": "execute_result"
    }
   ],
   "source": [
    "concatenar_palabras(\"Varias\", \"palabras\", \"hacen\", \"una\", \"frase\")"
   ]
  },
  {
   "cell_type": "markdown",
   "id": "a2ac126f-c38b-4118-94bc-78f653e979d1",
   "metadata": {},
   "source": [
    "También podemos usar parámetros nombrados y arbitrarios, recogidos en un argumento precedido de <code>**</code> y en cuyo caso en lugar de una lista, tendremos un diccionario:"
   ]
  },
  {
   "cell_type": "code",
   "execution_count": 345,
   "id": "8964362c-b59d-43ef-9920-6061ef1d5385",
   "metadata": {},
   "outputs": [],
   "source": [
    "def generar_comando(comando, parametro, **opciones):\n",
    "    linea = comando + \" \" + parametro\n",
    "    for param in opciones.keys():\n",
    "        linea += \" -\" + param\n",
    "        linea += \" \" + opciones[param]\n",
    "    return linea"
   ]
  },
  {
   "cell_type": "markdown",
   "id": "13c23218-7ce0-46ba-998b-d7806a1e51a5",
   "metadata": {},
   "source": [
    "Este código genera comandos de una terminal. Toma el comando y el primer parámetro, y a continuación mira en el diccionario <code>opciones</code> en busca de las opciones de línea de comandos. Dichas opciones suelen consistir en una letra precedida de un guión y seguida del valor del parámetro. La función itera sobre los índices de <code>opciones</code> y concatena el nombre de la opción precedido de <code>-</code>, y luego concatena el valor de la opción. Veamos un ejemplo:"
   ]
  },
  {
   "cell_type": "code",
   "execution_count": 373,
   "id": "513c4747-707b-4f32-8321-126d225c5018",
   "metadata": {},
   "outputs": [
    {
     "data": {
      "text/plain": [
       "'ping 8.8.8.8 -c 3'"
      ]
     },
     "execution_count": 373,
     "metadata": {},
     "output_type": "execute_result"
    }
   ],
   "source": [
    "generar_comando(\"ping\",\"8.8.8.8\",c='3')"
   ]
  },
  {
   "cell_type": "markdown",
   "id": "f86ded65-a9a8-4bbe-a07e-ede232a4a71c",
   "metadata": {},
   "source": [
    "Podemos tener también parámetros opcionales con valores por defecto. Para establecer el valor por defecto, éste se indica en la lista de argumentos:"
   ]
  },
  {
   "cell_type": "code",
   "execution_count": 347,
   "id": "4a04db1e-b6aa-4ca3-ba2c-1008554f0b1b",
   "metadata": {},
   "outputs": [],
   "source": [
    "def incrementar(numero, en=1):\n",
    "    return numero + en"
   ]
  },
  {
   "cell_type": "markdown",
   "id": "d35388f6-1f46-4dd3-a384-6fadba84843d",
   "metadata": {},
   "source": [
    "Esta función devuelve <code>numero</code> incrementado en el valor dado en <code>en</code> o en 1, si no se provee ningún valor:"
   ]
  },
  {
   "cell_type": "code",
   "execution_count": 348,
   "id": "83fc8640-bbd5-4109-bdd1-8e3273a0bde9",
   "metadata": {},
   "outputs": [
    {
     "data": {
      "text/plain": [
       "7"
      ]
     },
     "execution_count": 348,
     "metadata": {},
     "output_type": "execute_result"
    }
   ],
   "source": [
    "incrementar(5,2)"
   ]
  },
  {
   "cell_type": "code",
   "execution_count": 349,
   "id": "42a80b9e-5e3c-4ecb-bbaf-3df4e8b76a9e",
   "metadata": {},
   "outputs": [
    {
     "data": {
      "text/plain": [
       "6"
      ]
     },
     "execution_count": 349,
     "metadata": {},
     "output_type": "execute_result"
    }
   ],
   "source": [
    "incrementar(5)"
   ]
  },
  {
   "cell_type": "markdown",
   "id": "7bd57f58-f75b-41f9-9cf5-7b6a8ff672a5",
   "metadata": {},
   "source": [
    "Una precaución que debemos tener es que si el parámetro por defecto es mutable (es decir, una lista, un conjunto o un diccionario), y su valor cambia dentro de la función, sucesivas ejecuciones de la función se harán con el valor guardado, no el valor por defecto. Supongamos que tenemos una función que guarda una palabra en un diccionario. Si no le pasamos un diccionario, usa uno vacío."
   ]
  },
  {
   "cell_type": "code",
   "execution_count": 350,
   "id": "792b3fbc-99e9-489a-88e1-12eb327ce6a7",
   "metadata": {},
   "outputs": [],
   "source": [
    "def guardar(palabra, definicion, diccionario={}):\n",
    "    diccionario[palabra] = definicion\n",
    "    return diccionario"
   ]
  },
  {
   "cell_type": "markdown",
   "id": "a710798f-bbb3-4301-905a-7545eac996fe",
   "metadata": {},
   "source": [
    "Guardamos una palabra en un diccionario vacío:"
   ]
  },
  {
   "cell_type": "code",
   "execution_count": 351,
   "id": "98ec91c2-8a6f-4f97-bd77-2cce3d3d1514",
   "metadata": {},
   "outputs": [
    {
     "data": {
      "text/plain": [
       "{'libro': 'objeto de papel'}"
      ]
     },
     "execution_count": 351,
     "metadata": {},
     "output_type": "execute_result"
    }
   ],
   "source": [
    "guardar(\"libro\",\"objeto de papel\")"
   ]
  },
  {
   "cell_type": "markdown",
   "id": "62351f4b-94d3-44f1-9791-8e0af96c453f",
   "metadata": {},
   "source": [
    "Si ahora volvemos a ejecutarlo para otra palabra, lo esperable sería que volviese a generar un diccionario vacío. Sin embargo:"
   ]
  },
  {
   "cell_type": "code",
   "execution_count": 352,
   "id": "8720fb09-c889-4153-b05b-19f9e9d59643",
   "metadata": {},
   "outputs": [
    {
     "data": {
      "text/plain": [
       "{'libro': 'objeto de papel', 'zumo': 'bebida natural'}"
      ]
     },
     "execution_count": 352,
     "metadata": {},
     "output_type": "execute_result"
    }
   ],
   "source": [
    "guardar(\"zumo\",\"bebida natural\")"
   ]
  },
  {
   "cell_type": "markdown",
   "id": "2f35af50-88d9-4385-b178-74528a552e9d",
   "metadata": {},
   "source": [
    "Esto puede ser una fuente de problemas que pasan desapercibidos. Es importante por tanto no usar parámetros mutables por defecto, o ponerlos a <code>None</code> y convertirlos en lista dentro del código de la función:"
   ]
  },
  {
   "cell_type": "code",
   "execution_count": 353,
   "id": "eb8039ca-3200-4d3b-8783-08833010349f",
   "metadata": {},
   "outputs": [],
   "source": [
    "def guardar(palabra, definicion, diccionario=None):\n",
    "    if diccionario is None:\n",
    "        diccionario = {}\n",
    "    diccionario[palabra] = definicion\n",
    "    return diccionario"
   ]
  },
  {
   "cell_type": "code",
   "execution_count": 354,
   "id": "66fae59c-5c37-4298-b11f-82741cbc8439",
   "metadata": {},
   "outputs": [
    {
     "data": {
      "text/plain": [
       "{'libro': 'objeto de papel'}"
      ]
     },
     "execution_count": 354,
     "metadata": {},
     "output_type": "execute_result"
    }
   ],
   "source": [
    "guardar(\"libro\",\"objeto de papel\")"
   ]
  },
  {
   "cell_type": "code",
   "execution_count": 355,
   "id": "b0ae0dc4-762b-4c30-831f-9df12d984e0d",
   "metadata": {},
   "outputs": [
    {
     "data": {
      "text/plain": [
       "{'zumo': 'bebida natural'}"
      ]
     },
     "execution_count": 355,
     "metadata": {},
     "output_type": "execute_result"
    }
   ],
   "source": [
    "guardar(\"zumo\",\"bebida natural\")"
   ]
  },
  {
   "cell_type": "markdown",
   "id": "f23c8831-5885-41c0-8ac4-21772598f674",
   "metadata": {},
   "source": [
    "o saber muy muy bien lo que estamos haciendo (aunque no existe ningún caso de uso en los que esto sea útil)."
   ]
  },
  {
   "cell_type": "markdown",
   "id": "3a70c039-539c-4bb6-80bc-a29f64f6cb93",
   "metadata": {},
   "source": [
    "Otro aspecto importante es que los valores mutables se pasan por referencia y los inmutables por valor. En otras palabras, si pasamos una lista (diccionario o conjunto) a una función y la modificamos dentro, esta quedará modificada. No ocurrirá lo mismo con un entero, flotante, etc."
   ]
  },
  {
   "cell_type": "code",
   "execution_count": 356,
   "id": "dc9fb76c-9d8b-4656-b2b7-4338fc5e6ae4",
   "metadata": {},
   "outputs": [],
   "source": [
    "def enlistar(v, lista):\n",
    "    lista.append(v)"
   ]
  },
  {
   "cell_type": "code",
   "execution_count": 357,
   "id": "729070d5-0650-40e5-a365-9c15e75cbdc9",
   "metadata": {},
   "outputs": [
    {
     "data": {
      "text/plain": [
       "[1]"
      ]
     },
     "execution_count": 357,
     "metadata": {},
     "output_type": "execute_result"
    }
   ],
   "source": [
    "l = []\n",
    "num = 1\n",
    "enlistar(num, l)\n",
    "l"
   ]
  },
  {
   "cell_type": "code",
   "execution_count": 358,
   "id": "5bdbd18a-b8ae-4184-8ace-bcba054f3844",
   "metadata": {},
   "outputs": [],
   "source": [
    "enlistar(2, l)"
   ]
  },
  {
   "cell_type": "code",
   "execution_count": 359,
   "id": "2f6dbbdf-31b4-444f-a804-e346ab772fc0",
   "metadata": {},
   "outputs": [
    {
     "data": {
      "text/plain": [
       "[1, 2]"
      ]
     },
     "execution_count": 359,
     "metadata": {},
     "output_type": "execute_result"
    }
   ],
   "source": [
    "l"
   ]
  },
  {
   "cell_type": "markdown",
   "id": "ac68c71d-0c31-4da5-80d7-c59aae82f93c",
   "metadata": {},
   "source": [
    "Para evitar esto, podemos hacer copias de los mutables que pasemos a una función:"
   ]
  },
  {
   "cell_type": "code",
   "execution_count": 360,
   "id": "b8854c8c-77ec-472e-80ba-7098787639aa",
   "metadata": {},
   "outputs": [],
   "source": [
    "def enlistar(v, lista):\n",
    "    lista2 = lista.copy()\n",
    "    lista2.append(v)\n",
    "    return lista2"
   ]
  },
  {
   "cell_type": "code",
   "execution_count": 361,
   "id": "98a546a3-e6ad-434f-b64a-8593e1a45545",
   "metadata": {},
   "outputs": [
    {
     "data": {
      "text/plain": [
       "[]"
      ]
     },
     "execution_count": 361,
     "metadata": {},
     "output_type": "execute_result"
    }
   ],
   "source": [
    "l = []\n",
    "num = 1\n",
    "l2 = enlistar(num, l)\n",
    "l"
   ]
  },
  {
   "cell_type": "code",
   "execution_count": 362,
   "id": "c4ae61d5-b41e-46d7-9654-aaea06257806",
   "metadata": {},
   "outputs": [
    {
     "data": {
      "text/plain": [
       "[1]"
      ]
     },
     "execution_count": 362,
     "metadata": {},
     "output_type": "execute_result"
    }
   ],
   "source": [
    "l2"
   ]
  },
  {
   "cell_type": "code",
   "execution_count": 363,
   "id": "28c24ba9-9b11-4d3f-9443-11bd1fee504a",
   "metadata": {},
   "outputs": [
    {
     "data": {
      "text/plain": [
       "[]"
      ]
     },
     "execution_count": 363,
     "metadata": {},
     "output_type": "execute_result"
    }
   ],
   "source": [
    "l3 = enlistar(2, l)\n",
    "l"
   ]
  },
  {
   "cell_type": "code",
   "execution_count": 364,
   "id": "6446ec21-fc3b-4c84-8a53-7c95640a2397",
   "metadata": {},
   "outputs": [
    {
     "data": {
      "text/plain": [
       "[2]"
      ]
     },
     "execution_count": 364,
     "metadata": {},
     "output_type": "execute_result"
    }
   ],
   "source": [
    "l3"
   ]
  },
  {
   "cell_type": "markdown",
   "id": "b23e53fb-7b8d-48b4-a383-77f6d13a109c",
   "metadata": {},
   "source": [
    "En este caso, sí hay situaciones en las que puede ser útil que el mutable que pasamos a una función cambie. Si sabemos muy bien lo que hacemos. Aun así, existen opciones mejores que facilitan la posible resolución de problemas en el futuro."
   ]
  },
  {
   "cell_type": "markdown",
   "id": "e6444f47-f128-4ece-96ec-fecd0f730c78",
   "metadata": {},
   "source": [
    "<div style=\"background-color:lightpink; padding:1em\">\n",
    "    <b>Ejercicio 9</b><br/>\n",
    "    <p>Crear una función que, dados los factores a, b y c para la ecuación de segundo grado, devuelva las dos raíces.</p>\n",
    "</div>"
   ]
  },
  {
   "cell_type": "code",
   "execution_count": 375,
   "id": "52334d73-2982-49c2-a73f-ca4d3362a0fa",
   "metadata": {},
   "outputs": [],
   "source": [
    "def raices(a, b, c):\n",
    "    x1 = (-b + cmath.sqrt(b**2 - 4*a*c))/(2*a)\n",
    "    x2 = (-b - cmath.sqrt(b**2 - 4*a*c))/(2*a)\n",
    "    return x1, x2"
   ]
  },
  {
   "cell_type": "code",
   "execution_count": 376,
   "id": "b11c89ed",
   "metadata": {},
   "outputs": [
    {
     "data": {
      "text/plain": [
       "((1+0j), (-1+0j))"
      ]
     },
     "execution_count": 376,
     "metadata": {},
     "output_type": "execute_result"
    }
   ],
   "source": [
    "raices(1,0,-1)"
   ]
  },
  {
   "cell_type": "markdown",
   "id": "012494aa-1f58-45ba-8297-d7133b29d7f7",
   "metadata": {},
   "source": [
    "Para terminar, veamos dos funciones que veremos mucho en análisis de datos:\n",
    "- Map: aplicar una función a cada elemento de una colección. A menudo, se realiza en paralelo en la nube.\n",
    "- Filter: selecciona los elementos de una colección que cumplen una condición.\n",
    "\n",
    "Son funciones que podemos aplicar a listas de datos, para aplicar eficientemente un determinado cálculo."
   ]
  },
  {
   "cell_type": "code",
   "execution_count": 365,
   "id": "c785ec66-fb2a-44f9-a056-cbba579a7381",
   "metadata": {},
   "outputs": [],
   "source": [
    "def cuadrado(numero):\n",
    "    return numero**2"
   ]
  },
  {
   "cell_type": "code",
   "execution_count": 366,
   "id": "5481a381-bc6c-4489-b11d-bdff33907ea4",
   "metadata": {},
   "outputs": [
    {
     "data": {
      "text/plain": [
       "<map at 0x23c7f2eda60>"
      ]
     },
     "execution_count": 366,
     "metadata": {},
     "output_type": "execute_result"
    }
   ],
   "source": [
    "map(cuadrado, [0,1,2,3,4])"
   ]
  },
  {
   "cell_type": "markdown",
   "id": "9b942dfb-93c9-4cd6-ba01-f368ddaad56c",
   "metadata": {},
   "source": [
    "Map devuelve un generador, que tenemos que convertir en lista con <code>list()</code>:"
   ]
  },
  {
   "cell_type": "code",
   "execution_count": 367,
   "id": "fe56dbc8-96c4-4324-9d90-27a9c0d5cc2b",
   "metadata": {},
   "outputs": [
    {
     "data": {
      "text/plain": [
       "[0, 1, 4, 9, 16]"
      ]
     },
     "execution_count": 367,
     "metadata": {},
     "output_type": "execute_result"
    }
   ],
   "source": [
    "list( map(cuadrado, [0,1,2,3,4]) )"
   ]
  },
  {
   "cell_type": "markdown",
   "id": "9c3fa217-8913-47f0-a9f1-17bf23f1873b",
   "metadata": {},
   "source": [
    "Veamos cómo funciona ahora <code>filter</code>:"
   ]
  },
  {
   "cell_type": "code",
   "execution_count": 368,
   "id": "2bc63e43-4a92-4e28-8b81-a9f48d67a6e9",
   "metadata": {},
   "outputs": [],
   "source": [
    "def es_par(numero):\n",
    "    return numero%2==0"
   ]
  },
  {
   "cell_type": "code",
   "execution_count": 369,
   "id": "333dd793-961e-438b-aac1-1c231109e553",
   "metadata": {},
   "outputs": [
    {
     "data": {
      "text/plain": [
       "[0, 2, 4]"
      ]
     },
     "execution_count": 369,
     "metadata": {},
     "output_type": "execute_result"
    }
   ],
   "source": [
    "list( filter(es_par,[0,1,2,3,4]) )"
   ]
  },
  {
   "cell_type": "markdown",
   "id": "629f61fc-cf24-4d96-851d-adab1cda0d0a",
   "metadata": {},
   "source": [
    "Hay un tipo de función más que no veremos para no complicar la legibilidad del código, pero que se usan mucho en análisis de datos. Se trata de las funciones <a href=\"https://www.freecodecamp.org/espanol/news/expresiones-lambda-en-python/\">lambda</a> o anónimas. De vez en cuando las veremos en el código, pero son casi siempre sustituibles por una función no anónima (como las que usaremos en este curso). Sólo en casos muy extremos, ayudarán a simplificar el código."
   ]
  },
  {
   "cell_type": "markdown",
   "id": "1321956e-c55a-42d0-91e5-dfe7ed5db90b",
   "metadata": {
    "tags": []
   },
   "source": [
    "## Conclusiones"
   ]
  },
  {
   "cell_type": "markdown",
   "id": "b687f0ea-b9ae-4b69-8b40-9c19d162e49b",
   "metadata": {},
   "source": [
    "En esta primera libreta del curso, hemos realizado un repaso básico de Python. Concretamente, hemos visto estos puntos:\n",
    "- Variables \n",
    "- Tipos de dato simple (numéricos y cadenas) y estructuras de datos (listas, diccionarios, tuplas y conjuntos)\n",
    "- Control de flujo (condicionales, bucles y comprehensions)\n",
    "- Funciones\n",
    "\n",
    "Por supuesto quedan muchos conceptos pendientes, algunas de las cuales veremos (como los objetos o las excepciones) y otras que no veremos por falta de tiempo (interacción con el usuario, GUI, etc.). La <a href=\"https://docs.python.org/3/\">documentación</a> de Python es un buen lugar donde buscar información acerca de todas las funciones estándar que ofrece el lenguaje. "
   ]
  },
  {
   "cell_type": "code",
   "execution_count": null,
   "id": "392954e6-acd6-4fad-9c55-0453da3ffbbd",
   "metadata": {},
   "outputs": [],
   "source": []
  }
 ],
 "metadata": {
  "kernelspec": {
   "display_name": "Python 3 (ipykernel)",
   "language": "python",
   "name": "python3"
  },
  "language_info": {
   "codemirror_mode": {
    "name": "ipython",
    "version": 3
   },
   "file_extension": ".py",
   "mimetype": "text/x-python",
   "name": "python",
   "nbconvert_exporter": "python",
   "pygments_lexer": "ipython3",
   "version": "3.9.7"
  }
 },
 "nbformat": 4,
 "nbformat_minor": 5
}
