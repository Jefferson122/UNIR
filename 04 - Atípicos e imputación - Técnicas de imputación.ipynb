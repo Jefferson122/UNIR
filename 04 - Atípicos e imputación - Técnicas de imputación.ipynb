{
  "cells": [
    {
      "cell_type": "markdown",
      "id": "1300fde8",
      "metadata": {
        "id": "1300fde8"
      },
      "source": [
        "<img src=\"https://www.unir.net/wp-content/uploads/2019/11/Unir_2021_logo.svg\" width=\"240\" height=\"240\" align=\"right\"/>"
      ]
    },
    {
      "cell_type": "markdown",
      "id": "41a9febf",
      "metadata": {
        "ExecuteTime": {
          "end_time": "2021-11-19T13:15:23.420404Z",
          "start_time": "2021-11-19T13:15:23.403399Z"
        },
        "id": "41a9febf"
      },
      "source": [
        "## 04 - Exploratory Data Analysis EDA - Parte II\n",
        "\n",
        "### Tratamiento de valores atípicos\n",
        "#### Técnicas de imputación"
      ]
    },
    {
      "cell_type": "markdown",
      "id": "0a597f74",
      "metadata": {
        "id": "0a597f74"
      },
      "source": [
        "\n",
        "    \n",
        "><figure><center>\n",
        "  <img src=\"https://miro.medium.com/max/1400/1*pafL_EAwJKtfUFgQpFYllg.png\" alt=\"EDA\" width=800 height=800/>\n",
        "  <a href=\"https://medium.com/data-cleaning-dealing-with-outliers-using-data/data-cleaning-dealing-with-outliers-using-data-imputation-techniques-f2821ace2e8d\">Source</a>\n",
        "</figure><center>"
      ]
    },
    {
      "cell_type": "markdown",
      "id": "861fd53a",
      "metadata": {
        "ExecuteTime": {
          "end_time": "2022-04-05T13:14:48.087714Z",
          "start_time": "2022-04-05T13:14:48.069713Z"
        },
        "id": "861fd53a"
      },
      "source": [
        "Para realizar el proceso de EDA usamos:\n",
        "\n",
        "+ Sweetviz\n",
        "+ pandas profiling\n",
        "+ dataprep\n",
        "+ Dtale\n",
        "+ Autoviz"
      ]
    },
    {
      "cell_type": "markdown",
      "id": "c1c38f0a",
      "metadata": {
        "ExecuteTime": {
          "end_time": "2021-11-23T12:47:41.735785Z",
          "start_time": "2021-11-23T12:47:41.694787Z"
        },
        "id": "c1c38f0a"
      },
      "source": [
        "## Ejemplo: Titanic Dataset"
      ]
    },
    {
      "cell_type": "code",
      "execution_count": null,
      "id": "766fbcdb",
      "metadata": {
        "id": "766fbcdb"
      },
      "outputs": [],
      "source": [
        "#De la sesión anterior parte\n",
        "import pandas as pd\n",
        "import seaborn as sns\n",
        "df = sns.load_dataset('titanic')"
      ]
    },
    {
      "cell_type": "code",
      "execution_count": null,
      "id": "88d245dd",
      "metadata": {
        "ExecuteTime": {
          "end_time": "2022-04-05T14:51:16.325572Z",
          "start_time": "2022-04-05T14:51:16.272575Z"
        },
        "id": "88d245dd",
        "outputId": "a7f272d8-44a4-463f-b3fd-1c79d6a9e86c"
      },
      "outputs": [
        {
          "data": {
            "text/html": [
              "<div>\n",
              "<style scoped>\n",
              "    .dataframe tbody tr th:only-of-type {\n",
              "        vertical-align: middle;\n",
              "    }\n",
              "\n",
              "    .dataframe tbody tr th {\n",
              "        vertical-align: top;\n",
              "    }\n",
              "\n",
              "    .dataframe thead th {\n",
              "        text-align: right;\n",
              "    }\n",
              "</style>\n",
              "<table border=\"1\" class=\"dataframe\">\n",
              "  <thead>\n",
              "    <tr style=\"text-align: right;\">\n",
              "      <th></th>\n",
              "      <th>alive</th>\n",
              "      <th>sex</th>\n",
              "      <th>age</th>\n",
              "      <th>sibsp</th>\n",
              "      <th>parch</th>\n",
              "      <th>fare</th>\n",
              "      <th>class</th>\n",
              "      <th>who</th>\n",
              "      <th>adult_male</th>\n",
              "      <th>deck</th>\n",
              "      <th>embark_town</th>\n",
              "      <th>alone</th>\n",
              "    </tr>\n",
              "  </thead>\n",
              "  <tbody>\n",
              "    <tr>\n",
              "      <th>0</th>\n",
              "      <td>0</td>\n",
              "      <td>male</td>\n",
              "      <td>22.0</td>\n",
              "      <td>1</td>\n",
              "      <td>0</td>\n",
              "      <td>7.2500</td>\n",
              "      <td>Third</td>\n",
              "      <td>man</td>\n",
              "      <td>adult_male</td>\n",
              "      <td>NaN</td>\n",
              "      <td>Southampton</td>\n",
              "      <td>non-alone</td>\n",
              "    </tr>\n",
              "    <tr>\n",
              "      <th>1</th>\n",
              "      <td>1</td>\n",
              "      <td>female</td>\n",
              "      <td>38.0</td>\n",
              "      <td>1</td>\n",
              "      <td>0</td>\n",
              "      <td>71.2833</td>\n",
              "      <td>First</td>\n",
              "      <td>woman</td>\n",
              "      <td>non-adult_male</td>\n",
              "      <td>C</td>\n",
              "      <td>Cherbourg</td>\n",
              "      <td>non-alone</td>\n",
              "    </tr>\n",
              "    <tr>\n",
              "      <th>2</th>\n",
              "      <td>1</td>\n",
              "      <td>female</td>\n",
              "      <td>26.0</td>\n",
              "      <td>0</td>\n",
              "      <td>0</td>\n",
              "      <td>7.9250</td>\n",
              "      <td>Third</td>\n",
              "      <td>woman</td>\n",
              "      <td>non-adult_male</td>\n",
              "      <td>NaN</td>\n",
              "      <td>Southampton</td>\n",
              "      <td>alone</td>\n",
              "    </tr>\n",
              "    <tr>\n",
              "      <th>3</th>\n",
              "      <td>1</td>\n",
              "      <td>female</td>\n",
              "      <td>35.0</td>\n",
              "      <td>1</td>\n",
              "      <td>0</td>\n",
              "      <td>53.1000</td>\n",
              "      <td>First</td>\n",
              "      <td>woman</td>\n",
              "      <td>non-adult_male</td>\n",
              "      <td>C</td>\n",
              "      <td>Southampton</td>\n",
              "      <td>non-alone</td>\n",
              "    </tr>\n",
              "    <tr>\n",
              "      <th>4</th>\n",
              "      <td>0</td>\n",
              "      <td>male</td>\n",
              "      <td>35.0</td>\n",
              "      <td>0</td>\n",
              "      <td>0</td>\n",
              "      <td>8.0500</td>\n",
              "      <td>Third</td>\n",
              "      <td>man</td>\n",
              "      <td>adult_male</td>\n",
              "      <td>NaN</td>\n",
              "      <td>Southampton</td>\n",
              "      <td>alone</td>\n",
              "    </tr>\n",
              "  </tbody>\n",
              "</table>\n",
              "</div>"
            ],
            "text/plain": [
              "   alive     sex   age  sibsp  parch     fare  class    who      adult_male  \\\n",
              "0      0    male  22.0      1      0   7.2500  Third    man      adult_male   \n",
              "1      1  female  38.0      1      0  71.2833  First  woman  non-adult_male   \n",
              "2      1  female  26.0      0      0   7.9250  Third  woman  non-adult_male   \n",
              "3      1  female  35.0      1      0  53.1000  First  woman  non-adult_male   \n",
              "4      0    male  35.0      0      0   8.0500  Third    man      adult_male   \n",
              "\n",
              "  deck  embark_town      alone  \n",
              "0  NaN  Southampton  non-alone  \n",
              "1    C    Cherbourg  non-alone  \n",
              "2  NaN  Southampton      alone  \n",
              "3    C  Southampton  non-alone  \n",
              "4  NaN  Southampton      alone  "
            ]
          },
          "execution_count": 2,
          "metadata": {},
          "output_type": "execute_result"
        }
      ],
      "source": [
        "df.replace({False: 0, True: 1}, inplace=True)\n",
        "df['adult_male'] = df['adult_male'].map({1: 'adult_male', 0: 'non-adult_male'})\n",
        "df['alone'] = df['alone'].map({1: 'alone', 0: 'non-alone'})\n",
        "df.loc[:, df.dtypes == 'object'] = df.select_dtypes(['object']).apply(lambda x: x.astype('category'))\n",
        "df= df.drop(columns=['survived', 'pclass', 'embarked'], errors='ignore')\n",
        "df_one = pd.get_dummies(df[\"alive\"], drop_first=True)\n",
        "df_two = pd.concat((df_one, df), axis=1)\n",
        "df_two = df_two.drop([\"alive\"], axis=1)\n",
        "df = df_two.rename(columns={\"yes\": \"alive\"})\n",
        "df.head()"
      ]
    },
    {
      "cell_type": "markdown",
      "id": "3cd27693",
      "metadata": {
        "id": "3cd27693"
      },
      "source": [
        "## Algunos Hallazgos Data set de ejemplo\n",
        "\n",
        "* Shape del dataset\n",
        "    + 891,12\n",
        "* Variables categóricas, númericas y de texto\n",
        "    + 10,2, 0\n",
        "* Duplicados\n",
        "    + 107 en total\n",
        "* Missing value\n",
        "    + Age(177,20%), deck(688, 77%) y embark_town(2, >1%)\n",
        "* Outliers\n",
        "    + Age, Fare\n",
        "    + Age y Fare en box-plot cruzado contra alive no muestra outliers claros\n",
        "    + Parch y sibsp presentan algunos valores atípicos\n",
        "* Asociación (siguiente sesión)\n",
        "    + Age con class, deck con class, embark_town no tiene asociación clara con otra categórica\n",
        "    + Alive with adult_male (0.24), age(0.23) y who(0.19) y cuanti con fare(0.26)\n",
        "    + Asociación directa entre parch, alone, who, fare y sibsp\n",
        "    + Asociación fare, class,deck y embark_town  \n",
        "    + Asociación entre who, adult_male y sex\n",
        ">**¿Qué hacer?**"
      ]
    },
    {
      "cell_type": "markdown",
      "id": "85573604",
      "metadata": {
        "id": "85573604"
      },
      "source": [
        "## Missing values - Imputación\n",
        "\n",
        "\n",
        "Existen diferentes tipos de valores perdidos y diferentes razones de su ausencia (no existe el dato, errores humanos, error tecnológico, la falta está asociada con algún tipo de datos, ...), lo que determina la estrategia para su tratamiento.\n",
        "\n",
        "### Clasificación:\n",
        "\n",
        "Por su nivel de aleatoriedad, estadísticamente se consideran tres tipos:\n",
        "\n",
        "+ Missing Completely at Random (MCAR). El hecho de que los datos falten es independiente de los datos observados y no observados.\n",
        "+ Missing at Random (MAR). El hecho de que los datos faltan está sistemáticamente relacionado con los datos observados pero no con los no observados.\n",
        "+ Missing Not at Random (MNAR). Significa que la probabilidad de tener un valor perdido varía por razones que por lo general desconocemos. La distribución de las observaciones perdidas puede depender de los valores observados y de los valores no observados, lo otros valores perdidos.\n",
        "\n",
        "La clasificación del tipo de ausencia se reduce al análisis de patrones en los datos que faltan y a la experiencia y dominio del contexto y de los datos analizados.\n",
        "\n",
        "En los dos primeros casos, es menos difícil proponer métodos de imputación o inclusive ignorarlos, mientras que en el tercer caso, eliminar las observaciones con valores perdidos puede producir un sesgo en los análisis. Por lo tanto, hay que tener mucho cuidado antes de eliminar las observaciones. La imputación no siempre genera los mejores resultados.\n",
        "\n",
        "A continuación una propuesta de taxonomía del trato que se le puede dar a valores ausentes:\n",
        "\n",
        "><figure><center>\n",
        "  <img src=\"https://www.researchgate.net/profile/Jaroslav-Bendl/publication/313510665/figure/fig12/AS:459933448708100@1486668087413/Summary-of-methods-for-handling-missing-values-in-data-instances-259.png\" alt=\"MV\" width=800 height=800/>\n",
        "  <figcaption><a href=\"https://www.researchgate.net/figure/Summary-of-methods-for-handling-missing-values-in-data-instances-259_fig12_313510665)\">Source</a></figcaption></figure></center>\n",
        "    \n",
        "Otros espacios en donde se puede seguir estudiando este tema:\n",
        "\n",
        "\n",
        "* [Dealing with Missing Data in Python](https://campus.datacamp.com/courses/dealing-with-missing-data-in-python/the-problem-with-missing-data?ex=1)\n",
        "* [How to Handle Missing Data](https://towardsdatascience.com/how-to-handle-missing-data-8646b18db0d4)"
      ]
    },
    {
      "cell_type": "markdown",
      "id": "a59ed9d7",
      "metadata": {
        "ExecuteTime": {
          "end_time": "2021-11-22T23:11:03.771034Z",
          "start_time": "2021-11-22T23:11:03.760000Z"
        },
        "id": "a59ed9d7"
      },
      "source": [
        "## Tratamiento de outliers\n",
        "\n",
        "<img src=\"https://maastrichtu-ids.github.io/images/2018-8-16-anol.png\" alt=\"B1\" width=300 height=300/><center><figcaption><a href=\"https://maastrichtu-ids.github.io/point-anomalies/\">Source</a></figcaption></figure></center>\n",
        "\n",
        "En términos no formales un outlier se puede considerar un valor, un dato, una tupla inusual en comparación con el resto de datos. Estos datos atípicos pueden llegar a sesgar los análisis o los modelos para un experimento dado o un conjunto de datos definido.\n",
        "\n",
        "Pueden causar problemas con los algoritmos, introducir ruido a los datos, perder convergencia, aumentar el tiempo de procesamiento, entre otros aspectos.\n",
        "\n",
        "<img src=\"https://miro.medium.com/max/1250/1*WnD2SK8I6-5EZoLi_XxFrg.png\" alt=\"B1\" width=800 height=800/><center><figcaption><a href=\"https://towardsdatascience.com/exploratory-data-analysis-eda-python-87178e35b14\">Source</a></figcaption></figure></center>\n",
        "\n",
        "\n",
        "#### Causas de aparición\n",
        "\n",
        "Las causas de aparación son diversas, algunas se listan a continuación:\n",
        "\n",
        "* Errores humanos. Errores de introducción de datos\n",
        "* Errores instrumentales. Errores de medición\n",
        "* Errores experimentales. Errores de extracción de datos o de planificación/ejecución de experimentos\n",
        "* Intencionales. Valores atípicos ficticios realizados para probar los métodos de detección\n",
        "* Errores de procesamiento de datos. Manipulación de datos involuntarias\n",
        "* Errores de muestreo. Extracción o mezcla de datos de fuentes erróneas\n",
        "* Naturales. No son un error, forman parte de la naturaleza de los datos\n",
        "\n",
        "\n",
        "#### ¿Cómo tratar los outliers?\n",
        "\n",
        "\n",
        "<table><tr>\n",
        "<td> <img src=\"https://images-na.ssl-images-amazon.com/images/I/51ZCtYYhzCL._SX330_BO1,204,203,200_.jpg\" alt=\"B1\" width=100 height=100/> </td>\n",
        "<td> <img src=\"https://images-na.ssl-images-amazon.com/images/I/41qsAVAtLgL._SY291_BO1,204,203,200_QL40_FMwebp_.jpg\" alt=\"B2\" width=95 height=95/> </td>\n",
        "</tr></table>\n",
        "\n",
        "En este notebook veremos algunos métodos sencillos de tratamiento (removerlos, establecer límites, imputarlos, ...); sin embargo, la decisión del tratamiento también está asociada con el tipo de problema a solucionar, con el tipo de modelo, la experticia y el conocimiento de los datos.\n",
        "\n",
        "El tratamiento de outliers es una linea de investigación. Ver por ejemplo el paper de [(Boukerche, Azzedine and Zheng, Lining and Alfandi, 2020)](https://dl.acm.org/doi/pdf/10.1145/3381028?casa_token=W1Y1_Vv5O-EAAAAA:ssmGjFOBBA589ko5Ahf1VYSk0odkZZUtvwSxy2pkVHS5nC7AWTQz1bxhu6-9Mbh9yCj0zI4oDBeFhVw) quienes proponen una toxonomia de los métodos existentes. Algunas alternativas para identificar y tratar outliers se pueden encontrar en [Novelty and Outlier Detection](https://scikit-learn.org/stable/modules/outlier_detection.html) en scikit-learn."
      ]
    },
    {
      "cell_type": "markdown",
      "id": "c0653211",
      "metadata": {
        "ExecuteTime": {
          "end_time": "2021-11-22T13:29:34.158864Z",
          "start_time": "2021-11-22T13:29:32.679118Z"
        },
        "id": "c0653211"
      },
      "source": [
        "\n",
        "## Ejemplo con dataset conocido (Titanic)"
      ]
    },
    {
      "cell_type": "code",
      "execution_count": null,
      "id": "02936740",
      "metadata": {
        "ExecuteTime": {
          "end_time": "2022-04-05T14:06:47.802841Z",
          "start_time": "2022-04-05T14:06:47.787842Z"
        },
        "id": "02936740",
        "outputId": "3b1e437e-f951-490c-ef54-97f341b0a7af"
      },
      "outputs": [
        {
          "data": {
            "text/html": [
              "<div>\n",
              "<style scoped>\n",
              "    .dataframe tbody tr th:only-of-type {\n",
              "        vertical-align: middle;\n",
              "    }\n",
              "\n",
              "    .dataframe tbody tr th {\n",
              "        vertical-align: top;\n",
              "    }\n",
              "\n",
              "    .dataframe thead th {\n",
              "        text-align: right;\n",
              "    }\n",
              "</style>\n",
              "<table border=\"1\" class=\"dataframe\">\n",
              "  <thead>\n",
              "    <tr style=\"text-align: right;\">\n",
              "      <th></th>\n",
              "      <th>alive</th>\n",
              "      <th>sex</th>\n",
              "      <th>age</th>\n",
              "      <th>sibsp</th>\n",
              "      <th>parch</th>\n",
              "      <th>fare</th>\n",
              "      <th>class</th>\n",
              "      <th>who</th>\n",
              "      <th>adult_male</th>\n",
              "      <th>deck</th>\n",
              "      <th>embark_town</th>\n",
              "      <th>alone</th>\n",
              "    </tr>\n",
              "  </thead>\n",
              "  <tbody>\n",
              "    <tr>\n",
              "      <th>0</th>\n",
              "      <td>0</td>\n",
              "      <td>male</td>\n",
              "      <td>22.0</td>\n",
              "      <td>1</td>\n",
              "      <td>0</td>\n",
              "      <td>7.2500</td>\n",
              "      <td>Third</td>\n",
              "      <td>man</td>\n",
              "      <td>adult_male</td>\n",
              "      <td>NaN</td>\n",
              "      <td>Southampton</td>\n",
              "      <td>non-alone</td>\n",
              "    </tr>\n",
              "    <tr>\n",
              "      <th>1</th>\n",
              "      <td>1</td>\n",
              "      <td>female</td>\n",
              "      <td>38.0</td>\n",
              "      <td>1</td>\n",
              "      <td>0</td>\n",
              "      <td>71.2833</td>\n",
              "      <td>First</td>\n",
              "      <td>woman</td>\n",
              "      <td>non-adult_male</td>\n",
              "      <td>C</td>\n",
              "      <td>Cherbourg</td>\n",
              "      <td>non-alone</td>\n",
              "    </tr>\n",
              "    <tr>\n",
              "      <th>2</th>\n",
              "      <td>1</td>\n",
              "      <td>female</td>\n",
              "      <td>26.0</td>\n",
              "      <td>0</td>\n",
              "      <td>0</td>\n",
              "      <td>7.9250</td>\n",
              "      <td>Third</td>\n",
              "      <td>woman</td>\n",
              "      <td>non-adult_male</td>\n",
              "      <td>NaN</td>\n",
              "      <td>Southampton</td>\n",
              "      <td>alone</td>\n",
              "    </tr>\n",
              "    <tr>\n",
              "      <th>3</th>\n",
              "      <td>1</td>\n",
              "      <td>female</td>\n",
              "      <td>35.0</td>\n",
              "      <td>1</td>\n",
              "      <td>0</td>\n",
              "      <td>53.1000</td>\n",
              "      <td>First</td>\n",
              "      <td>woman</td>\n",
              "      <td>non-adult_male</td>\n",
              "      <td>C</td>\n",
              "      <td>Southampton</td>\n",
              "      <td>non-alone</td>\n",
              "    </tr>\n",
              "    <tr>\n",
              "      <th>4</th>\n",
              "      <td>0</td>\n",
              "      <td>male</td>\n",
              "      <td>35.0</td>\n",
              "      <td>0</td>\n",
              "      <td>0</td>\n",
              "      <td>8.0500</td>\n",
              "      <td>Third</td>\n",
              "      <td>man</td>\n",
              "      <td>adult_male</td>\n",
              "      <td>NaN</td>\n",
              "      <td>Southampton</td>\n",
              "      <td>alone</td>\n",
              "    </tr>\n",
              "  </tbody>\n",
              "</table>\n",
              "</div>"
            ],
            "text/plain": [
              "   alive     sex   age  sibsp  parch     fare  class    who      adult_male  \\\n",
              "0      0    male  22.0      1      0   7.2500  Third    man      adult_male   \n",
              "1      1  female  38.0      1      0  71.2833  First  woman  non-adult_male   \n",
              "2      1  female  26.0      0      0   7.9250  Third  woman  non-adult_male   \n",
              "3      1  female  35.0      1      0  53.1000  First  woman  non-adult_male   \n",
              "4      0    male  35.0      0      0   8.0500  Third    man      adult_male   \n",
              "\n",
              "  deck  embark_town      alone  \n",
              "0  NaN  Southampton  non-alone  \n",
              "1    C    Cherbourg  non-alone  \n",
              "2  NaN  Southampton      alone  \n",
              "3    C  Southampton  non-alone  \n",
              "4  NaN  Southampton      alone  "
            ]
          },
          "execution_count": 3,
          "metadata": {},
          "output_type": "execute_result"
        }
      ],
      "source": [
        "df.head()"
      ]
    },
    {
      "cell_type": "markdown",
      "id": "12d98be3",
      "metadata": {
        "id": "12d98be3"
      },
      "source": [
        "Recordemos las variables:\n",
        "\n",
        "+ sex: Sex\n",
        "+ age: Age\n",
        "+ sibsp: Number of siblings/spouses aboard\n",
        "+ parch: Number of parents/children aboard\n",
        "+ fare: Passenger fare (British pound)\n",
        "+ adult_male: A male 18 or older (0 = No, 1=Yes)\n",
        "+ deck: Deck of the ship\n",
        "+ who: man (18+), woman (18+), child (<18)\n",
        "+ **alive**: Yes, no (survived)\n",
        "+ embarked_town: Port of embarkation ( Cherbourg, Queenstown, Southampton)(embarked)\n",
        "+ class: Passenger class (1st; 2nd; 3rd) (pclass)\n",
        "+ alone: 1= alone, 0= not alone ( you have at least 1 sibling, spouse, parent or child on board) (sibsp, parch)"
      ]
    },
    {
      "cell_type": "markdown",
      "id": "3f33d35b",
      "metadata": {
        "id": "3f33d35b"
      },
      "source": [
        "Los hallazgos:\n",
        "\n",
        "* Shape del dataset\n",
        "    + 891,12\n",
        "* Variables categóricas, númericas y de texto\n",
        "    + 10,2, 0\n",
        "* Duplicados\n",
        "    + 107 en total\n",
        "* Missing value\n",
        "    + Age(177,20%), deck(688, 77%) y embark_town(2, 1%)\n",
        "* Outliers\n",
        "    + Age, Fare\n",
        "    + Age y Fare en box-plot cruzado contra alive no muestra outliers claros\n",
        "    + Parch y sibsp presentan algunos valores atípicos\n",
        ">**¿Qué hacer?**"
      ]
    },
    {
      "cell_type": "markdown",
      "id": "9c628d94",
      "metadata": {
        "id": "9c628d94"
      },
      "source": [
        "## Estrategia con Dataset de ejemplo\n",
        "\n",
        "### Tatamiento de missing value:\n",
        "\n",
        "* age:\n",
        "\n",
        "    - No hacer nada. La mayoría de librerias omite los valores perdidos y calcula estadísticas sobre de los valores restantes. ( ej. df.describe()).\n",
        "    - Eliminar registros\n",
        "    - Imputación simple media\n",
        "    - Imputación simple mediana\n",
        "    - Iterative (MICE: multivariate imputation by chained)\n",
        "    - knn\n",
        "    - Imputación a la medida con sex, class\n",
        "    \n",
        "* embarked:\n",
        "    - Eliminar registros\n",
        "    - Imputarlos con moda\n",
        "* deck:\n",
        "    - demasiados nan, no la tendremos en cuenta\n",
        "    \n",
        "### Tratamiento de outliers\n",
        "\n",
        "* Variables: Age, Fare, Parch y sibsp\n",
        "    - IQR, Z, limitarlos, imputarlos (métodos univariados o multivariados) o no hacer nada.\n",
        "    - Recategorizar las variables con k-bins\n"
      ]
    },
    {
      "cell_type": "markdown",
      "id": "dbe6b276",
      "metadata": {
        "id": "dbe6b276"
      },
      "source": [
        "## Transformación Dataset de ejemplo"
      ]
    },
    {
      "cell_type": "markdown",
      "id": "573aad2d",
      "metadata": {
        "id": "573aad2d"
      },
      "source": [
        "### Imputación missing value de age"
      ]
    },
    {
      "cell_type": "code",
      "execution_count": null,
      "id": "399854d7",
      "metadata": {
        "ExecuteTime": {
          "end_time": "2022-04-05T14:43:34.890205Z",
          "start_time": "2022-04-05T14:43:34.856205Z"
        },
        "id": "399854d7",
        "outputId": "cb3e394e-2b89-449f-b589-bf6f9ed8ae19"
      },
      "outputs": [
        {
          "data": {
            "text/html": [
              "<div>\n",
              "<style scoped>\n",
              "    .dataframe tbody tr th:only-of-type {\n",
              "        vertical-align: middle;\n",
              "    }\n",
              "\n",
              "    .dataframe tbody tr th {\n",
              "        vertical-align: top;\n",
              "    }\n",
              "\n",
              "    .dataframe thead th {\n",
              "        text-align: right;\n",
              "    }\n",
              "</style>\n",
              "<table border=\"1\" class=\"dataframe\">\n",
              "  <thead>\n",
              "    <tr style=\"text-align: right;\">\n",
              "      <th></th>\n",
              "      <th>alive</th>\n",
              "      <th>sex</th>\n",
              "      <th>age</th>\n",
              "      <th>sibsp</th>\n",
              "      <th>parch</th>\n",
              "      <th>fare</th>\n",
              "      <th>class</th>\n",
              "      <th>who</th>\n",
              "      <th>adult_male</th>\n",
              "      <th>deck</th>\n",
              "      <th>embark_town</th>\n",
              "      <th>alone</th>\n",
              "    </tr>\n",
              "  </thead>\n",
              "  <tbody>\n",
              "    <tr>\n",
              "      <th>5</th>\n",
              "      <td>0</td>\n",
              "      <td>male</td>\n",
              "      <td>NaN</td>\n",
              "      <td>0</td>\n",
              "      <td>0</td>\n",
              "      <td>8.4583</td>\n",
              "      <td>Third</td>\n",
              "      <td>man</td>\n",
              "      <td>adult_male</td>\n",
              "      <td>NaN</td>\n",
              "      <td>Queenstown</td>\n",
              "      <td>alone</td>\n",
              "    </tr>\n",
              "    <tr>\n",
              "      <th>17</th>\n",
              "      <td>1</td>\n",
              "      <td>male</td>\n",
              "      <td>NaN</td>\n",
              "      <td>0</td>\n",
              "      <td>0</td>\n",
              "      <td>13.0000</td>\n",
              "      <td>Second</td>\n",
              "      <td>man</td>\n",
              "      <td>adult_male</td>\n",
              "      <td>NaN</td>\n",
              "      <td>Southampton</td>\n",
              "      <td>alone</td>\n",
              "    </tr>\n",
              "    <tr>\n",
              "      <th>19</th>\n",
              "      <td>1</td>\n",
              "      <td>female</td>\n",
              "      <td>NaN</td>\n",
              "      <td>0</td>\n",
              "      <td>0</td>\n",
              "      <td>7.2250</td>\n",
              "      <td>Third</td>\n",
              "      <td>woman</td>\n",
              "      <td>non-adult_male</td>\n",
              "      <td>NaN</td>\n",
              "      <td>Cherbourg</td>\n",
              "      <td>alone</td>\n",
              "    </tr>\n",
              "    <tr>\n",
              "      <th>26</th>\n",
              "      <td>0</td>\n",
              "      <td>male</td>\n",
              "      <td>NaN</td>\n",
              "      <td>0</td>\n",
              "      <td>0</td>\n",
              "      <td>7.2250</td>\n",
              "      <td>Third</td>\n",
              "      <td>man</td>\n",
              "      <td>adult_male</td>\n",
              "      <td>NaN</td>\n",
              "      <td>Cherbourg</td>\n",
              "      <td>alone</td>\n",
              "    </tr>\n",
              "    <tr>\n",
              "      <th>28</th>\n",
              "      <td>1</td>\n",
              "      <td>female</td>\n",
              "      <td>NaN</td>\n",
              "      <td>0</td>\n",
              "      <td>0</td>\n",
              "      <td>7.8792</td>\n",
              "      <td>Third</td>\n",
              "      <td>woman</td>\n",
              "      <td>non-adult_male</td>\n",
              "      <td>NaN</td>\n",
              "      <td>Queenstown</td>\n",
              "      <td>alone</td>\n",
              "    </tr>\n",
              "  </tbody>\n",
              "</table>\n",
              "</div>"
            ],
            "text/plain": [
              "    alive     sex  age  sibsp  parch     fare   class    who      adult_male  \\\n",
              "5       0    male  NaN      0      0   8.4583   Third    man      adult_male   \n",
              "17      1    male  NaN      0      0  13.0000  Second    man      adult_male   \n",
              "19      1  female  NaN      0      0   7.2250   Third  woman  non-adult_male   \n",
              "26      0    male  NaN      0      0   7.2250   Third    man      adult_male   \n",
              "28      1  female  NaN      0      0   7.8792   Third  woman  non-adult_male   \n",
              "\n",
              "   deck  embark_town  alone  \n",
              "5   NaN   Queenstown  alone  \n",
              "17  NaN  Southampton  alone  \n",
              "19  NaN    Cherbourg  alone  \n",
              "26  NaN    Cherbourg  alone  \n",
              "28  NaN   Queenstown  alone  "
            ]
          },
          "metadata": {},
          "output_type": "display_data"
        }
      ],
      "source": [
        "# Age\n",
        "display(df[df.age.isnull()].head())"
      ]
    },
    {
      "cell_type": "code",
      "execution_count": null,
      "id": "22d8f85b",
      "metadata": {
        "ExecuteTime": {
          "end_time": "2022-04-05T14:07:00.220279Z",
          "start_time": "2022-04-05T14:07:00.205284Z"
        },
        "id": "22d8f85b",
        "outputId": "48b58862-8f88-453d-f4aa-2adc91e606db"
      },
      "outputs": [
        {
          "data": {
            "text/plain": [
              "alive            0\n",
              "sex              0\n",
              "age            177\n",
              "sibsp            0\n",
              "parch            0\n",
              "fare             0\n",
              "class            0\n",
              "who              0\n",
              "adult_male       0\n",
              "deck           688\n",
              "embark_town      2\n",
              "alone            0\n",
              "dtype: int64"
            ]
          },
          "execution_count": 5,
          "metadata": {},
          "output_type": "execute_result"
        }
      ],
      "source": [
        "df.isnull().sum()"
      ]
    },
    {
      "cell_type": "code",
      "execution_count": null,
      "id": "dbfb67fa",
      "metadata": {
        "id": "dbfb67fa"
      },
      "outputs": [],
      "source": [
        "# Age\n",
        "import numpy as np\n",
        "from sklearn.impute import SimpleImputer\n",
        "from sklearn.impute import KNNImputer\n",
        "from sklearn.experimental import enable_iterative_imputer\n",
        "from sklearn.impute import IterativeImputer\n",
        "from sklearn.linear_model import LinearRegression\n",
        "lr = LinearRegression()"
      ]
    },
    {
      "cell_type": "code",
      "execution_count": null,
      "id": "bf27a6db",
      "metadata": {
        "ExecuteTime": {
          "end_time": "2022-04-05T14:27:20.422572Z",
          "start_time": "2022-04-05T14:27:20.368649Z"
        },
        "id": "bf27a6db",
        "outputId": "845ac029-1d08-4369-d511-6f69d74026ea"
      },
      "outputs": [
        {
          "data": {
            "text/html": [
              "<div>\n",
              "<style scoped>\n",
              "    .dataframe tbody tr th:only-of-type {\n",
              "        vertical-align: middle;\n",
              "    }\n",
              "\n",
              "    .dataframe tbody tr th {\n",
              "        vertical-align: top;\n",
              "    }\n",
              "\n",
              "    .dataframe thead th {\n",
              "        text-align: right;\n",
              "    }\n",
              "</style>\n",
              "<table border=\"1\" class=\"dataframe\">\n",
              "  <thead>\n",
              "    <tr style=\"text-align: right;\">\n",
              "      <th></th>\n",
              "      <th>alive</th>\n",
              "      <th>sex</th>\n",
              "      <th>age</th>\n",
              "      <th>sibsp</th>\n",
              "      <th>parch</th>\n",
              "      <th>fare</th>\n",
              "      <th>class</th>\n",
              "      <th>who</th>\n",
              "      <th>adult_male</th>\n",
              "      <th>deck</th>\n",
              "      <th>embark_town</th>\n",
              "      <th>alone</th>\n",
              "      <th>age_miu</th>\n",
              "      <th>age_med</th>\n",
              "      <th>age_mice</th>\n",
              "      <th>age_knn</th>\n",
              "      <th>age_ah</th>\n",
              "    </tr>\n",
              "  </thead>\n",
              "  <tbody>\n",
              "    <tr>\n",
              "      <th>5</th>\n",
              "      <td>0</td>\n",
              "      <td>male</td>\n",
              "      <td>NaN</td>\n",
              "      <td>0</td>\n",
              "      <td>0</td>\n",
              "      <td>8.4583</td>\n",
              "      <td>Third</td>\n",
              "      <td>man</td>\n",
              "      <td>adult_male</td>\n",
              "      <td>NaN</td>\n",
              "      <td>Queenstown</td>\n",
              "      <td>alone</td>\n",
              "      <td>29.699118</td>\n",
              "      <td>28.0</td>\n",
              "      <td>29.699118</td>\n",
              "      <td>29.699118</td>\n",
              "      <td>25.0</td>\n",
              "    </tr>\n",
              "    <tr>\n",
              "      <th>17</th>\n",
              "      <td>1</td>\n",
              "      <td>male</td>\n",
              "      <td>NaN</td>\n",
              "      <td>0</td>\n",
              "      <td>0</td>\n",
              "      <td>13.0000</td>\n",
              "      <td>Second</td>\n",
              "      <td>man</td>\n",
              "      <td>adult_male</td>\n",
              "      <td>NaN</td>\n",
              "      <td>Southampton</td>\n",
              "      <td>alone</td>\n",
              "      <td>29.699118</td>\n",
              "      <td>28.0</td>\n",
              "      <td>29.699118</td>\n",
              "      <td>29.699118</td>\n",
              "      <td>30.0</td>\n",
              "    </tr>\n",
              "    <tr>\n",
              "      <th>19</th>\n",
              "      <td>1</td>\n",
              "      <td>female</td>\n",
              "      <td>NaN</td>\n",
              "      <td>0</td>\n",
              "      <td>0</td>\n",
              "      <td>7.2250</td>\n",
              "      <td>Third</td>\n",
              "      <td>woman</td>\n",
              "      <td>non-adult_male</td>\n",
              "      <td>NaN</td>\n",
              "      <td>Cherbourg</td>\n",
              "      <td>alone</td>\n",
              "      <td>29.699118</td>\n",
              "      <td>28.0</td>\n",
              "      <td>29.699118</td>\n",
              "      <td>29.699118</td>\n",
              "      <td>21.5</td>\n",
              "    </tr>\n",
              "    <tr>\n",
              "      <th>26</th>\n",
              "      <td>0</td>\n",
              "      <td>male</td>\n",
              "      <td>NaN</td>\n",
              "      <td>0</td>\n",
              "      <td>0</td>\n",
              "      <td>7.2250</td>\n",
              "      <td>Third</td>\n",
              "      <td>man</td>\n",
              "      <td>adult_male</td>\n",
              "      <td>NaN</td>\n",
              "      <td>Cherbourg</td>\n",
              "      <td>alone</td>\n",
              "      <td>29.699118</td>\n",
              "      <td>28.0</td>\n",
              "      <td>29.699118</td>\n",
              "      <td>29.699118</td>\n",
              "      <td>25.0</td>\n",
              "    </tr>\n",
              "    <tr>\n",
              "      <th>28</th>\n",
              "      <td>1</td>\n",
              "      <td>female</td>\n",
              "      <td>NaN</td>\n",
              "      <td>0</td>\n",
              "      <td>0</td>\n",
              "      <td>7.8792</td>\n",
              "      <td>Third</td>\n",
              "      <td>woman</td>\n",
              "      <td>non-adult_male</td>\n",
              "      <td>NaN</td>\n",
              "      <td>Queenstown</td>\n",
              "      <td>alone</td>\n",
              "      <td>29.699118</td>\n",
              "      <td>28.0</td>\n",
              "      <td>29.699118</td>\n",
              "      <td>29.699118</td>\n",
              "      <td>21.5</td>\n",
              "    </tr>\n",
              "  </tbody>\n",
              "</table>\n",
              "</div>"
            ],
            "text/plain": [
              "    alive     sex  age  sibsp  parch     fare   class    who      adult_male  \\\n",
              "5       0    male  NaN      0      0   8.4583   Third    man      adult_male   \n",
              "17      1    male  NaN      0      0  13.0000  Second    man      adult_male   \n",
              "19      1  female  NaN      0      0   7.2250   Third  woman  non-adult_male   \n",
              "26      0    male  NaN      0      0   7.2250   Third    man      adult_male   \n",
              "28      1  female  NaN      0      0   7.8792   Third  woman  non-adult_male   \n",
              "\n",
              "   deck  embark_town  alone    age_miu  age_med   age_mice    age_knn  age_ah  \n",
              "5   NaN   Queenstown  alone  29.699118     28.0  29.699118  29.699118    25.0  \n",
              "17  NaN  Southampton  alone  29.699118     28.0  29.699118  29.699118    30.0  \n",
              "19  NaN    Cherbourg  alone  29.699118     28.0  29.699118  29.699118    21.5  \n",
              "26  NaN    Cherbourg  alone  29.699118     28.0  29.699118  29.699118    25.0  \n",
              "28  NaN   Queenstown  alone  29.699118     28.0  29.699118  29.699118    21.5  "
            ]
          },
          "metadata": {},
          "output_type": "display_data"
        }
      ],
      "source": [
        "#df.dropna(subset=['age'])\n",
        "im_mean=SimpleImputer(missing_values=np.nan, strategy='mean')\n",
        "im_mean=im_mean.fit(df[['age']])\n",
        "df['age_miu'] = im_mean.transform(df[['age']])\n",
        "\n",
        "im_median=SimpleImputer(missing_values=np.nan, strategy='median')\n",
        "im_median=im_median.fit(df[['age']])\n",
        "df['age_med'] = im_median.transform(df[['age']])\n",
        "\n",
        "iter_imputer = IterativeImputer(estimator=lr,missing_values=np.nan,\n",
        "                                max_iter=10,random_state=0)\n",
        "#otros estimadores: BayesianRidge o ExtraTreeRegressor\n",
        "iter_imputer= iter_imputer.fit(df[['age']])\n",
        "df['age_mice']=iter_imputer.transform(df[['age']])\n",
        "\n",
        "knn_imputer = KNNImputer(n_neighbors=4, weights=\"uniform\")\n",
        "knn_imputer  = knn_imputer.fit(df[['age']])\n",
        "df['age_knn']=knn_imputer.transform(df[['age']])\n",
        "\n",
        "###imputer ad-hoc\n",
        "df['age_ah'] = df['age'].groupby([df['class'], df['sex']]).apply(lambda x: x.fillna(x.median()))\n",
        "display(df[df.age.isnull()].head())"
      ]
    },
    {
      "cell_type": "code",
      "execution_count": null,
      "id": "f2d0fe41",
      "metadata": {
        "ExecuteTime": {
          "end_time": "2022-04-05T14:27:30.800830Z",
          "start_time": "2022-04-05T14:27:30.781769Z"
        },
        "id": "f2d0fe41",
        "outputId": "7e4d06c6-4d07-47e4-9b36-aaec47420e72"
      },
      "outputs": [
        {
          "data": {
            "text/plain": [
              "0"
            ]
          },
          "execution_count": 8,
          "metadata": {},
          "output_type": "execute_result"
        }
      ],
      "source": [
        "df['age_ah'].isnull().sum()"
      ]
    },
    {
      "cell_type": "code",
      "execution_count": null,
      "id": "bef96e05",
      "metadata": {
        "ExecuteTime": {
          "end_time": "2022-04-05T14:27:39.037757Z",
          "start_time": "2022-04-05T14:27:39.020754Z"
        },
        "id": "bef96e05"
      },
      "outputs": [],
      "source": [
        "#Podemos decidir extraer las variables similares\n",
        "df= df.drop(columns=['age_knn', 'age_mice'], errors='ignore')"
      ]
    },
    {
      "cell_type": "markdown",
      "id": "172ad822",
      "metadata": {
        "id": "172ad822"
      },
      "source": [
        "### Imputación missing value de  embark_town"
      ]
    },
    {
      "cell_type": "code",
      "execution_count": null,
      "id": "bbb6da91",
      "metadata": {
        "ExecuteTime": {
          "end_time": "2022-04-05T14:28:19.688267Z",
          "start_time": "2022-04-05T14:28:19.676257Z"
        },
        "id": "bbb6da91",
        "outputId": "935f3ca5-b26d-4305-8c43-127244737183"
      },
      "outputs": [
        {
          "data": {
            "text/plain": [
              "0"
            ]
          },
          "execution_count": 10,
          "metadata": {},
          "output_type": "execute_result"
        }
      ],
      "source": [
        "#embark_town\n",
        "#df.dropna(subset=['embark_town'],how='any',inplace=True)# eliminar faltantes\n",
        "imputer_mf = SimpleImputer(strategy='most_frequent', missing_values=np.nan)\n",
        "imputer_mf= imputer_mf.fit(df[['embark_town']])\n",
        "df['embark_town']=imputer_mf.transform(df[['embark_town']])\n",
        "df['embark_town'].isnull().sum()"
      ]
    },
    {
      "cell_type": "markdown",
      "id": "37b6b879",
      "metadata": {
        "id": "37b6b879"
      },
      "source": [
        "### Tratamiento de outliers: Age, Fare"
      ]
    },
    {
      "cell_type": "code",
      "execution_count": null,
      "id": "4bf3be4b",
      "metadata": {
        "ExecuteTime": {
          "end_time": "2022-04-05T14:35:04.363499Z",
          "start_time": "2022-04-05T14:35:04.344496Z"
        },
        "id": "4bf3be4b",
        "outputId": "14385d0c-1791-4624-bc8d-cb26c2c88aba"
      },
      "outputs": [
        {
          "name": "stdout",
          "output_type": "stream",
          "text": [
            "(703, 15) (712, 15) (635, 15)\n"
          ]
        }
      ],
      "source": [
        "#remover outliers al usar Z y IQR.\n",
        "# imputar with IQR, z y percentiles\n",
        "\n",
        "def remove_outlier_IQR(df_in, col_name):\n",
        "    q1 = df_in[col_name].quantile(0.25)\n",
        "    q3 = df_in[col_name].quantile(0.75)\n",
        "    iqr = q3-q1 #Interquartile range\n",
        "    lower  = q1-1.5*iqr\n",
        "    upper = q3+1.5*iqr\n",
        "    df_out = df_in.loc[(df_in[col_name] > lower) & (df_in[col_name] < upper)]\n",
        "    return df_out\n",
        "\n",
        "def remove_outlier_z(df_in,colname,standard_deviations):\n",
        "    df_out =df_in[((df_in[colname] - df_in[colname].mean()) / df_in[colname].std()).abs() < standard_deviations]\n",
        "    return df_out\n",
        "\n",
        "def remove_outlier_perc(df_in, col_name, q):\n",
        "    upper = df_in[col_name].quantile(1-q)\n",
        "    lower = df_in[col_name].quantile(q)\n",
        "    df_out = df_in.loc[(df_in[col_name] > lower) & (df_in[col_name] < upper)]\n",
        "    return df_out\n",
        "\n",
        "a=remove_outlier_IQR(df, 'age').shape\n",
        "b=remove_outlier_z(df,'age',3).shape\n",
        "c=remove_outlier_perc(df, 'age', 0.05).shape\n",
        "print(a,b,c)\n"
      ]
    },
    {
      "cell_type": "code",
      "execution_count": null,
      "id": "4cf64c94",
      "metadata": {
        "ExecuteTime": {
          "end_time": "2022-04-05T14:29:25.460442Z",
          "start_time": "2022-04-05T14:29:25.443441Z"
        },
        "id": "4cf64c94",
        "outputId": "028748c7-baa0-49a1-e5c8-d9a6e7a815ea"
      },
      "outputs": [
        {
          "data": {
            "text/plain": [
              "188"
            ]
          },
          "execution_count": 12,
          "metadata": {},
          "output_type": "execute_result"
        }
      ],
      "source": [
        "# Outliers a nans\n",
        "import pandas as pd\n",
        "import numpy as np\n",
        "\n",
        "def nan_outliers_IQR(s, replace=np.nan):\n",
        "    Q1, Q3 = np.nanquantile(s, [0.25 ,0.75])\n",
        "    IQR = Q3-Q1\n",
        "    return s.mask(((s < (Q1 - 1.5 * IQR)) | (s > (Q3 + 1.5 * IQR)) & pd.notna(s)), replace)\n",
        "\n",
        "df['age_onan']=nan_outliers_IQR(df['age'], replace=np.nan)\n",
        "df['age_onan'].isnull().sum()"
      ]
    },
    {
      "cell_type": "code",
      "execution_count": null,
      "id": "6aa5cd27",
      "metadata": {
        "ExecuteTime": {
          "end_time": "2022-04-05T14:31:19.616815Z",
          "start_time": "2022-04-05T14:31:19.597814Z"
        },
        "id": "6aa5cd27",
        "outputId": "edcbc3d3-7272-4797-f97c-b6082c08a7db"
      },
      "outputs": [
        {
          "data": {
            "text/plain": [
              "0"
            ]
          },
          "execution_count": 13,
          "metadata": {},
          "output_type": "execute_result"
        }
      ],
      "source": [
        "# imputer outliers nan con la mediana (ad-hoc)\n",
        "df['age_onan_ah'] = df['age_onan'].groupby([df['class'], df['sex']]).apply(lambda x: x.fillna(x.median()))\n",
        "df['age_onan_ah'].isnull().sum()"
      ]
    },
    {
      "cell_type": "code",
      "execution_count": null,
      "id": "30860bac",
      "metadata": {
        "ExecuteTime": {
          "end_time": "2022-04-05T14:35:58.496328Z",
          "start_time": "2022-04-05T14:35:58.474313Z"
        },
        "id": "30860bac",
        "outputId": "8f5c4153-38a0-46ea-9caa-fdf5fdfc375a"
      },
      "outputs": [
        {
          "data": {
            "text/plain": [
              "177"
            ]
          },
          "execution_count": 14,
          "metadata": {},
          "output_type": "execute_result"
        }
      ],
      "source": [
        "# Limitamos la variable a sus percentiles q y (1-q) y luego imputamos nans con la mediana por sex y class (uso de .clip)\n",
        "#Winsorizing\n",
        "def lim_quantile_outliers(df, col_name, q):\n",
        "    p_lower = df[col_name].quantile(q) # 5th quantile\n",
        "    p_upper = df[col_name].quantile(1-q) # 95th quantile\n",
        "    return df[col_name].clip(p_lower, p_upper, inplace=False)\n",
        "\n",
        "df['age_lo_q05']=lim_quantile_outliers(df, 'age', 0.05)\n",
        "df['fare_lo_q05']=lim_quantile_outliers(df, 'fare', 0.05)\n",
        "df['age_lo_q05'].isnull().sum()"
      ]
    },
    {
      "cell_type": "code",
      "execution_count": null,
      "id": "e9634853",
      "metadata": {
        "ExecuteTime": {
          "end_time": "2022-04-05T14:36:02.515765Z",
          "start_time": "2022-04-05T14:36:02.485440Z"
        },
        "id": "e9634853",
        "outputId": "08ab8253-aeb6-4907-e445-4284a3012996"
      },
      "outputs": [
        {
          "data": {
            "text/plain": [
              "0"
            ]
          },
          "execution_count": 15,
          "metadata": {},
          "output_type": "execute_result"
        }
      ],
      "source": [
        "# imputer nan con la mediana (ad-hoc)\n",
        "df['age_lo_q05_ah_onan'] = df['age_lo_q05'].groupby([df['class'], df['sex']]).apply(lambda x: x.fillna(x.median()))\n",
        "df['age_lo_q05_ah_onan'].isnull().sum()"
      ]
    },
    {
      "cell_type": "code",
      "execution_count": null,
      "id": "0d850fae",
      "metadata": {
        "ExecuteTime": {
          "end_time": "2022-04-05T14:36:07.222196Z",
          "start_time": "2022-04-05T14:36:07.184400Z"
        },
        "id": "0d850fae",
        "outputId": "d3fa0211-14c9-4f9a-f0ba-16f876c24883"
      },
      "outputs": [
        {
          "data": {
            "text/html": [
              "<div>\n",
              "<style scoped>\n",
              "    .dataframe tbody tr th:only-of-type {\n",
              "        vertical-align: middle;\n",
              "    }\n",
              "\n",
              "    .dataframe tbody tr th {\n",
              "        vertical-align: top;\n",
              "    }\n",
              "\n",
              "    .dataframe thead th {\n",
              "        text-align: right;\n",
              "    }\n",
              "</style>\n",
              "<table border=\"1\" class=\"dataframe\">\n",
              "  <thead>\n",
              "    <tr style=\"text-align: right;\">\n",
              "      <th></th>\n",
              "      <th>alive</th>\n",
              "      <th>sex</th>\n",
              "      <th>age</th>\n",
              "      <th>sibsp</th>\n",
              "      <th>parch</th>\n",
              "      <th>fare</th>\n",
              "      <th>class</th>\n",
              "      <th>who</th>\n",
              "      <th>adult_male</th>\n",
              "      <th>deck</th>\n",
              "      <th>...</th>\n",
              "      <th>age_miu</th>\n",
              "      <th>age_med</th>\n",
              "      <th>age_ah</th>\n",
              "      <th>age_onan</th>\n",
              "      <th>age_onan_ah</th>\n",
              "      <th>age_lo_q05</th>\n",
              "      <th>fare_lo_q05</th>\n",
              "      <th>age_lo_q05_ah_onan</th>\n",
              "      <th>age_qbin</th>\n",
              "      <th>fare_qbin</th>\n",
              "    </tr>\n",
              "  </thead>\n",
              "  <tbody>\n",
              "    <tr>\n",
              "      <th>0</th>\n",
              "      <td>0</td>\n",
              "      <td>male</td>\n",
              "      <td>22.0</td>\n",
              "      <td>1</td>\n",
              "      <td>0</td>\n",
              "      <td>7.2500</td>\n",
              "      <td>Third</td>\n",
              "      <td>man</td>\n",
              "      <td>adult_male</td>\n",
              "      <td>NaN</td>\n",
              "      <td>...</td>\n",
              "      <td>22.0</td>\n",
              "      <td>22.0</td>\n",
              "      <td>22.0</td>\n",
              "      <td>22.0</td>\n",
              "      <td>22.0</td>\n",
              "      <td>22.0</td>\n",
              "      <td>7.2500</td>\n",
              "      <td>22.0</td>\n",
              "      <td>(20.0, 22.0]</td>\n",
              "      <td>(-0.01, 7.55]</td>\n",
              "    </tr>\n",
              "    <tr>\n",
              "      <th>1</th>\n",
              "      <td>1</td>\n",
              "      <td>female</td>\n",
              "      <td>38.0</td>\n",
              "      <td>1</td>\n",
              "      <td>0</td>\n",
              "      <td>71.2833</td>\n",
              "      <td>First</td>\n",
              "      <td>woman</td>\n",
              "      <td>non-adult_male</td>\n",
              "      <td>C</td>\n",
              "      <td>...</td>\n",
              "      <td>38.0</td>\n",
              "      <td>38.0</td>\n",
              "      <td>38.0</td>\n",
              "      <td>38.0</td>\n",
              "      <td>38.0</td>\n",
              "      <td>38.0</td>\n",
              "      <td>71.2833</td>\n",
              "      <td>38.0</td>\n",
              "      <td>(34.0, 40.0]</td>\n",
              "      <td>(39.69, 77.96]</td>\n",
              "    </tr>\n",
              "    <tr>\n",
              "      <th>2</th>\n",
              "      <td>1</td>\n",
              "      <td>female</td>\n",
              "      <td>26.0</td>\n",
              "      <td>0</td>\n",
              "      <td>0</td>\n",
              "      <td>7.9250</td>\n",
              "      <td>Third</td>\n",
              "      <td>woman</td>\n",
              "      <td>non-adult_male</td>\n",
              "      <td>NaN</td>\n",
              "      <td>...</td>\n",
              "      <td>26.0</td>\n",
              "      <td>26.0</td>\n",
              "      <td>26.0</td>\n",
              "      <td>26.0</td>\n",
              "      <td>26.0</td>\n",
              "      <td>26.0</td>\n",
              "      <td>7.9250</td>\n",
              "      <td>26.0</td>\n",
              "      <td>(25.0, 26.0]</td>\n",
              "      <td>(7.85, 8.05]</td>\n",
              "    </tr>\n",
              "    <tr>\n",
              "      <th>3</th>\n",
              "      <td>1</td>\n",
              "      <td>female</td>\n",
              "      <td>35.0</td>\n",
              "      <td>1</td>\n",
              "      <td>0</td>\n",
              "      <td>53.1000</td>\n",
              "      <td>First</td>\n",
              "      <td>woman</td>\n",
              "      <td>non-adult_male</td>\n",
              "      <td>C</td>\n",
              "      <td>...</td>\n",
              "      <td>35.0</td>\n",
              "      <td>35.0</td>\n",
              "      <td>35.0</td>\n",
              "      <td>35.0</td>\n",
              "      <td>35.0</td>\n",
              "      <td>35.0</td>\n",
              "      <td>53.1000</td>\n",
              "      <td>35.0</td>\n",
              "      <td>(34.0, 40.0]</td>\n",
              "      <td>(39.69, 77.96]</td>\n",
              "    </tr>\n",
              "    <tr>\n",
              "      <th>4</th>\n",
              "      <td>0</td>\n",
              "      <td>male</td>\n",
              "      <td>35.0</td>\n",
              "      <td>0</td>\n",
              "      <td>0</td>\n",
              "      <td>8.0500</td>\n",
              "      <td>Third</td>\n",
              "      <td>man</td>\n",
              "      <td>adult_male</td>\n",
              "      <td>NaN</td>\n",
              "      <td>...</td>\n",
              "      <td>35.0</td>\n",
              "      <td>35.0</td>\n",
              "      <td>35.0</td>\n",
              "      <td>35.0</td>\n",
              "      <td>35.0</td>\n",
              "      <td>35.0</td>\n",
              "      <td>8.0500</td>\n",
              "      <td>35.0</td>\n",
              "      <td>(34.0, 40.0]</td>\n",
              "      <td>(7.85, 8.05]</td>\n",
              "    </tr>\n",
              "  </tbody>\n",
              "</table>\n",
              "<p>5 rows × 22 columns</p>\n",
              "</div>"
            ],
            "text/plain": [
              "   alive     sex   age  sibsp  parch     fare  class    who      adult_male  \\\n",
              "0      0    male  22.0      1      0   7.2500  Third    man      adult_male   \n",
              "1      1  female  38.0      1      0  71.2833  First  woman  non-adult_male   \n",
              "2      1  female  26.0      0      0   7.9250  Third  woman  non-adult_male   \n",
              "3      1  female  35.0      1      0  53.1000  First  woman  non-adult_male   \n",
              "4      0    male  35.0      0      0   8.0500  Third    man      adult_male   \n",
              "\n",
              "  deck  ... age_miu age_med  age_ah  age_onan  age_onan_ah  age_lo_q05  \\\n",
              "0  NaN  ...    22.0    22.0    22.0      22.0         22.0        22.0   \n",
              "1    C  ...    38.0    38.0    38.0      38.0         38.0        38.0   \n",
              "2  NaN  ...    26.0    26.0    26.0      26.0         26.0        26.0   \n",
              "3    C  ...    35.0    35.0    35.0      35.0         35.0        35.0   \n",
              "4  NaN  ...    35.0    35.0    35.0      35.0         35.0        35.0   \n",
              "\n",
              "   fare_lo_q05  age_lo_q05_ah_onan      age_qbin       fare_qbin  \n",
              "0       7.2500                22.0  (20.0, 22.0]   (-0.01, 7.55]  \n",
              "1      71.2833                38.0  (34.0, 40.0]  (39.69, 77.96]  \n",
              "2       7.9250                26.0  (25.0, 26.0]    (7.85, 8.05]  \n",
              "3      53.1000                35.0  (34.0, 40.0]  (39.69, 77.96]  \n",
              "4       8.0500                35.0  (34.0, 40.0]    (7.85, 8.05]  \n",
              "\n",
              "[5 rows x 22 columns]"
            ]
          },
          "execution_count": 16,
          "metadata": {},
          "output_type": "execute_result"
        }
      ],
      "source": [
        "# Categorizar, discretizar o Binning de Age, Fare\n",
        "# Hay diversas formas de hacer binning. Usaremos la función qcut() que genera intervalos por quantiles.\n",
        "import pandas as pd\n",
        "df['age_qbin'] = pd.qcut(df['age_ah'], q=10, precision=0)\n",
        "df['fare_qbin'] = pd.qcut(df['fare'], q=10, precision=2)\n",
        "df.head()"
      ]
    },
    {
      "cell_type": "code",
      "execution_count": null,
      "id": "7661cf1f",
      "metadata": {
        "ExecuteTime": {
          "end_time": "2022-04-05T14:36:32.839619Z",
          "start_time": "2022-04-05T14:36:32.799259Z"
        },
        "id": "7661cf1f",
        "outputId": "deb66dba-5c51-451a-951a-6fbbbe4ffb2d"
      },
      "outputs": [
        {
          "data": {
            "text/html": [
              "<div>\n",
              "<style scoped>\n",
              "    .dataframe tbody tr th:only-of-type {\n",
              "        vertical-align: middle;\n",
              "    }\n",
              "\n",
              "    .dataframe tbody tr th {\n",
              "        vertical-align: top;\n",
              "    }\n",
              "\n",
              "    .dataframe thead th {\n",
              "        text-align: right;\n",
              "    }\n",
              "</style>\n",
              "<table border=\"1\" class=\"dataframe\">\n",
              "  <thead>\n",
              "    <tr style=\"text-align: right;\">\n",
              "      <th></th>\n",
              "      <th>alive</th>\n",
              "      <th>sex</th>\n",
              "      <th>age</th>\n",
              "      <th>sibsp</th>\n",
              "      <th>parch</th>\n",
              "      <th>fare</th>\n",
              "      <th>class</th>\n",
              "      <th>who</th>\n",
              "      <th>adult_male</th>\n",
              "      <th>embark_town</th>\n",
              "      <th>...</th>\n",
              "      <th>age_miu</th>\n",
              "      <th>age_med</th>\n",
              "      <th>age_ah</th>\n",
              "      <th>age_onan</th>\n",
              "      <th>age_onan_ah</th>\n",
              "      <th>age_lo_q05</th>\n",
              "      <th>fare_lo_q05</th>\n",
              "      <th>age_lo_q05_ah_onan</th>\n",
              "      <th>age_qbin</th>\n",
              "      <th>fare_qbin</th>\n",
              "    </tr>\n",
              "  </thead>\n",
              "  <tbody>\n",
              "    <tr>\n",
              "      <th>0</th>\n",
              "      <td>0</td>\n",
              "      <td>male</td>\n",
              "      <td>22.0</td>\n",
              "      <td>1</td>\n",
              "      <td>0</td>\n",
              "      <td>7.2500</td>\n",
              "      <td>Third</td>\n",
              "      <td>man</td>\n",
              "      <td>adult_male</td>\n",
              "      <td>Southampton</td>\n",
              "      <td>...</td>\n",
              "      <td>22.0</td>\n",
              "      <td>22.0</td>\n",
              "      <td>22.0</td>\n",
              "      <td>22.0</td>\n",
              "      <td>22.0</td>\n",
              "      <td>22.0</td>\n",
              "      <td>7.2500</td>\n",
              "      <td>22.0</td>\n",
              "      <td>(20.0, 22.0]</td>\n",
              "      <td>(-0.01, 7.55]</td>\n",
              "    </tr>\n",
              "    <tr>\n",
              "      <th>1</th>\n",
              "      <td>1</td>\n",
              "      <td>female</td>\n",
              "      <td>38.0</td>\n",
              "      <td>1</td>\n",
              "      <td>0</td>\n",
              "      <td>71.2833</td>\n",
              "      <td>First</td>\n",
              "      <td>woman</td>\n",
              "      <td>non-adult_male</td>\n",
              "      <td>Cherbourg</td>\n",
              "      <td>...</td>\n",
              "      <td>38.0</td>\n",
              "      <td>38.0</td>\n",
              "      <td>38.0</td>\n",
              "      <td>38.0</td>\n",
              "      <td>38.0</td>\n",
              "      <td>38.0</td>\n",
              "      <td>71.2833</td>\n",
              "      <td>38.0</td>\n",
              "      <td>(34.0, 40.0]</td>\n",
              "      <td>(39.69, 77.96]</td>\n",
              "    </tr>\n",
              "    <tr>\n",
              "      <th>2</th>\n",
              "      <td>1</td>\n",
              "      <td>female</td>\n",
              "      <td>26.0</td>\n",
              "      <td>0</td>\n",
              "      <td>0</td>\n",
              "      <td>7.9250</td>\n",
              "      <td>Third</td>\n",
              "      <td>woman</td>\n",
              "      <td>non-adult_male</td>\n",
              "      <td>Southampton</td>\n",
              "      <td>...</td>\n",
              "      <td>26.0</td>\n",
              "      <td>26.0</td>\n",
              "      <td>26.0</td>\n",
              "      <td>26.0</td>\n",
              "      <td>26.0</td>\n",
              "      <td>26.0</td>\n",
              "      <td>7.9250</td>\n",
              "      <td>26.0</td>\n",
              "      <td>(25.0, 26.0]</td>\n",
              "      <td>(7.85, 8.05]</td>\n",
              "    </tr>\n",
              "    <tr>\n",
              "      <th>3</th>\n",
              "      <td>1</td>\n",
              "      <td>female</td>\n",
              "      <td>35.0</td>\n",
              "      <td>1</td>\n",
              "      <td>0</td>\n",
              "      <td>53.1000</td>\n",
              "      <td>First</td>\n",
              "      <td>woman</td>\n",
              "      <td>non-adult_male</td>\n",
              "      <td>Southampton</td>\n",
              "      <td>...</td>\n",
              "      <td>35.0</td>\n",
              "      <td>35.0</td>\n",
              "      <td>35.0</td>\n",
              "      <td>35.0</td>\n",
              "      <td>35.0</td>\n",
              "      <td>35.0</td>\n",
              "      <td>53.1000</td>\n",
              "      <td>35.0</td>\n",
              "      <td>(34.0, 40.0]</td>\n",
              "      <td>(39.69, 77.96]</td>\n",
              "    </tr>\n",
              "    <tr>\n",
              "      <th>4</th>\n",
              "      <td>0</td>\n",
              "      <td>male</td>\n",
              "      <td>35.0</td>\n",
              "      <td>0</td>\n",
              "      <td>0</td>\n",
              "      <td>8.0500</td>\n",
              "      <td>Third</td>\n",
              "      <td>man</td>\n",
              "      <td>adult_male</td>\n",
              "      <td>Southampton</td>\n",
              "      <td>...</td>\n",
              "      <td>35.0</td>\n",
              "      <td>35.0</td>\n",
              "      <td>35.0</td>\n",
              "      <td>35.0</td>\n",
              "      <td>35.0</td>\n",
              "      <td>35.0</td>\n",
              "      <td>8.0500</td>\n",
              "      <td>35.0</td>\n",
              "      <td>(34.0, 40.0]</td>\n",
              "      <td>(7.85, 8.05]</td>\n",
              "    </tr>\n",
              "  </tbody>\n",
              "</table>\n",
              "<p>5 rows × 21 columns</p>\n",
              "</div>"
            ],
            "text/plain": [
              "   alive     sex   age  sibsp  parch     fare  class    who      adult_male  \\\n",
              "0      0    male  22.0      1      0   7.2500  Third    man      adult_male   \n",
              "1      1  female  38.0      1      0  71.2833  First  woman  non-adult_male   \n",
              "2      1  female  26.0      0      0   7.9250  Third  woman  non-adult_male   \n",
              "3      1  female  35.0      1      0  53.1000  First  woman  non-adult_male   \n",
              "4      0    male  35.0      0      0   8.0500  Third    man      adult_male   \n",
              "\n",
              "   embark_town  ... age_miu  age_med  age_ah  age_onan  age_onan_ah  \\\n",
              "0  Southampton  ...    22.0     22.0    22.0      22.0         22.0   \n",
              "1    Cherbourg  ...    38.0     38.0    38.0      38.0         38.0   \n",
              "2  Southampton  ...    26.0     26.0    26.0      26.0         26.0   \n",
              "3  Southampton  ...    35.0     35.0    35.0      35.0         35.0   \n",
              "4  Southampton  ...    35.0     35.0    35.0      35.0         35.0   \n",
              "\n",
              "   age_lo_q05  fare_lo_q05  age_lo_q05_ah_onan      age_qbin       fare_qbin  \n",
              "0        22.0       7.2500                22.0  (20.0, 22.0]   (-0.01, 7.55]  \n",
              "1        38.0      71.2833                38.0  (34.0, 40.0]  (39.69, 77.96]  \n",
              "2        26.0       7.9250                26.0  (25.0, 26.0]    (7.85, 8.05]  \n",
              "3        35.0      53.1000                35.0  (34.0, 40.0]  (39.69, 77.96]  \n",
              "4        35.0       8.0500                35.0  (34.0, 40.0]    (7.85, 8.05]  \n",
              "\n",
              "[5 rows x 21 columns]"
            ]
          },
          "execution_count": 17,
          "metadata": {},
          "output_type": "execute_result"
        }
      ],
      "source": [
        "#Eliminamos deck.\n",
        "df=df.drop('deck', axis=1)\n",
        "df.head()"
      ]
    }
  ],
  "metadata": {
    "kernelspec": {
      "display_name": "Python 3 (ipykernel)",
      "language": "python",
      "name": "python3"
    },
    "language_info": {
      "codemirror_mode": {
        "name": "ipython",
        "version": 3
      },
      "file_extension": ".py",
      "mimetype": "text/x-python",
      "name": "python",
      "nbconvert_exporter": "python",
      "pygments_lexer": "ipython3",
      "version": "3.9.12"
    },
    "notify_time": "0",
    "toc": {
      "base_numbering": 1,
      "nav_menu": {},
      "number_sections": true,
      "sideBar": true,
      "skip_h1_title": true,
      "title_cell": "Tabla de Contenido",
      "title_sidebar": "Contenido",
      "toc_cell": false,
      "toc_position": {
        "height": "calc(100% - 180px)",
        "left": "10px",
        "top": "150px",
        "width": "212px"
      },
      "toc_section_display": true,
      "toc_window_display": true
    },
    "colab": {
      "provenance": []
    }
  },
  "nbformat": 4,
  "nbformat_minor": 5
}