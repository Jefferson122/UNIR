{
 "cells": [
  {
   "cell_type": "markdown",
   "id": "6ccce030",
   "metadata": {},
   "source": [
    "# Spark Structured Streaming"
   ]
  },
  {
   "cell_type": "markdown",
   "id": "a32460cb",
   "metadata": {},
   "source": [
    "Está construido sobre Spark SQL y permite ver los datos que se han publicado en Kafka como si fuesen un DataFrame infinito y procesarlos con la misma API de Spark SQL que se utiliza para DataFrames convencionates (batch)"
   ]
  },
  {
   "cell_type": "markdown",
   "id": "e3f8abe3",
   "metadata": {},
   "source": [
    "## Casos de uso"
   ]
  },
  {
   "cell_type": "markdown",
   "id": "c2639d7b",
   "metadata": {},
   "source": [
    "Insertaremos nuevos textos en un topic de Kafka usando el productor de consola"
   ]
  },
  {
   "cell_type": "markdown",
   "id": "a751d2c3",
   "metadata": {},
   "source": [
    "Implementaremos con Spark Streaming una aplicacion que se suscriba a un topic llamado opiniones y con él:\n",
    "- Ingeste nuevos textos de opiniones\n",
    "- Prediga si el sentimiento es positivo o negativo\n",
    "- Almacene tanto el texto como la prediccion en HDFS"
   ]
  },
  {
   "cell_type": "markdown",
   "id": "89d92889",
   "metadata": {},
   "source": [
    "## Formatos de datos de entrada"
   ]
  },
  {
   "cell_type": "markdown",
   "id": "c2ba9786",
   "metadata": {},
   "source": [
    "Cada texto vendrá con este formato:"
   ]
  },
  {
   "cell_type": "markdown",
   "id": "fd5dc384",
   "metadata": {},
   "source": [
    "<code>{'reviewerID':'A3VDASS32','asin':'213213','reviewText':'Light just installed on bike,seems to be well built.','summary':'Be seen','unixReviewTime':123123}</code>"
   ]
  },
  {
   "cell_type": "code",
   "execution_count": null,
   "id": "4dd7e96e",
   "metadata": {},
   "outputs": [],
   "source": []
  }
 ],
 "metadata": {
  "kernelspec": {
   "display_name": "Python 3 (ipykernel)",
   "language": "python",
   "name": "python3"
  },
  "language_info": {
   "codemirror_mode": {
    "name": "ipython",
    "version": 3
   },
   "file_extension": ".py",
   "mimetype": "text/x-python",
   "name": "python",
   "nbconvert_exporter": "python",
   "pygments_lexer": "ipython3",
   "version": "3.9.13"
  }
 },
 "nbformat": 4,
 "nbformat_minor": 5
}
